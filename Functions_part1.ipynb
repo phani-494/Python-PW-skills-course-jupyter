{
 "cells": [
  {
   "cell_type": "markdown",
   "id": "6863eb54",
   "metadata": {},
   "source": [
    "# Dynamic Typing\n"
   ]
  },
  {
   "cell_type": "code",
   "execution_count": 1,
   "id": "07f3ad01",
   "metadata": {},
   "outputs": [],
   "source": [
    "# In python ,no need to declare the integer type since compiler can understand at the time of compiling what data type is assigned to a variable"
   ]
  },
  {
   "cell_type": "code",
   "execution_count": 2,
   "id": "bb60bffd",
   "metadata": {},
   "outputs": [],
   "source": [
    "# here no need to declare data type while creating /declaring the variables "
   ]
  },
  {
   "cell_type": "code",
   "execution_count": 3,
   "id": "e1bcc057",
   "metadata": {},
   "outputs": [],
   "source": [
    "a=100"
   ]
  },
  {
   "cell_type": "code",
   "execution_count": 4,
   "id": "74514743",
   "metadata": {},
   "outputs": [],
   "source": [
    "name='Lucky'"
   ]
  },
  {
   "cell_type": "code",
   "execution_count": 5,
   "id": "8bc7bdd7",
   "metadata": {},
   "outputs": [
    {
     "data": {
      "text/plain": [
       "1"
      ]
     },
     "execution_count": 5,
     "metadata": {},
     "output_type": "execute_result"
    }
   ],
   "source": [
    "int(1.54)"
   ]
  },
  {
   "cell_type": "code",
   "execution_count": 7,
   "id": "6af76a23",
   "metadata": {},
   "outputs": [
    {
     "data": {
      "text/plain": [
       "100.0"
      ]
     },
     "execution_count": 7,
     "metadata": {},
     "output_type": "execute_result"
    }
   ],
   "source": [
    "float(100)"
   ]
  },
  {
   "cell_type": "code",
   "execution_count": 8,
   "id": "beac14e5",
   "metadata": {},
   "outputs": [],
   "source": [
    "# Compiler automatically understand what data type is assigned."
   ]
  },
  {
   "cell_type": "code",
   "execution_count": 9,
   "id": "5f84a863",
   "metadata": {},
   "outputs": [
    {
     "data": {
      "text/plain": [
       "0"
      ]
     },
     "execution_count": 9,
     "metadata": {},
     "output_type": "execute_result"
    }
   ],
   "source": [
    "int() # returns 0 if no argument is present"
   ]
  },
  {
   "cell_type": "code",
   "execution_count": 10,
   "id": "238cb548",
   "metadata": {},
   "outputs": [
    {
     "name": "stdout",
     "output_type": "stream",
     "text": [
      "123\n"
     ]
    }
   ],
   "source": [
    "print(123)"
   ]
  },
  {
   "cell_type": "code",
   "execution_count": 12,
   "id": "4b593dd5",
   "metadata": {},
   "outputs": [
    {
     "name": "stdout",
     "output_type": "stream",
     "text": [
      "My age is: 45\n"
     ]
    }
   ],
   "source": [
    "age=45\n",
    "print(\"My age is:\",age)"
   ]
  },
  {
   "cell_type": "markdown",
   "id": "b22cbdbf",
   "metadata": {},
   "source": [
    "# f string  : String formatting"
   ]
  },
  {
   "cell_type": "code",
   "execution_count": 13,
   "id": "1d3f2ea5",
   "metadata": {},
   "outputs": [],
   "source": [
    "# string formatting means writing the variable name inside the string .So by formatting the string that variable will not be considered as a string\n",
    "# original value of string will be displayed in the string\n"
   ]
  },
  {
   "cell_type": "code",
   "execution_count": 14,
   "id": "220e3458",
   "metadata": {},
   "outputs": [
    {
     "name": "stdout",
     "output_type": "stream",
     "text": [
      " My age is {age}\n"
     ]
    }
   ],
   "source": [
    "print(\" My age is {age}\")"
   ]
  },
  {
   "cell_type": "code",
   "execution_count": 15,
   "id": "11b99c17",
   "metadata": {},
   "outputs": [
    {
     "name": "stdout",
     "output_type": "stream",
     "text": [
      "My age is 45\n"
     ]
    }
   ],
   "source": [
    "print(f\"My age is {age}\")"
   ]
  },
  {
   "cell_type": "markdown",
   "id": "b5d1d228",
   "metadata": {},
   "source": [
    "# Format string"
   ]
  },
  {
   "cell_type": "code",
   "execution_count": 16,
   "id": "51273fe4",
   "metadata": {},
   "outputs": [
    {
     "name": "stdout",
     "output_type": "stream",
     "text": [
      "My age is 45\n"
     ]
    }
   ],
   "source": [
    "print(\"My age is {}\".format(age))"
   ]
  },
  {
   "cell_type": "code",
   "execution_count": 17,
   "id": "a26897cc",
   "metadata": {},
   "outputs": [],
   "source": [
    "name=\"indra\"\n",
    "age=32\n",
    "height=150\n",
    "salary=890000"
   ]
  },
  {
   "cell_type": "code",
   "execution_count": 18,
   "id": "672cf671",
   "metadata": {},
   "outputs": [
    {
     "name": "stdout",
     "output_type": "stream",
     "text": [
      "indra is doing job with salary  890000 and his age is 32 with height 150\n"
     ]
    }
   ],
   "source": [
    "print(\"{2} is doing job with salary  {0} and his age is {1} with height {3}\".format(salary,age,name,150))"
   ]
  },
  {
   "cell_type": "code",
   "execution_count": 19,
   "id": "a5c217e2",
   "metadata": {},
   "outputs": [
    {
     "name": "stdout",
     "output_type": "stream",
     "text": [
      "indra is doing job with salary  890000 and his age is 32 \n"
     ]
    }
   ],
   "source": [
    "# we can also use place holders here\n",
    "print(\"{na} is doing job with salary  {sal} and his age is {a} \".format(sal=salary,a=age,na=name))"
   ]
  },
  {
   "cell_type": "code",
   "execution_count": 20,
   "id": "775e3aee",
   "metadata": {},
   "outputs": [
    {
     "name": "stdout",
     "output_type": "stream",
     "text": [
      "indra is doing job with salary  890000 and his age is 32 with height 150\n"
     ]
    }
   ],
   "source": [
    "print(\"{} is doing job with salary  {} and his age is {} with height {}\".format(name,salary,age,height))"
   ]
  },
  {
   "cell_type": "markdown",
   "id": "2998105c",
   "metadata": {},
   "source": [
    "# control statements\n",
    "## Decision making statements"
   ]
  },
  {
   "cell_type": "code",
   "execution_count": 21,
   "id": "63c43e22",
   "metadata": {},
   "outputs": [
    {
     "name": "stdout",
     "output_type": "stream",
     "text": [
      "Lucky is eligible to vote\n"
     ]
    }
   ],
   "source": [
    "lucky_age=23\n",
    "if lucky_age>=18:\n",
    "    print(\"Lucky is eligible to vote\")\n",
    "else:\n",
    "    print(\"Lucky is not eligible to vote\")"
   ]
  },
  {
   "cell_type": "code",
   "execution_count": 22,
   "id": "a1db57b5",
   "metadata": {},
   "outputs": [
    {
     "name": "stdout",
     "output_type": "stream",
     "text": [
      "Enter the age of luucky:24\n",
      "Lucky is eligible to vote\n"
     ]
    }
   ],
   "source": [
    "lucky_age=int(input(\"Enter the age of luucky:\"))\n",
    "if lucky_age>=18:\n",
    "    print(\"Lucky is eligible to vote\")\n",
    "else:\n",
    "    print(\"Lucky is not eligible to vote\")"
   ]
  },
  {
   "cell_type": "markdown",
   "id": "6f474c44",
   "metadata": {},
   "source": [
    "# Tuples"
   ]
  },
  {
   "cell_type": "code",
   "execution_count": 1,
   "id": "d7e48b85",
   "metadata": {},
   "outputs": [],
   "source": [
    "t=()\n"
   ]
  },
  {
   "cell_type": "code",
   "execution_count": 2,
   "id": "2defc0cd",
   "metadata": {},
   "outputs": [
    {
     "data": {
      "text/plain": [
       "tuple"
      ]
     },
     "execution_count": 2,
     "metadata": {},
     "output_type": "execute_result"
    }
   ],
   "source": [
    "type(t)"
   ]
  },
  {
   "cell_type": "code",
   "execution_count": 3,
   "id": "52ca5ad8",
   "metadata": {},
   "outputs": [],
   "source": [
    "t1=(1,2,3,1.89,567.78,\"indra\",\"mahi\",\"raja\",1+2j,True)"
   ]
  },
  {
   "cell_type": "code",
   "execution_count": 4,
   "id": "07601619",
   "metadata": {},
   "outputs": [
    {
     "data": {
      "text/plain": [
       "tuple"
      ]
     },
     "execution_count": 4,
     "metadata": {},
     "output_type": "execute_result"
    }
   ],
   "source": [
    "type(t1)"
   ]
  },
  {
   "cell_type": "code",
   "execution_count": 5,
   "id": "525c380d",
   "metadata": {},
   "outputs": [
    {
     "data": {
      "text/plain": [
       "(2, 3, 1.89, 567.78, 'indra', 'mahi', 'raja', (1+2j), True)"
      ]
     },
     "execution_count": 5,
     "metadata": {},
     "output_type": "execute_result"
    }
   ],
   "source": [
    "t1[1:]"
   ]
  },
  {
   "cell_type": "code",
   "execution_count": 6,
   "id": "4a4b6fff",
   "metadata": {},
   "outputs": [
    {
     "data": {
      "text/plain": [
       "(True, (1+2j), 'raja', 'mahi', 'indra', 567.78, 1.89, 3, 2, 1)"
      ]
     },
     "execution_count": 6,
     "metadata": {},
     "output_type": "execute_result"
    }
   ],
   "source": [
    "t1[::-1]"
   ]
  },
  {
   "cell_type": "code",
   "execution_count": 7,
   "id": "59853d32",
   "metadata": {},
   "outputs": [
    {
     "data": {
      "text/plain": [
       "1"
      ]
     },
     "execution_count": 7,
     "metadata": {},
     "output_type": "execute_result"
    }
   ],
   "source": [
    "t1.count(3)"
   ]
  },
  {
   "cell_type": "code",
   "execution_count": 8,
   "id": "f4ca6ab2",
   "metadata": {},
   "outputs": [
    {
     "data": {
      "text/plain": [
       "0"
      ]
     },
     "execution_count": 8,
     "metadata": {},
     "output_type": "execute_result"
    }
   ],
   "source": [
    "t1.count(23)"
   ]
  },
  {
   "cell_type": "code",
   "execution_count": 9,
   "id": "eb3cc5a9",
   "metadata": {},
   "outputs": [
    {
     "data": {
      "text/plain": [
       "3"
      ]
     },
     "execution_count": 9,
     "metadata": {},
     "output_type": "execute_result"
    }
   ],
   "source": [
    "t1.index(1.89) # gives index at where the value is  present "
   ]
  },
  {
   "cell_type": "code",
   "execution_count": 12,
   "id": "da296b92",
   "metadata": {},
   "outputs": [
    {
     "data": {
      "text/plain": [
       "6"
      ]
     },
     "execution_count": 12,
     "metadata": {},
     "output_type": "execute_result"
    }
   ],
   "source": [
    "t1.index('mahi')"
   ]
  },
  {
   "cell_type": "code",
   "execution_count": 22,
   "id": "dfbe391a",
   "metadata": {},
   "outputs": [
    {
     "name": "stdout",
     "output_type": "stream",
     "text": [
      "0\n",
      "2\n"
     ]
    }
   ],
   "source": [
    "print(t1.index(True)) # internally the system stores the value of True as 1 so only it  given the O value\n",
    "print(t1.count(1)) # here also True is counted as 1 so given 2 "
   ]
  },
  {
   "cell_type": "code",
   "execution_count": 15,
   "id": "451dd6d5",
   "metadata": {},
   "outputs": [],
   "source": [
    "t2=(3,2,1,True) # for True wherever 1 is present it will give that index"
   ]
  },
  {
   "cell_type": "code",
   "execution_count": 16,
   "id": "9daf4622",
   "metadata": {},
   "outputs": [
    {
     "data": {
      "text/plain": [
       "2"
      ]
     },
     "execution_count": 16,
     "metadata": {},
     "output_type": "execute_result"
    }
   ],
   "source": [
    "t2.index(True)"
   ]
  },
  {
   "cell_type": "code",
   "execution_count": 19,
   "id": "18000c11",
   "metadata": {},
   "outputs": [],
   "source": [
    "t3=(3,2,\"raja\",True)  # Since here no 1 is present ,it gives the original index only"
   ]
  },
  {
   "cell_type": "code",
   "execution_count": 20,
   "id": "02ab9ddb",
   "metadata": {},
   "outputs": [
    {
     "data": {
      "text/plain": [
       "3"
      ]
     },
     "execution_count": 20,
     "metadata": {},
     "output_type": "execute_result"
    }
   ],
   "source": [
    "t3.index(True)"
   ]
  },
  {
   "cell_type": "markdown",
   "id": "88be8fb0",
   "metadata": {},
   "source": [
    "# FUNCTIONS\n"
   ]
  },
  {
   "cell_type": "code",
   "execution_count": 1,
   "id": "f283de37",
   "metadata": {},
   "outputs": [],
   "source": [
    "# Function names shouldn't be any keywords and must follow proper naming convention"
   ]
  },
  {
   "cell_type": "code",
   "execution_count": 2,
   "id": "254f1f46",
   "metadata": {},
   "outputs": [],
   "source": [
    "def fun1(): # just to create a function \n",
    "    pass"
   ]
  },
  {
   "cell_type": "code",
   "execution_count": 3,
   "id": "b9108077",
   "metadata": {},
   "outputs": [],
   "source": [
    "def fun2(): # function definition\n",
    "    print(\"I am a data scinetist\")"
   ]
  },
  {
   "cell_type": "code",
   "execution_count": 5,
   "id": "560c1b28",
   "metadata": {},
   "outputs": [
    {
     "name": "stdout",
     "output_type": "stream",
     "text": [
      "I am a data scinetist\n"
     ]
    }
   ],
   "source": [
    "fun2() # calling the function"
   ]
  },
  {
   "cell_type": "code",
   "execution_count": 6,
   "id": "47b3eee0",
   "metadata": {},
   "outputs": [
    {
     "name": "stdout",
     "output_type": "stream",
     "text": [
      "I am a data scinetist\n",
      "None\n"
     ]
    }
   ],
   "source": [
    "print(fun2())\n",
    "# fun2() returns None since there is no return statement present in it\n",
    "# print always return none type"
   ]
  },
  {
   "cell_type": "code",
   "execution_count": 7,
   "id": "9415a16b",
   "metadata": {},
   "outputs": [
    {
     "name": "stdout",
     "output_type": "stream",
     "text": [
      "I am a data scinetist\n"
     ]
    },
    {
     "ename": "TypeError",
     "evalue": "unsupported operand type(s) for +: 'NoneType' and 'str'",
     "output_type": "error",
     "traceback": [
      "\u001b[1;31m---------------------------------------------------------------------------\u001b[0m",
      "\u001b[1;31mTypeError\u001b[0m                                 Traceback (most recent call last)",
      "\u001b[1;32m~\\AppData\\Local\\Temp\\ipykernel_19648\\2114756770.py\u001b[0m in \u001b[0;36m<module>\u001b[1;34m\u001b[0m\n\u001b[0;32m      1\u001b[0m \u001b[1;31m# we cannot perform concatenation with functions\u001b[0m\u001b[1;33m\u001b[0m\u001b[1;33m\u001b[0m\u001b[0m\n\u001b[1;32m----> 2\u001b[1;33m \u001b[0mfun2\u001b[0m\u001b[1;33m(\u001b[0m\u001b[1;33m)\u001b[0m\u001b[1;33m+\u001b[0m\u001b[1;34m\"Indrasena\"\u001b[0m\u001b[1;33m\u001b[0m\u001b[1;33m\u001b[0m\u001b[0m\n\u001b[0m",
      "\u001b[1;31mTypeError\u001b[0m: unsupported operand type(s) for +: 'NoneType' and 'str'"
     ]
    }
   ],
   "source": [
    "# we cannot perform concatenation with functions\n",
    "fun2()+\"Indrasena\""
   ]
  },
  {
   "cell_type": "code",
   "execution_count": 8,
   "id": "9f89a80b",
   "metadata": {},
   "outputs": [
    {
     "name": "stdout",
     "output_type": "stream",
     "text": [
      "100\n"
     ]
    }
   ],
   "source": [
    "a=print(100) # print returns only none type if any variable is assigned"
   ]
  },
  {
   "cell_type": "code",
   "execution_count": 10,
   "id": "413a9ac1",
   "metadata": {},
   "outputs": [
    {
     "data": {
      "text/plain": [
       "NoneType"
      ]
     },
     "execution_count": 10,
     "metadata": {},
     "output_type": "execute_result"
    }
   ],
   "source": [
    "type(a)"
   ]
  },
  {
   "cell_type": "code",
   "execution_count": 11,
   "id": "f732323f",
   "metadata": {},
   "outputs": [],
   "source": [
    "def fun3(): # this will return the string\n",
    "    return \" I have a return function here\""
   ]
  },
  {
   "cell_type": "code",
   "execution_count": 13,
   "id": "dd692086",
   "metadata": {},
   "outputs": [
    {
     "data": {
      "text/plain": [
       "' I have a return function here Able to perform concatenation with string'"
      ]
     },
     "execution_count": 13,
     "metadata": {},
     "output_type": "execute_result"
    }
   ],
   "source": [
    "fun3()+\" Able to perform concatenation with string\""
   ]
  },
  {
   "cell_type": "code",
   "execution_count": 14,
   "id": "76eebb18",
   "metadata": {},
   "outputs": [],
   "source": [
    "# It is valid to write multiple values in a return statement"
   ]
  },
  {
   "cell_type": "code",
   "execution_count": 15,
   "id": "fbdc5373",
   "metadata": {},
   "outputs": [],
   "source": [
    "def fun4(): # returns in the form of tuple\n",
    "    return 1,2,3,4,5"
   ]
  },
  {
   "cell_type": "code",
   "execution_count": 16,
   "id": "2d1aa34e",
   "metadata": {},
   "outputs": [
    {
     "data": {
      "text/plain": [
       "(1, 2, 3, 4, 5)"
      ]
     },
     "execution_count": 16,
     "metadata": {},
     "output_type": "execute_result"
    }
   ],
   "source": [
    "fun4()"
   ]
  },
  {
   "cell_type": "code",
   "execution_count": 17,
   "id": "2f83dac9",
   "metadata": {},
   "outputs": [
    {
     "data": {
      "text/plain": [
       "tuple"
      ]
     },
     "execution_count": 17,
     "metadata": {},
     "output_type": "execute_result"
    }
   ],
   "source": [
    "type(fun4())"
   ]
  },
  {
   "cell_type": "code",
   "execution_count": 20,
   "id": "2c88e113",
   "metadata": {},
   "outputs": [],
   "source": [
    "a=1,2,3,4,5,6 # a will store all these values in the form of tuple"
   ]
  },
  {
   "cell_type": "code",
   "execution_count": 19,
   "id": "63edf265",
   "metadata": {},
   "outputs": [
    {
     "data": {
      "text/plain": [
       "(1, 2, 3, 4, 5, 6)"
      ]
     },
     "execution_count": 19,
     "metadata": {},
     "output_type": "execute_result"
    }
   ],
   "source": [
    "a"
   ]
  },
  {
   "cell_type": "code",
   "execution_count": 21,
   "id": "735cb0ae",
   "metadata": {},
   "outputs": [],
   "source": [
    "a,b,c,d=1,2,3,4 #Declaring multiple variables at a time"
   ]
  },
  {
   "cell_type": "code",
   "execution_count": 22,
   "id": "f273af12",
   "metadata": {},
   "outputs": [
    {
     "data": {
      "text/plain": [
       "(1, 2)"
      ]
     },
     "execution_count": 22,
     "metadata": {},
     "output_type": "execute_result"
    }
   ],
   "source": [
    "a,b"
   ]
  },
  {
   "cell_type": "code",
   "execution_count": 23,
   "id": "a4704842",
   "metadata": {},
   "outputs": [
    {
     "name": "stdout",
     "output_type": "stream",
     "text": [
      "1 2 3 4\n"
     ]
    }
   ],
   "source": [
    "print(a,b,c,d)"
   ]
  },
  {
   "cell_type": "code",
   "execution_count": 24,
   "id": "197a8b78",
   "metadata": {},
   "outputs": [
    {
     "data": {
      "text/plain": [
       "1"
      ]
     },
     "execution_count": 24,
     "metadata": {},
     "output_type": "execute_result"
    }
   ],
   "source": [
    "def fun4(): # returns in the form of tuple\n",
    "    return 1,2,3,4,5\n",
    "fun4()[0]"
   ]
  },
  {
   "cell_type": "code",
   "execution_count": 26,
   "id": "9d3a1605",
   "metadata": {},
   "outputs": [
    {
     "data": {
      "text/plain": [
       "4"
      ]
     },
     "execution_count": 26,
     "metadata": {},
     "output_type": "execute_result"
    }
   ],
   "source": [
    "fun4()[3] # since it will return in the form of tuples we can able to perform the indexing operations"
   ]
  },
  {
   "cell_type": "code",
   "execution_count": 27,
   "id": "ca8d712e",
   "metadata": {},
   "outputs": [],
   "source": [
    "# Return will  always gives the original data format u given in it"
   ]
  },
  {
   "cell_type": "code",
   "execution_count": 28,
   "id": "41d1004c",
   "metadata": {},
   "outputs": [],
   "source": [
    "# Always try to use return the statement in the functions"
   ]
  },
  {
   "cell_type": "code",
   "execution_count": 31,
   "id": "9f050216",
   "metadata": {},
   "outputs": [],
   "source": [
    "a,b,c,d,e=fun4() # unpacking the tuples present in fun4()"
   ]
  },
  {
   "cell_type": "code",
   "execution_count": 33,
   "id": "0997f9de",
   "metadata": {},
   "outputs": [],
   "source": [
    "def fun5():\n",
    "    a=8*56+90-456\n",
    "    return a"
   ]
  },
  {
   "cell_type": "code",
   "execution_count": 36,
   "id": "676a7146",
   "metadata": {},
   "outputs": [
    {
     "data": {
      "text/plain": [
       "82"
      ]
     },
     "execution_count": 36,
     "metadata": {},
     "output_type": "execute_result"
    }
   ],
   "source": [
    "fun5()"
   ]
  },
  {
   "cell_type": "code",
   "execution_count": 35,
   "id": "b65b5f88",
   "metadata": {},
   "outputs": [
    {
     "data": {
      "text/plain": [
       "82"
      ]
     },
     "execution_count": 35,
     "metadata": {},
     "output_type": "execute_result"
    }
   ],
   "source": [
    "8*56+90-456"
   ]
  },
  {
   "cell_type": "code",
   "execution_count": 2,
   "id": "d2401056",
   "metadata": {},
   "outputs": [
    {
     "data": {
      "text/plain": [
       "6"
      ]
     },
     "execution_count": 2,
     "metadata": {},
     "output_type": "execute_result"
    }
   ],
   "source": [
    "def add1(a,b,c):\n",
    "    sum=a+b+c\n",
    "    return sum\n",
    "add1(1,2,3)\n",
    "    \n",
    "    "
   ]
  },
  {
   "cell_type": "code",
   "execution_count": 3,
   "id": "de57653b",
   "metadata": {},
   "outputs": [
    {
     "data": {
      "text/plain": [
       "'Indramahiraja'"
      ]
     },
     "execution_count": 3,
     "metadata": {},
     "output_type": "execute_result"
    }
   ],
   "source": [
    "add1(\"Indra\",\"mahi\",\"raja\")"
   ]
  },
  {
   "cell_type": "code",
   "execution_count": 4,
   "id": "a4318074",
   "metadata": {},
   "outputs": [
    {
     "ename": "TypeError",
     "evalue": "unsupported operand type(s) for +: 'int' and 'str'",
     "output_type": "error",
     "traceback": [
      "\u001b[1;31m---------------------------------------------------------------------------\u001b[0m",
      "\u001b[1;31mTypeError\u001b[0m                                 Traceback (most recent call last)",
      "\u001b[1;32m~\\AppData\\Local\\Temp\\ipykernel_42972\\852189743.py\u001b[0m in \u001b[0;36m<module>\u001b[1;34m\u001b[0m\n\u001b[1;32m----> 1\u001b[1;33m \u001b[0madd1\u001b[0m\u001b[1;33m(\u001b[0m\u001b[1;36m1\u001b[0m\u001b[1;33m,\u001b[0m\u001b[1;34m\"indra\"\u001b[0m\u001b[1;33m,\u001b[0m\u001b[1;34m\"kajha\"\u001b[0m\u001b[1;33m)\u001b[0m\u001b[1;33m\u001b[0m\u001b[1;33m\u001b[0m\u001b[0m\n\u001b[0m",
      "\u001b[1;32m~\\AppData\\Local\\Temp\\ipykernel_42972\\1956655047.py\u001b[0m in \u001b[0;36madd1\u001b[1;34m(a, b, c)\u001b[0m\n\u001b[0;32m      1\u001b[0m \u001b[1;32mdef\u001b[0m \u001b[0madd1\u001b[0m\u001b[1;33m(\u001b[0m\u001b[0ma\u001b[0m\u001b[1;33m,\u001b[0m\u001b[0mb\u001b[0m\u001b[1;33m,\u001b[0m\u001b[0mc\u001b[0m\u001b[1;33m)\u001b[0m\u001b[1;33m:\u001b[0m\u001b[1;33m\u001b[0m\u001b[1;33m\u001b[0m\u001b[0m\n\u001b[1;32m----> 2\u001b[1;33m     \u001b[0msum\u001b[0m\u001b[1;33m=\u001b[0m\u001b[0ma\u001b[0m\u001b[1;33m+\u001b[0m\u001b[0mb\u001b[0m\u001b[1;33m+\u001b[0m\u001b[0mc\u001b[0m\u001b[1;33m\u001b[0m\u001b[1;33m\u001b[0m\u001b[0m\n\u001b[0m\u001b[0;32m      3\u001b[0m     \u001b[1;32mreturn\u001b[0m \u001b[0msum\u001b[0m\u001b[1;33m\u001b[0m\u001b[1;33m\u001b[0m\u001b[0m\n\u001b[0;32m      4\u001b[0m \u001b[0madd1\u001b[0m\u001b[1;33m(\u001b[0m\u001b[1;36m1\u001b[0m\u001b[1;33m,\u001b[0m\u001b[1;36m2\u001b[0m\u001b[1;33m,\u001b[0m\u001b[1;36m3\u001b[0m\u001b[1;33m)\u001b[0m\u001b[1;33m\u001b[0m\u001b[1;33m\u001b[0m\u001b[0m\n\u001b[0;32m      5\u001b[0m \u001b[1;33m\u001b[0m\u001b[0m\n",
      "\u001b[1;31mTypeError\u001b[0m: unsupported operand type(s) for +: 'int' and 'str'"
     ]
    }
   ],
   "source": [
    "add1(1,\"indra\",\"kajha\")"
   ]
  },
  {
   "cell_type": "code",
   "execution_count": 5,
   "id": "5827b9ac",
   "metadata": {},
   "outputs": [],
   "source": [
    "# in add1(), it will perform concatenations  for lists or for integers or for the strings but not differernt types at a time"
   ]
  },
  {
   "cell_type": "code",
   "execution_count": 6,
   "id": "b70f0fd8",
   "metadata": {},
   "outputs": [
    {
     "data": {
      "text/plain": [
       "[1, 2, 3, 4, 5, 6, 7, 8, 9]"
      ]
     },
     "execution_count": 6,
     "metadata": {},
     "output_type": "execute_result"
    }
   ],
   "source": [
    "add1([1,2,3],[4,5,6],[7,8,9])"
   ]
  },
  {
   "cell_type": "code",
   "execution_count": 7,
   "id": "66d8e479",
   "metadata": {},
   "outputs": [
    {
     "data": {
      "text/plain": [
       "390"
      ]
     },
     "execution_count": 7,
     "metadata": {},
     "output_type": "execute_result"
    }
   ],
   "source": [
    "add1(c=100,b=200,a=90) # we can directly assign values in the calling funtion"
   ]
  },
  {
   "cell_type": "markdown",
   "id": "ea49886b",
   "metadata": {},
   "source": [
    "## create a function which will take list as input and print the final list with all the numeric values in it"
   ]
  },
  {
   "cell_type": "code",
   "execution_count": 8,
   "id": "63c9650c",
   "metadata": {},
   "outputs": [],
   "source": [
    "l1=[3,4,56,78,90.34,23,45.6,\"mahi\",True,1+2j]"
   ]
  },
  {
   "cell_type": "code",
   "execution_count": 9,
   "id": "83bec9e5",
   "metadata": {},
   "outputs": [],
   "source": [
    "def fun1(l1):\n",
    "    num_list=[]\n",
    "    for i in l1:\n",
    "        if type(i)==int or type(i)==float:\n",
    "            num_list.append(i)\n",
    "    return num_list"
   ]
  },
  {
   "cell_type": "code",
   "execution_count": 10,
   "id": "e9b5e25d",
   "metadata": {},
   "outputs": [
    {
     "data": {
      "text/plain": [
       "[3, 4, 56, 78, 90.34, 23, 45.6]"
      ]
     },
     "execution_count": 10,
     "metadata": {},
     "output_type": "execute_result"
    }
   ],
   "source": [
    "fun1(l1)"
   ]
  },
  {
   "cell_type": "code",
   "execution_count": 11,
   "id": "57435f8c",
   "metadata": {},
   "outputs": [],
   "source": [
    "# suppose if any list is present in the list.now create the new funtion for this scenario"
   ]
  },
  {
   "cell_type": "code",
   "execution_count": 19,
   "id": "86bdf2a1",
   "metadata": {},
   "outputs": [],
   "source": [
    "l2=[1,2,3,\"indra\",\"mahi\",\"kaja\",[2,3,4,\"ramu\",\"sekhar\"],(8,5,3,\"jaya\")]"
   ]
  },
  {
   "cell_type": "code",
   "execution_count": 22,
   "id": "3f614089",
   "metadata": {},
   "outputs": [],
   "source": [
    "def fun2(l2):\n",
    "    num_list=[]\n",
    "    for i in l2:\n",
    "        if type(i)==list or type(i)==tuple:\n",
    "            for j in i:\n",
    "                if type(j)==int or type(j)==float:\n",
    "                    num_list.append(j)\n",
    "        else:\n",
    "            if type(i)==int or type(i)==float:\n",
    "                num_list.append(i)\n",
    "    return num_list"
   ]
  },
  {
   "cell_type": "code",
   "execution_count": 23,
   "id": "321a157c",
   "metadata": {},
   "outputs": [
    {
     "data": {
      "text/plain": [
       "[1, 2, 3, 2, 3, 4, 8, 5, 3]"
      ]
     },
     "execution_count": 23,
     "metadata": {},
     "output_type": "execute_result"
    }
   ],
   "source": [
    "fun2(l2)"
   ]
  },
  {
   "cell_type": "markdown",
   "id": "9cb81374",
   "metadata": {},
   "source": [
    "## create a function which will take any number of functional arguments"
   ]
  },
  {
   "cell_type": "code",
   "execution_count": 24,
   "id": "afe6cb6a",
   "metadata": {},
   "outputs": [],
   "source": [
    "def test1(a,b,c,d): # when we want to create a function but we don't want anything in it,just give pass\n",
    "    pass"
   ]
  },
  {
   "cell_type": "code",
   "execution_count": 25,
   "id": "5a89cf8a",
   "metadata": {},
   "outputs": [],
   "source": [
    "test1(1,2,3,4)"
   ]
  },
  {
   "cell_type": "code",
   "execution_count": 26,
   "id": "07a6bae8",
   "metadata": {},
   "outputs": [
    {
     "ename": "TypeError",
     "evalue": "test1() takes 4 positional arguments but 6 were given",
     "output_type": "error",
     "traceback": [
      "\u001b[1;31m---------------------------------------------------------------------------\u001b[0m",
      "\u001b[1;31mTypeError\u001b[0m                                 Traceback (most recent call last)",
      "\u001b[1;32m~\\AppData\\Local\\Temp\\ipykernel_42972\\1463701166.py\u001b[0m in \u001b[0;36m<module>\u001b[1;34m\u001b[0m\n\u001b[1;32m----> 1\u001b[1;33m \u001b[0mtest1\u001b[0m\u001b[1;33m(\u001b[0m\u001b[1;36m3\u001b[0m\u001b[1;33m,\u001b[0m\u001b[1;36m4\u001b[0m\u001b[1;33m,\u001b[0m\u001b[1;36m5\u001b[0m\u001b[1;33m,\u001b[0m\u001b[1;36m6\u001b[0m\u001b[1;33m,\u001b[0m\u001b[1;36m79\u001b[0m\u001b[1;33m,\u001b[0m\u001b[1;36m8\u001b[0m\u001b[1;33m)\u001b[0m \u001b[1;31m# we are giving more number of arguments here\u001b[0m\u001b[1;33m\u001b[0m\u001b[1;33m\u001b[0m\u001b[0m\n\u001b[0m",
      "\u001b[1;31mTypeError\u001b[0m: test1() takes 4 positional arguments but 6 were given"
     ]
    }
   ],
   "source": [
    "test1(3,4,5,6,79,8) # we are giving more number of arguments here"
   ]
  },
  {
   "cell_type": "code",
   "execution_count": 27,
   "id": "8d996c86",
   "metadata": {},
   "outputs": [],
   "source": [
    "# we can face such situations where we will pass more number of arguments"
   ]
  },
  {
   "cell_type": "markdown",
   "id": "f98d215e",
   "metadata": {},
   "source": [
    "# args --> will be useful in such situations"
   ]
  },
  {
   "cell_type": "code",
   "execution_count": 30,
   "id": "1c52a808",
   "metadata": {},
   "outputs": [],
   "source": [
    "def test1(*args):# this will take any number of arguments\n",
    "    return args # returns in the form of tuple "
   ]
  },
  {
   "cell_type": "code",
   "execution_count": 31,
   "id": "fdd5ba58",
   "metadata": {},
   "outputs": [
    {
     "data": {
      "text/plain": [
       "(1, 34, 2, 56, 78, 90)"
      ]
     },
     "execution_count": 31,
     "metadata": {},
     "output_type": "execute_result"
    }
   ],
   "source": [
    "test1(1,34,2,56,78,90)"
   ]
  },
  {
   "cell_type": "code",
   "execution_count": 32,
   "id": "766d93c1",
   "metadata": {},
   "outputs": [
    {
     "data": {
      "text/plain": [
       "(2,)"
      ]
     },
     "execution_count": 32,
     "metadata": {},
     "output_type": "execute_result"
    }
   ],
   "source": [
    "test1(2)"
   ]
  },
  {
   "cell_type": "code",
   "execution_count": 33,
   "id": "5f7345d5",
   "metadata": {},
   "outputs": [
    {
     "data": {
      "text/plain": [
       "(2, 3, 4, [34, 56, 78], (67, 'indra'))"
      ]
     },
     "execution_count": 33,
     "metadata": {},
     "output_type": "execute_result"
    }
   ],
   "source": [
    "test1(2,3,4,[34,56,78],(67,\"indra\"))"
   ]
  },
  {
   "cell_type": "code",
   "execution_count": 34,
   "id": "10333cb1",
   "metadata": {},
   "outputs": [],
   "source": [
    "# args is  not a keyword .u can put any name for it"
   ]
  },
  {
   "cell_type": "code",
   "execution_count": 36,
   "id": "10b9b82c",
   "metadata": {},
   "outputs": [],
   "source": [
    "def fun2(*indra):\n",
    "    return indra\n",
    "    "
   ]
  },
  {
   "cell_type": "code",
   "execution_count": 37,
   "id": "f05fd05b",
   "metadata": {},
   "outputs": [
    {
     "data": {
      "text/plain": [
       "(34, 56, 76, 90)"
      ]
     },
     "execution_count": 37,
     "metadata": {},
     "output_type": "execute_result"
    }
   ],
   "source": [
    "fun2(34,56,76,90)"
   ]
  },
  {
   "cell_type": "code",
   "execution_count": 38,
   "id": "1e35966b",
   "metadata": {},
   "outputs": [],
   "source": [
    "# how u can define this particular data to the args and this particular to the variable"
   ]
  },
  {
   "cell_type": "code",
   "execution_count": 43,
   "id": "c85ed66c",
   "metadata": {},
   "outputs": [],
   "source": [
    "def test3(*args,a,b): # if u define args first only then while calling function assign variables with values exactly\n",
    "    return args,a,b"
   ]
  },
  {
   "cell_type": "code",
   "execution_count": 40,
   "id": "63decd80",
   "metadata": {},
   "outputs": [
    {
     "data": {
      "text/plain": [
       "((1, 2, 3, 4, 5), 100, 'indra')"
      ]
     },
     "execution_count": 40,
     "metadata": {},
     "output_type": "execute_result"
    }
   ],
   "source": [
    "test3(1,2,3,4,5,a=100,b=\"indra\")"
   ]
  },
  {
   "cell_type": "code",
   "execution_count": 44,
   "id": "8f7007ad",
   "metadata": {},
   "outputs": [],
   "source": [
    "def test3(a,b,*args): # if u define args in the end then no need to declare the variables and values in the test3() calling function\n",
    "    return args,a,b"
   ]
  },
  {
   "cell_type": "code",
   "execution_count": 45,
   "id": "7601ce51",
   "metadata": {},
   "outputs": [
    {
     "data": {
      "text/plain": [
       "(('indra', 'mahi'), 12, 30)"
      ]
     },
     "execution_count": 45,
     "metadata": {},
     "output_type": "execute_result"
    }
   ],
   "source": [
    "test3(12,30,'indra',\"mahi\")"
   ]
  },
  {
   "cell_type": "code",
   "execution_count": 46,
   "id": "a2438a96",
   "metadata": {},
   "outputs": [],
   "source": [
    "# create a function which will take multiple arguments and prints out the only lists which are passed as arguments to a function"
   ]
  },
  {
   "cell_type": "code",
   "execution_count": 50,
   "id": "c5a243d0",
   "metadata": {},
   "outputs": [],
   "source": [
    "def test5(*args):\n",
    "    l3=[]\n",
    "    for i in args:\n",
    "        if type(i)==list:\n",
    "            l3.append(i)\n",
    "    return l3"
   ]
  },
  {
   "cell_type": "code",
   "execution_count": 55,
   "id": "5f216ed0",
   "metadata": {},
   "outputs": [],
   "source": [
    "test5(1,2,3,[45,65,89],[45,34,23,45],True,1+2j)"
   ]
  },
  {
   "cell_type": "markdown",
   "id": "6c435784",
   "metadata": {},
   "source": [
    "## kwargs --> key word arguments"
   ]
  },
  {
   "cell_type": "code",
   "execution_count": 52,
   "id": "2e1667c1",
   "metadata": {},
   "outputs": [],
   "source": [
    "# when u want to use the multiple key word and value arguments then u can use the kwargs inside the function"
   ]
  },
  {
   "cell_type": "code",
   "execution_count": 59,
   "id": "425b8662",
   "metadata": {},
   "outputs": [
    {
     "data": {
      "text/plain": [
       "{'a': 34, 'b': True, 'c': 'India', 'd': [1, 2, 3, 4, 5]}"
      ]
     },
     "execution_count": 59,
     "metadata": {},
     "output_type": "execute_result"
    }
   ],
   "source": [
    "def test6(**kwargs): # if two ** are there, then it returns in the form of dictionary\n",
    "    return kwargs # returns in the form of the dictionary\n",
    "test6(a=34,b=True,c=\"India\",d=[1,2,3,4,5])"
   ]
  },
  {
   "cell_type": "code",
   "execution_count": 54,
   "id": "6501d6ce",
   "metadata": {},
   "outputs": [],
   "source": [
    "# return the list from the values in the dictionary"
   ]
  },
  {
   "cell_type": "code",
   "execution_count": 63,
   "id": "100a6385",
   "metadata": {},
   "outputs": [
    {
     "data": {
      "text/plain": [
       "('b', [45, 67, 89])"
      ]
     },
     "execution_count": 63,
     "metadata": {},
     "output_type": "execute_result"
    }
   ],
   "source": [
    "def test7(**kwargs):\n",
    "    for i in kwargs.keys():\n",
    "        if type(kwargs[i])==list:\n",
    "            return i,kwargs[i]\n",
    "test7(a=4,b=[45,67,89],c=[67,45,32],d=True)"
   ]
  },
  {
   "cell_type": "code",
   "execution_count": 64,
   "id": "63fec1f2",
   "metadata": {},
   "outputs": [],
   "source": [
    "# let's create a function which will take both the args and kwargs"
   ]
  },
  {
   "cell_type": "code",
   "execution_count": 66,
   "id": "f5f5d2d4",
   "metadata": {},
   "outputs": [],
   "source": [
    "def test9(*args,**kwargs):\n",
    "    return args,kwargs\n",
    "# if any key value pairs are there,they will be treated as arguments for the **kwargs"
   ]
  },
  {
   "cell_type": "code",
   "execution_count": 68,
   "id": "f232a254",
   "metadata": {},
   "outputs": [
    {
     "data": {
      "text/plain": [
       "((2, 3, 45), {'a': 100, 'b': 200, 'c': [56, 67, 87, 65, 43, 78], 'd': 'true'})"
      ]
     },
     "execution_count": 68,
     "metadata": {},
     "output_type": "execute_result"
    }
   ],
   "source": [
    "test9(2,3,45,a=100,b=200,c=[56,67,87,65,43,78],d=\"true\")"
   ]
  },
  {
   "cell_type": "code",
   "execution_count": null,
   "id": "55744607",
   "metadata": {},
   "outputs": [],
   "source": []
  }
 ],
 "metadata": {
  "kernelspec": {
   "display_name": "Python 3 (ipykernel)",
   "language": "python",
   "name": "python3"
  },
  "language_info": {
   "codemirror_mode": {
    "name": "ipython",
    "version": 3
   },
   "file_extension": ".py",
   "mimetype": "text/x-python",
   "name": "python",
   "nbconvert_exporter": "python",
   "pygments_lexer": "ipython3",
   "version": "3.9.13"
  }
 },
 "nbformat": 4,
 "nbformat_minor": 5
}
