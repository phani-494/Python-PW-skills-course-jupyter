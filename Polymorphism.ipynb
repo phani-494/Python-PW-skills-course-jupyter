{
 "cells": [
  {
   "cell_type": "markdown",
   "id": "6863eb54",
   "metadata": {},
   "source": [
    "# Dynamic Typing\n"
   ]
  },
  {
   "cell_type": "code",
   "execution_count": 1,
   "id": "07f3ad01",
   "metadata": {},
   "outputs": [],
   "source": [
    "# In python ,no need to declare the integer type since compiler can understand at the time of compiling what data type is assigned to a variable"
   ]
  },
  {
   "cell_type": "code",
   "execution_count": 2,
   "id": "bb60bffd",
   "metadata": {},
   "outputs": [],
   "source": [
    "# here no need to declare data type while creating /declaring the variables "
   ]
  },
  {
   "cell_type": "code",
   "execution_count": 3,
   "id": "e1bcc057",
   "metadata": {},
   "outputs": [],
   "source": [
    "a=100"
   ]
  },
  {
   "cell_type": "code",
   "execution_count": 4,
   "id": "74514743",
   "metadata": {},
   "outputs": [],
   "source": [
    "name='Lucky'"
   ]
  },
  {
   "cell_type": "code",
   "execution_count": 5,
   "id": "8bc7bdd7",
   "metadata": {},
   "outputs": [
    {
     "data": {
      "text/plain": [
       "1"
      ]
     },
     "execution_count": 5,
     "metadata": {},
     "output_type": "execute_result"
    }
   ],
   "source": [
    "int(1.54)"
   ]
  },
  {
   "cell_type": "code",
   "execution_count": 7,
   "id": "6af76a23",
   "metadata": {},
   "outputs": [
    {
     "data": {
      "text/plain": [
       "100.0"
      ]
     },
     "execution_count": 7,
     "metadata": {},
     "output_type": "execute_result"
    }
   ],
   "source": [
    "float(100)"
   ]
  },
  {
   "cell_type": "code",
   "execution_count": 8,
   "id": "beac14e5",
   "metadata": {},
   "outputs": [],
   "source": [
    "# Compiler automatically understand what data type is assigned."
   ]
  },
  {
   "cell_type": "code",
   "execution_count": 9,
   "id": "5f84a863",
   "metadata": {},
   "outputs": [
    {
     "data": {
      "text/plain": [
       "0"
      ]
     },
     "execution_count": 9,
     "metadata": {},
     "output_type": "execute_result"
    }
   ],
   "source": [
    "int() # returns 0 if no argument is present"
   ]
  },
  {
   "cell_type": "code",
   "execution_count": 10,
   "id": "238cb548",
   "metadata": {},
   "outputs": [
    {
     "name": "stdout",
     "output_type": "stream",
     "text": [
      "123\n"
     ]
    }
   ],
   "source": [
    "print(123)"
   ]
  },
  {
   "cell_type": "code",
   "execution_count": 12,
   "id": "4b593dd5",
   "metadata": {},
   "outputs": [
    {
     "name": "stdout",
     "output_type": "stream",
     "text": [
      "My age is: 45\n"
     ]
    }
   ],
   "source": [
    "age=45\n",
    "print(\"My age is:\",age)"
   ]
  },
  {
   "cell_type": "markdown",
   "id": "b22cbdbf",
   "metadata": {},
   "source": [
    "# f string  : String formatting"
   ]
  },
  {
   "cell_type": "code",
   "execution_count": 13,
   "id": "1d3f2ea5",
   "metadata": {},
   "outputs": [],
   "source": [
    "# string formatting means writing the variable name inside the string .So by formatting the string that variable will not be considered as a string\n",
    "# original value of string will be displayed in the string\n"
   ]
  },
  {
   "cell_type": "code",
   "execution_count": 14,
   "id": "220e3458",
   "metadata": {},
   "outputs": [
    {
     "name": "stdout",
     "output_type": "stream",
     "text": [
      " My age is {age}\n"
     ]
    }
   ],
   "source": [
    "print(\" My age is {age}\")"
   ]
  },
  {
   "cell_type": "code",
   "execution_count": 15,
   "id": "11b99c17",
   "metadata": {},
   "outputs": [
    {
     "name": "stdout",
     "output_type": "stream",
     "text": [
      "My age is 45\n"
     ]
    }
   ],
   "source": [
    "print(f\"My age is {age}\")"
   ]
  },
  {
   "cell_type": "markdown",
   "id": "b5d1d228",
   "metadata": {},
   "source": [
    "# Format string"
   ]
  },
  {
   "cell_type": "code",
   "execution_count": 16,
   "id": "51273fe4",
   "metadata": {},
   "outputs": [
    {
     "name": "stdout",
     "output_type": "stream",
     "text": [
      "My age is 45\n"
     ]
    }
   ],
   "source": [
    "print(\"My age is {}\".format(age))"
   ]
  },
  {
   "cell_type": "code",
   "execution_count": 17,
   "id": "a26897cc",
   "metadata": {},
   "outputs": [],
   "source": [
    "name=\"indra\"\n",
    "age=32\n",
    "height=150\n",
    "salary=890000"
   ]
  },
  {
   "cell_type": "code",
   "execution_count": 18,
   "id": "672cf671",
   "metadata": {},
   "outputs": [
    {
     "name": "stdout",
     "output_type": "stream",
     "text": [
      "indra is doing job with salary  890000 and his age is 32 with height 150\n"
     ]
    }
   ],
   "source": [
    "print(\"{2} is doing job with salary  {0} and his age is {1} with height {3}\".format(salary,age,name,150))"
   ]
  },
  {
   "cell_type": "code",
   "execution_count": 19,
   "id": "a5c217e2",
   "metadata": {},
   "outputs": [
    {
     "name": "stdout",
     "output_type": "stream",
     "text": [
      "indra is doing job with salary  890000 and his age is 32 \n"
     ]
    }
   ],
   "source": [
    "# we can also use place holders here\n",
    "print(\"{na} is doing job with salary  {sal} and his age is {a} \".format(sal=salary,a=age,na=name))"
   ]
  },
  {
   "cell_type": "code",
   "execution_count": 20,
   "id": "775e3aee",
   "metadata": {},
   "outputs": [
    {
     "name": "stdout",
     "output_type": "stream",
     "text": [
      "indra is doing job with salary  890000 and his age is 32 with height 150\n"
     ]
    }
   ],
   "source": [
    "print(\"{} is doing job with salary  {} and his age is {} with height {}\".format(name,salary,age,height))"
   ]
  },
  {
   "cell_type": "markdown",
   "id": "6f474c44",
   "metadata": {},
   "source": [
    "# Tuples"
   ]
  },
  {
   "cell_type": "code",
   "execution_count": 1,
   "id": "d7e48b85",
   "metadata": {},
   "outputs": [],
   "source": [
    "t=()\n"
   ]
  },
  {
   "cell_type": "code",
   "execution_count": 2,
   "id": "2defc0cd",
   "metadata": {},
   "outputs": [
    {
     "data": {
      "text/plain": [
       "tuple"
      ]
     },
     "execution_count": 2,
     "metadata": {},
     "output_type": "execute_result"
    }
   ],
   "source": [
    "type(t)"
   ]
  },
  {
   "cell_type": "code",
   "execution_count": 3,
   "id": "52ca5ad8",
   "metadata": {},
   "outputs": [],
   "source": [
    "t1=(1,2,3,1.89,567.78,\"indra\",\"mahi\",\"raja\",1+2j,True)"
   ]
  },
  {
   "cell_type": "code",
   "execution_count": 4,
   "id": "07601619",
   "metadata": {},
   "outputs": [
    {
     "data": {
      "text/plain": [
       "tuple"
      ]
     },
     "execution_count": 4,
     "metadata": {},
     "output_type": "execute_result"
    }
   ],
   "source": [
    "type(t1)"
   ]
  },
  {
   "cell_type": "code",
   "execution_count": 5,
   "id": "525c380d",
   "metadata": {},
   "outputs": [
    {
     "data": {
      "text/plain": [
       "(2, 3, 1.89, 567.78, 'indra', 'mahi', 'raja', (1+2j), True)"
      ]
     },
     "execution_count": 5,
     "metadata": {},
     "output_type": "execute_result"
    }
   ],
   "source": [
    "t1[1:]"
   ]
  },
  {
   "cell_type": "code",
   "execution_count": 6,
   "id": "4a4b6fff",
   "metadata": {},
   "outputs": [
    {
     "data": {
      "text/plain": [
       "(True, (1+2j), 'raja', 'mahi', 'indra', 567.78, 1.89, 3, 2, 1)"
      ]
     },
     "execution_count": 6,
     "metadata": {},
     "output_type": "execute_result"
    }
   ],
   "source": [
    "t1[::-1]"
   ]
  },
  {
   "cell_type": "code",
   "execution_count": 7,
   "id": "59853d32",
   "metadata": {},
   "outputs": [
    {
     "data": {
      "text/plain": [
       "1"
      ]
     },
     "execution_count": 7,
     "metadata": {},
     "output_type": "execute_result"
    }
   ],
   "source": [
    "t1.count(3)"
   ]
  },
  {
   "cell_type": "code",
   "execution_count": 8,
   "id": "f4ca6ab2",
   "metadata": {},
   "outputs": [
    {
     "data": {
      "text/plain": [
       "0"
      ]
     },
     "execution_count": 8,
     "metadata": {},
     "output_type": "execute_result"
    }
   ],
   "source": [
    "t1.count(23)"
   ]
  },
  {
   "cell_type": "code",
   "execution_count": 9,
   "id": "eb3cc5a9",
   "metadata": {},
   "outputs": [
    {
     "data": {
      "text/plain": [
       "3"
      ]
     },
     "execution_count": 9,
     "metadata": {},
     "output_type": "execute_result"
    }
   ],
   "source": [
    "t1.index(1.89) # gives index at where the value is  present "
   ]
  },
  {
   "cell_type": "code",
   "execution_count": 12,
   "id": "da296b92",
   "metadata": {},
   "outputs": [
    {
     "data": {
      "text/plain": [
       "6"
      ]
     },
     "execution_count": 12,
     "metadata": {},
     "output_type": "execute_result"
    }
   ],
   "source": [
    "t1.index('mahi')"
   ]
  },
  {
   "cell_type": "code",
   "execution_count": 22,
   "id": "dfbe391a",
   "metadata": {},
   "outputs": [
    {
     "name": "stdout",
     "output_type": "stream",
     "text": [
      "0\n",
      "2\n"
     ]
    }
   ],
   "source": [
    "print(t1.index(True)) # internally the system stores the value of True as 1 so only it  given the O value\n",
    "print(t1.count(1)) # here also True is counted as 1 so given 2 "
   ]
  },
  {
   "cell_type": "code",
   "execution_count": 15,
   "id": "451dd6d5",
   "metadata": {},
   "outputs": [],
   "source": [
    "t2=(3,2,1,True) # for True wherever 1 is present it will give that index"
   ]
  },
  {
   "cell_type": "code",
   "execution_count": 16,
   "id": "9daf4622",
   "metadata": {},
   "outputs": [
    {
     "data": {
      "text/plain": [
       "2"
      ]
     },
     "execution_count": 16,
     "metadata": {},
     "output_type": "execute_result"
    }
   ],
   "source": [
    "t2.index(True)"
   ]
  },
  {
   "cell_type": "code",
   "execution_count": 19,
   "id": "18000c11",
   "metadata": {},
   "outputs": [],
   "source": [
    "t3=(3,2,\"raja\",True)  # Since here no 1 is present ,it gives the original index only"
   ]
  },
  {
   "cell_type": "code",
   "execution_count": 20,
   "id": "02ab9ddb",
   "metadata": {},
   "outputs": [
    {
     "data": {
      "text/plain": [
       "3"
      ]
     },
     "execution_count": 20,
     "metadata": {},
     "output_type": "execute_result"
    }
   ],
   "source": [
    "t3.index(True)"
   ]
  },
  {
   "cell_type": "markdown",
   "id": "fef78b67",
   "metadata": {},
   "source": [
    "## Polymorphism"
   ]
  },
  {
   "cell_type": "markdown",
   "id": "a81217fe",
   "metadata": {},
   "source": [
    "# Acting in a multiple ways based on the different kind of situations present"
   ]
  },
  {
   "cell_type": "markdown",
   "id": "1de89829",
   "metadata": {},
   "source": [
    "# Example of polymorphism\n",
    "1. see here the + operators worked for strings ,integers and lists also\n",
    "2. Depending on the data passed to the function ,the + operator worked in different ways"
   ]
  },
  {
   "cell_type": "code",
   "execution_count": 3,
   "id": "844f3102",
   "metadata": {},
   "outputs": [],
   "source": [
    "def test(a,b):\n",
    "    return a+b\n"
   ]
  },
  {
   "cell_type": "code",
   "execution_count": 4,
   "id": "6c138d14",
   "metadata": {},
   "outputs": [
    {
     "data": {
      "text/plain": [
       "11"
      ]
     },
     "execution_count": 4,
     "metadata": {},
     "output_type": "execute_result"
    }
   ],
   "source": [
    "test(5,6)"
   ]
  },
  {
   "cell_type": "code",
   "execution_count": 5,
   "id": "d6615a9a",
   "metadata": {},
   "outputs": [
    {
     "data": {
      "text/plain": [
       "[1, 2, 3, 4, 5, 6, 7, 8]"
      ]
     },
     "execution_count": 5,
     "metadata": {},
     "output_type": "execute_result"
    }
   ],
   "source": [
    "test([1,2,3,4],[5,6,7,8])"
   ]
  },
  {
   "cell_type": "code",
   "execution_count": 6,
   "id": "1c526cec",
   "metadata": {},
   "outputs": [
    {
     "data": {
      "text/plain": [
       "'Phanilucky'"
      ]
     },
     "execution_count": 6,
     "metadata": {},
     "output_type": "execute_result"
    }
   ],
   "source": [
    "test(\"Phani\",\"lucky\")"
   ]
  },
  {
   "cell_type": "code",
   "execution_count": 8,
   "id": "fe892189",
   "metadata": {},
   "outputs": [],
   "source": [
    "# this is the property of polymorphism"
   ]
  },
  {
   "cell_type": "code",
   "execution_count": 20,
   "id": "7c7e2331",
   "metadata": {},
   "outputs": [],
   "source": [
    "class data_science: # now we will create two different classes\n",
    "    def syllabus(self):\n",
    "        print(\"This is my method for data science syllabus\")"
   ]
  },
  {
   "cell_type": "code",
   "execution_count": 21,
   "id": "a58b4661",
   "metadata": {},
   "outputs": [],
   "source": [
    "class web_dev:\n",
    "    def syllabus(self):\n",
    "        print(\"This is my method for web development\")"
   ]
  },
  {
   "cell_type": "code",
   "execution_count": 22,
   "id": "3e952ba5",
   "metadata": {},
   "outputs": [],
   "source": [
    "def class_parcer(obj_class): # here we will create one external function \n",
    "    for i in obj_class: # here we are able to access both the classes when loop is executing\n",
    "        # when i is data_sci_obj ,it is able to access the method in it and when i is web_dev_obj, it is able to access the method in web_dev  .\n",
    "        # so this function is acting as polymorphism by accessing both the methods depending on which object is passed in i\n",
    "        i.syllabus()"
   ]
  },
  {
   "cell_type": "code",
   "execution_count": 23,
   "id": "d26a0f23",
   "metadata": {},
   "outputs": [],
   "source": [
    "data_sci_obj=data_science()"
   ]
  },
  {
   "cell_type": "code",
   "execution_count": 24,
   "id": "fd90956a",
   "metadata": {},
   "outputs": [],
   "source": [
    "web_dev_obj=web_dev()"
   ]
  },
  {
   "cell_type": "code",
   "execution_count": 25,
   "id": "2d29aa07",
   "metadata": {},
   "outputs": [],
   "source": [
    "obj_class=[data_sci_obj,web_dev_obj] # add both the objects inside the list"
   ]
  },
  {
   "cell_type": "code",
   "execution_count": 26,
   "id": "60297225",
   "metadata": {},
   "outputs": [
    {
     "name": "stdout",
     "output_type": "stream",
     "text": [
      "This is my method for data science syllabus\n",
      "This is my method for web development\n"
     ]
    }
   ],
   "source": [
    "class_parcer(obj_class)"
   ]
  },
  {
   "cell_type": "code",
   "execution_count": null,
   "id": "c0011280",
   "metadata": {},
   "outputs": [],
   "source": []
  },
  {
   "cell_type": "markdown",
   "id": "af6ff49f",
   "metadata": {},
   "source": [
    "# Duck Typing\n",
    " ## The name duck typing comes from the phrase that:\" If it looks like a duck,walks like a duck then it is a duck \"\n",
    " ### Simply here the function or method such as walking or quacking matters not the duck\n",
    "1.It doesn't matter which class object we are passing,what matters is that object should have the method which is going to be executed."
   ]
  },
  {
   "cell_type": "code",
   "execution_count": 2,
   "id": "99b4fa34",
   "metadata": {},
   "outputs": [
    {
     "name": "stdout",
     "output_type": "stream",
     "text": [
      "Editor is pycharm\n"
     ]
    }
   ],
   "source": [
    "class pycharm:\n",
    "    def execute(self):\n",
    "        print(\"Editor is pycharm\")\n",
    "class jupyter:\n",
    "    def execute(self):\n",
    "        print(\"Editor is the jupyter\")\n",
    "class Laptop:\n",
    "    def code(self,ide):\n",
    "        ide.execute()\n",
    "ide=pycharm()\n",
    "lap1=Laptop()\n",
    "lap1.code(ide)"
   ]
  },
  {
   "cell_type": "code",
   "execution_count": 3,
   "id": "aa45ce2c",
   "metadata": {},
   "outputs": [
    {
     "name": "stdout",
     "output_type": "stream",
     "text": [
      "Editor is the jupyter\n"
     ]
    }
   ],
   "source": [
    "ide=jupyter()\n",
    "lap1=Laptop() # here whatever the object u may pass,but it should have the execute() method, then only it will works\n",
    "lap1.code(ide)"
   ]
  },
  {
   "cell_type": "code",
   "execution_count": 5,
   "id": "bb578aa6",
   "metadata": {},
   "outputs": [
    {
     "name": "stdout",
     "output_type": "stream",
     "text": [
      "15\n",
      "15\n"
     ]
    }
   ],
   "source": [
    "# operator overloading\n",
    "a=7\n",
    "b=8\n",
    "print(a+b) # for this behind the scenes the below line is geting executed where the int.__add__() is a built in method\n",
    "print(int.__add__(a,b))"
   ]
  },
  {
   "cell_type": "code",
   "execution_count": 6,
   "id": "0df71689",
   "metadata": {},
   "outputs": [],
   "source": [
    "a=\"Indra\"\n",
    "b=\" Lucky\""
   ]
  },
  {
   "cell_type": "code",
   "execution_count": 9,
   "id": "056efba2",
   "metadata": {},
   "outputs": [
    {
     "name": "stdout",
     "output_type": "stream",
     "text": [
      "Indra Lucky\n",
      "Indra Lucky\n"
     ]
    }
   ],
   "source": [
    "print(str.__add__(a,b)) # if passed arguments are strings then we have to give str in place of int\n",
    "print(a+b)"
   ]
  },
  {
   "cell_type": "code",
   "execution_count": null,
   "id": "8aeaaa14",
   "metadata": {},
   "outputs": [],
   "source": []
  },
  {
   "cell_type": "code",
   "execution_count": null,
   "id": "09f7ece1",
   "metadata": {},
   "outputs": [],
   "source": []
  }
 ],
 "metadata": {
  "kernelspec": {
   "display_name": "Python 3 (ipykernel)",
   "language": "python",
   "name": "python3"
  },
  "language_info": {
   "codemirror_mode": {
    "name": "ipython",
    "version": 3
   },
   "file_extension": ".py",
   "mimetype": "text/x-python",
   "name": "python",
   "nbconvert_exporter": "python",
   "pygments_lexer": "ipython3",
   "version": "3.9.13"
  }
 },
 "nbformat": 4,
 "nbformat_minor": 5
}
