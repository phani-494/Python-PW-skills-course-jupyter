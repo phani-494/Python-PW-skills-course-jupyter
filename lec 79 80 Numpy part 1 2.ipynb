{
 "cells": [
  {
   "cell_type": "markdown",
   "id": "be73d789",
   "metadata": {},
   "source": [
    "# lec 79\n",
    "## Numpy Part 1"
   ]
  },
  {
   "cell_type": "code",
   "execution_count": 1,
   "id": "a81956bb",
   "metadata": {},
   "outputs": [],
   "source": [
    "# Numpy means Numerical Python\n",
    "# used to calculate/perform specific operations on the arrays or matrices"
   ]
  },
  {
   "cell_type": "code",
   "execution_count": 2,
   "id": "c3ae8974",
   "metadata": {},
   "outputs": [],
   "source": [
    "list1=[1,2,3,4,5,6]"
   ]
  },
  {
   "cell_type": "code",
   "execution_count": 3,
   "id": "dc13d985",
   "metadata": {},
   "outputs": [],
   "source": [
    "# we have to import numpy module for using the Numpy related functions\n"
   ]
  },
  {
   "cell_type": "code",
   "execution_count": 4,
   "id": "082eb23a",
   "metadata": {},
   "outputs": [],
   "source": [
    "import numpy as np"
   ]
  },
  {
   "cell_type": "code",
   "execution_count": 7,
   "id": "b5d15fab",
   "metadata": {},
   "outputs": [],
   "source": [
    "arr1=np.array(list1) # converting the list to array"
   ]
  },
  {
   "cell_type": "code",
   "execution_count": 8,
   "id": "00a3edda",
   "metadata": {},
   "outputs": [
    {
     "data": {
      "text/plain": [
       "array([1, 2, 3, 4, 5, 6])"
      ]
     },
     "execution_count": 8,
     "metadata": {},
     "output_type": "execute_result"
    }
   ],
   "source": [
    "arr1"
   ]
  },
  {
   "cell_type": "code",
   "execution_count": 90,
   "id": "5425e02a",
   "metadata": {},
   "outputs": [
    {
     "name": "stdout",
     "output_type": "stream",
     "text": [
      "[200   2   3   4   5   6]\n"
     ]
    }
   ],
   "source": [
    "print(arr1) # in arrays commas should not present ."
   ]
  },
  {
   "cell_type": "code",
   "execution_count": 9,
   "id": "47e6e311",
   "metadata": {},
   "outputs": [],
   "source": [
    "# we can convert in one more way as shown below"
   ]
  },
  {
   "cell_type": "code",
   "execution_count": 11,
   "id": "44da6d51",
   "metadata": {},
   "outputs": [],
   "source": [
    "list2=([1,2,3],[4,5,6])"
   ]
  },
  {
   "cell_type": "code",
   "execution_count": 12,
   "id": "b64bfcb7",
   "metadata": {},
   "outputs": [],
   "source": [
    "arr2=np.asarray(list2)"
   ]
  },
  {
   "cell_type": "code",
   "execution_count": 13,
   "id": "4bdfe677",
   "metadata": {},
   "outputs": [
    {
     "data": {
      "text/plain": [
       "array([[1, 2, 3],\n",
       "       [4, 5, 6]])"
      ]
     },
     "execution_count": 13,
     "metadata": {},
     "output_type": "execute_result"
    }
   ],
   "source": [
    "arr2"
   ]
  },
  {
   "cell_type": "code",
   "execution_count": 14,
   "id": "5288135c",
   "metadata": {},
   "outputs": [
    {
     "data": {
      "text/plain": [
       "2"
      ]
     },
     "execution_count": 14,
     "metadata": {},
     "output_type": "execute_result"
    }
   ],
   "source": [
    "arr2.ndim"
   ]
  },
  {
   "cell_type": "code",
   "execution_count": 15,
   "id": "bb335b55",
   "metadata": {},
   "outputs": [
    {
     "data": {
      "text/plain": [
       "1"
      ]
     },
     "execution_count": 15,
     "metadata": {},
     "output_type": "execute_result"
    }
   ],
   "source": [
    "arr1.ndim"
   ]
  },
  {
   "cell_type": "code",
   "execution_count": 16,
   "id": "e944856b",
   "metadata": {},
   "outputs": [
    {
     "data": {
      "text/plain": [
       "numpy.ndarray"
      ]
     },
     "execution_count": 16,
     "metadata": {},
     "output_type": "execute_result"
    }
   ],
   "source": [
    "type(arr1)"
   ]
  },
  {
   "cell_type": "code",
   "execution_count": 17,
   "id": "38eb5d2d",
   "metadata": {},
   "outputs": [
    {
     "data": {
      "text/plain": [
       "numpy.ndarray"
      ]
     },
     "execution_count": 17,
     "metadata": {},
     "output_type": "execute_result"
    }
   ],
   "source": [
    "type(arr2)"
   ]
  },
  {
   "cell_type": "code",
   "execution_count": 18,
   "id": "65619fec",
   "metadata": {},
   "outputs": [],
   "source": [
    "# let us see the matrices here\n",
    "mat1=np.matrix(list1)"
   ]
  },
  {
   "cell_type": "code",
   "execution_count": 20,
   "id": "56907d8c",
   "metadata": {},
   "outputs": [
    {
     "data": {
      "text/plain": [
       "matrix([[1, 2, 3, 4, 5, 6]])"
      ]
     },
     "execution_count": 20,
     "metadata": {},
     "output_type": "execute_result"
    }
   ],
   "source": [
    "mat1 # Matrices are always having 2 dim where as arrays will have single dimension also."
   ]
  },
  {
   "cell_type": "code",
   "execution_count": 26,
   "id": "173ef7cc",
   "metadata": {},
   "outputs": [
    {
     "data": {
      "text/plain": [
       "array([1, 2, 3, 4, 5, 6])"
      ]
     },
     "execution_count": 26,
     "metadata": {},
     "output_type": "execute_result"
    }
   ],
   "source": [
    "# asanyarray function will converts anything into array if it not available in the form  of array\n",
    "# matrix is subclass of array inside the numpy. so no changes will be done.\n",
    "np.asanyarray(list1) # converts the list to array"
   ]
  },
  {
   "cell_type": "code",
   "execution_count": 27,
   "id": "1827f62e",
   "metadata": {},
   "outputs": [
    {
     "data": {
      "text/plain": [
       "matrix([[1, 2, 3, 4, 5, 6]])"
      ]
     },
     "execution_count": 27,
     "metadata": {},
     "output_type": "execute_result"
    }
   ],
   "source": [
    "# \n",
    "np.asanyarray(mat1) # since matrix is subclass of an array ,so there is no changes made here"
   ]
  },
  {
   "cell_type": "code",
   "execution_count": 28,
   "id": "4865104f",
   "metadata": {},
   "outputs": [
    {
     "data": {
      "text/plain": [
       "array([1, 2, 3, 4, 5, 6])"
      ]
     },
     "execution_count": 28,
     "metadata": {},
     "output_type": "execute_result"
    }
   ],
   "source": [
    "arr1"
   ]
  },
  {
   "cell_type": "code",
   "execution_count": 31,
   "id": "4e09c076",
   "metadata": {},
   "outputs": [],
   "source": [
    "a=arr1 # both are having the same data"
   ]
  },
  {
   "cell_type": "code",
   "execution_count": 32,
   "id": "9dab8ab5",
   "metadata": {},
   "outputs": [
    {
     "data": {
      "text/plain": [
       "array([1, 2, 3, 4, 5, 6])"
      ]
     },
     "execution_count": 32,
     "metadata": {},
     "output_type": "execute_result"
    }
   ],
   "source": [
    "a"
   ]
  },
  {
   "cell_type": "code",
   "execution_count": 33,
   "id": "8711f7dc",
   "metadata": {},
   "outputs": [],
   "source": [
    "# here above we performed the shallow copy operation which means any change in one variable will results same changes in another variable also"
   ]
  },
  {
   "cell_type": "code",
   "execution_count": 34,
   "id": "d8f6fdd8",
   "metadata": {},
   "outputs": [],
   "source": [
    "arr1[0]=200"
   ]
  },
  {
   "cell_type": "code",
   "execution_count": 36,
   "id": "83474676",
   "metadata": {},
   "outputs": [
    {
     "data": {
      "text/plain": [
       "array([200,   2,   3,   4,   5,   6])"
      ]
     },
     "execution_count": 36,
     "metadata": {},
     "output_type": "execute_result"
    }
   ],
   "source": [
    "a # see the same change occured here also"
   ]
  },
  {
   "cell_type": "code",
   "execution_count": 37,
   "id": "f024c335",
   "metadata": {},
   "outputs": [],
   "source": [
    "# deep copy --> creates a separate memory and copies it \n",
    "b=np.copy(arr2)"
   ]
  },
  {
   "cell_type": "code",
   "execution_count": 38,
   "id": "e1b97800",
   "metadata": {},
   "outputs": [
    {
     "data": {
      "text/plain": [
       "array([[1, 2, 3],\n",
       "       [4, 5, 6]])"
      ]
     },
     "execution_count": 38,
     "metadata": {},
     "output_type": "execute_result"
    }
   ],
   "source": [
    "b"
   ]
  },
  {
   "cell_type": "code",
   "execution_count": 39,
   "id": "de0362ea",
   "metadata": {},
   "outputs": [],
   "source": [
    "b[0][1]=150"
   ]
  },
  {
   "cell_type": "code",
   "execution_count": 40,
   "id": "b9e9e7e9",
   "metadata": {},
   "outputs": [
    {
     "data": {
      "text/plain": [
       "array([[  1, 150,   3],\n",
       "       [  4,   5,   6]])"
      ]
     },
     "execution_count": 40,
     "metadata": {},
     "output_type": "execute_result"
    }
   ],
   "source": [
    "b"
   ]
  },
  {
   "cell_type": "code",
   "execution_count": 42,
   "id": "572abf15",
   "metadata": {},
   "outputs": [
    {
     "data": {
      "text/plain": [
       "array([[1, 2, 3],\n",
       "       [4, 5, 6]])"
      ]
     },
     "execution_count": 42,
     "metadata": {},
     "output_type": "execute_result"
    }
   ],
   "source": [
    "arr2 # no changes will occur since it will create the new copy and not used as reference"
   ]
  },
  {
   "cell_type": "code",
   "execution_count": 43,
   "id": "6dca57cc",
   "metadata": {},
   "outputs": [
    {
     "data": {
      "text/plain": [
       "array([[ True, False, False],\n",
       "       [False,  True, False],\n",
       "       [False, False,  True]])"
      ]
     },
     "execution_count": 43,
     "metadata": {},
     "output_type": "execute_result"
    }
   ],
   "source": [
    "# it takes the function as argument here and generates the dataset.\n",
    "np.fromfunction(lambda i,j:i==j,(3,3))"
   ]
  },
  {
   "cell_type": "code",
   "execution_count": 47,
   "id": "550988a9",
   "metadata": {},
   "outputs": [
    {
     "data": {
      "text/plain": [
       "array([[0., 1., 2.],\n",
       "       [1., 2., 3.],\n",
       "       [2., 3., 4.]])"
      ]
     },
     "execution_count": 47,
     "metadata": {},
     "output_type": "execute_result"
    }
   ],
   "source": [
    "np.fromfunction(lambda i,j:i+j,(3,3))"
   ]
  },
  {
   "cell_type": "code",
   "execution_count": 50,
   "id": "e3b50308",
   "metadata": {},
   "outputs": [
    {
     "data": {
      "text/plain": [
       "array([[ 0., -1., -2.],\n",
       "       [ 1.,  0., -1.],\n",
       "       [ 2.,  1.,  0.]])"
      ]
     },
     "execution_count": 50,
     "metadata": {},
     "output_type": "execute_result"
    }
   ],
   "source": [
    "np.fromfunction(lambda i,j:i-j,(3,3))"
   ]
  },
  {
   "cell_type": "code",
   "execution_count": 54,
   "id": "0cd2bec0",
   "metadata": {},
   "outputs": [],
   "source": [
    "a=(i*i for i in  range(10)) # creates a generator object here."
   ]
  },
  {
   "cell_type": "code",
   "execution_count": 55,
   "id": "359fecd1",
   "metadata": {},
   "outputs": [
    {
     "data": {
      "text/plain": [
       "[0, 1, 4, 9, 16, 25, 36, 49, 64, 81]"
      ]
     },
     "execution_count": 55,
     "metadata": {},
     "output_type": "execute_result"
    }
   ],
   "source": [
    "list(a) # to convert the above iterator as output we used list here"
   ]
  },
  {
   "cell_type": "code",
   "execution_count": 56,
   "id": "c572416d",
   "metadata": {},
   "outputs": [],
   "source": [
    "# generate it using numpy"
   ]
  },
  {
   "cell_type": "code",
   "execution_count": 57,
   "id": "2c98058d",
   "metadata": {},
   "outputs": [],
   "source": [
    "iterable=(i*i for i in  range(10))"
   ]
  },
  {
   "cell_type": "code",
   "execution_count": 58,
   "id": "8ef68ad8",
   "metadata": {},
   "outputs": [
    {
     "data": {
      "text/plain": [
       "array([ 0.,  1.,  4.,  9., 16., 25., 36., 49., 64., 81.])"
      ]
     },
     "execution_count": 58,
     "metadata": {},
     "output_type": "execute_result"
    }
   ],
   "source": [
    "np.fromiter(iterable,float) # fromiter will converts the above iterable to array form with the required format mentioned"
   ]
  },
  {
   "cell_type": "code",
   "execution_count": 60,
   "id": "ac59d55b",
   "metadata": {},
   "outputs": [
    {
     "data": {
      "text/plain": [
       "array([23., 45.,  6.,  7.])"
      ]
     },
     "execution_count": 60,
     "metadata": {},
     "output_type": "execute_result"
    }
   ],
   "source": [
    "np.fromstring('23 45 6 7',sep=\" \") # most of the outcomes in the numpy are arrays only"
   ]
  },
  {
   "cell_type": "code",
   "execution_count": 63,
   "id": "78a3ddc3",
   "metadata": {},
   "outputs": [
    {
     "data": {
      "text/plain": [
       "array([23., 45., 67.])"
      ]
     },
     "execution_count": 63,
     "metadata": {},
     "output_type": "execute_result"
    }
   ],
   "source": [
    "np.fromstring('23,45,67',sep=\",\") # wherever comma is present , it will separate them and put them into array"
   ]
  },
  {
   "cell_type": "code",
   "execution_count": 64,
   "id": "f5ba5047",
   "metadata": {},
   "outputs": [
    {
     "data": {
      "text/plain": [
       "array([200,   2,   3,   4,   5,   6])"
      ]
     },
     "execution_count": 64,
     "metadata": {},
     "output_type": "execute_result"
    }
   ],
   "source": [
    "arr1"
   ]
  },
  {
   "cell_type": "code",
   "execution_count": 66,
   "id": "3de7469b",
   "metadata": {},
   "outputs": [
    {
     "data": {
      "text/plain": [
       "1"
      ]
     },
     "execution_count": 66,
     "metadata": {},
     "output_type": "execute_result"
    }
   ],
   "source": [
    "arr1.ndim"
   ]
  },
  {
   "cell_type": "code",
   "execution_count": 68,
   "id": "dde15a48",
   "metadata": {},
   "outputs": [
    {
     "data": {
      "text/plain": [
       "6"
      ]
     },
     "execution_count": 68,
     "metadata": {},
     "output_type": "execute_result"
    }
   ],
   "source": [
    "arr2.size # total no of elements in the array"
   ]
  },
  {
   "cell_type": "code",
   "execution_count": 69,
   "id": "0e7a3596",
   "metadata": {},
   "outputs": [
    {
     "data": {
      "text/plain": [
       "(6,)"
      ]
     },
     "execution_count": 69,
     "metadata": {},
     "output_type": "execute_result"
    }
   ],
   "source": [
    "arr1.shape # 6 rows are present"
   ]
  },
  {
   "cell_type": "code",
   "execution_count": 71,
   "id": "2189b0e7",
   "metadata": {},
   "outputs": [
    {
     "data": {
      "text/plain": [
       "(2, 3)"
      ]
     },
     "execution_count": 71,
     "metadata": {},
     "output_type": "execute_result"
    }
   ],
   "source": [
    "arr2.shape # 2 rows and 3 columns are present"
   ]
  },
  {
   "cell_type": "code",
   "execution_count": 73,
   "id": "3687f90a",
   "metadata": {},
   "outputs": [
    {
     "data": {
      "text/plain": [
       "dtype('int32')"
      ]
     },
     "execution_count": 73,
     "metadata": {},
     "output_type": "execute_result"
    }
   ],
   "source": [
    "arr1.dtype # gives the datatype"
   ]
  },
  {
   "cell_type": "markdown",
   "id": "0678cea7",
   "metadata": {},
   "source": [
    "# lec 80\n",
    "##  numpy part 2  "
   ]
  },
  {
   "cell_type": "code",
   "execution_count": 74,
   "id": "e163e50f",
   "metadata": {},
   "outputs": [
    {
     "data": {
      "text/plain": [
       "range(0, 5)"
      ]
     },
     "execution_count": 74,
     "metadata": {},
     "output_type": "execute_result"
    }
   ],
   "source": [
    "range(5)"
   ]
  },
  {
   "cell_type": "code",
   "execution_count": 79,
   "id": "5b4b8671",
   "metadata": {},
   "outputs": [
    {
     "data": {
      "text/plain": [
       "[0, 1, 2, 3, 4]"
      ]
     },
     "execution_count": 79,
     "metadata": {},
     "output_type": "execute_result"
    }
   ],
   "source": [
    "a=list(range(5))\n",
    "a"
   ]
  },
  {
   "cell_type": "code",
   "execution_count": 78,
   "id": "22e9adb4",
   "metadata": {},
   "outputs": [
    {
     "data": {
      "text/plain": [
       "array([0, 1, 2, 3, 4])"
      ]
     },
     "execution_count": 78,
     "metadata": {},
     "output_type": "execute_result"
    }
   ],
   "source": [
    "np.array(a)"
   ]
  },
  {
   "cell_type": "code",
   "execution_count": 82,
   "id": "2ae61b26",
   "metadata": {},
   "outputs": [
    {
     "ename": "TypeError",
     "evalue": "'float' object cannot be interpreted as an integer",
     "output_type": "error",
     "traceback": [
      "\u001b[1;31m---------------------------------------------------------------------------\u001b[0m",
      "\u001b[1;31mTypeError\u001b[0m                                 Traceback (most recent call last)",
      "\u001b[1;32m~\\AppData\\Local\\Temp\\ipykernel_10140\\1062326267.py\u001b[0m in \u001b[0;36m<module>\u001b[1;34m\u001b[0m\n\u001b[1;32m----> 1\u001b[1;33m \u001b[0mlist\u001b[0m\u001b[1;33m(\u001b[0m\u001b[0mrange\u001b[0m\u001b[1;33m(\u001b[0m\u001b[1;36m0.3\u001b[0m\u001b[1;33m,\u001b[0m\u001b[1;36m10.5\u001b[0m\u001b[1;33m)\u001b[0m\u001b[1;33m)\u001b[0m \u001b[1;31m# range function will takes only integers as input whether it may be starting point or the ending point\u001b[0m\u001b[1;33m\u001b[0m\u001b[1;33m\u001b[0m\u001b[0m\n\u001b[0m",
      "\u001b[1;31mTypeError\u001b[0m: 'float' object cannot be interpreted as an integer"
     ]
    }
   ],
   "source": [
    "list(range(0.3,10.5)) # range function will takes only integers as input whether it may be starting point or the ending point"
   ]
  },
  {
   "cell_type": "code",
   "execution_count": 83,
   "id": "ce83a9a4",
   "metadata": {},
   "outputs": [],
   "source": [
    "# inside the numpy we have arange() which will takes the fractions as inputs"
   ]
  },
  {
   "cell_type": "code",
   "execution_count": 86,
   "id": "d4048a75",
   "metadata": {},
   "outputs": [
    {
     "data": {
      "text/plain": [
       "array([0.4, 1.4, 2.4, 3.4, 4.4, 5.4, 6.4, 7.4, 8.4, 9.4])"
      ]
     },
     "execution_count": 86,
     "metadata": {},
     "output_type": "execute_result"
    }
   ],
   "source": [
    "np.arange(0.4,10.4) # here stepsize is 1 by default\n",
    "#arange is alternative of range function here"
   ]
  },
  {
   "cell_type": "code",
   "execution_count": 87,
   "id": "0bc3f3f5",
   "metadata": {},
   "outputs": [
    {
     "data": {
      "text/plain": [
       "array([0.4, 0.9, 1.4, 1.9, 2.4, 2.9, 3.4, 3.9, 4.4, 4.9, 5.4, 5.9, 6.4,\n",
       "       6.9, 7.4, 7.9, 8.4, 8.9])"
      ]
     },
     "execution_count": 87,
     "metadata": {},
     "output_type": "execute_result"
    }
   ],
   "source": [
    "# we can also give the stepsize whatever we want here.\n",
    "np.arange(0.4,9.4,0.5)"
   ]
  },
  {
   "cell_type": "code",
   "execution_count": 88,
   "id": "7cef9d7b",
   "metadata": {},
   "outputs": [
    {
     "data": {
      "text/plain": [
       "[0.2,\n",
       " 0.6000000000000001,\n",
       " 1.0000000000000002,\n",
       " 1.4000000000000001,\n",
       " 1.8000000000000003,\n",
       " 2.2000000000000006,\n",
       " 2.6000000000000005,\n",
       " 3.000000000000001,\n",
       " 3.400000000000001,\n",
       " 3.8000000000000007,\n",
       " 4.200000000000001,\n",
       " 4.600000000000001,\n",
       " 5.000000000000001,\n",
       " 5.400000000000001]"
      ]
     },
     "execution_count": 88,
     "metadata": {},
     "output_type": "execute_result"
    }
   ],
   "source": [
    "# we can also convert to list above array \n",
    "list(np.arange(0.2,5.6,0.4))"
   ]
  },
  {
   "cell_type": "code",
   "execution_count": 92,
   "id": "99822e9f",
   "metadata": {},
   "outputs": [
    {
     "data": {
      "text/plain": [
       "array([ 1.        ,  1.64285714,  2.28571429,  2.92857143,  3.57142857,\n",
       "        4.21428571,  4.85714286,  5.5       ,  6.14285714,  6.78571429,\n",
       "        7.42857143,  8.07142857,  8.71428571,  9.35714286, 10.        ])"
      ]
     },
     "execution_count": 92,
     "metadata": {},
     "output_type": "execute_result"
    }
   ],
   "source": [
    "np.linspace(1,10,15) # divides the range in the equal 15 intervals"
   ]
  },
  {
   "cell_type": "code",
   "execution_count": 95,
   "id": "61575812",
   "metadata": {},
   "outputs": [
    {
     "data": {
      "text/plain": [
       "array([1.00000000e+01, 1.68761248e+01, 2.84803587e+01, 4.80638086e+01,\n",
       "       8.11130831e+01, 1.36887451e+02, 2.31012970e+02, 3.89860370e+02,\n",
       "       6.57933225e+02, 1.11033632e+03, 1.87381742e+03, 3.16227766e+03,\n",
       "       5.33669923e+03, 9.00628020e+03, 1.51991108e+04, 2.56502091e+04,\n",
       "       4.32876128e+04, 7.30527154e+04, 1.23284674e+05, 2.08056754e+05,\n",
       "       3.51119173e+05, 5.92553098e+05, 1.00000000e+06])"
      ]
     },
     "execution_count": 95,
     "metadata": {},
     "output_type": "execute_result"
    }
   ],
   "source": [
    "np.logspace(1,6,23) # divides the range in he logarithmic format in equal intervals"
   ]
  },
  {
   "cell_type": "code",
   "execution_count": 96,
   "id": "e155e3cc",
   "metadata": {},
   "outputs": [
    {
     "data": {
      "text/plain": [
       "array([ 2.        ,  2.34123983,  2.74070197,  3.20832031,  3.75572364,\n",
       "        4.39652489,  5.14665959,  6.02478221,  7.05273004,  8.25606624,\n",
       "        9.66471556, 11.3137085 , 13.24405248, 15.50375158, 18.14900036,\n",
       "       21.24558125, 24.87050051, 29.11390318, 34.08131486, 39.8962659 ,\n",
       "       46.70336338, 54.67188726, 64.        ])"
      ]
     },
     "execution_count": 96,
     "metadata": {},
     "output_type": "execute_result"
    }
   ],
   "source": [
    "# by default the base is 10\n",
    "# we can also give the required base here.\n",
    "np.logspace(1,6,23,base=2)\n"
   ]
  },
  {
   "cell_type": "code",
   "execution_count": 97,
   "id": "4c6956e7",
   "metadata": {},
   "outputs": [
    {
     "name": "stdout",
     "output_type": "stream",
     "text": [
      "[0. 0. 0. 0. 0.]\n"
     ]
    }
   ],
   "source": [
    "print(np.zeros(5))"
   ]
  },
  {
   "cell_type": "code",
   "execution_count": 100,
   "id": "3b81b426",
   "metadata": {},
   "outputs": [
    {
     "name": "stdout",
     "output_type": "stream",
     "text": [
      "[[0. 0. 0. 0.]\n",
      " [0. 0. 0. 0.]\n",
      " [0. 0. 0. 0.]\n",
      " [0. 0. 0. 0.]\n",
      " [0. 0. 0. 0.]]\n"
     ]
    }
   ],
   "source": [
    "print(np.zeros((5,4)))"
   ]
  },
  {
   "cell_type": "code",
   "execution_count": 103,
   "id": "f4d39f0b",
   "metadata": {},
   "outputs": [
    {
     "data": {
      "text/plain": [
       "array([[[0., 0.],\n",
       "        [0., 0.],\n",
       "        [0., 0.],\n",
       "        [0., 0.]],\n",
       "\n",
       "       [[0., 0.],\n",
       "        [0., 0.],\n",
       "        [0., 0.],\n",
       "        [0., 0.]],\n",
       "\n",
       "       [[0., 0.],\n",
       "        [0., 0.],\n",
       "        [0., 0.],\n",
       "        [0., 0.]]])"
      ]
     },
     "execution_count": 103,
     "metadata": {},
     "output_type": "execute_result"
    }
   ],
   "source": [
    "np.zeros((3,4,2)) # 3 matrices with 4*2 size"
   ]
  },
  {
   "cell_type": "code",
   "execution_count": 104,
   "id": "a2f6621a",
   "metadata": {},
   "outputs": [
    {
     "data": {
      "text/plain": [
       "array([[[[0., 0.],\n",
       "         [0., 0.],\n",
       "         [0., 0.],\n",
       "         [0., 0.]],\n",
       "\n",
       "        [[0., 0.],\n",
       "         [0., 0.],\n",
       "         [0., 0.],\n",
       "         [0., 0.]],\n",
       "\n",
       "        [[0., 0.],\n",
       "         [0., 0.],\n",
       "         [0., 0.],\n",
       "         [0., 0.]]],\n",
       "\n",
       "\n",
       "       [[[0., 0.],\n",
       "         [0., 0.],\n",
       "         [0., 0.],\n",
       "         [0., 0.]],\n",
       "\n",
       "        [[0., 0.],\n",
       "         [0., 0.],\n",
       "         [0., 0.],\n",
       "         [0., 0.]],\n",
       "\n",
       "        [[0., 0.],\n",
       "         [0., 0.],\n",
       "         [0., 0.],\n",
       "         [0., 0.]]],\n",
       "\n",
       "\n",
       "       [[[0., 0.],\n",
       "         [0., 0.],\n",
       "         [0., 0.],\n",
       "         [0., 0.]],\n",
       "\n",
       "        [[0., 0.],\n",
       "         [0., 0.],\n",
       "         [0., 0.],\n",
       "         [0., 0.]],\n",
       "\n",
       "        [[0., 0.],\n",
       "         [0., 0.],\n",
       "         [0., 0.],\n",
       "         [0., 0.]]]])"
      ]
     },
     "execution_count": 104,
     "metadata": {},
     "output_type": "execute_result"
    }
   ],
   "source": [
    "np.zeros((3,3,4,2)) "
   ]
  },
  {
   "cell_type": "code",
   "execution_count": 105,
   "id": "79ad95a3",
   "metadata": {},
   "outputs": [
    {
     "name": "stdout",
     "output_type": "stream",
     "text": [
      "[1. 1. 1. 1.]\n"
     ]
    }
   ],
   "source": [
    "print(np.ones(4))"
   ]
  },
  {
   "cell_type": "code",
   "execution_count": 108,
   "id": "6e0eb30f",
   "metadata": {},
   "outputs": [
    {
     "name": "stdout",
     "output_type": "stream",
     "text": [
      "[[1. 1. 1. 1. 1.]\n",
      " [1. 1. 1. 1. 1.]\n",
      " [1. 1. 1. 1. 1.]\n",
      " [1. 1. 1. 1. 1.]]\n"
     ]
    }
   ],
   "source": [
    "print(np.ones((4,5)))"
   ]
  },
  {
   "cell_type": "code",
   "execution_count": 109,
   "id": "a899bd06",
   "metadata": {},
   "outputs": [],
   "source": [
    "a=np.ones((4,5))"
   ]
  },
  {
   "cell_type": "code",
   "execution_count": 111,
   "id": "6b326618",
   "metadata": {},
   "outputs": [
    {
     "data": {
      "text/plain": [
       "array([[6., 6., 6., 6., 6.],\n",
       "       [6., 6., 6., 6., 6.],\n",
       "       [6., 6., 6., 6., 6.],\n",
       "       [6., 6., 6., 6., 6.]])"
      ]
     },
     "execution_count": 111,
     "metadata": {},
     "output_type": "execute_result"
    }
   ],
   "source": [
    "a+5 # adds 5 to each and every element"
   ]
  },
  {
   "cell_type": "code",
   "execution_count": 112,
   "id": "54ab5865",
   "metadata": {},
   "outputs": [
    {
     "data": {
      "text/plain": [
       "array([[4., 4., 4., 4., 4.],\n",
       "       [4., 4., 4., 4., 4.],\n",
       "       [4., 4., 4., 4., 4.],\n",
       "       [4., 4., 4., 4., 4.]])"
      ]
     },
     "execution_count": 112,
     "metadata": {},
     "output_type": "execute_result"
    }
   ],
   "source": [
    "a*4"
   ]
  },
  {
   "cell_type": "code",
   "execution_count": 114,
   "id": "0e324ea7",
   "metadata": {},
   "outputs": [
    {
     "name": "stdout",
     "output_type": "stream",
     "text": [
      "[[1.38311361e-311 2.86558075e-322 0.00000000e+000]\n",
      " [0.00000000e+000 1.06099790e-312 1.33664410e+160]\n",
      " [4.47207664e-090 9.50811928e-043 3.61256368e+174]\n",
      " [2.90203561e-057 6.48224659e+170 5.82471487e+257]]\n"
     ]
    }
   ],
   "source": [
    "print(np.empty((4,3)))"
   ]
  },
  {
   "cell_type": "code",
   "execution_count": 120,
   "id": "a7ddfa23",
   "metadata": {},
   "outputs": [],
   "source": [
    "arr1=np.eye(3) # identity matrix"
   ]
  },
  {
   "cell_type": "code",
   "execution_count": 123,
   "id": "82d2cd24",
   "metadata": {},
   "outputs": [
    {
     "data": {
      "text/plain": [
       "array([[1., 0., 0.],\n",
       "       [0., 1., 0.],\n",
       "       [0., 0., 1.]])"
      ]
     },
     "execution_count": 123,
     "metadata": {},
     "output_type": "execute_result"
    }
   ],
   "source": [
    "arr1\n"
   ]
  },
  {
   "cell_type": "code",
   "execution_count": 122,
   "id": "a55c5b7e",
   "metadata": {},
   "outputs": [
    {
     "data": {
      "text/html": [
       "<div>\n",
       "<style scoped>\n",
       "    .dataframe tbody tr th:only-of-type {\n",
       "        vertical-align: middle;\n",
       "    }\n",
       "\n",
       "    .dataframe tbody tr th {\n",
       "        vertical-align: top;\n",
       "    }\n",
       "\n",
       "    .dataframe thead th {\n",
       "        text-align: right;\n",
       "    }\n",
       "</style>\n",
       "<table border=\"1\" class=\"dataframe\">\n",
       "  <thead>\n",
       "    <tr style=\"text-align: right;\">\n",
       "      <th></th>\n",
       "      <th>0</th>\n",
       "      <th>1</th>\n",
       "      <th>2</th>\n",
       "    </tr>\n",
       "  </thead>\n",
       "  <tbody>\n",
       "    <tr>\n",
       "      <th>0</th>\n",
       "      <td>1.0</td>\n",
       "      <td>0.0</td>\n",
       "      <td>0.0</td>\n",
       "    </tr>\n",
       "    <tr>\n",
       "      <th>1</th>\n",
       "      <td>0.0</td>\n",
       "      <td>1.0</td>\n",
       "      <td>0.0</td>\n",
       "    </tr>\n",
       "    <tr>\n",
       "      <th>2</th>\n",
       "      <td>0.0</td>\n",
       "      <td>0.0</td>\n",
       "      <td>1.0</td>\n",
       "    </tr>\n",
       "  </tbody>\n",
       "</table>\n",
       "</div>"
      ],
      "text/plain": [
       "     0    1    2\n",
       "0  1.0  0.0  0.0\n",
       "1  0.0  1.0  0.0\n",
       "2  0.0  0.0  1.0"
      ]
     },
     "execution_count": 122,
     "metadata": {},
     "output_type": "execute_result"
    }
   ],
   "source": [
    "# represent the data in th dataframe format\n",
    "import pandas as pd\n",
    "pd.DataFrame(arr1)"
   ]
  },
  {
   "cell_type": "code",
   "execution_count": 125,
   "id": "b30fb4eb",
   "metadata": {},
   "outputs": [
    {
     "data": {
      "text/plain": [
       "array([[0.46261498, 0.37846821, 0.44938694, 0.17172153],\n",
       "       [0.11339801, 0.34109911, 0.02155263, 0.99269481]])"
      ]
     },
     "execution_count": 125,
     "metadata": {},
     "output_type": "execute_result"
    }
   ],
   "source": [
    "np.random.rand(2,4)"
   ]
  },
  {
   "cell_type": "code",
   "execution_count": 127,
   "id": "d1edd172",
   "metadata": {},
   "outputs": [
    {
     "data": {
      "text/plain": [
       "array([[ 1.27971999,  0.11841253,  0.74102318, -1.59672749],\n",
       "       [ 0.3641919 ,  0.26278567,  0.63197858,  0.30396168],\n",
       "       [-0.02280083,  0.07061526, -0.68517253,  1.96601806]])"
      ]
     },
     "execution_count": 127,
     "metadata": {},
     "output_type": "execute_result"
    }
   ],
   "source": [
    "np.random.randn(3,4) # use randn when u want normally distributed data "
   ]
  },
  {
   "cell_type": "code",
   "execution_count": 129,
   "id": "7a044cb3",
   "metadata": {},
   "outputs": [],
   "source": [
    "arr1=np.random.randint(1,6,(3,3))"
   ]
  },
  {
   "cell_type": "code",
   "execution_count": 130,
   "id": "8aa780b3",
   "metadata": {},
   "outputs": [
    {
     "name": "stdout",
     "output_type": "stream",
     "text": [
      "[[4 4 4]\n",
      " [4 5 1]\n",
      " [2 2 5]]\n"
     ]
    }
   ],
   "source": [
    "print(arr1)"
   ]
  },
  {
   "cell_type": "code",
   "execution_count": 131,
   "id": "ac57fde4",
   "metadata": {},
   "outputs": [
    {
     "name": "stdout",
     "output_type": "stream",
     "text": [
      "9\n"
     ]
    }
   ],
   "source": [
    "print(arr1.size)"
   ]
  },
  {
   "cell_type": "code",
   "execution_count": 132,
   "id": "d753c7d2",
   "metadata": {},
   "outputs": [
    {
     "name": "stdout",
     "output_type": "stream",
     "text": [
      "(3, 3)\n"
     ]
    }
   ],
   "source": [
    "print(arr1.shape) "
   ]
  },
  {
   "cell_type": "code",
   "execution_count": 134,
   "id": "df0c3476",
   "metadata": {},
   "outputs": [
    {
     "data": {
      "text/plain": [
       "array([[4, 4, 4, 4, 5, 1, 2, 2, 5]])"
      ]
     },
     "execution_count": 134,
     "metadata": {},
     "output_type": "execute_result"
    }
   ],
   "source": [
    "# whenever we perform reshape, it must be of same size which means 9 elements only should present in it\n",
    "arr1.reshape(1,9)"
   ]
  },
  {
   "cell_type": "code",
   "execution_count": 136,
   "id": "93f887e3",
   "metadata": {},
   "outputs": [
    {
     "ename": "ValueError",
     "evalue": "cannot reshape array of size 9 into shape (3,9)",
     "output_type": "error",
     "traceback": [
      "\u001b[1;31m---------------------------------------------------------------------------\u001b[0m",
      "\u001b[1;31mValueError\u001b[0m                                Traceback (most recent call last)",
      "\u001b[1;32m~\\AppData\\Local\\Temp\\ipykernel_10140\\3983559531.py\u001b[0m in \u001b[0;36m<module>\u001b[1;34m\u001b[0m\n\u001b[1;32m----> 1\u001b[1;33m \u001b[0marr1\u001b[0m\u001b[1;33m.\u001b[0m\u001b[0mreshape\u001b[0m\u001b[1;33m(\u001b[0m\u001b[1;36m3\u001b[0m\u001b[1;33m,\u001b[0m\u001b[1;36m9\u001b[0m\u001b[1;33m)\u001b[0m\u001b[1;33m\u001b[0m\u001b[1;33m\u001b[0m\u001b[0m\n\u001b[0m\u001b[0;32m      2\u001b[0m \u001b[1;31m# we get error since reshape given is not exact size of arr1\u001b[0m\u001b[1;33m\u001b[0m\u001b[1;33m\u001b[0m\u001b[0m\n",
      "\u001b[1;31mValueError\u001b[0m: cannot reshape array of size 9 into shape (3,9)"
     ]
    }
   ],
   "source": [
    "arr1.reshape(3,9)\n",
    "# we get error since reshape given is not exact size of arr1"
   ]
  },
  {
   "cell_type": "code",
   "execution_count": 137,
   "id": "32a09bb7",
   "metadata": {},
   "outputs": [
    {
     "data": {
      "text/plain": [
       "array([[[4],\n",
       "        [4],\n",
       "        [4],\n",
       "        [4],\n",
       "        [5],\n",
       "        [1],\n",
       "        [2],\n",
       "        [2],\n",
       "        [5]]])"
      ]
     },
     "execution_count": 137,
     "metadata": {},
     "output_type": "execute_result"
    }
   ],
   "source": [
    "arr1.reshape(1,9,1)"
   ]
  },
  {
   "cell_type": "code",
   "execution_count": 138,
   "id": "9d014704",
   "metadata": {},
   "outputs": [],
   "source": [
    "ar2=np.random.randint(1,20,(4,5))"
   ]
  },
  {
   "cell_type": "code",
   "execution_count": 139,
   "id": "e9f0d487",
   "metadata": {},
   "outputs": [
    {
     "data": {
      "text/plain": [
       "array([[ 6, 14, 17, 12,  6],\n",
       "       [10,  5,  7, 16, 11],\n",
       "       [ 2,  6, 10,  5,  8],\n",
       "       [ 2, 13, 11, 16, 14]])"
      ]
     },
     "execution_count": 139,
     "metadata": {},
     "output_type": "execute_result"
    }
   ],
   "source": [
    "ar2"
   ]
  },
  {
   "cell_type": "code",
   "execution_count": 140,
   "id": "59cda25d",
   "metadata": {},
   "outputs": [
    {
     "data": {
      "text/plain": [
       "array([[ True,  True,  True,  True,  True],\n",
       "       [ True, False,  True,  True,  True],\n",
       "       [False,  True,  True, False,  True],\n",
       "       [False,  True,  True,  True,  True]])"
      ]
     },
     "execution_count": 140,
     "metadata": {},
     "output_type": "execute_result"
    }
   ],
   "source": [
    "ar2>5"
   ]
  },
  {
   "cell_type": "code",
   "execution_count": 145,
   "id": "4e59099d",
   "metadata": {},
   "outputs": [
    {
     "data": {
      "text/plain": [
       "array([ 6, 14, 17, 12,  6, 10,  7, 16, 11,  6, 10,  8, 13, 11, 16, 14])"
      ]
     },
     "execution_count": 145,
     "metadata": {},
     "output_type": "execute_result"
    }
   ],
   "source": [
    "ar2[ar2>5]"
   ]
  },
  {
   "cell_type": "code",
   "execution_count": 146,
   "id": "39c9502c",
   "metadata": {},
   "outputs": [
    {
     "data": {
      "text/plain": [
       "array([[ 6, 14, 17, 12,  6],\n",
       "       [10,  5,  7, 16, 11],\n",
       "       [ 2,  6, 10,  5,  8],\n",
       "       [ 2, 13, 11, 16, 14]])"
      ]
     },
     "execution_count": 146,
     "metadata": {},
     "output_type": "execute_result"
    }
   ],
   "source": [
    "ar2"
   ]
  },
  {
   "cell_type": "code",
   "execution_count": 151,
   "id": "1fa7c4e7",
   "metadata": {},
   "outputs": [
    {
     "data": {
      "text/plain": [
       "array([ 6, 14, 17, 12,  6])"
      ]
     },
     "execution_count": 151,
     "metadata": {},
     "output_type": "execute_result"
    }
   ],
   "source": [
    "# extracting the data \n",
    "ar2[0]"
   ]
  },
  {
   "cell_type": "code",
   "execution_count": 152,
   "id": "4df00c0b",
   "metadata": {},
   "outputs": [
    {
     "data": {
      "text/plain": [
       "array([ 6, 14])"
      ]
     },
     "execution_count": 152,
     "metadata": {},
     "output_type": "execute_result"
    }
   ],
   "source": [
    "ar2[0,[0,1]]"
   ]
  },
  {
   "cell_type": "code",
   "execution_count": 153,
   "id": "b2551146",
   "metadata": {},
   "outputs": [
    {
     "data": {
      "text/plain": [
       "array([17,  7])"
      ]
     },
     "execution_count": 153,
     "metadata": {},
     "output_type": "execute_result"
    }
   ],
   "source": [
    "ar2[[0,1],2]"
   ]
  },
  {
   "cell_type": "code",
   "execution_count": 154,
   "id": "47918bad",
   "metadata": {},
   "outputs": [
    {
     "data": {
      "text/plain": [
       "array([[10,  5],\n",
       "       [11, 16]])"
      ]
     },
     "execution_count": 154,
     "metadata": {},
     "output_type": "execute_result"
    }
   ],
   "source": [
    "ar2[2:4,[2,3]]"
   ]
  },
  {
   "cell_type": "code",
   "execution_count": 155,
   "id": "6c3cdc96",
   "metadata": {},
   "outputs": [],
   "source": [
    "a1=np.random.randint(2,7,(4,4))"
   ]
  },
  {
   "cell_type": "code",
   "execution_count": 156,
   "id": "9c80e4ee",
   "metadata": {},
   "outputs": [],
   "source": [
    "a2=np.random.randint(1,8,(4,4))"
   ]
  },
  {
   "cell_type": "code",
   "execution_count": 157,
   "id": "5cd14925",
   "metadata": {},
   "outputs": [
    {
     "data": {
      "text/plain": [
       "array([[4, 3, 4, 2],\n",
       "       [5, 4, 3, 4],\n",
       "       [4, 2, 6, 4],\n",
       "       [5, 4, 4, 2]])"
      ]
     },
     "execution_count": 157,
     "metadata": {},
     "output_type": "execute_result"
    }
   ],
   "source": [
    "a1"
   ]
  },
  {
   "cell_type": "code",
   "execution_count": 158,
   "id": "bbbd5e08",
   "metadata": {},
   "outputs": [
    {
     "data": {
      "text/plain": [
       "array([[4, 3, 4, 7],\n",
       "       [5, 4, 3, 2],\n",
       "       [1, 4, 2, 6],\n",
       "       [7, 7, 2, 4]])"
      ]
     },
     "execution_count": 158,
     "metadata": {},
     "output_type": "execute_result"
    }
   ],
   "source": [
    "a2"
   ]
  },
  {
   "cell_type": "code",
   "execution_count": 160,
   "id": "6e4ade7b",
   "metadata": {},
   "outputs": [],
   "source": [
    "c=a1+a2"
   ]
  },
  {
   "cell_type": "code",
   "execution_count": 161,
   "id": "96360eb1",
   "metadata": {},
   "outputs": [
    {
     "name": "stdout",
     "output_type": "stream",
     "text": [
      "[[ 8  6  8  9]\n",
      " [10  8  6  6]\n",
      " [ 5  6  8 10]\n",
      " [12 11  6  6]]\n"
     ]
    }
   ],
   "source": [
    "print(c)"
   ]
  },
  {
   "cell_type": "code",
   "execution_count": 162,
   "id": "d2871a79",
   "metadata": {},
   "outputs": [
    {
     "name": "stdout",
     "output_type": "stream",
     "text": [
      "[[ 0  0  0 -5]\n",
      " [ 0  0  0  2]\n",
      " [ 3 -2  4 -2]\n",
      " [-2 -3  2 -2]]\n"
     ]
    }
   ],
   "source": [
    "print(a1-a2)"
   ]
  },
  {
   "cell_type": "code",
   "execution_count": 164,
   "id": "3c213689",
   "metadata": {},
   "outputs": [
    {
     "name": "stdout",
     "output_type": "stream",
     "text": [
      "[[16  9 16 14]\n",
      " [25 16  9  8]\n",
      " [ 4  8 12 24]\n",
      " [35 28  8  8]]\n"
     ]
    }
   ],
   "source": [
    "print(a1*a2) # here it gives index wise multiplication not the matrix multiplication"
   ]
  },
  {
   "cell_type": "code",
   "execution_count": 167,
   "id": "d66aa3b2",
   "metadata": {},
   "outputs": [
    {
     "data": {
      "text/plain": [
       "array([[49, 54, 37, 66],\n",
       "       [71, 71, 46, 77],\n",
       "       [60, 72, 42, 84],\n",
       "       [58, 61, 44, 75]])"
      ]
     },
     "execution_count": 167,
     "metadata": {},
     "output_type": "execute_result"
    }
   ],
   "source": [
    "a1@a2 # use @ for matrix multiplication"
   ]
  },
  {
   "cell_type": "code",
   "execution_count": 168,
   "id": "3f1365ab",
   "metadata": {},
   "outputs": [
    {
     "data": {
      "text/plain": [
       "array([[1.        , 1.        , 1.        , 0.28571429],\n",
       "       [1.        , 1.        , 1.        , 2.        ],\n",
       "       [4.        , 0.5       , 3.        , 0.66666667],\n",
       "       [0.71428571, 0.57142857, 2.        , 0.5       ]])"
      ]
     },
     "execution_count": 168,
     "metadata": {},
     "output_type": "execute_result"
    }
   ],
   "source": [
    "a1/a2"
   ]
  },
  {
   "cell_type": "code",
   "execution_count": 170,
   "id": "a86891a2",
   "metadata": {},
   "outputs": [
    {
     "name": "stderr",
     "output_type": "stream",
     "text": [
      "C:\\Users\\Phanindra Reddy\\AppData\\Local\\Temp\\ipykernel_10140\\1168174942.py:1: RuntimeWarning: divide by zero encountered in true_divide\n",
      "  a1/0 # in numpy if we divide by zero,we get infinity\n"
     ]
    },
    {
     "data": {
      "text/plain": [
       "array([[inf, inf, inf, inf],\n",
       "       [inf, inf, inf, inf],\n",
       "       [inf, inf, inf, inf],\n",
       "       [inf, inf, inf, inf]])"
      ]
     },
     "execution_count": 170,
     "metadata": {},
     "output_type": "execute_result"
    }
   ],
   "source": [
    "a1/0 # in numpy if we divide by zero,we get infinity"
   ]
  },
  {
   "cell_type": "markdown",
   "id": "63ed03e1",
   "metadata": {},
   "source": [
    "# Numpy-Broadcasting"
   ]
  },
  {
   "cell_type": "code",
   "execution_count": 183,
   "id": "369db13e",
   "metadata": {},
   "outputs": [],
   "source": [
    "# simply broadcasting a element to all the elements in the matrix\n",
    "arr=np.zeros((3,4))\n"
   ]
  },
  {
   "cell_type": "code",
   "execution_count": 208,
   "id": "94b8aada",
   "metadata": {},
   "outputs": [
    {
     "data": {
      "text/plain": [
       "array([[0., 0., 0., 0.],\n",
       "       [0., 0., 0., 0.],\n",
       "       [0., 0., 0., 0.]])"
      ]
     },
     "execution_count": 208,
     "metadata": {},
     "output_type": "execute_result"
    }
   ],
   "source": [
    "arr"
   ]
  },
  {
   "cell_type": "code",
   "execution_count": 209,
   "id": "bd2d1cb0",
   "metadata": {},
   "outputs": [
    {
     "data": {
      "text/plain": [
       "array([[5., 5., 5., 5.],\n",
       "       [5., 5., 5., 5.],\n",
       "       [5., 5., 5., 5.]])"
      ]
     },
     "execution_count": 209,
     "metadata": {},
     "output_type": "execute_result"
    }
   ],
   "source": [
    "arr+5 # broadcasting 5 to all elements"
   ]
  },
  {
   "cell_type": "code",
   "execution_count": 210,
   "id": "6215256c",
   "metadata": {},
   "outputs": [
    {
     "data": {
      "text/plain": [
       "array([[0., 0., 0., 0.],\n",
       "       [0., 0., 0., 0.],\n",
       "       [0., 0., 0., 0.]])"
      ]
     },
     "execution_count": 210,
     "metadata": {},
     "output_type": "execute_result"
    }
   ],
   "source": [
    "arr*5"
   ]
  },
  {
   "cell_type": "code",
   "execution_count": 211,
   "id": "e3de5a77",
   "metadata": {},
   "outputs": [],
   "source": [
    "a=np.array([1,2,3,4])"
   ]
  },
  {
   "cell_type": "code",
   "execution_count": 212,
   "id": "f0bc5b9b",
   "metadata": {},
   "outputs": [
    {
     "data": {
      "text/plain": [
       "array([[1., 2., 3., 4.],\n",
       "       [1., 2., 3., 4.],\n",
       "       [1., 2., 3., 4.]])"
      ]
     },
     "execution_count": 212,
     "metadata": {},
     "output_type": "execute_result"
    }
   ],
   "source": [
    "arr+a"
   ]
  },
  {
   "cell_type": "code",
   "execution_count": 219,
   "id": "51a8c6c0",
   "metadata": {},
   "outputs": [],
   "source": [
    "b=np.array([3,4,5])"
   ]
  },
  {
   "cell_type": "code",
   "execution_count": 222,
   "id": "22e188e9",
   "metadata": {},
   "outputs": [
    {
     "data": {
      "text/plain": [
       "array([3, 4, 5])"
      ]
     },
     "execution_count": 222,
     "metadata": {},
     "output_type": "execute_result"
    }
   ],
   "source": [
    "b"
   ]
  },
  {
   "cell_type": "code",
   "execution_count": 221,
   "id": "8b9c3ac9",
   "metadata": {},
   "outputs": [],
   "source": [
    "# we need to rotate the array first to perform column wise addition"
   ]
  },
  {
   "cell_type": "code",
   "execution_count": 217,
   "id": "2368fd89",
   "metadata": {},
   "outputs": [
    {
     "data": {
      "text/plain": [
       "array([[0., 0., 0., 0.],\n",
       "       [0., 0., 0., 0.],\n",
       "       [0., 0., 0., 0.]])"
      ]
     },
     "execution_count": 217,
     "metadata": {},
     "output_type": "execute_result"
    }
   ],
   "source": [
    "arr"
   ]
  },
  {
   "cell_type": "code",
   "execution_count": 223,
   "id": "53dc040c",
   "metadata": {},
   "outputs": [
    {
     "data": {
      "text/plain": [
       "array([3, 4, 5])"
      ]
     },
     "execution_count": 223,
     "metadata": {},
     "output_type": "execute_result"
    }
   ],
   "source": [
    "b.T"
   ]
  },
  {
   "cell_type": "code",
   "execution_count": 224,
   "id": "b8241fd4",
   "metadata": {},
   "outputs": [
    {
     "data": {
      "text/plain": [
       "array([3, 4, 5])"
      ]
     },
     "execution_count": 224,
     "metadata": {},
     "output_type": "execute_result"
    }
   ],
   "source": [
    "b.T"
   ]
  },
  {
   "cell_type": "code",
   "execution_count": 225,
   "id": "d9d98e31",
   "metadata": {},
   "outputs": [
    {
     "data": {
      "text/plain": [
       "array([[2.        , 2.        , 2.        ],\n",
       "       [2.        , 2.23606798, 1.        ],\n",
       "       [1.41421356, 1.41421356, 2.23606798]])"
      ]
     },
     "execution_count": 225,
     "metadata": {},
     "output_type": "execute_result"
    }
   ],
   "source": [
    "np.sqrt(arr1)"
   ]
  },
  {
   "cell_type": "code",
   "execution_count": 226,
   "id": "e3e4c767",
   "metadata": {},
   "outputs": [
    {
     "data": {
      "text/plain": [
       "array([[0.60205999, 0.60205999, 0.60205999],\n",
       "       [0.60205999, 0.69897   , 0.        ],\n",
       "       [0.30103   , 0.30103   , 0.69897   ]])"
      ]
     },
     "execution_count": 226,
     "metadata": {},
     "output_type": "execute_result"
    }
   ],
   "source": [
    "np.log10(arr1)"
   ]
  },
  {
   "cell_type": "code",
   "execution_count": 227,
   "id": "b4a14758",
   "metadata": {},
   "outputs": [
    {
     "data": {
      "text/plain": [
       "array([[ 54.59815003,  54.59815003,  54.59815003],\n",
       "       [ 54.59815003, 148.4131591 ,   2.71828183],\n",
       "       [  7.3890561 ,   7.3890561 , 148.4131591 ]])"
      ]
     },
     "execution_count": 227,
     "metadata": {},
     "output_type": "execute_result"
    }
   ],
   "source": [
    "np.exp(arr1)"
   ]
  },
  {
   "cell_type": "code",
   "execution_count": 228,
   "id": "78305e14",
   "metadata": {},
   "outputs": [
    {
     "data": {
      "text/plain": [
       "1"
      ]
     },
     "execution_count": 228,
     "metadata": {},
     "output_type": "execute_result"
    }
   ],
   "source": [
    "np.min(arr1)"
   ]
  },
  {
   "cell_type": "code",
   "execution_count": 229,
   "id": "00ea980c",
   "metadata": {},
   "outputs": [
    {
     "data": {
      "text/plain": [
       "5"
      ]
     },
     "execution_count": 229,
     "metadata": {},
     "output_type": "execute_result"
    }
   ],
   "source": [
    "np.max(arr1)"
   ]
  },
  {
   "cell_type": "code",
   "execution_count": null,
   "id": "6600b068",
   "metadata": {},
   "outputs": [],
   "source": []
  }
 ],
 "metadata": {
  "kernelspec": {
   "display_name": "Python 3 (ipykernel)",
   "language": "python",
   "name": "python3"
  },
  "language_info": {
   "codemirror_mode": {
    "name": "ipython",
    "version": 3
   },
   "file_extension": ".py",
   "mimetype": "text/x-python",
   "name": "python",
   "nbconvert_exporter": "python",
   "pygments_lexer": "ipython3",
   "version": "3.9.13"
  }
 },
 "nbformat": 4,
 "nbformat_minor": 5
}
