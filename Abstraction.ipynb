{
 "cells": [
  {
   "cell_type": "markdown",
   "id": "d3e3c32a",
   "metadata": {},
   "source": [
    "## Telusko -->Naveen Reddy\n",
    "# Abstraction\n",
    "1. It is the process of hiding the internal details of an application from the outer world.\n",
    "2. Python by default doesn't support abstract classes. We need to import the package called ABC module Abstract Base Classes \n",
    "3. The method which has only declaration but not definition, we call them as Abstract method.\n",
    "4. The class which contains atleast one abstract method , it is called as Abstract class.\n",
    "5. We cannot create object for an abstract class.\n",
    "6. For all the abstract methods we created we must define the methods in their sub classes which makes it compulsion to define those methods"
   ]
  },
  {
   "cell_type": "code",
   "execution_count": 1,
   "id": "a8322494",
   "metadata": {},
   "outputs": [],
   "source": [
    "class Computer:\n",
    "    def process(self): # for this method right now we don't know what to define in it. we just know this class some method in it.\n",
    "        pass # we don't want to mention anything inside the function. only we declare this method.\n",
    "    \n",
    "com=Computer()\n"
   ]
  },
  {
   "cell_type": "code",
   "execution_count": 2,
   "id": "7b59150c",
   "metadata": {},
   "outputs": [],
   "source": [
    "com.process() # there is no error here . we are able to declare the object"
   ]
  },
  {
   "cell_type": "code",
   "execution_count": 3,
   "id": "0fc7ccd1",
   "metadata": {},
   "outputs": [],
   "source": [
    "# till now the above class is not an abstract class.\n",
    "# import abc module and declare the abstract method.\n"
   ]
  },
  {
   "cell_type": "code",
   "execution_count": 4,
   "id": "fc691124",
   "metadata": {},
   "outputs": [
    {
     "ename": "TypeError",
     "evalue": "Can't instantiate abstract class Computer with abstract method process",
     "output_type": "error",
     "traceback": [
      "\u001b[1;31m---------------------------------------------------------------------------\u001b[0m",
      "\u001b[1;31mTypeError\u001b[0m                                 Traceback (most recent call last)",
      "\u001b[1;32m~\\AppData\\Local\\Temp\\ipykernel_23336\\1174761957.py\u001b[0m in \u001b[0;36m<module>\u001b[1;34m\u001b[0m\n\u001b[0;32m      4\u001b[0m     \u001b[1;32mdef\u001b[0m \u001b[0mprocess\u001b[0m\u001b[1;33m(\u001b[0m\u001b[0mself\u001b[0m\u001b[1;33m)\u001b[0m\u001b[1;33m:\u001b[0m\u001b[1;33m\u001b[0m\u001b[1;33m\u001b[0m\u001b[0m\n\u001b[0;32m      5\u001b[0m         \u001b[1;32mpass\u001b[0m\u001b[1;33m\u001b[0m\u001b[1;33m\u001b[0m\u001b[0m\n\u001b[1;32m----> 6\u001b[1;33m \u001b[0mcom\u001b[0m\u001b[1;33m=\u001b[0m\u001b[0mComputer\u001b[0m\u001b[1;33m(\u001b[0m\u001b[1;33m)\u001b[0m\u001b[1;33m\u001b[0m\u001b[1;33m\u001b[0m\u001b[0m\n\u001b[0m\u001b[0;32m      7\u001b[0m \u001b[0mcom\u001b[0m\u001b[1;33m.\u001b[0m\u001b[0mprocess\u001b[0m\u001b[1;33m(\u001b[0m\u001b[1;33m)\u001b[0m\u001b[1;33m\u001b[0m\u001b[1;33m\u001b[0m\u001b[0m\n",
      "\u001b[1;31mTypeError\u001b[0m: Can't instantiate abstract class Computer with abstract method process"
     ]
    }
   ],
   "source": [
    "from abc import ABC,abstractmethod\n",
    "class Computer(ABC): # now this is abstract class\n",
    "    @abstractmethod\n",
    "    def process(self):\n",
    "        pass\n",
    "com=Computer()\n",
    "com.process()"
   ]
  },
  {
   "cell_type": "code",
   "execution_count": 5,
   "id": "019dde8b",
   "metadata": {},
   "outputs": [],
   "source": [
    "# it will throw as we have a method which is not defined and it is abstract method."
   ]
  },
  {
   "cell_type": "code",
   "execution_count": 6,
   "id": "16b3d243",
   "metadata": {},
   "outputs": [],
   "source": [
    "# so we can create a new class which is sub class of computer "
   ]
  },
  {
   "cell_type": "code",
   "execution_count": 7,
   "id": "11316d09",
   "metadata": {},
   "outputs": [
    {
     "ename": "TypeError",
     "evalue": "Can't instantiate abstract class Laptop with abstract method process",
     "output_type": "error",
     "traceback": [
      "\u001b[1;31m---------------------------------------------------------------------------\u001b[0m",
      "\u001b[1;31mTypeError\u001b[0m                                 Traceback (most recent call last)",
      "\u001b[1;32m~\\AppData\\Local\\Temp\\ipykernel_23336\\2453763621.py\u001b[0m in \u001b[0;36m<module>\u001b[1;34m\u001b[0m\n\u001b[0;32m      7\u001b[0m     \u001b[1;32mpass\u001b[0m\u001b[1;33m\u001b[0m\u001b[1;33m\u001b[0m\u001b[0m\n\u001b[0;32m      8\u001b[0m \u001b[1;33m\u001b[0m\u001b[0m\n\u001b[1;32m----> 9\u001b[1;33m \u001b[0mLap1\u001b[0m\u001b[1;33m=\u001b[0m\u001b[0mLaptop\u001b[0m\u001b[1;33m(\u001b[0m\u001b[1;33m)\u001b[0m\u001b[1;33m\u001b[0m\u001b[1;33m\u001b[0m\u001b[0m\n\u001b[0m",
      "\u001b[1;31mTypeError\u001b[0m: Can't instantiate abstract class Laptop with abstract method process"
     ]
    }
   ],
   "source": [
    "from abc import ABC,abstractmethod\n",
    "class Computer(ABC): # now this is abstract class\n",
    "    @abstractmethod\n",
    "    def process(self):\n",
    "        pass\n",
    "class Laptop(Computer):\n",
    "    pass\n",
    "\n",
    "Lap1=Laptop() # gives error. Here Laptop is inheriting the computer in which we have abstract method.\n",
    "# so it is compulsion for us to define the method in Laptop "
   ]
  },
  {
   "cell_type": "code",
   "execution_count": 11,
   "id": "0afc9c3c",
   "metadata": {},
   "outputs": [],
   "source": [
    "from abc import ABC,abstractmethod\n",
    "class Computer(ABC): # now this is abstract class\n",
    "    @abstractmethod\n",
    "    def process(self):\n",
    "        pass\n",
    "class Laptop(Computer):\n",
    "    def process(self):\n",
    "        print(\"It is running\")\n",
    "\n",
    "Lap1=Laptop() # now it will work . # whatever abstract methods present we need to declare all here else we can't create an object"
   ]
  },
  {
   "cell_type": "code",
   "execution_count": 10,
   "id": "4c7f0bc1",
   "metadata": {},
   "outputs": [
    {
     "name": "stdout",
     "output_type": "stream",
     "text": [
      "It is running\n"
     ]
    }
   ],
   "source": [
    "Lap1.process()"
   ]
  },
  {
   "cell_type": "code",
   "execution_count": 12,
   "id": "ac7cfabd",
   "metadata": {},
   "outputs": [
    {
     "ename": "TypeError",
     "evalue": "Can't instantiate abstract class Laptop with abstract method process2",
     "output_type": "error",
     "traceback": [
      "\u001b[1;31m---------------------------------------------------------------------------\u001b[0m",
      "\u001b[1;31mTypeError\u001b[0m                                 Traceback (most recent call last)",
      "\u001b[1;32m~\\AppData\\Local\\Temp\\ipykernel_23336\\364013086.py\u001b[0m in \u001b[0;36m<module>\u001b[1;34m\u001b[0m\n\u001b[0;32m     11\u001b[0m         \u001b[0mprint\u001b[0m\u001b[1;33m(\u001b[0m\u001b[1;34m\"It is running\"\u001b[0m\u001b[1;33m)\u001b[0m\u001b[1;33m\u001b[0m\u001b[1;33m\u001b[0m\u001b[0m\n\u001b[0;32m     12\u001b[0m \u001b[1;33m\u001b[0m\u001b[0m\n\u001b[1;32m---> 13\u001b[1;33m \u001b[0mLap1\u001b[0m\u001b[1;33m=\u001b[0m\u001b[0mLaptop\u001b[0m\u001b[1;33m(\u001b[0m\u001b[1;33m)\u001b[0m\u001b[1;33m\u001b[0m\u001b[1;33m\u001b[0m\u001b[0m\n\u001b[0m",
      "\u001b[1;31mTypeError\u001b[0m: Can't instantiate abstract class Laptop with abstract method process2"
     ]
    }
   ],
   "source": [
    "from abc import ABC,abstractmethod\n",
    "class Computer(ABC): # now this is abstract class\n",
    "    @abstractmethod\n",
    "    def process1(self):\n",
    "        pass\n",
    "    @abstractmethod\n",
    "    def process2(self):\n",
    "        pass\n",
    "class Laptop(Computer): # here we haven't define the abstract method 2 in this Laptop class.so it gives error .\n",
    "    def process1(self):\n",
    "        print(\"It is running\")\n",
    "\n",
    "Lap1=Laptop()"
   ]
  },
  {
   "cell_type": "markdown",
   "id": "b7369956",
   "metadata": {},
   "source": [
    "1. Abstract method is a method which only has declaration and doesn't have defintion.\n",
    "2. A class is called as Abstract class only if it has atleast one abstract method.\n",
    "3. When you inherit a abstract class as a parent to the child class, the child class should define all the abstract method present in the parent class.\n",
    "4. If it is not done then child class also becomes abstract class automatically.\n",
    "5. Essentially , you define abstract methods in an abstract class to ensure that it's child classes have a compulsion of having those methods inside them.\n"
   ]
  },
  {
   "cell_type": "markdown",
   "id": "7bc31a16",
   "metadata": {},
   "source": [
    "# Example 2\n",
    "1. Suppose we have different shapes such as triangle,rectangle,square,pentagon etc.\n",
    "2. We all know these shapes have differnt areas , sides,perimeters,different properties\n",
    "3. But all are having some properties but differnt implementation.\n",
    "4. Each shape has area but different formula.\n"
   ]
  },
  {
   "cell_type": "markdown",
   "id": "268ed7e1",
   "metadata": {},
   "source": [
    "# lec 34\n",
    "## krish naik Abstraction"
   ]
  },
  {
   "cell_type": "code",
   "execution_count": 21,
   "id": "3ad0161c",
   "metadata": {},
   "outputs": [],
   "source": [
    "# here we are defining a blueprint or skeleton of a class\n",
    "# every student joined in this course will have all the defined methods below.\n",
    "# abstract class is nothing but a outline or a blueprint\n",
    "import abc\n",
    "from abc import ABC\n",
    "class Pwskills:\n",
    "    @abc.abstractmethod\n",
    "    def student_details(self):\n",
    "        pass\n",
    "    @abc.abstractmethod\n",
    "    def student_marks(self):\n",
    "        pass\n",
    "    @abc.abstractmethod\n",
    "    def student_assignment(self):\n",
    "        pass\n",
    "    "
   ]
  },
  {
   "cell_type": "code",
   "execution_count": 22,
   "id": "80234e69",
   "metadata": {},
   "outputs": [],
   "source": [
    "class data_science(Pwskills):\n",
    "    def student_details(self):\n",
    "        return \"it will try to return a details of data science masters \"\n",
    "    def student_assignment(self):\n",
    "        return \"Assignment details are here \""
   ]
  },
  {
   "cell_type": "code",
   "execution_count": 23,
   "id": "ee497a34",
   "metadata": {},
   "outputs": [],
   "source": [
    "ds=data_science()"
   ]
  },
  {
   "cell_type": "code",
   "execution_count": 17,
   "id": "732cb767",
   "metadata": {},
   "outputs": [
    {
     "data": {
      "text/plain": [
       "'it will try to return a details of data science masters '"
      ]
     },
     "execution_count": 17,
     "metadata": {},
     "output_type": "execute_result"
    }
   ],
   "source": [
    "ds.student_details() # here it worked since for Pwskills we haven't define ABC there"
   ]
  },
  {
   "cell_type": "code",
   "execution_count": 25,
   "id": "706b1e7d",
   "metadata": {},
   "outputs": [
    {
     "ename": "TypeError",
     "evalue": "Can't instantiate abstract class data_science with abstract method student_marks",
     "output_type": "error",
     "traceback": [
      "\u001b[1;31m---------------------------------------------------------------------------\u001b[0m",
      "\u001b[1;31mTypeError\u001b[0m                                 Traceback (most recent call last)",
      "\u001b[1;32m~\\AppData\\Local\\Temp\\ipykernel_23336\\395419667.py\u001b[0m in \u001b[0;36m<module>\u001b[1;34m\u001b[0m\n\u001b[0;32m     16\u001b[0m     \u001b[1;32mdef\u001b[0m \u001b[0mstudent_assignment\u001b[0m\u001b[1;33m(\u001b[0m\u001b[0mself\u001b[0m\u001b[1;33m)\u001b[0m\u001b[1;33m:\u001b[0m\u001b[1;33m\u001b[0m\u001b[1;33m\u001b[0m\u001b[0m\n\u001b[0;32m     17\u001b[0m         \u001b[1;32mreturn\u001b[0m \u001b[1;34m\"Assignment details are here \"\u001b[0m\u001b[1;33m\u001b[0m\u001b[1;33m\u001b[0m\u001b[0m\n\u001b[1;32m---> 18\u001b[1;33m \u001b[0mds\u001b[0m\u001b[1;33m=\u001b[0m\u001b[0mdata_science\u001b[0m\u001b[1;33m(\u001b[0m\u001b[1;33m)\u001b[0m \u001b[1;31m# now the same thing will gives error since we haven't define the student marks method here\u001b[0m\u001b[1;33m\u001b[0m\u001b[1;33m\u001b[0m\u001b[0m\n\u001b[0m",
      "\u001b[1;31mTypeError\u001b[0m: Can't instantiate abstract class data_science with abstract method student_marks"
     ]
    }
   ],
   "source": [
    "import abc\n",
    "from abc import ABC\n",
    "class Pwskills(ABC):\n",
    "    @abc.abstractmethod\n",
    "    def student_details(self):\n",
    "        pass\n",
    "    @abc.abstractmethod\n",
    "    def student_marks(self):\n",
    "        pass\n",
    "    @abc.abstractmethod\n",
    "    def student_assignment(self):\n",
    "        pass\n",
    "class data_science(Pwskills):\n",
    "    def student_details(self):\n",
    "        return \"it will try to return a details of data science masters \"\n",
    "    def student_assignment(self):\n",
    "        return \"Assignment details are here \"\n",
    "ds=data_science() # now the same thing will gives error since we haven't define the student marks method here"
   ]
  },
  {
   "cell_type": "markdown",
   "id": "b37f1b22",
   "metadata": {},
   "source": [
    "# Abstraction\n",
    "## meme programmer telugu"
   ]
  },
  {
   "cell_type": "markdown",
   "id": "82762067",
   "metadata": {},
   "source": [
    "1. The process of handling complexity by hiding unnecessay information from user is called Abstraction\n",
    "2. Hiding internal functionality is also called Abstraction.\n",
    "3. If the method is declared without implementation it is called abstract method.\n",
    "4. We cannot instantiate Abstract classes.\n",
    "5. "
   ]
  },
  {
   "cell_type": "code",
   "execution_count": 26,
   "id": "a0a4f425",
   "metadata": {},
   "outputs": [
    {
     "ename": "TypeError",
     "evalue": "Can't instantiate abstract class A with abstract method method1",
     "output_type": "error",
     "traceback": [
      "\u001b[1;31m---------------------------------------------------------------------------\u001b[0m",
      "\u001b[1;31mTypeError\u001b[0m                                 Traceback (most recent call last)",
      "\u001b[1;32m~\\AppData\\Local\\Temp\\ipykernel_23336\\3707897112.py\u001b[0m in \u001b[0;36m<module>\u001b[1;34m\u001b[0m\n\u001b[0;32m      3\u001b[0m     \u001b[1;32mdef\u001b[0m \u001b[0mmethod1\u001b[0m\u001b[1;33m(\u001b[0m\u001b[0mself\u001b[0m\u001b[1;33m)\u001b[0m\u001b[1;33m:\u001b[0m\u001b[1;33m\u001b[0m\u001b[1;33m\u001b[0m\u001b[0m\n\u001b[0;32m      4\u001b[0m         \u001b[1;32mpass\u001b[0m\u001b[1;33m\u001b[0m\u001b[1;33m\u001b[0m\u001b[0m\n\u001b[1;32m----> 5\u001b[1;33m \u001b[0mobj1\u001b[0m\u001b[1;33m=\u001b[0m\u001b[0mA\u001b[0m\u001b[1;33m(\u001b[0m\u001b[1;33m)\u001b[0m\u001b[1;33m\u001b[0m\u001b[1;33m\u001b[0m\u001b[0m\n\u001b[0m\u001b[0;32m      6\u001b[0m \u001b[1;33m\u001b[0m\u001b[0m\n",
      "\u001b[1;31mTypeError\u001b[0m: Can't instantiate abstract class A with abstract method method1"
     ]
    }
   ],
   "source": [
    "class A(ABC): # here class A inherits the properties of class ABC\n",
    "    @abstractmethod\n",
    "    def method1(self):\n",
    "        pass\n",
    "obj1=A()\n",
    "    "
   ]
  },
  {
   "cell_type": "markdown",
   "id": "3d8f15ba",
   "metadata": {},
   "source": [
    "# concrete method\n",
    "1. The normal method in the abstract class is called as Concrete method.\n",
    "2. It doesn't have @abstract method\n",
    "3. We cannot directly create object for Abstract class but we can inherit abstract class and we can create objects."
   ]
  },
  {
   "cell_type": "code",
   "execution_count": 27,
   "id": "836ecd1f",
   "metadata": {},
   "outputs": [
    {
     "ename": "TypeError",
     "evalue": "Can't instantiate abstract class A with abstract method method1",
     "output_type": "error",
     "traceback": [
      "\u001b[1;31m---------------------------------------------------------------------------\u001b[0m",
      "\u001b[1;31mTypeError\u001b[0m                                 Traceback (most recent call last)",
      "\u001b[1;32m~\\AppData\\Local\\Temp\\ipykernel_23336\\1570554354.py\u001b[0m in \u001b[0;36m<module>\u001b[1;34m\u001b[0m\n\u001b[0;32m      5\u001b[0m     \u001b[1;32mdef\u001b[0m \u001b[0mmethod2\u001b[0m\u001b[1;33m(\u001b[0m\u001b[0mself\u001b[0m\u001b[1;33m)\u001b[0m\u001b[1;33m:\u001b[0m \u001b[1;31m# this is concrete method since it is present in abstract class and doesn't have the @abstractmethod\u001b[0m\u001b[1;33m\u001b[0m\u001b[1;33m\u001b[0m\u001b[0m\n\u001b[0;32m      6\u001b[0m         \u001b[0mprint\u001b[0m\u001b[1;33m(\u001b[0m\u001b[1;34m\"this is concrete method\"\u001b[0m\u001b[1;33m)\u001b[0m\u001b[1;33m\u001b[0m\u001b[1;33m\u001b[0m\u001b[0m\n\u001b[1;32m----> 7\u001b[1;33m \u001b[0mobj1\u001b[0m\u001b[1;33m=\u001b[0m\u001b[0mA\u001b[0m\u001b[1;33m(\u001b[0m\u001b[1;33m)\u001b[0m\u001b[1;33m\u001b[0m\u001b[1;33m\u001b[0m\u001b[0m\n\u001b[0m\u001b[0;32m      8\u001b[0m \u001b[1;33m\u001b[0m\u001b[0m\n",
      "\u001b[1;31mTypeError\u001b[0m: Can't instantiate abstract class A with abstract method method1"
     ]
    }
   ],
   "source": [
    "class A(ABC): # here class A inherits the properties of class ABC\n",
    "    @abstractmethod\n",
    "    def method1(self):\n",
    "        pass\n",
    "    def method2(self): # this is concrete method since it is present in abstract class and doesn't have the @abstractmethod\n",
    "        print(\"this is concrete method\")\n",
    "obj1=A()\n",
    " "
   ]
  },
  {
   "cell_type": "markdown",
   "id": "0f894374",
   "metadata": {},
   "source": [
    "1. Abstract methods in abstract class must implement in sub class.we should write all abstract methods\n",
    " \n"
   ]
  },
  {
   "cell_type": "code",
   "execution_count": 29,
   "id": "e62ec274",
   "metadata": {},
   "outputs": [],
   "source": [
    "class A(ABC): # here class A inherits the properties of class ABC\n",
    "    @abstractmethod\n",
    "    def method1(self):\n",
    "        pass\n",
    "    def method2(self): # this is concrete method since it is present in abstract class and doesn't have the @abstractmethod\n",
    "        print(\"this is concrete method\")\n",
    "    @abstractmethod\n",
    "    def method3(self):\n",
    "        pass\n",
    "class B(A): # no need to write method2 since it is concrete method . only abstract methods we need to define\n",
    "    def method1(self):\n",
    "        print(\"Method1 is implemented in sub class\")\n",
    "    def method3(self):\n",
    "        print(\"Method3 is implemented in sub class\")\n",
    "obj1=B()\n",
    " "
   ]
  },
  {
   "cell_type": "code",
   "execution_count": 30,
   "id": "bc33c3e8",
   "metadata": {},
   "outputs": [
    {
     "name": "stdout",
     "output_type": "stream",
     "text": [
      "Method1 is implemented in sub class\n"
     ]
    }
   ],
   "source": [
    "obj1.method1()"
   ]
  },
  {
   "cell_type": "code",
   "execution_count": 32,
   "id": "d9c8eaf9",
   "metadata": {},
   "outputs": [
    {
     "name": "stdout",
     "output_type": "stream",
     "text": [
      "this is concrete method\n"
     ]
    }
   ],
   "source": [
    "obj1.method2()"
   ]
  },
  {
   "cell_type": "code",
   "execution_count": 34,
   "id": "3556b169",
   "metadata": {},
   "outputs": [
    {
     "ename": "TypeError",
     "evalue": "Can't instantiate abstract class B with abstract method method4",
     "output_type": "error",
     "traceback": [
      "\u001b[1;31m---------------------------------------------------------------------------\u001b[0m",
      "\u001b[1;31mTypeError\u001b[0m                                 Traceback (most recent call last)",
      "\u001b[1;32m~\\AppData\\Local\\Temp\\ipykernel_23336\\867016228.py\u001b[0m in \u001b[0;36m<module>\u001b[1;34m\u001b[0m\n\u001b[0;32m     17\u001b[0m         \u001b[0mprint\u001b[0m\u001b[1;33m(\u001b[0m\u001b[1;34m\"Method3 is implemented in sub class\"\u001b[0m\u001b[1;33m)\u001b[0m \u001b[1;31m# gives error since method4 is not defined in the sub class.\u001b[0m\u001b[1;33m\u001b[0m\u001b[1;33m\u001b[0m\u001b[0m\n\u001b[0;32m     18\u001b[0m \u001b[1;33m\u001b[0m\u001b[0m\n\u001b[1;32m---> 19\u001b[1;33m \u001b[0mobj1\u001b[0m\u001b[1;33m=\u001b[0m\u001b[0mB\u001b[0m\u001b[1;33m(\u001b[0m\u001b[1;33m)\u001b[0m\u001b[1;33m\u001b[0m\u001b[1;33m\u001b[0m\u001b[0m\n\u001b[0m\u001b[0;32m     20\u001b[0m \u001b[1;33m\u001b[0m\u001b[0m\n",
      "\u001b[1;31mTypeError\u001b[0m: Can't instantiate abstract class B with abstract method method4"
     ]
    }
   ],
   "source": [
    "class A(ABC): # here class A inherits the properties of class ABC\n",
    "    @abstractmethod\n",
    "    def method1(self):\n",
    "        pass\n",
    "    def method2(self): # this is concrete method since it is present in abstract class and doesn't have the @abstractmethod\n",
    "        print(\"this is concrete method\")\n",
    "    @abstractmethod\n",
    "    def method3(self):\n",
    "        pass\n",
    "    @abstractmethod\n",
    "    def method4(self):\n",
    "        pass\n",
    "class B(A): # no need to write method2 since it is concrete method . only abstract methods we need to define\n",
    "    def method1(self):\n",
    "        print(\"Method1 is implemented in sub class\")\n",
    "    def method3(self):\n",
    "        print(\"Method3 is implemented in sub class\") # gives error since method4 is not defined in the sub class.\n",
    "        \n",
    "obj1=B()\n",
    " "
   ]
  },
  {
   "cell_type": "markdown",
   "id": "a03d05fa",
   "metadata": {},
   "source": [
    "1. Abstract classes are used as blueprint for another class.\n",
    "2. If a project has lot of classes and functions then developers create abstract classes and use the classes by inheriting.\n",
    "3. If we want to define set of classes if the classes has common behaviour then we create abstract classes and derive sub classes from it.\n",
    "4. When we are creating classes,if the classes have same methods and implementation is different then we create abstract class."
   ]
  },
  {
   "cell_type": "code",
   "execution_count": 37,
   "id": "57113085",
   "metadata": {},
   "outputs": [],
   "source": [
    "class Polygon(ABC):\n",
    "    @abstractmethod\n",
    "    def sides(self):\n",
    "        pass\n",
    "    @abstractmethod\n",
    "    def Area(self):\n",
    "        pass\n",
    "    @abstractmethod\n",
    "    def Perimeter(self):\n",
    "        pass\n",
    "    def figure(self): # for every shape this is common\n",
    "        print(\"it is a 2 Dimensional figure\")\n",
    "class Rectangle(Polygon):\n",
    "    def sides(self,length,breadth):\n",
    "        self.length=length\n",
    "        self.breadth=breadth\n",
    "    def Area(self):\n",
    "        return self.length*self.breadth\n",
    "    def Perimeter(self):\n",
    "        return 2*(self.length+self.breadth)\n",
    "    def extramethod(self):\n",
    "        return \" it has 2 sides \"\n",
    "class Triangle(Polygon):\n",
    "    def sides(self,length,breadth):\n",
    "        self.length=length\n",
    "        self.breadth=breadth\n",
    "    def Area(self):\n",
    "        return 0.5*self.length*self.breadth\n",
    "    def Perimeter(self):\n",
    "        return (self.length+self.breadth)/2\n",
    "    def extramethod(self):\n",
    "        return \" it has 3 sides \"\n",
    "class square(Polygon):\n",
    "    def sides(self,side):\n",
    "        self.side=side\n",
    "    def Area(self):\n",
    "        return self.side*self.side\n",
    "    def Perimeter(self):\n",
    "        return 4*self.side\n",
    "    def extramethod(self):\n",
    "        return \" it has 4 sides \""
   ]
  },
  {
   "cell_type": "code",
   "execution_count": 39,
   "id": "30601bf8",
   "metadata": {},
   "outputs": [
    {
     "name": "stdout",
     "output_type": "stream",
     "text": [
      "150\n",
      "50\n",
      "400\n",
      "80\n",
      "300.0\n",
      "25.0\n"
     ]
    }
   ],
   "source": [
    "rect=Rectangle()\n",
    "rect.sides(10,15)\n",
    "sq=square()\n",
    "sq.sides(20)\n",
    "tri=Triangle()\n",
    "tri.sides(20,30)\n",
    "for obj in [rect,sq,tri]:\n",
    "    print(obj.Area())\n",
    "    print(obj.Perimeter())"
   ]
  },
  {
   "cell_type": "code",
   "execution_count": null,
   "id": "3994dc3b",
   "metadata": {},
   "outputs": [],
   "source": []
  }
 ],
 "metadata": {
  "kernelspec": {
   "display_name": "Python 3 (ipykernel)",
   "language": "python",
   "name": "python3"
  },
  "language_info": {
   "codemirror_mode": {
    "name": "ipython",
    "version": 3
   },
   "file_extension": ".py",
   "mimetype": "text/x-python",
   "name": "python",
   "nbconvert_exporter": "python",
   "pygments_lexer": "ipython3",
   "version": "3.9.13"
  }
 },
 "nbformat": 4,
 "nbformat_minor": 5
}
