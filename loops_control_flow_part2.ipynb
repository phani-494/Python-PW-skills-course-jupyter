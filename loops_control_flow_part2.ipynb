{
 "cells": [
  {
   "cell_type": "markdown",
   "id": "5b5e0e9b",
   "metadata": {},
   "source": [
    "# Nested loops"
   ]
  },
  {
   "cell_type": "code",
   "execution_count": 3,
   "id": "a11322b4",
   "metadata": {},
   "outputs": [
    {
     "name": "stdout",
     "output_type": "stream",
     "text": [
      "At 1 ,apple is present:At 2 ,banana is present:At 3 ,kiwi is present:"
     ]
    }
   ],
   "source": [
    "fruits=[\"apple\",\"banana\",\"kiwi\",\"lemon\",\"mango\",\"papaya\"]\n",
    "count=0\n",
    "for fruit in fruits:\n",
    "    count=count+1\n",
    "    print(f\"At {count} ,{fruit} is present\",end=':') # we can put  characters in end=' '\n",
    "    if fruit==\"kiwi\":\n",
    "        break"
   ]
  },
  {
   "cell_type": "markdown",
   "id": "d10148a3",
   "metadata": {},
   "source": [
    "# range function"
   ]
  },
  {
   "cell_type": "code",
   "execution_count": 4,
   "id": "a0a3800d",
   "metadata": {},
   "outputs": [
    {
     "data": {
      "text/plain": [
       "range(1, 10)"
      ]
     },
     "execution_count": 4,
     "metadata": {},
     "output_type": "execute_result"
    }
   ],
   "source": [
    "range(1,10) # gives same result only .to print that sequence of numbers use the for loop"
   ]
  },
  {
   "cell_type": "code",
   "execution_count": 5,
   "id": "5cb883e0",
   "metadata": {},
   "outputs": [
    {
     "name": "stdout",
     "output_type": "stream",
     "text": [
      "1\n",
      "2\n",
      "3\n",
      "4\n",
      "5\n",
      "6\n",
      "7\n",
      "8\n",
      "9\n"
     ]
    }
   ],
   "source": [
    "for i in range(1,10):\n",
    "    print(i)"
   ]
  },
  {
   "cell_type": "code",
   "execution_count": 6,
   "id": "d03ca716",
   "metadata": {},
   "outputs": [
    {
     "data": {
      "text/plain": [
       "range(1, 10, 2)"
      ]
     },
     "execution_count": 6,
     "metadata": {},
     "output_type": "execute_result"
    }
   ],
   "source": [
    "range(1,10,2)# (start,end.step size) gives result as below\n"
   ]
  },
  {
   "cell_type": "code",
   "execution_count": 7,
   "id": "99f0c9d3",
   "metadata": {},
   "outputs": [
    {
     "name": "stdout",
     "output_type": "stream",
     "text": [
      "1\n",
      "3\n",
      "5\n",
      "7\n",
      "9\n"
     ]
    }
   ],
   "source": [
    "for i in range(1,10,2):\n",
    "    print(i)"
   ]
  },
  {
   "cell_type": "code",
   "execution_count": 10,
   "id": "a0403407",
   "metadata": {},
   "outputs": [
    {
     "name": "stdout",
     "output_type": "stream",
     "text": [
      "*\n",
      "**\n",
      "***\n",
      "****\n",
      "*****\n",
      "******\n",
      "*******\n"
     ]
    }
   ],
   "source": [
    "n=7\n",
    "for i in range(0,n):\n",
    "    for j in range(0,i+1): # this inner loops works based on the i value ..observe very neatly\n",
    "        print(\"*\",end='')\n",
    "    print() # print(\"\\r\") also gives same result .if u give \\n then a new line will be there in every stars line        "
   ]
  },
  {
   "cell_type": "code",
   "execution_count": 11,
   "id": "b00eb2d2",
   "metadata": {},
   "outputs": [
    {
     "name": "stdout",
     "output_type": "stream",
     "text": [
      "*\n",
      "\n",
      "**\n",
      "\n",
      "***\n",
      "\n",
      "****\n",
      "\n",
      "*****\n",
      "\n",
      "******\n",
      "\n",
      "*******\n",
      "\n"
     ]
    }
   ],
   "source": [
    "n=7\n",
    "for i in range(0,n):\n",
    "    for j in range(0,i+1): # this inner loops works based on the i value ..observe very neatly\n",
    "        print(\"*\",end='')\n",
    "    print(\"\\n\")"
   ]
  },
  {
   "cell_type": "code",
   "execution_count": 12,
   "id": "8f425e75",
   "metadata": {},
   "outputs": [
    {
     "name": "stdout",
     "output_type": "stream",
     "text": [
      "*\r\n",
      "**\r\n",
      "***\r\n",
      "****\r\n",
      "*****\r\n",
      "******\r\n",
      "*******\r\n"
     ]
    }
   ],
   "source": [
    "n=7\n",
    "for i in range(0,n):\n",
    "    for j in range(0,i+1): # this inner loops works based on the i value ..observe very neatly\n",
    "        print(\"*\",end='')\n",
    "    print(\"\\r\")"
   ]
  },
  {
   "cell_type": "markdown",
   "id": "ca432a29",
   "metadata": {},
   "source": [
    "# carriage return \\r"
   ]
  },
  {
   "cell_type": "markdown",
   "id": "2de1e60d",
   "metadata": {},
   "source": [
    "What is a carriage return (\\r) in Python?\n",
    "It helps us move the cursor at the beginning of the line without moving the cursor to the new line.\n",
    "string = 'My website is Latracal \\rSolution'\n",
    " \n",
    "print(string)\n",
    "\n",
    " output : is Latracal\n",
    " \n",
    " Firstly, we have taken an input string as a string.\n",
    "we have applied \\r in between the string.\n",
    "\\r has shifted the cursor to the start, and ‘solution’ contains 8 letters. From the beginning, 8 letters will be erased, and in place of that solution gets printed.\n",
    "You can see the output for better understanding.\n",
    " \\r will just work as you have shifted your cursor to the beginning of the string or line.\n",
    " \n",
    " Whenever you will use this special escape character \\r, the rest of the content after the \\r will come at the front of your line and will keep replacing your characters one by one until it takes all the contents left after the \\r in that string.\n",
    " \n",
    "\n"
   ]
  },
  {
   "cell_type": "markdown",
   "id": "d2b2bee4",
   "metadata": {},
   "source": [
    "#  break and continue"
   ]
  },
  {
   "cell_type": "code",
   "execution_count": 14,
   "id": "ab497596",
   "metadata": {},
   "outputs": [
    {
     "name": "stdout",
     "output_type": "stream",
     "text": [
      "At 1 ,apple is present\n",
      "At 2 ,banana is present\n",
      "At 3 ,kiwi is present\n"
     ]
    }
   ],
   "source": [
    "fruits=[\"apple\",\"banana\",\"kiwi\",\"lemon\",\"mango\",\"papaya\"]\n",
    "count=0\n",
    "for fruit in fruits:\n",
    "    count=count+1\n",
    "    print(f\"At {count} ,{fruit} is present\") # we can put  characters in end=' '\n",
    "    if fruit==\"kiwi\":\n",
    "        break"
   ]
  },
  {
   "cell_type": "code",
   "execution_count": 15,
   "id": "9f38371d",
   "metadata": {},
   "outputs": [
    {
     "name": "stdout",
     "output_type": "stream",
     "text": [
      "At 1 ,apple is present\n",
      "At 2 ,banana is present\n",
      "At 4 ,lemon is present\n",
      "At 5 ,mango is present\n",
      "At 6 ,papaya is present\n"
     ]
    }
   ],
   "source": [
    "fruits=[\"apple\",\"banana\",\"kiwi\",\"lemon\",\"mango\",\"papaya\"]\n",
    "count=0\n",
    "for fruit in fruits:\n",
    "    count=count+1\n",
    "    # we can put  characters in end=' '\n",
    "    if fruit==\"kiwi\": # continue will skip that part and go for next iteration as seen below\n",
    "        continue\n",
    "    print(f\"At {count} ,{fruit} is present\")\n"
   ]
  },
  {
   "cell_type": "code",
   "execution_count": 16,
   "id": "283bb75d",
   "metadata": {},
   "outputs": [],
   "source": [
    "# if u create a function for future purpose and to code for the future purpose u can use pass which doesn;t give any error in the code"
   ]
  },
  {
   "cell_type": "markdown",
   "id": "997cba13",
   "metadata": {},
   "source": [
    "# Assignment to print Equilateral trinagle"
   ]
  },
  {
   "cell_type": "code",
   "execution_count": 24,
   "id": "ffeed70a",
   "metadata": {},
   "outputs": [
    {
     "name": "stdout",
     "output_type": "stream",
     "text": [
      "      * \n",
      "     * * \n",
      "    * * * \n",
      "   * * * * \n",
      "  * * * * * \n",
      " * * * * * * \n",
      "* * * * * * * \n"
     ]
    }
   ],
   "source": [
    "n=7\n",
    "for i in range(1,n+1):\n",
    "    print(' '*(n-i) + '* '*(i))\n"
   ]
  },
  {
   "cell_type": "code",
   "execution_count": null,
   "id": "eda53a87",
   "metadata": {},
   "outputs": [],
   "source": []
  }
 ],
 "metadata": {
  "kernelspec": {
   "display_name": "Python 3 (ipykernel)",
   "language": "python",
   "name": "python3"
  },
  "language_info": {
   "codemirror_mode": {
    "name": "ipython",
    "version": 3
   },
   "file_extension": ".py",
   "mimetype": "text/x-python",
   "name": "python",
   "nbconvert_exporter": "python",
   "pygments_lexer": "ipython3",
   "version": "3.9.13"
  }
 },
 "nbformat": 4,
 "nbformat_minor": 5
}
