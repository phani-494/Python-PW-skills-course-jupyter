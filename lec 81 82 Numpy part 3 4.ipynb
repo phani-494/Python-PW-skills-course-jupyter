{
 "cells": [
  {
   "cell_type": "markdown",
   "id": "2ca060df",
   "metadata": {},
   "source": [
    "# lec 81\n",
    "\n",
    "## Numpy part-3"
   ]
  },
  {
   "cell_type": "code",
   "execution_count": 1,
   "id": "8b8b08ec",
   "metadata": {},
   "outputs": [],
   "source": [
    "import numpy as np\n",
    "# Numpy-Array Manipulation"
   ]
  },
  {
   "cell_type": "code",
   "execution_count": 2,
   "id": "28ae457b",
   "metadata": {},
   "outputs": [],
   "source": [
    "arr=np.random.randint(1,11,(4,4))"
   ]
  },
  {
   "cell_type": "code",
   "execution_count": 3,
   "id": "ad7dc078",
   "metadata": {},
   "outputs": [
    {
     "data": {
      "text/plain": [
       "array([[ 1,  1, 10,  6],\n",
       "       [ 4, 10,  8,  9],\n",
       "       [ 3,  6,  5,  3],\n",
       "       [ 1,  3,  4,  1]])"
      ]
     },
     "execution_count": 3,
     "metadata": {},
     "output_type": "execute_result"
    }
   ],
   "source": [
    "arr"
   ]
  },
  {
   "cell_type": "code",
   "execution_count": 4,
   "id": "4a754f44",
   "metadata": {},
   "outputs": [
    {
     "data": {
      "text/plain": [
       "array([[ 1,  1],\n",
       "       [10,  6],\n",
       "       [ 4, 10],\n",
       "       [ 8,  9],\n",
       "       [ 3,  6],\n",
       "       [ 5,  3],\n",
       "       [ 1,  3],\n",
       "       [ 4,  1]])"
      ]
     },
     "execution_count": 4,
     "metadata": {},
     "output_type": "execute_result"
    }
   ],
   "source": [
    "arr.reshape(8,2)"
   ]
  },
  {
   "cell_type": "code",
   "execution_count": 6,
   "id": "318c3a84",
   "metadata": {},
   "outputs": [
    {
     "data": {
      "text/plain": [
       "array([[ 1,  4,  3,  1],\n",
       "       [ 1, 10,  6,  3],\n",
       "       [10,  8,  5,  4],\n",
       "       [ 6,  9,  3,  1]])"
      ]
     },
     "execution_count": 6,
     "metadata": {},
     "output_type": "execute_result"
    }
   ],
   "source": [
    "arr.T  # transpose of a matrix"
   ]
  },
  {
   "cell_type": "code",
   "execution_count": 8,
   "id": "19156260",
   "metadata": {},
   "outputs": [
    {
     "data": {
      "text/plain": [
       "array([ 1,  1, 10,  6,  4, 10,  8,  9,  3,  6,  5,  3,  1,  3,  4,  1])"
      ]
     },
     "execution_count": 8,
     "metadata": {},
     "output_type": "execute_result"
    }
   ],
   "source": [
    "arr.flatten() # converting the matrix into single dimension matrix"
   ]
  },
  {
   "cell_type": "code",
   "execution_count": 9,
   "id": "1df3131f",
   "metadata": {},
   "outputs": [
    {
     "data": {
      "text/plain": [
       "array([[ 1,  1, 10,  6],\n",
       "       [ 4, 10,  8,  9],\n",
       "       [ 3,  6,  5,  3],\n",
       "       [ 1,  3,  4,  1]])"
      ]
     },
     "execution_count": 9,
     "metadata": {},
     "output_type": "execute_result"
    }
   ],
   "source": [
    "arr"
   ]
  },
  {
   "cell_type": "code",
   "execution_count": 10,
   "id": "1b701d78",
   "metadata": {},
   "outputs": [
    {
     "data": {
      "text/plain": [
       "array([[[ 1,  1, 10,  6]],\n",
       "\n",
       "       [[ 4, 10,  8,  9]],\n",
       "\n",
       "       [[ 3,  6,  5,  3]],\n",
       "\n",
       "       [[ 1,  3,  4,  1]]])"
      ]
     },
     "execution_count": 10,
     "metadata": {},
     "output_type": "execute_result"
    }
   ],
   "source": [
    "np.expand_dims(arr,axis=1) # increases the dimension by 1 "
   ]
  },
  {
   "cell_type": "code",
   "execution_count": 11,
   "id": "10084a91",
   "metadata": {},
   "outputs": [
    {
     "data": {
      "text/plain": [
       "array([[[ 1,  1, 10,  6],\n",
       "        [ 4, 10,  8,  9],\n",
       "        [ 3,  6,  5,  3],\n",
       "        [ 1,  3,  4,  1]]])"
      ]
     },
     "execution_count": 11,
     "metadata": {},
     "output_type": "execute_result"
    }
   ],
   "source": [
    "np.expand_dims(arr,axis=0)"
   ]
  },
  {
   "cell_type": "code",
   "execution_count": 12,
   "id": "5c0033a5",
   "metadata": {},
   "outputs": [],
   "source": [
    "data=np.array([[1],[2],[3]])"
   ]
  },
  {
   "cell_type": "code",
   "execution_count": 13,
   "id": "96bb4682",
   "metadata": {},
   "outputs": [
    {
     "data": {
      "text/plain": [
       "array([1, 2, 3])"
      ]
     },
     "execution_count": 13,
     "metadata": {},
     "output_type": "execute_result"
    }
   ],
   "source": [
    "np.squeeze(data)"
   ]
  },
  {
   "cell_type": "code",
   "execution_count": 14,
   "id": "092e3c0b",
   "metadata": {},
   "outputs": [
    {
     "data": {
      "text/plain": [
       "array([1, 1, 2, 2, 3, 3])"
      ]
     },
     "execution_count": 14,
     "metadata": {},
     "output_type": "execute_result"
    }
   ],
   "source": [
    "np.repeat(data,2)"
   ]
  },
  {
   "cell_type": "code",
   "execution_count": 15,
   "id": "d5a884bb",
   "metadata": {},
   "outputs": [
    {
     "data": {
      "text/plain": [
       "array([1, 1, 1, 1, 2, 2, 2, 2, 3, 3, 3, 3])"
      ]
     },
     "execution_count": 15,
     "metadata": {},
     "output_type": "execute_result"
    }
   ],
   "source": [
    "np.repeat(data,4)"
   ]
  },
  {
   "cell_type": "code",
   "execution_count": 17,
   "id": "36922302",
   "metadata": {},
   "outputs": [
    {
     "data": {
      "text/plain": [
       "array([[2],\n",
       "       [3],\n",
       "       [1]])"
      ]
     },
     "execution_count": 17,
     "metadata": {},
     "output_type": "execute_result"
    }
   ],
   "source": [
    "np.roll(data,2) # it means two places will be exchanged .. simply rolling .moving to the next place in clockwise direction"
   ]
  },
  {
   "cell_type": "code",
   "execution_count": 19,
   "id": "e1e6524c",
   "metadata": {},
   "outputs": [
    {
     "data": {
      "text/plain": [
       "array([[1, 0, 0, 0],\n",
       "       [0, 2, 0, 0],\n",
       "       [0, 0, 3, 0],\n",
       "       [0, 0, 0, 4]])"
      ]
     },
     "execution_count": 19,
     "metadata": {},
     "output_type": "execute_result"
    }
   ],
   "source": [
    "np.diag(np.array([1,2,3,4])) # representing into the diagonal matrix"
   ]
  },
  {
   "cell_type": "markdown",
   "id": "3fa03588",
   "metadata": {},
   "source": [
    "# Binary operations"
   ]
  },
  {
   "cell_type": "code",
   "execution_count": 21,
   "id": "efb52259",
   "metadata": {},
   "outputs": [],
   "source": [
    "arr1=np.random.randint(1,10,(3,4))\n",
    "arr2=np.random.randint(1,5,(3,4))"
   ]
  },
  {
   "cell_type": "code",
   "execution_count": 22,
   "id": "9835b33e",
   "metadata": {},
   "outputs": [
    {
     "data": {
      "text/plain": [
       "array([[9, 4, 1, 2],\n",
       "       [6, 4, 7, 7],\n",
       "       [3, 9, 2, 2]])"
      ]
     },
     "execution_count": 22,
     "metadata": {},
     "output_type": "execute_result"
    }
   ],
   "source": [
    "arr1"
   ]
  },
  {
   "cell_type": "code",
   "execution_count": 23,
   "id": "61074624",
   "metadata": {},
   "outputs": [
    {
     "data": {
      "text/plain": [
       "array([[2, 3, 3, 1],\n",
       "       [2, 4, 4, 1],\n",
       "       [2, 1, 1, 3]])"
      ]
     },
     "execution_count": 23,
     "metadata": {},
     "output_type": "execute_result"
    }
   ],
   "source": [
    "arr2"
   ]
  },
  {
   "cell_type": "code",
   "execution_count": 24,
   "id": "4a60680d",
   "metadata": {},
   "outputs": [
    {
     "data": {
      "text/plain": [
       "array([[11,  7,  4,  3],\n",
       "       [ 8,  8, 11,  8],\n",
       "       [ 5, 10,  3,  5]])"
      ]
     },
     "execution_count": 24,
     "metadata": {},
     "output_type": "execute_result"
    }
   ],
   "source": [
    "arr1+arr2 # index wise addition"
   ]
  },
  {
   "cell_type": "code",
   "execution_count": 25,
   "id": "169a8752",
   "metadata": {},
   "outputs": [
    {
     "data": {
      "text/plain": [
       "array([[18, 12,  3,  2],\n",
       "       [12, 16, 28,  7],\n",
       "       [ 6,  9,  2,  6]])"
      ]
     },
     "execution_count": 25,
     "metadata": {},
     "output_type": "execute_result"
    }
   ],
   "source": [
    "arr1*arr2 # index wise multiplication"
   ]
  },
  {
   "cell_type": "code",
   "execution_count": 27,
   "id": "5ca38025",
   "metadata": {},
   "outputs": [
    {
     "data": {
      "text/plain": [
       "array([[4.5       , 1.33333333, 0.33333333, 2.        ],\n",
       "       [3.        , 1.        , 1.75      , 7.        ],\n",
       "       [1.5       , 9.        , 2.        , 0.66666667]])"
      ]
     },
     "execution_count": 27,
     "metadata": {},
     "output_type": "execute_result"
    }
   ],
   "source": [
    "arr1/arr2 # index wise division"
   ]
  },
  {
   "cell_type": "code",
   "execution_count": 29,
   "id": "78798b64",
   "metadata": {},
   "outputs": [
    {
     "ename": "ValueError",
     "evalue": "matmul: Input operand 1 has a mismatch in its core dimension 0, with gufunc signature (n?,k),(k,m?)->(n?,m?) (size 3 is different from 4)",
     "output_type": "error",
     "traceback": [
      "\u001b[1;31m---------------------------------------------------------------------------\u001b[0m",
      "\u001b[1;31mValueError\u001b[0m                                Traceback (most recent call last)",
      "\u001b[1;32m~\\AppData\\Local\\Temp\\ipykernel_4320\\1038641998.py\u001b[0m in \u001b[0;36m<module>\u001b[1;34m\u001b[0m\n\u001b[1;32m----> 1\u001b[1;33m \u001b[0marr1\u001b[0m\u001b[1;33m@\u001b[0m\u001b[0marr2\u001b[0m \u001b[1;31m# matrix multiplication is not possible here.\u001b[0m\u001b[1;33m\u001b[0m\u001b[1;33m\u001b[0m\u001b[0m\n\u001b[0m",
      "\u001b[1;31mValueError\u001b[0m: matmul: Input operand 1 has a mismatch in its core dimension 0, with gufunc signature (n?,k),(k,m?)->(n?,m?) (size 3 is different from 4)"
     ]
    }
   ],
   "source": [
    "arr1@arr2 # matrix multiplication is not possible here."
   ]
  },
  {
   "cell_type": "code",
   "execution_count": 30,
   "id": "4fc3b8d7",
   "metadata": {},
   "outputs": [
    {
     "data": {
      "text/plain": [
       "array([[ 7,  1, -2,  1],\n",
       "       [ 4,  0,  3,  6],\n",
       "       [ 1,  8,  1, -1]])"
      ]
     },
     "execution_count": 30,
     "metadata": {},
     "output_type": "execute_result"
    }
   ],
   "source": [
    "arr1-arr2"
   ]
  },
  {
   "cell_type": "code",
   "execution_count": 31,
   "id": "2c34d513",
   "metadata": {},
   "outputs": [
    {
     "data": {
      "text/plain": [
       "array([[  81,   64,    1,    2],\n",
       "       [  36,  256, 2401,    7],\n",
       "       [   9,    9,    2,    8]], dtype=int32)"
      ]
     },
     "execution_count": 31,
     "metadata": {},
     "output_type": "execute_result"
    }
   ],
   "source": [
    "arr1**arr2"
   ]
  },
  {
   "cell_type": "code",
   "execution_count": 32,
   "id": "8a7abeca",
   "metadata": {},
   "outputs": [
    {
     "data": {
      "text/plain": [
       "array([[-10,  -5,  -2,  -3],\n",
       "       [ -7,  -5,  -8,  -8],\n",
       "       [ -4, -10,  -3,  -3]], dtype=int32)"
      ]
     },
     "execution_count": 32,
     "metadata": {},
     "output_type": "execute_result"
    }
   ],
   "source": [
    "~arr1"
   ]
  },
  {
   "cell_type": "code",
   "execution_count": 33,
   "id": "01330b3f",
   "metadata": {},
   "outputs": [
    {
     "data": {
      "text/plain": [
       "array([[ True,  True, False,  True],\n",
       "       [ True, False,  True,  True],\n",
       "       [ True,  True,  True, False]])"
      ]
     },
     "execution_count": 33,
     "metadata": {},
     "output_type": "execute_result"
    }
   ],
   "source": [
    "arr1>arr2"
   ]
  },
  {
   "cell_type": "markdown",
   "id": "bda61944",
   "metadata": {},
   "source": [
    "# string functions"
   ]
  },
  {
   "cell_type": "code",
   "execution_count": 34,
   "id": "df6c3208",
   "metadata": {},
   "outputs": [],
   "source": [
    "arr=np.array(['indra',\"raghu\"],dtype='<U5')"
   ]
  },
  {
   "cell_type": "code",
   "execution_count": 35,
   "id": "5fc7a9fd",
   "metadata": {},
   "outputs": [
    {
     "data": {
      "text/plain": [
       "array(['indra', 'raghu'], dtype='<U5')"
      ]
     },
     "execution_count": 35,
     "metadata": {},
     "output_type": "execute_result"
    }
   ],
   "source": [
    "arr"
   ]
  },
  {
   "cell_type": "code",
   "execution_count": 37,
   "id": "8de9bd3a",
   "metadata": {},
   "outputs": [
    {
     "data": {
      "text/plain": [
       "array(['INDRA', 'RAGHU'], dtype='<U5')"
      ]
     },
     "execution_count": 37,
     "metadata": {},
     "output_type": "execute_result"
    }
   ],
   "source": [
    "np.char.upper(arr) # converting into the upper case"
   ]
  },
  {
   "cell_type": "code",
   "execution_count": 38,
   "id": "4367e225",
   "metadata": {},
   "outputs": [
    {
     "data": {
      "text/plain": [
       "array(['Indra', 'Raghu'], dtype='<U5')"
      ]
     },
     "execution_count": 38,
     "metadata": {},
     "output_type": "execute_result"
    }
   ],
   "source": [
    "np.char.title(arr)"
   ]
  },
  {
   "cell_type": "code",
   "execution_count": 39,
   "id": "5b4333f3",
   "metadata": {},
   "outputs": [
    {
     "data": {
      "text/plain": [
       "array(['Indra', 'Raghu'], dtype='<U5')"
      ]
     },
     "execution_count": 39,
     "metadata": {},
     "output_type": "execute_result"
    }
   ],
   "source": [
    "np.char.capitalize(arr)"
   ]
  },
  {
   "cell_type": "markdown",
   "id": "776040c5",
   "metadata": {},
   "source": [
    "# Mathematical functions"
   ]
  },
  {
   "cell_type": "code",
   "execution_count": 41,
   "id": "c8eff903",
   "metadata": {},
   "outputs": [
    {
     "data": {
      "text/plain": [
       "array([[9, 4, 1, 2],\n",
       "       [6, 4, 7, 7],\n",
       "       [3, 9, 2, 2]])"
      ]
     },
     "execution_count": 41,
     "metadata": {},
     "output_type": "execute_result"
    }
   ],
   "source": [
    "arr1"
   ]
  },
  {
   "cell_type": "code",
   "execution_count": 43,
   "id": "c93f32d1",
   "metadata": {},
   "outputs": [
    {
     "data": {
      "text/plain": [
       "array([[ 0.41211849, -0.7568025 ,  0.84147098,  0.90929743],\n",
       "       [-0.2794155 , -0.7568025 ,  0.6569866 ,  0.6569866 ],\n",
       "       [ 0.14112001,  0.41211849,  0.90929743,  0.90929743]])"
      ]
     },
     "execution_count": 43,
     "metadata": {},
     "output_type": "execute_result"
    }
   ],
   "source": [
    "np.sin(arr1)"
   ]
  },
  {
   "cell_type": "code",
   "execution_count": 44,
   "id": "b3b7206e",
   "metadata": {},
   "outputs": [
    {
     "data": {
      "text/plain": [
       "array([[-0.45231566,  1.15782128,  1.55740772, -2.18503986],\n",
       "       [-0.29100619,  1.15782128,  0.87144798,  0.87144798],\n",
       "       [-0.14254654, -0.45231566, -2.18503986, -2.18503986]])"
      ]
     },
     "execution_count": 44,
     "metadata": {},
     "output_type": "execute_result"
    }
   ],
   "source": [
    "np.tan(arr1)"
   ]
  },
  {
   "cell_type": "code",
   "execution_count": 45,
   "id": "37bc9916",
   "metadata": {},
   "outputs": [
    {
     "data": {
      "text/plain": [
       "array([[2.19722458, 1.38629436, 0.        , 0.69314718],\n",
       "       [1.79175947, 1.38629436, 1.94591015, 1.94591015],\n",
       "       [1.09861229, 2.19722458, 0.69314718, 0.69314718]])"
      ]
     },
     "execution_count": 45,
     "metadata": {},
     "output_type": "execute_result"
    }
   ],
   "source": [
    "np.log(arr1)"
   ]
  },
  {
   "cell_type": "code",
   "execution_count": 46,
   "id": "1a2b374d",
   "metadata": {},
   "outputs": [
    {
     "data": {
      "text/plain": [
       "array([[8.10308393e+03, 5.45981500e+01, 2.71828183e+00, 7.38905610e+00],\n",
       "       [4.03428793e+02, 5.45981500e+01, 1.09663316e+03, 1.09663316e+03],\n",
       "       [2.00855369e+01, 8.10308393e+03, 7.38905610e+00, 7.38905610e+00]])"
      ]
     },
     "execution_count": 46,
     "metadata": {},
     "output_type": "execute_result"
    }
   ],
   "source": [
    "np.exp(arr1)"
   ]
  },
  {
   "cell_type": "code",
   "execution_count": 47,
   "id": "df2bcdd0",
   "metadata": {},
   "outputs": [
    {
     "data": {
      "text/plain": [
       "array([[-0.91113026, -0.65364362,  0.54030231, -0.41614684],\n",
       "       [ 0.96017029, -0.65364362,  0.75390225,  0.75390225],\n",
       "       [-0.9899925 , -0.91113026, -0.41614684, -0.41614684]])"
      ]
     },
     "execution_count": 47,
     "metadata": {},
     "output_type": "execute_result"
    }
   ],
   "source": [
    "np.cos(arr1)"
   ]
  },
  {
   "cell_type": "code",
   "execution_count": 48,
   "id": "63ae7409",
   "metadata": {},
   "outputs": [
    {
     "data": {
      "text/plain": [
       "array([[81, 16,  1,  4],\n",
       "       [36, 16, 49, 49],\n",
       "       [ 9, 81,  4,  4]], dtype=int32)"
      ]
     },
     "execution_count": 48,
     "metadata": {},
     "output_type": "execute_result"
    }
   ],
   "source": [
    "np.power(arr1,2)"
   ]
  },
  {
   "cell_type": "code",
   "execution_count": 49,
   "id": "44d77464",
   "metadata": {},
   "outputs": [
    {
     "data": {
      "text/plain": [
       "4.666666666666667"
      ]
     },
     "execution_count": 49,
     "metadata": {},
     "output_type": "execute_result"
    }
   ],
   "source": [
    "np.mean(arr1)"
   ]
  },
  {
   "cell_type": "code",
   "execution_count": 50,
   "id": "d7cf6194",
   "metadata": {},
   "outputs": [
    {
     "data": {
      "text/plain": [
       "4.0"
      ]
     },
     "execution_count": 50,
     "metadata": {},
     "output_type": "execute_result"
    }
   ],
   "source": [
    "np.median(arr1)"
   ]
  },
  {
   "cell_type": "code",
   "execution_count": 51,
   "id": "0d21799d",
   "metadata": {},
   "outputs": [
    {
     "ename": "AttributeError",
     "evalue": "module 'numpy' has no attribute 'mode'",
     "output_type": "error",
     "traceback": [
      "\u001b[1;31m---------------------------------------------------------------------------\u001b[0m",
      "\u001b[1;31mAttributeError\u001b[0m                            Traceback (most recent call last)",
      "\u001b[1;32m~\\AppData\\Local\\Temp\\ipykernel_4320\\593156823.py\u001b[0m in \u001b[0;36m<module>\u001b[1;34m\u001b[0m\n\u001b[1;32m----> 1\u001b[1;33m \u001b[0mnp\u001b[0m\u001b[1;33m.\u001b[0m\u001b[0mmode\u001b[0m\u001b[1;33m(\u001b[0m\u001b[0marr1\u001b[0m\u001b[1;33m)\u001b[0m\u001b[1;33m\u001b[0m\u001b[1;33m\u001b[0m\u001b[0m\n\u001b[0m",
      "\u001b[1;32m~\\anaconda3\\lib\\site-packages\\numpy\\__init__.py\u001b[0m in \u001b[0;36m__getattr__\u001b[1;34m(attr)\u001b[0m\n\u001b[0;32m    311\u001b[0m                 \u001b[1;32mreturn\u001b[0m \u001b[0mTester\u001b[0m\u001b[1;33m\u001b[0m\u001b[1;33m\u001b[0m\u001b[0m\n\u001b[0;32m    312\u001b[0m \u001b[1;33m\u001b[0m\u001b[0m\n\u001b[1;32m--> 313\u001b[1;33m             raise AttributeError(\"module {!r} has no attribute \"\n\u001b[0m\u001b[0;32m    314\u001b[0m                                  \"{!r}\".format(__name__, attr))\n\u001b[0;32m    315\u001b[0m \u001b[1;33m\u001b[0m\u001b[0m\n",
      "\u001b[1;31mAttributeError\u001b[0m: module 'numpy' has no attribute 'mode'"
     ]
    }
   ],
   "source": [
    "np.mode(arr1)"
   ]
  },
  {
   "cell_type": "code",
   "execution_count": 52,
   "id": "35f33105",
   "metadata": {},
   "outputs": [
    {
     "data": {
      "text/plain": [
       "2.718251071716682"
      ]
     },
     "execution_count": 52,
     "metadata": {},
     "output_type": "execute_result"
    }
   ],
   "source": [
    "np.std(arr1)"
   ]
  },
  {
   "cell_type": "code",
   "execution_count": 53,
   "id": "5d29d9eb",
   "metadata": {},
   "outputs": [
    {
     "data": {
      "text/plain": [
       "7.388888888888889"
      ]
     },
     "execution_count": 53,
     "metadata": {},
     "output_type": "execute_result"
    }
   ],
   "source": [
    "np.var(arr1)"
   ]
  },
  {
   "cell_type": "code",
   "execution_count": 54,
   "id": "0629c29a",
   "metadata": {},
   "outputs": [
    {
     "data": {
      "text/plain": [
       "1"
      ]
     },
     "execution_count": 54,
     "metadata": {},
     "output_type": "execute_result"
    }
   ],
   "source": [
    "np.min(arr1)"
   ]
  },
  {
   "cell_type": "code",
   "execution_count": 55,
   "id": "a60e7790",
   "metadata": {},
   "outputs": [
    {
     "data": {
      "text/plain": [
       "9"
      ]
     },
     "execution_count": 55,
     "metadata": {},
     "output_type": "execute_result"
    }
   ],
   "source": [
    "np.max(arr1)"
   ]
  },
  {
   "cell_type": "markdown",
   "id": "d190174f",
   "metadata": {},
   "source": [
    "# Aritmetic operations"
   ]
  },
  {
   "cell_type": "code",
   "execution_count": 57,
   "id": "dc9934ae",
   "metadata": {},
   "outputs": [
    {
     "data": {
      "text/plain": [
       "array([[9, 4, 1, 2],\n",
       "       [6, 4, 7, 7],\n",
       "       [3, 9, 2, 2]])"
      ]
     },
     "execution_count": 57,
     "metadata": {},
     "output_type": "execute_result"
    }
   ],
   "source": [
    "arr1"
   ]
  },
  {
   "cell_type": "code",
   "execution_count": 58,
   "id": "c1532460",
   "metadata": {},
   "outputs": [
    {
     "data": {
      "text/plain": [
       "array([[14,  9,  6,  7],\n",
       "       [11,  9, 12, 12],\n",
       "       [ 8, 14,  7,  7]])"
      ]
     },
     "execution_count": 58,
     "metadata": {},
     "output_type": "execute_result"
    }
   ],
   "source": [
    "arr1+5"
   ]
  },
  {
   "cell_type": "code",
   "execution_count": 59,
   "id": "311104bc",
   "metadata": {},
   "outputs": [
    {
     "data": {
      "text/plain": [
       "array([[ 7,  1, -2,  1],\n",
       "       [ 4,  0,  3,  6],\n",
       "       [ 1,  8,  1, -1]])"
      ]
     },
     "execution_count": 59,
     "metadata": {},
     "output_type": "execute_result"
    }
   ],
   "source": [
    "arr1-arr2"
   ]
  },
  {
   "cell_type": "code",
   "execution_count": 60,
   "id": "9c698252",
   "metadata": {},
   "outputs": [
    {
     "data": {
      "text/plain": [
       "array([[ 7,  1, -2,  1],\n",
       "       [ 4,  0,  3,  6],\n",
       "       [ 1,  8,  1, -1]])"
      ]
     },
     "execution_count": 60,
     "metadata": {},
     "output_type": "execute_result"
    }
   ],
   "source": [
    "np.subtract(arr1,arr2)"
   ]
  },
  {
   "cell_type": "code",
   "execution_count": 61,
   "id": "5843fa83",
   "metadata": {},
   "outputs": [
    {
     "data": {
      "text/plain": [
       "array([[18, 12,  3,  2],\n",
       "       [12, 16, 28,  7],\n",
       "       [ 6,  9,  2,  6]])"
      ]
     },
     "execution_count": 61,
     "metadata": {},
     "output_type": "execute_result"
    }
   ],
   "source": [
    "np.multiply(arr1,arr2)"
   ]
  },
  {
   "cell_type": "code",
   "execution_count": 62,
   "id": "c339b6ee",
   "metadata": {},
   "outputs": [
    {
     "data": {
      "text/plain": [
       "array([[1, 1, 1, 0],\n",
       "       [0, 0, 3, 0],\n",
       "       [1, 0, 0, 2]], dtype=int32)"
      ]
     },
     "execution_count": 62,
     "metadata": {},
     "output_type": "execute_result"
    }
   ],
   "source": [
    "np.mod(arr1,arr2) # mod means modulus operation here"
   ]
  },
  {
   "cell_type": "code",
   "execution_count": 63,
   "id": "8d8180b5",
   "metadata": {},
   "outputs": [
    {
     "data": {
      "text/plain": [
       "array([[  81,   64,    1,    2],\n",
       "       [  36,  256, 2401,    7],\n",
       "       [   9,    9,    2,    8]], dtype=int32)"
      ]
     },
     "execution_count": 63,
     "metadata": {},
     "output_type": "execute_result"
    }
   ],
   "source": [
    "np.power(arr1,arr2)"
   ]
  },
  {
   "cell_type": "code",
   "execution_count": 64,
   "id": "27ae4806",
   "metadata": {},
   "outputs": [
    {
     "data": {
      "text/plain": [
       "array([[3.        , 2.        , 1.        , 1.41421356],\n",
       "       [2.44948974, 2.        , 2.64575131, 2.64575131],\n",
       "       [1.73205081, 3.        , 1.41421356, 1.41421356]])"
      ]
     },
     "execution_count": 64,
     "metadata": {},
     "output_type": "execute_result"
    }
   ],
   "source": [
    "np.sqrt(arr1)"
   ]
  },
  {
   "cell_type": "code",
   "execution_count": 65,
   "id": "f5fb80e5",
   "metadata": {},
   "outputs": [
    {
     "data": {
      "text/plain": [
       "4.666666666666667"
      ]
     },
     "execution_count": 65,
     "metadata": {},
     "output_type": "execute_result"
    }
   ],
   "source": [
    "np.mean(arr1)"
   ]
  },
  {
   "cell_type": "markdown",
   "id": "10dbfd21",
   "metadata": {},
   "source": [
    "# lec 82\n",
    "## Numpy part 4"
   ]
  },
  {
   "cell_type": "code",
   "execution_count": 66,
   "id": "b6cb25ce",
   "metadata": {},
   "outputs": [],
   "source": [
    "# sort ,search and counting functions"
   ]
  },
  {
   "cell_type": "code",
   "execution_count": 71,
   "id": "bf24df81",
   "metadata": {},
   "outputs": [],
   "source": [
    "a=np.array([2,3,4,5,6,7,12,43,32,11,78,10])"
   ]
  },
  {
   "cell_type": "code",
   "execution_count": 72,
   "id": "4eabb206",
   "metadata": {},
   "outputs": [
    {
     "data": {
      "text/plain": [
       "array([ 2,  3,  4,  5,  6,  7, 12, 43, 32, 11, 78, 10])"
      ]
     },
     "execution_count": 72,
     "metadata": {},
     "output_type": "execute_result"
    }
   ],
   "source": [
    "a"
   ]
  },
  {
   "cell_type": "code",
   "execution_count": 73,
   "id": "270a5401",
   "metadata": {},
   "outputs": [
    {
     "data": {
      "text/plain": [
       "array([ 2,  3,  4,  5,  6,  7, 10, 11, 12, 32, 43, 78])"
      ]
     },
     "execution_count": 73,
     "metadata": {},
     "output_type": "execute_result"
    }
   ],
   "source": [
    "np.sort(a) # ascending order"
   ]
  },
  {
   "cell_type": "code",
   "execution_count": 77,
   "id": "94944769",
   "metadata": {},
   "outputs": [
    {
     "data": {
      "text/plain": [
       "6"
      ]
     },
     "execution_count": 77,
     "metadata": {},
     "output_type": "execute_result"
    }
   ],
   "source": [
    "np.searchsorted(a,8) # find indices where elements should be inserted to manintain order."
   ]
  },
  {
   "cell_type": "code",
   "execution_count": 79,
   "id": "37b9b825",
   "metadata": {},
   "outputs": [
    {
     "data": {
      "text/plain": [
       "12"
      ]
     },
     "execution_count": 79,
     "metadata": {},
     "output_type": "execute_result"
    }
   ],
   "source": [
    "np.searchsorted(a,123)"
   ]
  },
  {
   "cell_type": "code",
   "execution_count": 81,
   "id": "f47100b9",
   "metadata": {},
   "outputs": [
    {
     "data": {
      "text/plain": [
       "12"
      ]
     },
     "execution_count": 81,
     "metadata": {},
     "output_type": "execute_result"
    }
   ],
   "source": [
    "np.searchsorted(a,40)"
   ]
  },
  {
   "cell_type": "code",
   "execution_count": 82,
   "id": "7db40ea6",
   "metadata": {},
   "outputs": [
    {
     "data": {
      "text/plain": [
       "0"
      ]
     },
     "execution_count": 82,
     "metadata": {},
     "output_type": "execute_result"
    }
   ],
   "source": [
    "np.searchsorted(a,1) # at 0 th position we can insert this and preserved the order"
   ]
  },
  {
   "cell_type": "code",
   "execution_count": 83,
   "id": "757bdb58",
   "metadata": {},
   "outputs": [],
   "source": [
    "a1=np.array([1,2,3,4,0,0,7,6,5,4,3,7,8,9,2,4,0]) # array index starts from zero"
   ]
  },
  {
   "cell_type": "code",
   "execution_count": 86,
   "id": "e3504308",
   "metadata": {},
   "outputs": [
    {
     "data": {
      "text/plain": [
       "14"
      ]
     },
     "execution_count": 86,
     "metadata": {},
     "output_type": "execute_result"
    }
   ],
   "source": [
    "np.count_nonzero(a1) # gives no of non zero elements present in the array"
   ]
  },
  {
   "cell_type": "code",
   "execution_count": 89,
   "id": "7e26c6c7",
   "metadata": {},
   "outputs": [
    {
     "data": {
      "text/plain": [
       "(array([12, 13], dtype=int64),)"
      ]
     },
     "execution_count": 89,
     "metadata": {},
     "output_type": "execute_result"
    }
   ],
   "source": [
    "np.where(a1>7) # gives all the indices where the indices are greater than 7"
   ]
  },
  {
   "cell_type": "code",
   "execution_count": 92,
   "id": "c4f79ab8",
   "metadata": {},
   "outputs": [
    {
     "data": {
      "text/plain": [
       "array([7, 7, 8, 9])"
      ]
     },
     "execution_count": 92,
     "metadata": {},
     "output_type": "execute_result"
    }
   ],
   "source": [
    "np.extract(a1>6,a1) # extracts all the data which are greater than the given element\n"
   ]
  },
  {
   "cell_type": "code",
   "execution_count": 93,
   "id": "49d6b507",
   "metadata": {},
   "outputs": [
    {
     "data": {
      "text/plain": [
       "array([1, 2, 3, 4, 0, 0, 7, 6, 5, 4, 3, 7, 8, 9, 2, 4, 0])"
      ]
     },
     "execution_count": 93,
     "metadata": {},
     "output_type": "execute_result"
    }
   ],
   "source": [
    "a1"
   ]
  },
  {
   "cell_type": "code",
   "execution_count": 94,
   "id": "28bebcfa",
   "metadata": {},
   "outputs": [],
   "source": [
    "# Byte Swapping"
   ]
  },
  {
   "cell_type": "code",
   "execution_count": 95,
   "id": "8b689397",
   "metadata": {},
   "outputs": [
    {
     "data": {
      "text/plain": [
       "array([ 16777216,  33554432,  50331648,  67108864,         0,         0,\n",
       "       117440512, 100663296,  83886080,  67108864,  50331648, 117440512,\n",
       "       134217728, 150994944,  33554432,  67108864,         0])"
      ]
     },
     "execution_count": 95,
     "metadata": {},
     "output_type": "execute_result"
    }
   ],
   "source": [
    "# for every data ,it will give the byte representation present in the memory.\n",
    "a1.byteswap() # swaps the original data into the bytes present in the memory."
   ]
  },
  {
   "cell_type": "code",
   "execution_count": 96,
   "id": "428928ae",
   "metadata": {},
   "outputs": [
    {
     "data": {
      "text/plain": [
       "array([ 16777216,  33554432,  50331648,  67108864,         0,         0,\n",
       "       117440512, 100663296,  83886080,  67108864,  50331648, 117440512,\n",
       "       134217728, 150994944,  33554432,  67108864,         0])"
      ]
     },
     "execution_count": 96,
     "metadata": {},
     "output_type": "execute_result"
    }
   ],
   "source": [
    "a1.byteswap(True)\n"
   ]
  },
  {
   "cell_type": "code",
   "execution_count": 97,
   "id": "6fab1630",
   "metadata": {},
   "outputs": [
    {
     "data": {
      "text/plain": [
       "array([ 16777216,  33554432,  50331648,  67108864,         0,         0,\n",
       "       117440512, 100663296,  83886080,  67108864,  50331648, 117440512,\n",
       "       134217728, 150994944,  33554432,  67108864,         0])"
      ]
     },
     "execution_count": 97,
     "metadata": {},
     "output_type": "execute_result"
    }
   ],
   "source": [
    "a1"
   ]
  },
  {
   "cell_type": "code",
   "execution_count": 98,
   "id": "c71cb78f",
   "metadata": {},
   "outputs": [
    {
     "data": {
      "text/plain": [
       "array([ 16777216,  33554432,  50331648,  67108864,         0,         0,\n",
       "       117440512, 100663296,  83886080,  67108864,  50331648, 117440512,\n",
       "       134217728, 150994944,  33554432,  67108864,         0])"
      ]
     },
     "execution_count": 98,
     "metadata": {},
     "output_type": "execute_result"
    }
   ],
   "source": [
    "a1"
   ]
  },
  {
   "cell_type": "code",
   "execution_count": 99,
   "id": "1ffcc193",
   "metadata": {},
   "outputs": [
    {
     "data": {
      "text/plain": [
       "array([ 2,  3,  4,  5,  6,  7, 12, 43, 32, 11, 78, 10])"
      ]
     },
     "execution_count": 99,
     "metadata": {},
     "output_type": "execute_result"
    }
   ],
   "source": [
    "a"
   ]
  },
  {
   "cell_type": "markdown",
   "id": "ff6cfc89",
   "metadata": {},
   "source": [
    "# Copies and Views"
   ]
  },
  {
   "cell_type": "code",
   "execution_count": 103,
   "id": "65c4500a",
   "metadata": {},
   "outputs": [],
   "source": [
    "a2=np.copy(a) # deep copy"
   ]
  },
  {
   "cell_type": "code",
   "execution_count": 102,
   "id": "c3f459b9",
   "metadata": {},
   "outputs": [
    {
     "data": {
      "text/plain": [
       "array([ 2,  3,  4,  5,  6,  7, 12, 43, 32, 11, 78, 10])"
      ]
     },
     "execution_count": 102,
     "metadata": {},
     "output_type": "execute_result"
    }
   ],
   "source": [
    "a2"
   ]
  },
  {
   "cell_type": "code",
   "execution_count": 119,
   "id": "741dde8c",
   "metadata": {},
   "outputs": [],
   "source": [
    "a21=a.view() # just like a shallow copy.. changing one variable elements changes another place elements also."
   ]
  },
  {
   "cell_type": "code",
   "execution_count": 120,
   "id": "edfdecdf",
   "metadata": {},
   "outputs": [
    {
     "data": {
      "text/plain": [
       "array([109,   3,   4,   5,   6,   7,  12,  43,  32,  11,  78,  10])"
      ]
     },
     "execution_count": 120,
     "metadata": {},
     "output_type": "execute_result"
    }
   ],
   "source": [
    "a21"
   ]
  },
  {
   "cell_type": "code",
   "execution_count": 121,
   "id": "8c7ff349",
   "metadata": {},
   "outputs": [],
   "source": [
    "a21[0]=109"
   ]
  },
  {
   "cell_type": "code",
   "execution_count": 122,
   "id": "5a98c9e1",
   "metadata": {},
   "outputs": [
    {
     "data": {
      "text/plain": [
       "array([109,   3,   4,   5,   6,   7,  12,  43,  32,  11,  78,  10])"
      ]
     },
     "execution_count": 122,
     "metadata": {},
     "output_type": "execute_result"
    }
   ],
   "source": [
    "a21"
   ]
  },
  {
   "cell_type": "code",
   "execution_count": 123,
   "id": "9d47bd55",
   "metadata": {},
   "outputs": [
    {
     "data": {
      "text/plain": [
       "array([109,   3,   4,   5,   6,   7,  12,  43,  32,  11,  78,  10])"
      ]
     },
     "execution_count": 123,
     "metadata": {},
     "output_type": "execute_result"
    }
   ],
   "source": [
    "a"
   ]
  },
  {
   "cell_type": "markdown",
   "id": "2564392e",
   "metadata": {},
   "source": [
    "# Numpy-Matrix Libraray"
   ]
  },
  {
   "cell_type": "code",
   "execution_count": 125,
   "id": "73b28b04",
   "metadata": {},
   "outputs": [],
   "source": [
    "import numpy.matlib as nm"
   ]
  },
  {
   "cell_type": "code",
   "execution_count": 126,
   "id": "4b1531de",
   "metadata": {},
   "outputs": [
    {
     "data": {
      "text/plain": [
       "matrix([[0., 0., 0., 0., 0.]])"
      ]
     },
     "execution_count": 126,
     "metadata": {},
     "output_type": "execute_result"
    }
   ],
   "source": [
    "nm.zeros(5)"
   ]
  },
  {
   "cell_type": "code",
   "execution_count": 127,
   "id": "dd93b635",
   "metadata": {},
   "outputs": [
    {
     "data": {
      "text/plain": [
       "matrix([[1., 1., 1., 1.],\n",
       "        [1., 1., 1., 1.],\n",
       "        [1., 1., 1., 1.]])"
      ]
     },
     "execution_count": 127,
     "metadata": {},
     "output_type": "execute_result"
    }
   ],
   "source": [
    "nm.ones((3,4))"
   ]
  },
  {
   "cell_type": "code",
   "execution_count": 128,
   "id": "75e950ba",
   "metadata": {},
   "outputs": [
    {
     "data": {
      "text/plain": [
       "matrix([[1., 0., 0., 0.],\n",
       "        [0., 1., 0., 0.],\n",
       "        [0., 0., 1., 0.],\n",
       "        [0., 0., 0., 1.]])"
      ]
     },
     "execution_count": 128,
     "metadata": {},
     "output_type": "execute_result"
    }
   ],
   "source": [
    "nm.eye(4)"
   ]
  },
  {
   "cell_type": "markdown",
   "id": "da998353",
   "metadata": {},
   "source": [
    "# Linear Algebra"
   ]
  },
  {
   "cell_type": "code",
   "execution_count": 129,
   "id": "d4a8a372",
   "metadata": {},
   "outputs": [
    {
     "data": {
      "text/plain": [
       "array([109,   3,   4,   5,   6,   7,  12,  43,  32,  11,  78,  10])"
      ]
     },
     "execution_count": 129,
     "metadata": {},
     "output_type": "execute_result"
    }
   ],
   "source": [
    "a"
   ]
  },
  {
   "cell_type": "code",
   "execution_count": 130,
   "id": "fd32aad8",
   "metadata": {},
   "outputs": [],
   "source": [
    "c1=np.random.randint([[2,3],[4,5]]) "
   ]
  },
  {
   "cell_type": "code",
   "execution_count": 131,
   "id": "afb559ec",
   "metadata": {},
   "outputs": [
    {
     "data": {
      "text/plain": [
       "array([[1, 2],\n",
       "       [3, 0]])"
      ]
     },
     "execution_count": 131,
     "metadata": {},
     "output_type": "execute_result"
    }
   ],
   "source": [
    "c1"
   ]
  },
  {
   "cell_type": "code",
   "execution_count": 134,
   "id": "3e656de8",
   "metadata": {},
   "outputs": [],
   "source": [
    "c2=np.random.randint([[5,3],[4,3]])"
   ]
  },
  {
   "cell_type": "code",
   "execution_count": 135,
   "id": "de8f15b5",
   "metadata": {},
   "outputs": [
    {
     "data": {
      "text/plain": [
       "array([[2, 0],\n",
       "       [2, 0]])"
      ]
     },
     "execution_count": 135,
     "metadata": {},
     "output_type": "execute_result"
    }
   ],
   "source": [
    "c2"
   ]
  },
  {
   "cell_type": "code",
   "execution_count": 136,
   "id": "5b5cf576",
   "metadata": {},
   "outputs": [
    {
     "data": {
      "text/plain": [
       "array([[2, 0],\n",
       "       [2, 0]])"
      ]
     },
     "execution_count": 136,
     "metadata": {},
     "output_type": "execute_result"
    }
   ],
   "source": [
    "np.dot(1,c2) # dot product of two arrays"
   ]
  },
  {
   "cell_type": "code",
   "execution_count": 138,
   "id": "e8d0f034",
   "metadata": {},
   "outputs": [
    {
     "data": {
      "text/plain": [
       "array([[6, 0],\n",
       "       [6, 0]])"
      ]
     },
     "execution_count": 138,
     "metadata": {},
     "output_type": "execute_result"
    }
   ],
   "source": [
    "c1@c2"
   ]
  },
  {
   "cell_type": "code",
   "execution_count": null,
   "id": "de617172",
   "metadata": {},
   "outputs": [],
   "source": []
  }
 ],
 "metadata": {
  "kernelspec": {
   "display_name": "Python 3 (ipykernel)",
   "language": "python",
   "name": "python3"
  },
  "language_info": {
   "codemirror_mode": {
    "name": "ipython",
    "version": 3
   },
   "file_extension": ".py",
   "mimetype": "text/x-python",
   "name": "python",
   "nbconvert_exporter": "python",
   "pygments_lexer": "ipython3",
   "version": "3.9.13"
  }
 },
 "nbformat": 4,
 "nbformat_minor": 5
}
