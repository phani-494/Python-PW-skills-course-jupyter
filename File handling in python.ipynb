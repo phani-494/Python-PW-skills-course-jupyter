{
 "cells": [
  {
   "cell_type": "markdown",
   "id": "cee08024",
   "metadata": {},
   "source": [
    "## Files \n",
    "# lec 42--> working with files"
   ]
  },
  {
   "cell_type": "code",
   "execution_count": 11,
   "id": "114417a1",
   "metadata": {},
   "outputs": [],
   "source": [
    "file1=open(\"test1.txt\",\"w\") # write mode deletes/truncates all the files present in it and then writes whatever we want to write to file.\n"
   ]
  },
  {
   "cell_type": "code",
   "execution_count": 4,
   "id": "35aa6575",
   "metadata": {},
   "outputs": [
    {
     "data": {
      "text/plain": [
       "'C:\\\\Users\\\\Phanindra Reddy\\\\Python Krish Naik'"
      ]
     },
     "execution_count": 4,
     "metadata": {},
     "output_type": "execute_result"
    }
   ],
   "source": [
    "pwd # the above file is present at this working directory"
   ]
  },
  {
   "cell_type": "code",
   "execution_count": 5,
   "id": "b16f384d",
   "metadata": {},
   "outputs": [
    {
     "name": "stdout",
     "output_type": "stream",
     "text": [
      " Volume in drive C is Windows-SSD\n",
      " Volume Serial Number is EE1D-1EC7\n",
      "\n",
      " Directory of C:\\Users\\Phanindra Reddy\\Python Krish Naik\n",
      "\n",
      "01-04-2023  21:33    <DIR>          .\n",
      "24-03-2023  07:10    <DIR>          ..\n",
      "01-04-2023  21:30    <DIR>          .ipynb_checkpoints\n",
      "25-03-2023  10:53            25,222 Abstraction.ipynb\n",
      "09-02-2023  08:41            27,585 Dictionaries.ipynb\n",
      "23-03-2023  23:59            15,724 Encapsulation.ipynb\n",
      "01-04-2023  21:33             1,028 File handling in python.ipynb\n",
      "01-02-2023  22:40            11,242 format_string_control_flow_input_function.ipynb\n",
      "11-02-2023  08:37            36,549 Functions_part1.ipynb\n",
      "12-02-2023  22:11            12,218 Generator_functions.ipynb\n",
      "05-03-2023  23:05            14,648 Inheritance.ipynb\n",
      "01-02-2023  23:37             5,886 loops_control_flow.ipynb\n",
      "03-02-2023  07:23             8,512 loops_control_flow_part2.ipynb\n",
      "15-02-2023  22:22            16,976 map_filter_reduce_functions.ipynb\n",
      "18-02-2023  23:48            22,449 oops_part1.ipynb\n",
      "02-03-2023  22:39            17,945 Polymorphism.ipynb\n",
      "08-02-2023  23:06            12,712 Sets.ipynb\n",
      "05-02-2023  23:25            27,920 Strings_lists_booleans.ipynb\n",
      "07-02-2023  23:09            36,165 strings_lists_part2.ipynb\n",
      "01-04-2023  21:31                 0 test1.txt\n",
      "08-02-2023  23:06            22,613 Tuples.ipynb\n",
      "05-03-2023  22:45            11,269 Untitled.ipynb\n",
      "24-03-2023  06:30               589 Untitled1.ipynb\n",
      "01-02-2023  23:36             5,886 Untitled2.ipynb\n",
      "05-02-2023  20:18            27,476 Untitled3.ipynb\n",
      "07-02-2023  08:34            20,715 Untitled4.ipynb\n",
      "12-02-2023  21:50                72 Untitled5.ipynb\n",
      "              24 File(s)        381,401 bytes\n",
      "               3 Dir(s)  49,461,731,328 bytes free\n"
     ]
    }
   ],
   "source": [
    "ls"
   ]
  },
  {
   "cell_type": "code",
   "execution_count": 6,
   "id": "e05d1246",
   "metadata": {},
   "outputs": [
    {
     "data": {
      "text/plain": [
       "51"
      ]
     },
     "execution_count": 6,
     "metadata": {},
     "output_type": "execute_result"
    }
   ],
   "source": [
    "file1.write(\"Okay phanindra the best data scientist in the world\")"
   ]
  },
  {
   "cell_type": "code",
   "execution_count": 7,
   "id": "95c4565f",
   "metadata": {},
   "outputs": [],
   "source": [
    "# the above number represents the number of bytes writing to the file"
   ]
  },
  {
   "cell_type": "code",
   "execution_count": 9,
   "id": "d4b546be",
   "metadata": {},
   "outputs": [],
   "source": [
    "file1.close()  #once you close the file then only the contents will be written to the file"
   ]
  },
  {
   "cell_type": "code",
   "execution_count": 13,
   "id": "d98917c3",
   "metadata": {},
   "outputs": [
    {
     "data": {
      "text/plain": [
       "40"
      ]
     },
     "execution_count": 13,
     "metadata": {},
     "output_type": "execute_result"
    }
   ],
   "source": [
    "file1.write(\"Now the new contents will be placed here\") # since file is closed we need to run again open function"
   ]
  },
  {
   "cell_type": "code",
   "execution_count": 14,
   "id": "2b40d5a0",
   "metadata": {},
   "outputs": [],
   "source": [
    "file1.close()"
   ]
  },
  {
   "cell_type": "code",
   "execution_count": 26,
   "id": "d64555b4",
   "metadata": {},
   "outputs": [],
   "source": [
    "file2=open(\"test2.txt\",\"a\")  # old content will not be truncated in append mode"
   ]
  },
  {
   "cell_type": "code",
   "execution_count": 22,
   "id": "c432d6fd",
   "metadata": {},
   "outputs": [
    {
     "data": {
      "text/plain": [
       "51"
      ]
     },
     "execution_count": 22,
     "metadata": {},
     "output_type": "execute_result"
    }
   ],
   "source": [
    "file2.write(\"Okay phanindra the best data scientist in the world\")"
   ]
  },
  {
   "cell_type": "code",
   "execution_count": 23,
   "id": "4a0c2e17",
   "metadata": {},
   "outputs": [],
   "source": [
    "file2.close()"
   ]
  },
  {
   "cell_type": "code",
   "execution_count": 27,
   "id": "3bd00f4b",
   "metadata": {},
   "outputs": [
    {
     "data": {
      "text/plain": [
       "41"
      ]
     },
     "execution_count": 27,
     "metadata": {},
     "output_type": "execute_result"
    }
   ],
   "source": [
    "file2.write(\"The new content will be also present here\")"
   ]
  },
  {
   "cell_type": "code",
   "execution_count": 25,
   "id": "6205e7a3",
   "metadata": {},
   "outputs": [],
   "source": [
    "file2.close()"
   ]
  },
  {
   "cell_type": "code",
   "execution_count": 28,
   "id": "21ebe8ba",
   "metadata": {},
   "outputs": [],
   "source": [
    "data=open(\"test2.txt\",\"r\")"
   ]
  },
  {
   "cell_type": "code",
   "execution_count": 29,
   "id": "02a10d26",
   "metadata": {},
   "outputs": [
    {
     "data": {
      "text/plain": [
       "'Okay phanindra the best data scientist in the worldThe new content will be also present hereOkay phanindra the best data scientist in the world'"
      ]
     },
     "execution_count": 29,
     "metadata": {},
     "output_type": "execute_result"
    }
   ],
   "source": [
    "data.read()"
   ]
  },
  {
   "cell_type": "code",
   "execution_count": 31,
   "id": "f656877d",
   "metadata": {},
   "outputs": [
    {
     "data": {
      "text/plain": [
       "''"
      ]
     },
     "execution_count": 31,
     "metadata": {},
     "output_type": "execute_result"
    }
   ],
   "source": [
    "data.read() # since cursor is present at the end of file and no data is present at the end of file, output is blank."
   ]
  },
  {
   "cell_type": "code",
   "execution_count": 33,
   "id": "9244273e",
   "metadata": {},
   "outputs": [
    {
     "data": {
      "text/plain": [
       "0"
      ]
     },
     "execution_count": 33,
     "metadata": {},
     "output_type": "execute_result"
    }
   ],
   "source": [
    "data.seek(0) # brings cursor back to the zeroth position"
   ]
  },
  {
   "cell_type": "code",
   "execution_count": 34,
   "id": "b12681b2",
   "metadata": {},
   "outputs": [
    {
     "data": {
      "text/plain": [
       "'Okay phanindra the best data scientist in the worldThe new content will be also present hereOkay phanindra the best data scientist in the world'"
      ]
     },
     "execution_count": 34,
     "metadata": {},
     "output_type": "execute_result"
    }
   ],
   "source": [
    "data.read() # we got output since cursor is at starting position"
   ]
  },
  {
   "cell_type": "code",
   "execution_count": 43,
   "id": "ce9b00c2",
   "metadata": {},
   "outputs": [
    {
     "data": {
      "text/plain": [
       "10"
      ]
     },
     "execution_count": 43,
     "metadata": {},
     "output_type": "execute_result"
    }
   ],
   "source": [
    "data.seek(10)"
   ]
  },
  {
   "cell_type": "code",
   "execution_count": 39,
   "id": "e0e92288",
   "metadata": {},
   "outputs": [
    {
     "data": {
      "text/plain": [
       "'ndra the best data scientist in the worldThe new content will be also present hereOkay phanindra the best data scientist in the world'"
      ]
     },
     "execution_count": 39,
     "metadata": {},
     "output_type": "execute_result"
    }
   ],
   "source": [
    "data.read() # starts from 10 th position"
   ]
  },
  {
   "cell_type": "code",
   "execution_count": 40,
   "id": "af034bae",
   "metadata": {},
   "outputs": [],
   "source": [
    "# we can also use the for loop to read the data present in the file."
   ]
  },
  {
   "cell_type": "code",
   "execution_count": 45,
   "id": "e1bca0f6",
   "metadata": {},
   "outputs": [
    {
     "name": "stdout",
     "output_type": "stream",
     "text": [
      "Okay phanindra the best data scientist in the worldThe new content will be also present hereOkay phanindra the best data scientist in the world\n"
     ]
    }
   ],
   "source": [
    "data.seek(0)\n",
    "for i in data: # same  like data.read()\n",
    "    print(i)"
   ]
  },
  {
   "cell_type": "code",
   "execution_count": 49,
   "id": "8403d02f",
   "metadata": {},
   "outputs": [],
   "source": [
    "import os # u need to import this module to know the size of the file"
   ]
  },
  {
   "cell_type": "code",
   "execution_count": 50,
   "id": "e53e52d2",
   "metadata": {},
   "outputs": [
    {
     "data": {
      "text/plain": [
       "143"
      ]
     },
     "execution_count": 50,
     "metadata": {},
     "output_type": "execute_result"
    }
   ],
   "source": [
    "os.path.getsize(\"test2.txt\")"
   ]
  },
  {
   "cell_type": "code",
   "execution_count": 51,
   "id": "43f62904",
   "metadata": {},
   "outputs": [],
   "source": [
    "import shutil # import this module to copy the files "
   ]
  },
  {
   "cell_type": "code",
   "execution_count": 52,
   "id": "5deb6ab9",
   "metadata": {},
   "outputs": [
    {
     "data": {
      "text/plain": [
       "'test3.txt'"
      ]
     },
     "execution_count": 52,
     "metadata": {},
     "output_type": "execute_result"
    }
   ],
   "source": [
    "shutil.copy(\"test1.txt\",\"test3.txt\") # old file to new file"
   ]
  },
  {
   "cell_type": "code",
   "execution_count": 55,
   "id": "a301c026",
   "metadata": {},
   "outputs": [],
   "source": [
    "file2.close()\n",
    "os.remove(\"test3.txt\")"
   ]
  },
  {
   "cell_type": "code",
   "execution_count": 57,
   "id": "060d457c",
   "metadata": {},
   "outputs": [
    {
     "name": "stdout",
     "output_type": "stream",
     "text": [
      "Okay phanindra the best data scientist in the worldThe new content will be also present hereOkay phanindra the best data scientist in the worldThe new content will be also present here\n"
     ]
    }
   ],
   "source": [
    "# one more way to open files\n",
    "with open (\"test2.txt\",\"r\") as f:\n",
    "    print(f.read())"
   ]
  },
  {
   "cell_type": "code",
   "execution_count": 58,
   "id": "db7c3030",
   "metadata": {},
   "outputs": [],
   "source": [
    "os.rename(\"test1.txt\",\"newtest1.txt\") # renaming the file"
   ]
  },
  {
   "cell_type": "markdown",
   "id": "5e24bd85",
   "metadata": {},
   "source": [
    "# lec 43\n",
    "## reading and writing files"
   ]
  },
  {
   "cell_type": "code",
   "execution_count": null,
   "id": "7046ddba",
   "metadata": {},
   "outputs": [],
   "source": [
    "# when dealing with dictionaries in files , it is better to use the json format files"
   ]
  },
  {
   "cell_type": "code",
   "execution_count": 71,
   "id": "d87e7e2b",
   "metadata": {},
   "outputs": [],
   "source": [
    "# here we will store the dictionary  information in the json file.\n",
    "data1={\n",
    "    \"name\":\"Indra\",\n",
    "    \"salary\":100000000,\n",
    "    \"age\":25,\n",
    "    \"subjects\":[\"probability\",\"statistics\",\"Machine Learning\",\"SQL\"],\n",
    "}"
   ]
  },
  {
   "cell_type": "code",
   "execution_count": 72,
   "id": "7ca5cdbf",
   "metadata": {},
   "outputs": [],
   "source": [
    "# import the json module to use the json files\n",
    "# for write operation use dump() in json files\n",
    "# for read operation use the load() in json files\n",
    "import json"
   ]
  },
  {
   "cell_type": "code",
   "execution_count": 74,
   "id": "d311e321",
   "metadata": {},
   "outputs": [],
   "source": [
    "\n",
    "# Python program to write JSON\n",
    "# to a file\n",
    " \n",
    " \n",
    "import json\n",
    " \n",
    "# Data to be written\n",
    "dictionary = {\n",
    "    \"name\": \"sathiyajith\",\n",
    "    \"rollno\": 56,\n",
    "    \"cgpa\": 8.6,\n",
    "    \"phonenumber\": \"9976770500\"\n",
    "}\n",
    " \n",
    "with open(\"sample.json\", \"w\") as outfile:\n",
    "    json.dump(dictionary, outfile)"
   ]
  },
  {
   "cell_type": "code",
   "execution_count": 75,
   "id": "6e9c59af",
   "metadata": {},
   "outputs": [],
   "source": [
    "with open(\"sample.json\",\"r\") as f:\n",
    "    data=json.load(f)"
   ]
  },
  {
   "cell_type": "code",
   "execution_count": 76,
   "id": "7a8f5ea0",
   "metadata": {},
   "outputs": [
    {
     "data": {
      "text/plain": [
       "{'name': 'sathiyajith', 'rollno': 56, 'cgpa': 8.6, 'phonenumber': '9976770500'}"
      ]
     },
     "execution_count": 76,
     "metadata": {},
     "output_type": "execute_result"
    }
   ],
   "source": [
    "data"
   ]
  },
  {
   "cell_type": "code",
   "execution_count": 77,
   "id": "66fa1c93",
   "metadata": {},
   "outputs": [
    {
     "data": {
      "text/plain": [
       "56"
      ]
     },
     "execution_count": 77,
     "metadata": {},
     "output_type": "execute_result"
    }
   ],
   "source": [
    "data[\"rollno\"]"
   ]
  },
  {
   "cell_type": "code",
   "execution_count": 78,
   "id": "417f95df",
   "metadata": {},
   "outputs": [],
   "source": [
    "# if the data is based on the comma separation, then it is better to use the csv(comma separated value) file"
   ]
  },
  {
   "cell_type": "code",
   "execution_count": 89,
   "id": "1804e544",
   "metadata": {},
   "outputs": [],
   "source": [
    "data1=[[\"name\",\"rollno\",\"id\"],\n",
    "      [\"indra\",\"7093452575\",\"494\"],\n",
    "      [\"lucky\",\"8927454222\",\"495\"]\n",
    "      ] # data set is separated by the comma"
   ]
  },
  {
   "cell_type": "code",
   "execution_count": 90,
   "id": "418c22bf",
   "metadata": {},
   "outputs": [],
   "source": [
    "import csv\n",
    "with open(\"test5.csv\",\"w\") as f:\n",
    "    w=csv.writer(f) # this will create an object.\n",
    "    for i in data1:\n",
    "        w.writerow(i)"
   ]
  },
  {
   "cell_type": "code",
   "execution_count": 91,
   "id": "926901b7",
   "metadata": {},
   "outputs": [
    {
     "data": {
      "text/plain": [
       "<_csv.writer at 0x1ee99685cc0>"
      ]
     },
     "execution_count": 91,
     "metadata": {},
     "output_type": "execute_result"
    }
   ],
   "source": [
    "w"
   ]
  },
  {
   "cell_type": "code",
   "execution_count": 92,
   "id": "ff39fab1",
   "metadata": {},
   "outputs": [
    {
     "name": "stdout",
     "output_type": "stream",
     "text": [
      "['name', 'rollno', 'id']\n",
      "[]\n",
      "['indra', '7093452575', '494']\n",
      "[]\n",
      "['lucky', '8927454222', '495']\n",
      "[]\n"
     ]
    }
   ],
   "source": [
    "with open(\"test5.csv\",\"r\") as f:\n",
    "    read=csv.reader(f)\n",
    "    for i in read:\n",
    "        print(i)\n",
    "        "
   ]
  },
  {
   "cell_type": "code",
   "execution_count": 94,
   "id": "4fcfbd66",
   "metadata": {},
   "outputs": [],
   "source": [
    "# binary data\n",
    "with open(\"test4.bin\",\"wb\") as f: # wb means write binary\n",
    "    f.write(b\"01010\")"
   ]
  },
  {
   "cell_type": "code",
   "execution_count": 95,
   "id": "c98b4e0d",
   "metadata": {},
   "outputs": [
    {
     "name": "stdout",
     "output_type": "stream",
     "text": [
      "b'01010'\n"
     ]
    }
   ],
   "source": [
    "with open(\"test4.bin\",\"rb\") as f: # rb means read binary\n",
    "   print(f.read()) "
   ]
  },
  {
   "cell_type": "markdown",
   "id": "b3f95735",
   "metadata": {},
   "source": [
    "# lec 44\n",
    "## buffered read and write and other file methods"
   ]
  },
  {
   "cell_type": "markdown",
   "id": "cdc6e89e",
   "metadata": {},
   "source": [
    "1. The main use of the buffer operations are when we deal with the files having large amounts of data\n",
    "2. The data will be treated in chunks here when we use buffer operations\n",
    "3. The default size of a buffer will be 8192 bytes which means at a time ,it will write the 8192 bytes into the file\n",
    "4. We can also the default buffer size which we want to set."
   ]
  },
  {
   "cell_type": "code",
   "execution_count": 107,
   "id": "bb7e3090",
   "metadata": {},
   "outputs": [],
   "source": [
    "import io\n",
    "#Init signature: io.BufferedWriter(raw, buffer_size=8192)\n",
    "#Docstring:     \n",
    "#A buffer for a writeable sequential RawIO object."
   ]
  },
  {
   "cell_type": "code",
   "execution_count": 112,
   "id": "422db3ae",
   "metadata": {},
   "outputs": [],
   "source": [
    "with open(\"test6.txt\",\"wb\") as f:\n",
    "    file=io.BufferedWriter(f)\n",
    "    file.write(b\"This is the new buffer lines\\n\")\n",
    "    file.write(b\"So much data can be put here also\")\n",
    "    file.flush() # similarly like close() ,here we have togive flush(), then only the data will be entered into the file."
   ]
  },
  {
   "cell_type": "code",
   "execution_count": 113,
   "id": "e6d1f64f",
   "metadata": {},
   "outputs": [],
   "source": [
    "with open(\"test6.txt\",\"wb\") as f:\n",
    "    file=io.BufferedWriter(f,buffer_size=100)\n",
    "    file.write(b\"This is the new buffer lines\\n\")\n",
    "    file.write(b\"So much data can be put here also\")\n",
    "    file.flush() "
   ]
  },
  {
   "cell_type": "code",
   "execution_count": 116,
   "id": "9b7c564a",
   "metadata": {},
   "outputs": [
    {
     "name": "stdout",
     "output_type": "stream",
     "text": [
      "b'This is the new buffer lines\\nSo much data can be put here also'\n"
     ]
    }
   ],
   "source": [
    "with open(\"test6.txt\",\"rb\") as f:\n",
    "    file=io.BufferedReader(f)\n",
    "    data=file.read()\n",
    "    print(data)"
   ]
  },
  {
   "cell_type": "code",
   "execution_count": 118,
   "id": "419a5b91",
   "metadata": {},
   "outputs": [
    {
     "name": "stdout",
     "output_type": "stream",
     "text": [
      "b'This is th'\n"
     ]
    }
   ],
   "source": [
    "with open(\"test6.txt\",\"rb\") as f:\n",
    "    file=io.BufferedReader(f)\n",
    "    data=file.read(10) # only 10 bytes\n",
    "    print(data)"
   ]
  },
  {
   "cell_type": "code",
   "execution_count": null,
   "id": "6581e6a1",
   "metadata": {},
   "outputs": [],
   "source": []
  }
 ],
 "metadata": {
  "kernelspec": {
   "display_name": "Python 3 (ipykernel)",
   "language": "python",
   "name": "python3"
  },
  "language_info": {
   "codemirror_mode": {
    "name": "ipython",
    "version": 3
   },
   "file_extension": ".py",
   "mimetype": "text/x-python",
   "name": "python",
   "nbconvert_exporter": "python",
   "pygments_lexer": "ipython3",
   "version": "3.9.13"
  }
 },
 "nbformat": 4,
 "nbformat_minor": 5
}
