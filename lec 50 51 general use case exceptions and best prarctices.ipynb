{
 "cells": [
  {
   "cell_type": "markdown",
   "id": "6168accb",
   "metadata": {},
   "source": [
    "# lec 50\n",
    "## List of General use Exceptions"
   ]
  },
  {
   "cell_type": "code",
   "execution_count": 1,
   "id": "843c69f5",
   "metadata": {},
   "outputs": [
    {
     "name": "stdout",
     "output_type": "stream",
     "text": [
      "division by zero\n"
     ]
    }
   ],
   "source": [
    "try:\n",
    "    a=10\n",
    "    10/0\n",
    "except ZeroDivisionError as e:\n",
    "    print(e)"
   ]
  },
  {
   "cell_type": "code",
   "execution_count": 2,
   "id": "f2b3ca9a",
   "metadata": {},
   "outputs": [
    {
     "ename": "ValueError",
     "evalue": "invalid literal for int() with base 10: 'indra'",
     "output_type": "error",
     "traceback": [
      "\u001b[1;31m---------------------------------------------------------------------------\u001b[0m",
      "\u001b[1;31mValueError\u001b[0m                                Traceback (most recent call last)",
      "\u001b[1;32m~\\AppData\\Local\\Temp\\ipykernel_26540\\1560784403.py\u001b[0m in \u001b[0;36m<module>\u001b[1;34m\u001b[0m\n\u001b[1;32m----> 1\u001b[1;33m \u001b[0mint\u001b[0m\u001b[1;33m(\u001b[0m\u001b[1;34m\"indra\"\u001b[0m\u001b[1;33m)\u001b[0m\u001b[1;33m\u001b[0m\u001b[1;33m\u001b[0m\u001b[0m\n\u001b[0m",
      "\u001b[1;31mValueError\u001b[0m: invalid literal for int() with base 10: 'indra'"
     ]
    }
   ],
   "source": [
    "int(\"indra\")"
   ]
  },
  {
   "cell_type": "code",
   "execution_count": 3,
   "id": "1634772a",
   "metadata": {},
   "outputs": [
    {
     "name": "stdout",
     "output_type": "stream",
     "text": [
      "invalid literal for int() with base 10: 'indra'\n"
     ]
    }
   ],
   "source": [
    "try:\n",
    "    int(\"indra\")\n",
    "except (ValueError,TypeError) as e:\n",
    "    print(e)"
   ]
  },
  {
   "cell_type": "code",
   "execution_count": 5,
   "id": "fe6e220d",
   "metadata": {},
   "outputs": [
    {
     "name": "stdout",
     "output_type": "stream",
     "text": [
      "This will come with an error\n"
     ]
    }
   ],
   "source": [
    "# suppose if we don't know the error what will be exactly then we use except\n",
    "try:\n",
    "    int(\"indra\")\n",
    "except: # in this situation ,it will call super class automatically if we don't know the type of error\n",
    "    print(\"This will come with an error\")\n",
    "    "
   ]
  },
  {
   "cell_type": "code",
   "execution_count": 6,
   "id": "c5200670",
   "metadata": {},
   "outputs": [
    {
     "name": "stdout",
     "output_type": "stream",
     "text": [
      "No module named 'indra'\n"
     ]
    }
   ],
   "source": [
    "try:\n",
    "    import indra\n",
    "except ImportError as e:\n",
    "    print(e)"
   ]
  },
  {
   "cell_type": "code",
   "execution_count": 8,
   "id": "250fe501",
   "metadata": {},
   "outputs": [
    {
     "name": "stdout",
     "output_type": "stream",
     "text": [
      "'key10'\n"
     ]
    }
   ],
   "source": [
    "try:\n",
    "    dict={1:[1,2,3,4],\"key\":1000}\n",
    "    dict[\"key10\"]\n",
    "except KeyError as e:\n",
    "    print(e)"
   ]
  },
  {
   "cell_type": "code",
   "execution_count": 9,
   "id": "94bc3006",
   "metadata": {},
   "outputs": [
    {
     "ename": "AttributeError",
     "evalue": "'str' object has no attribute 'test'",
     "output_type": "error",
     "traceback": [
      "\u001b[1;31m---------------------------------------------------------------------------\u001b[0m",
      "\u001b[1;31mAttributeError\u001b[0m                            Traceback (most recent call last)",
      "\u001b[1;32m~\\AppData\\Local\\Temp\\ipykernel_26540\\1587140552.py\u001b[0m in \u001b[0;36m<module>\u001b[1;34m\u001b[0m\n\u001b[1;32m----> 1\u001b[1;33m \u001b[1;34m\"indra\"\u001b[0m\u001b[1;33m.\u001b[0m\u001b[0mtest\u001b[0m\u001b[1;33m(\u001b[0m\u001b[1;33m)\u001b[0m\u001b[1;33m\u001b[0m\u001b[1;33m\u001b[0m\u001b[0m\n\u001b[0m",
      "\u001b[1;31mAttributeError\u001b[0m: 'str' object has no attribute 'test'"
     ]
    }
   ],
   "source": [
    "\"indra\".test()"
   ]
  },
  {
   "cell_type": "code",
   "execution_count": 10,
   "id": "c5fe09f2",
   "metadata": {},
   "outputs": [
    {
     "name": "stdout",
     "output_type": "stream",
     "text": [
      "'str' object has no attribute 'test'\n"
     ]
    }
   ],
   "source": [
    "try:\n",
    "    \"indra\".test()\n",
    "except AttributeError as e:\n",
    "    print(e)"
   ]
  },
  {
   "cell_type": "code",
   "execution_count": 12,
   "id": "427e5d87",
   "metadata": {},
   "outputs": [
    {
     "ename": "IndexError",
     "evalue": "string index out of range",
     "output_type": "error",
     "traceback": [
      "\u001b[1;31m---------------------------------------------------------------------------\u001b[0m",
      "\u001b[1;31mIndexError\u001b[0m                                Traceback (most recent call last)",
      "\u001b[1;32m~\\AppData\\Local\\Temp\\ipykernel_26540\\104273991.py\u001b[0m in \u001b[0;36m<module>\u001b[1;34m\u001b[0m\n\u001b[0;32m      1\u001b[0m \u001b[0mstr1\u001b[0m\u001b[1;33m=\u001b[0m\u001b[1;34m\"indra lucky\"\u001b[0m\u001b[1;33m\u001b[0m\u001b[1;33m\u001b[0m\u001b[0m\n\u001b[1;32m----> 2\u001b[1;33m \u001b[0mstr1\u001b[0m\u001b[1;33m[\u001b[0m\u001b[1;36m20\u001b[0m\u001b[1;33m]\u001b[0m\u001b[1;33m\u001b[0m\u001b[1;33m\u001b[0m\u001b[0m\n\u001b[0m",
      "\u001b[1;31mIndexError\u001b[0m: string index out of range"
     ]
    }
   ],
   "source": [
    "str1=\"indra lucky\"\n",
    "str1[20]\n"
   ]
  },
  {
   "cell_type": "code",
   "execution_count": 13,
   "id": "a14f2528",
   "metadata": {},
   "outputs": [
    {
     "name": "stdout",
     "output_type": "stream",
     "text": [
      "string index out of range\n"
     ]
    }
   ],
   "source": [
    "try:\n",
    "    str1=\"indra lucky\"\n",
    "    str1[20]\n",
    "except IndexError as e:\n",
    "    print(e)"
   ]
  },
  {
   "cell_type": "code",
   "execution_count": 14,
   "id": "56dcf723",
   "metadata": {},
   "outputs": [
    {
     "ename": "SyntaxError",
     "evalue": "cannot assign to literal (862976659.py, line 1)",
     "output_type": "error",
     "traceback": [
      "\u001b[1;36m  File \u001b[1;32m\"C:\\Users\\Phanindra Reddy\\AppData\\Local\\Temp\\ipykernel_26540\\862976659.py\"\u001b[1;36m, line \u001b[1;32m1\u001b[0m\n\u001b[1;33m    123=\"indra\"\u001b[0m\n\u001b[1;37m    ^\u001b[0m\n\u001b[1;31mSyntaxError\u001b[0m\u001b[1;31m:\u001b[0m cannot assign to literal\n"
     ]
    }
   ],
   "source": [
    "123=\"indra\""
   ]
  },
  {
   "cell_type": "code",
   "execution_count": 12,
   "id": "b310c4f2",
   "metadata": {},
   "outputs": [
    {
     "ename": "SyntaxError",
     "evalue": "cannot assign to literal (3711978579.py, line 2)",
     "output_type": "error",
     "traceback": [
      "\u001b[1;36m  File \u001b[1;32m\"C:\\Users\\Phanindra Reddy\\AppData\\Local\\Temp\\ipykernel_4924\\3711978579.py\"\u001b[1;36m, line \u001b[1;32m2\u001b[0m\n\u001b[1;33m    123=\"indra\"\u001b[0m\n\u001b[1;37m    ^\u001b[0m\n\u001b[1;31mSyntaxError\u001b[0m\u001b[1;31m:\u001b[0m cannot assign to literal\n"
     ]
    }
   ],
   "source": [
    "try:\n",
    "    123=\"indra\"\n",
    "except SyntaxError as e:\n",
    "    print(e)"
   ]
  },
  {
   "cell_type": "code",
   "execution_count": 13,
   "id": "450d9409",
   "metadata": {},
   "outputs": [
    {
     "ename": "SyntaxError",
     "evalue": "cannot assign to literal (2146987563.py, line 2)",
     "output_type": "error",
     "traceback": [
      "\u001b[1;36m  File \u001b[1;32m\"C:\\Users\\Phanindra Reddy\\AppData\\Local\\Temp\\ipykernel_4924\\2146987563.py\"\u001b[1;36m, line \u001b[1;32m2\u001b[0m\n\u001b[1;33m    123=\"indra\"\u001b[0m\n\u001b[1;37m    ^\u001b[0m\n\u001b[1;31mSyntaxError\u001b[0m\u001b[1;31m:\u001b[0m cannot assign to literal\n"
     ]
    }
   ],
   "source": [
    "try:\n",
    "    123=\"indra\"\n",
    "except TypeError as e:\n",
    "    print(e)"
   ]
  },
  {
   "cell_type": "code",
   "execution_count": 6,
   "id": "923f89e3",
   "metadata": {},
   "outputs": [
    {
     "name": "stdout",
     "output_type": "stream",
     "text": [
      "[Errno 2] No such file or directory: 'aps.txt'\n"
     ]
    }
   ],
   "source": [
    "try:\n",
    "    with open(\"aps.txt\",\"r\"):\n",
    "        f.read()\n",
    "except FileNotFoundError as e:\n",
    "    print(e)"
   ]
  },
  {
   "cell_type": "code",
   "execution_count": 7,
   "id": "b1caa540",
   "metadata": {},
   "outputs": [
    {
     "name": "stdout",
     "output_type": "stream",
     "text": [
      "super class exception here .File not found\n"
     ]
    }
   ],
   "source": [
    "# here the first Exception  will only run since it is a super class and we are calling it first \n",
    "try:\n",
    "    with open(\"aps.txt\",\"r\"):\n",
    "        f.read()\n",
    "except Exception as e:\n",
    "    print(\"super class exception here .File not found\")\n",
    "except FileNotFoundError as e:\n",
    "    print(e)\n",
    "    # always remember that never write super class in first place"
   ]
  },
  {
   "cell_type": "code",
   "execution_count": 8,
   "id": "8c47f35d",
   "metadata": {},
   "outputs": [
    {
     "name": "stdout",
     "output_type": "stream",
     "text": [
      "[Errno 2] No such file or directory: 'aps.txt'\n"
     ]
    }
   ],
   "source": [
    "try:\n",
    "    with open(\"aps.txt\",\"r\"):\n",
    "        f.read()\n",
    "except FileNotFoundError as e: # now we defined this specific class first here.\n",
    "    print(e)\n",
    "except Exception as e:\n",
    "    print(\"super class exception here .File not found\")"
   ]
  },
  {
   "cell_type": "code",
   "execution_count": 11,
   "id": "ca00cb60",
   "metadata": {},
   "outputs": [
    {
     "name": "stdout",
     "output_type": "stream",
     "text": [
      "[Errno 2] No such file or directory: 'indra.txt'\n"
     ]
    }
   ],
   "source": [
    "# we can also write try and except blocks in the functions also.\n",
    "def test(file):\n",
    "    try:\n",
    "        with open(file,\"r\"):\n",
    "            f.read()\n",
    "    except FileNotFoundError as e: # now we defined this specific class first here.\n",
    "        print(e)\n",
    "    \n",
    "test(\"indra.txt\")    "
   ]
  },
  {
   "cell_type": "code",
   "execution_count": 14,
   "id": "f29a3bb0",
   "metadata": {},
   "outputs": [
    {
     "ename": "TypeError",
     "evalue": "unsupported operand type(s) for /: 'int' and 'str'",
     "output_type": "error",
     "traceback": [
      "\u001b[1;31m---------------------------------------------------------------------------\u001b[0m",
      "\u001b[1;31mTypeError\u001b[0m                                 Traceback (most recent call last)",
      "\u001b[1;32m~\\AppData\\Local\\Temp\\ipykernel_4924\\2782830281.py\u001b[0m in \u001b[0;36m<module>\u001b[1;34m\u001b[0m\n\u001b[0;32m      1\u001b[0m \u001b[0ma\u001b[0m\u001b[1;33m=\u001b[0m\u001b[1;36m100\u001b[0m\u001b[1;33m\u001b[0m\u001b[1;33m\u001b[0m\u001b[0m\n\u001b[0;32m      2\u001b[0m \u001b[0mb\u001b[0m\u001b[1;33m=\u001b[0m\u001b[1;34m\"10\"\u001b[0m\u001b[1;33m\u001b[0m\u001b[1;33m\u001b[0m\u001b[0m\n\u001b[1;32m----> 3\u001b[1;33m \u001b[0ma\u001b[0m\u001b[1;33m/\u001b[0m\u001b[0mb\u001b[0m\u001b[1;33m\u001b[0m\u001b[1;33m\u001b[0m\u001b[0m\n\u001b[0m",
      "\u001b[1;31mTypeError\u001b[0m: unsupported operand type(s) for /: 'int' and 'str'"
     ]
    }
   ],
   "source": [
    "a=100\n",
    "b=\"10\"\n",
    "a/b"
   ]
  },
  {
   "cell_type": "code",
   "execution_count": 15,
   "id": "1061f95a",
   "metadata": {},
   "outputs": [
    {
     "name": "stdout",
     "output_type": "stream",
     "text": [
      "unsupported operand type(s) for /: 'int' and 'str'\n"
     ]
    }
   ],
   "source": [
    "try:\n",
    "    a=100\n",
    "    b=\"10\"\n",
    "    a/b\n",
    "except TypeError as e:\n",
    "    print(e)"
   ]
  },
  {
   "cell_type": "code",
   "execution_count": 21,
   "id": "8b492163",
   "metadata": {},
   "outputs": [
    {
     "ename": "SyntaxError",
     "evalue": "cannot assign to function call (3287966083.py, line 2)",
     "output_type": "error",
     "traceback": [
      "\u001b[1;36m  File \u001b[1;32m\"C:\\Users\\Phanindra Reddy\\AppData\\Local\\Temp\\ipykernel_4924\\3287966083.py\"\u001b[1;36m, line \u001b[1;32m2\u001b[0m\n\u001b[1;33m    len(\"hello\")=5\u001b[0m\n\u001b[1;37m    ^\u001b[0m\n\u001b[1;31mSyntaxError\u001b[0m\u001b[1;31m:\u001b[0m cannot assign to function call\n"
     ]
    }
   ],
   "source": [
    "try:\n",
    "    len(\"hello\")=5\n",
    "except SyntaxError as e:\n",
    "    print(e)"
   ]
  },
  {
   "cell_type": "code",
   "execution_count": 22,
   "id": "595948da",
   "metadata": {},
   "outputs": [
    {
     "ename": "SyntaxError",
     "evalue": "invalid syntax (2999453865.py, line 1)",
     "output_type": "error",
     "traceback": [
      "\u001b[1;36m  File \u001b[1;32m\"C:\\Users\\Phanindra Reddy\\AppData\\Local\\Temp\\ipykernel_4924\\2999453865.py\"\u001b[1;36m, line \u001b[1;32m1\u001b[0m\n\u001b[1;33m    fro i in range(10):\u001b[0m\n\u001b[1;37m        ^\u001b[0m\n\u001b[1;31mSyntaxError\u001b[0m\u001b[1;31m:\u001b[0m invalid syntax\n"
     ]
    }
   ],
   "source": [
    "fro i in range(10):\n",
    "    fro i in range(10):"
   ]
  },
  {
   "cell_type": "markdown",
   "id": "33a08ca2",
   "metadata": {},
   "source": [
    "# lec 51\n",
    "## best practice exception handling"
   ]
  },
  {
   "cell_type": "markdown",
   "id": "6f3b86b5",
   "metadata": {},
   "source": [
    "# use always a specific exception"
   ]
  },
  {
   "cell_type": "code",
   "execution_count": 2,
   "id": "884e80d8",
   "metadata": {},
   "outputs": [
    {
     "name": "stdout",
     "output_type": "stream",
     "text": [
      "division by zero\n"
     ]
    }
   ],
   "source": [
    "# if we are not sure about the exception then we can go ahead with the general exception\n",
    "try:\n",
    "    10/0 # here below we have mentioned the generic one not the specific\n",
    "except Exception as e: # here we should mention the error exactly instead of mentioning the super class\n",
    "    print(e)"
   ]
  },
  {
   "cell_type": "code",
   "execution_count": 3,
   "id": "e5fe4e1f",
   "metadata": {},
   "outputs": [
    {
     "name": "stdout",
     "output_type": "stream",
     "text": [
      "division by zero\n"
     ]
    }
   ],
   "source": [
    "try:\n",
    "    10/0 \n",
    "except ZeroDivisionError as e: \n",
    "    print(e)"
   ]
  },
  {
   "cell_type": "markdown",
   "id": "d891bdd8",
   "metadata": {},
   "source": [
    "# print always a valid message\n",
    "## so that it will be helpful while debugging and makes the message very clear."
   ]
  },
  {
   "cell_type": "code",
   "execution_count": 4,
   "id": "2d7bc04b",
   "metadata": {},
   "outputs": [
    {
     "name": "stdout",
     "output_type": "stream",
     "text": [
      "now we have to handle the zero division error here  division by zero\n"
     ]
    }
   ],
   "source": [
    "try:\n",
    "    10/0 \n",
    "except ZeroDivisionError as e: \n",
    "    print(\"now we have to handle the zero division error here \",e)"
   ]
  },
  {
   "cell_type": "markdown",
   "id": "1ac60c7b",
   "metadata": {},
   "source": [
    "# always u need to log in permanent files"
   ]
  },
  {
   "cell_type": "code",
   "execution_count": 7,
   "id": "3d64a590",
   "metadata": {},
   "outputs": [],
   "source": [
    "import logging\n",
    "logging.basicConfig(filename=\"error.log\",level=logging.ERROR)\n",
    "try:\n",
    "    10/0 \n",
    "except ZeroDivisionError as e: \n",
    "    logging.error(\"now we have to handle the zero division error here {}\".format(e))"
   ]
  },
  {
   "cell_type": "code",
   "execution_count": 10,
   "id": "56d3fdc8",
   "metadata": {},
   "outputs": [],
   "source": [
    "# always try to avoid to write a multiple exception handling\n",
    "# the below 10/0 doesn't fall under either of the two  exception categories. so those are unnecessary\n",
    "try:\n",
    "    10/0 \n",
    "except FileNotFoundError as e:\n",
    "    logging.error(\"now we have to handle the file not found error here {}\".format(e))\n",
    "except AttributeError as e:\n",
    "    logging.error(\"now we have to handle the attribute error here {}\".format(e))\n",
    "# we need to avoid writing unnecessary exceptions. write nearest possible errors.   \n",
    "except ZeroDivisionError as e: \n",
    "    logging.error(\"now we have to handle the zero division error here {}\".format(e))"
   ]
  },
  {
   "cell_type": "markdown",
   "id": "aaea8edc",
   "metadata": {},
   "source": [
    "#  prepare a proper documentation"
   ]
  },
  {
   "cell_type": "code",
   "execution_count": 11,
   "id": "c1366c44",
   "metadata": {},
   "outputs": [],
   "source": [
    "# proper documentation helps for future developers to code more more neatly\n"
   ]
  },
  {
   "cell_type": "markdown",
   "id": "0a99d4ac",
   "metadata": {},
   "source": [
    "# clean up all the resources "
   ]
  },
  {
   "cell_type": "code",
   "execution_count": 12,
   "id": "9bc8f80e",
   "metadata": {},
   "outputs": [],
   "source": [
    "try:\n",
    "    with open(\"tester1.txt\",\"w\") as f:\n",
    "        f.write(\" this is really a crazy stuff\")\n",
    "finally:\n",
    "    f.close()\n",
    "        "
   ]
  },
  {
   "cell_type": "code",
   "execution_count": null,
   "id": "f413434d",
   "metadata": {},
   "outputs": [],
   "source": []
  }
 ],
 "metadata": {
  "kernelspec": {
   "display_name": "Python 3 (ipykernel)",
   "language": "python",
   "name": "python3"
  },
  "language_info": {
   "codemirror_mode": {
    "name": "ipython",
    "version": 3
   },
   "file_extension": ".py",
   "mimetype": "text/x-python",
   "name": "python",
   "nbconvert_exporter": "python",
   "pygments_lexer": "ipython3",
   "version": "3.9.13"
  }
 },
 "nbformat": 4,
 "nbformat_minor": 5
}
