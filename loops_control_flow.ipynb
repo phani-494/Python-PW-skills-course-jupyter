{
 "cells": [
  {
   "cell_type": "markdown",
   "id": "71a29c34",
   "metadata": {},
   "source": [
    "## Loop statements\n",
    "while,for,nested loops,loop controls such as break,continue,pass"
   ]
  },
  {
   "cell_type": "code",
   "execution_count": 1,
   "id": "94aa9ba4",
   "metadata": {},
   "outputs": [],
   "source": [
    "# while and while-else\n"
   ]
  },
  {
   "cell_type": "code",
   "execution_count": 2,
   "id": "3e30d3bf",
   "metadata": {},
   "outputs": [],
   "source": [
    "# check no of yeaes left for entirement\n",
    "# if age>60 then already retired else print the no of years left using while esle "
   ]
  },
  {
   "cell_type": "code",
   "execution_count": 5,
   "id": "81a3f6d7",
   "metadata": {},
   "outputs": [
    {
     "name": "stdout",
     "output_type": "stream",
     "text": [
      "Enter age: 100\n",
      "already retired\n"
     ]
    }
   ],
   "source": [
    "age=int(input('Enter age: '))\n",
    "count=0\n",
    "while age<60:\n",
    "    count=count+1\n",
    "    age=age+1\n",
    "else:\n",
    "    print('already retired')\n",
    "if count>0:\n",
    "    print(\" No of years left is\",count)"
   ]
  },
  {
   "cell_type": "code",
   "execution_count": 6,
   "id": "c236f2f8",
   "metadata": {},
   "outputs": [],
   "source": [
    "# In python the while statement may have an optional else clause\n",
    "# In the loop,the condition is checked at the beginning of each iteration\n",
    "#The code block inside the while statement will execute as long as the condition is True\n",
    "# when the condition becomes false and the loop runs normally the else clause will execute\n",
    "#However,if the loop is terminated prematurely either by a break or return statement, the else clause won't execute at all."
   ]
  },
  {
   "cell_type": "code",
   "execution_count": 7,
   "id": "2ea1f859",
   "metadata": {},
   "outputs": [],
   "source": [
    "# else block will be executed only if the loop is not terminated by either break or return statement"
   ]
  },
  {
   "cell_type": "code",
   "execution_count": 16,
   "id": "2ce0f6fe",
   "metadata": {},
   "outputs": [
    {
     "name": "stdout",
     "output_type": "stream",
     "text": [
      "9008007006005004003002001000"
     ]
    }
   ],
   "source": [
    "### ATM machine with 1000rs\n",
    "atm_cash=1000\n",
    "while atm_cash !=0:\n",
    "    atm_cash=atm_cash-100\n",
    "    print( atm_cash  ,end='')"
   ]
  },
  {
   "cell_type": "markdown",
   "id": "4f9464c6",
   "metadata": {},
   "source": [
    "# FOR loop"
   ]
  },
  {
   "cell_type": "code",
   "execution_count": 9,
   "id": "a0f997d7",
   "metadata": {},
   "outputs": [],
   "source": [
    "#for loop works for things which are iterables such as the lists ,tuples,dictionaries etc"
   ]
  },
  {
   "cell_type": "code",
   "execution_count": 10,
   "id": "8d1ab1ec",
   "metadata": {},
   "outputs": [],
   "source": [
    "# to continue in the same line,give end='' in the print statement"
   ]
  },
  {
   "cell_type": "code",
   "execution_count": 13,
   "id": "66f24644",
   "metadata": {},
   "outputs": [
    {
     "name": "stdout",
     "output_type": "stream",
     "text": [
      "At 1 ,apple is present\n",
      "At 2 ,banana is present\n",
      "At 3 ,kiwi is present\n",
      "At 4 ,lemon is present\n",
      "At 5 ,mango is present\n",
      "At 6 ,papaya is present\n"
     ]
    }
   ],
   "source": [
    "fruits=[\"apple\",\"banana\",\"kiwi\",\"lemon\",\"mango\",\"papaya\"]\n",
    "count=0\n",
    "for fruit in fruits:\n",
    "    count=count+1\n",
    "    print(f\"At {count} ,{fruit} is present\")"
   ]
  },
  {
   "cell_type": "code",
   "execution_count": 17,
   "id": "16b9f42f",
   "metadata": {},
   "outputs": [],
   "source": [
    "# we can aslo give if,else,while loops in the for loop"
   ]
  },
  {
   "cell_type": "code",
   "execution_count": 18,
   "id": "3f5154f6",
   "metadata": {},
   "outputs": [],
   "source": [
    "# in print statement by default it has end=\"\\n\".so only it enters new line after execution"
   ]
  },
  {
   "cell_type": "code",
   "execution_count": 19,
   "id": "6622035a",
   "metadata": {},
   "outputs": [],
   "source": [
    "# To continue in same line give end='' in the print statement\n"
   ]
  },
  {
   "cell_type": "code",
   "execution_count": 20,
   "id": "2b958c5e",
   "metadata": {},
   "outputs": [],
   "source": [
    "# string is also a collection of characters .It also suppoorts indexing\n",
    "# for loop can be applied on the strings also\n"
   ]
  },
  {
   "cell_type": "code",
   "execution_count": 21,
   "id": "3a397725",
   "metadata": {},
   "outputs": [
    {
     "name": "stdout",
     "output_type": "stream",
     "text": [
      "p\n",
      "h\n",
      "a\n",
      "n\n",
      "i\n",
      "n\n",
      "d\n",
      "r\n",
      "a\n"
     ]
    }
   ],
   "source": [
    "name=\"phanindra\"\n",
    "for x in name:\n",
    "    print(x)"
   ]
  },
  {
   "cell_type": "code",
   "execution_count": 22,
   "id": "a03b21df",
   "metadata": {},
   "outputs": [
    {
     "data": {
      "text/plain": [
       "'a'"
      ]
     },
     "execution_count": 22,
     "metadata": {},
     "output_type": "execute_result"
    }
   ],
   "source": [
    "name[2]"
   ]
  },
  {
   "cell_type": "code",
   "execution_count": null,
   "id": "7c5c7538",
   "metadata": {},
   "outputs": [],
   "source": []
  }
 ],
 "metadata": {
  "kernelspec": {
   "display_name": "Python 3 (ipykernel)",
   "language": "python",
   "name": "python3"
  },
  "language_info": {
   "codemirror_mode": {
    "name": "ipython",
    "version": 3
   },
   "file_extension": ".py",
   "mimetype": "text/x-python",
   "name": "python",
   "nbconvert_exporter": "python",
   "pygments_lexer": "ipython3",
   "version": "3.9.13"
  }
 },
 "nbformat": 4,
 "nbformat_minor": 5
}
