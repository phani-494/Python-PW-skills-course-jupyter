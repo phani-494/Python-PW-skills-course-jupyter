{
 "cells": [
  {
   "cell_type": "markdown",
   "id": "6863eb54",
   "metadata": {},
   "source": [
    "# Dynamic Typing\n"
   ]
  },
  {
   "cell_type": "code",
   "execution_count": 1,
   "id": "07f3ad01",
   "metadata": {},
   "outputs": [],
   "source": [
    "# In python ,no need to declare the integer type since compiler can understand at the time of compiling what data type is assigned to a variable"
   ]
  },
  {
   "cell_type": "code",
   "execution_count": 2,
   "id": "bb60bffd",
   "metadata": {},
   "outputs": [],
   "source": [
    "# here no need to declare data type while creating /declaring the variables "
   ]
  },
  {
   "cell_type": "code",
   "execution_count": 3,
   "id": "e1bcc057",
   "metadata": {},
   "outputs": [],
   "source": [
    "a=100"
   ]
  },
  {
   "cell_type": "code",
   "execution_count": 4,
   "id": "74514743",
   "metadata": {},
   "outputs": [],
   "source": [
    "name='Lucky'"
   ]
  },
  {
   "cell_type": "code",
   "execution_count": 5,
   "id": "8bc7bdd7",
   "metadata": {},
   "outputs": [
    {
     "data": {
      "text/plain": [
       "1"
      ]
     },
     "execution_count": 5,
     "metadata": {},
     "output_type": "execute_result"
    }
   ],
   "source": [
    "int(1.54)"
   ]
  },
  {
   "cell_type": "code",
   "execution_count": 7,
   "id": "6af76a23",
   "metadata": {},
   "outputs": [
    {
     "data": {
      "text/plain": [
       "100.0"
      ]
     },
     "execution_count": 7,
     "metadata": {},
     "output_type": "execute_result"
    }
   ],
   "source": [
    "float(100)"
   ]
  },
  {
   "cell_type": "code",
   "execution_count": 8,
   "id": "beac14e5",
   "metadata": {},
   "outputs": [],
   "source": [
    "# Compiler automatically understand what data type is assigned."
   ]
  },
  {
   "cell_type": "code",
   "execution_count": 9,
   "id": "5f84a863",
   "metadata": {},
   "outputs": [
    {
     "data": {
      "text/plain": [
       "0"
      ]
     },
     "execution_count": 9,
     "metadata": {},
     "output_type": "execute_result"
    }
   ],
   "source": [
    "int() # returns 0 if no argument is present"
   ]
  },
  {
   "cell_type": "code",
   "execution_count": 10,
   "id": "238cb548",
   "metadata": {},
   "outputs": [
    {
     "name": "stdout",
     "output_type": "stream",
     "text": [
      "123\n"
     ]
    }
   ],
   "source": [
    "print(123)"
   ]
  },
  {
   "cell_type": "code",
   "execution_count": 12,
   "id": "4b593dd5",
   "metadata": {},
   "outputs": [
    {
     "name": "stdout",
     "output_type": "stream",
     "text": [
      "My age is: 45\n"
     ]
    }
   ],
   "source": [
    "age=45\n",
    "print(\"My age is:\",age)"
   ]
  },
  {
   "cell_type": "markdown",
   "id": "b22cbdbf",
   "metadata": {},
   "source": [
    "# f string  : String formatting"
   ]
  },
  {
   "cell_type": "code",
   "execution_count": 13,
   "id": "1d3f2ea5",
   "metadata": {},
   "outputs": [],
   "source": [
    "# string formatting means writing the variable name inside the string .So by formatting the string that variable will not be considered as a string\n",
    "# original value of string will be displayed in the string\n"
   ]
  },
  {
   "cell_type": "code",
   "execution_count": 14,
   "id": "220e3458",
   "metadata": {},
   "outputs": [
    {
     "name": "stdout",
     "output_type": "stream",
     "text": [
      " My age is {age}\n"
     ]
    }
   ],
   "source": [
    "print(\" My age is {age}\")"
   ]
  },
  {
   "cell_type": "code",
   "execution_count": 15,
   "id": "11b99c17",
   "metadata": {},
   "outputs": [
    {
     "name": "stdout",
     "output_type": "stream",
     "text": [
      "My age is 45\n"
     ]
    }
   ],
   "source": [
    "print(f\"My age is {age}\")"
   ]
  },
  {
   "cell_type": "markdown",
   "id": "b5d1d228",
   "metadata": {},
   "source": [
    "# Format string"
   ]
  },
  {
   "cell_type": "code",
   "execution_count": 16,
   "id": "51273fe4",
   "metadata": {},
   "outputs": [
    {
     "name": "stdout",
     "output_type": "stream",
     "text": [
      "My age is 45\n"
     ]
    }
   ],
   "source": [
    "print(\"My age is {}\".format(age))"
   ]
  },
  {
   "cell_type": "code",
   "execution_count": 17,
   "id": "a26897cc",
   "metadata": {},
   "outputs": [],
   "source": [
    "name=\"indra\"\n",
    "age=32\n",
    "height=150\n",
    "salary=890000"
   ]
  },
  {
   "cell_type": "code",
   "execution_count": 18,
   "id": "672cf671",
   "metadata": {},
   "outputs": [
    {
     "name": "stdout",
     "output_type": "stream",
     "text": [
      "indra is doing job with salary  890000 and his age is 32 with height 150\n"
     ]
    }
   ],
   "source": [
    "print(\"{2} is doing job with salary  {0} and his age is {1} with height {3}\".format(salary,age,name,150))"
   ]
  },
  {
   "cell_type": "code",
   "execution_count": 19,
   "id": "a5c217e2",
   "metadata": {},
   "outputs": [
    {
     "name": "stdout",
     "output_type": "stream",
     "text": [
      "indra is doing job with salary  890000 and his age is 32 \n"
     ]
    }
   ],
   "source": [
    "# we can also use place holders here\n",
    "print(\"{na} is doing job with salary  {sal} and his age is {a} \".format(sal=salary,a=age,na=name))"
   ]
  },
  {
   "cell_type": "code",
   "execution_count": 20,
   "id": "775e3aee",
   "metadata": {},
   "outputs": [
    {
     "name": "stdout",
     "output_type": "stream",
     "text": [
      "indra is doing job with salary  890000 and his age is 32 with height 150\n"
     ]
    }
   ],
   "source": [
    "print(\"{} is doing job with salary  {} and his age is {} with height {}\".format(name,salary,age,height))"
   ]
  },
  {
   "cell_type": "markdown",
   "id": "2998105c",
   "metadata": {},
   "source": [
    "# control statements\n",
    "## Decision making statements"
   ]
  },
  {
   "cell_type": "code",
   "execution_count": 21,
   "id": "63c43e22",
   "metadata": {},
   "outputs": [
    {
     "name": "stdout",
     "output_type": "stream",
     "text": [
      "Lucky is eligible to vote\n"
     ]
    }
   ],
   "source": [
    "lucky_age=23\n",
    "if lucky_age>=18:\n",
    "    print(\"Lucky is eligible to vote\")\n",
    "else:\n",
    "    print(\"Lucky is not eligible to vote\")"
   ]
  },
  {
   "cell_type": "code",
   "execution_count": 22,
   "id": "a1db57b5",
   "metadata": {},
   "outputs": [
    {
     "name": "stdout",
     "output_type": "stream",
     "text": [
      "Enter the age of luucky:24\n",
      "Lucky is eligible to vote\n"
     ]
    }
   ],
   "source": [
    "lucky_age=int(input(\"Enter the age of luucky:\"))\n",
    "if lucky_age>=18:\n",
    "    print(\"Lucky is eligible to vote\")\n",
    "else:\n",
    "    print(\"Lucky is not eligible to vote\")"
   ]
  },
  {
   "cell_type": "markdown",
   "id": "b192f8fb",
   "metadata": {},
   "source": [
    "# Tuples"
   ]
  },
  {
   "cell_type": "code",
   "execution_count": 1,
   "id": "8a0d60dd",
   "metadata": {},
   "outputs": [],
   "source": [
    "t=()\n"
   ]
  },
  {
   "cell_type": "code",
   "execution_count": 2,
   "id": "aff914d2",
   "metadata": {},
   "outputs": [
    {
     "data": {
      "text/plain": [
       "tuple"
      ]
     },
     "execution_count": 2,
     "metadata": {},
     "output_type": "execute_result"
    }
   ],
   "source": [
    "type(t)"
   ]
  },
  {
   "cell_type": "code",
   "execution_count": 2,
   "id": "bb6950a0",
   "metadata": {},
   "outputs": [],
   "source": [
    "t1=(1,2,3,1.89,567.78,\"indra\",\"mahi\",\"raja\",1+2j,True)"
   ]
  },
  {
   "cell_type": "code",
   "execution_count": 4,
   "id": "3020ec20",
   "metadata": {},
   "outputs": [
    {
     "data": {
      "text/plain": [
       "tuple"
      ]
     },
     "execution_count": 4,
     "metadata": {},
     "output_type": "execute_result"
    }
   ],
   "source": [
    "type(t1)"
   ]
  },
  {
   "cell_type": "code",
   "execution_count": 5,
   "id": "ff09d564",
   "metadata": {},
   "outputs": [
    {
     "data": {
      "text/plain": [
       "(2, 3, 1.89, 567.78, 'indra', 'mahi', 'raja', (1+2j), True)"
      ]
     },
     "execution_count": 5,
     "metadata": {},
     "output_type": "execute_result"
    }
   ],
   "source": [
    "t1[1:]"
   ]
  },
  {
   "cell_type": "code",
   "execution_count": 6,
   "id": "7baa8575",
   "metadata": {},
   "outputs": [
    {
     "data": {
      "text/plain": [
       "(True, (1+2j), 'raja', 'mahi', 'indra', 567.78, 1.89, 3, 2, 1)"
      ]
     },
     "execution_count": 6,
     "metadata": {},
     "output_type": "execute_result"
    }
   ],
   "source": [
    "t1[::-1]"
   ]
  },
  {
   "cell_type": "code",
   "execution_count": 7,
   "id": "837ab0a0",
   "metadata": {},
   "outputs": [
    {
     "data": {
      "text/plain": [
       "1"
      ]
     },
     "execution_count": 7,
     "metadata": {},
     "output_type": "execute_result"
    }
   ],
   "source": [
    "t1.count(3)"
   ]
  },
  {
   "cell_type": "code",
   "execution_count": 8,
   "id": "9b995be6",
   "metadata": {},
   "outputs": [
    {
     "data": {
      "text/plain": [
       "0"
      ]
     },
     "execution_count": 8,
     "metadata": {},
     "output_type": "execute_result"
    }
   ],
   "source": [
    "t1.count(23)"
   ]
  },
  {
   "cell_type": "code",
   "execution_count": 9,
   "id": "50747daa",
   "metadata": {},
   "outputs": [
    {
     "data": {
      "text/plain": [
       "3"
      ]
     },
     "execution_count": 9,
     "metadata": {},
     "output_type": "execute_result"
    }
   ],
   "source": [
    "t1.index(1.89) # gives index at where the value is  present "
   ]
  },
  {
   "cell_type": "code",
   "execution_count": 12,
   "id": "90a03b63",
   "metadata": {},
   "outputs": [
    {
     "data": {
      "text/plain": [
       "6"
      ]
     },
     "execution_count": 12,
     "metadata": {},
     "output_type": "execute_result"
    }
   ],
   "source": [
    "t1.index('mahi')"
   ]
  },
  {
   "cell_type": "code",
   "execution_count": 22,
   "id": "7ca5ae07",
   "metadata": {},
   "outputs": [
    {
     "name": "stdout",
     "output_type": "stream",
     "text": [
      "0\n",
      "2\n"
     ]
    }
   ],
   "source": [
    "print(t1.index(True)) # internally the system stores the value of True as 1 so only it  given the O value\n",
    "print(t1.count(1)) # here also True is counted as 1 so given 2 "
   ]
  },
  {
   "cell_type": "code",
   "execution_count": 15,
   "id": "e0b72c56",
   "metadata": {},
   "outputs": [],
   "source": [
    "t2=(3,2,1,True) # for True wherever 1 is present it will give that index"
   ]
  },
  {
   "cell_type": "code",
   "execution_count": 16,
   "id": "a137e594",
   "metadata": {},
   "outputs": [
    {
     "data": {
      "text/plain": [
       "2"
      ]
     },
     "execution_count": 16,
     "metadata": {},
     "output_type": "execute_result"
    }
   ],
   "source": [
    "t2.index(True)"
   ]
  },
  {
   "cell_type": "code",
   "execution_count": 19,
   "id": "7b3ceaf1",
   "metadata": {},
   "outputs": [],
   "source": [
    "t3=(3,2,\"raja\",True)  # Since here no 1 is present ,it gives the original index only"
   ]
  },
  {
   "cell_type": "code",
   "execution_count": 20,
   "id": "4e2547ae",
   "metadata": {},
   "outputs": [
    {
     "data": {
      "text/plain": [
       "3"
      ]
     },
     "execution_count": 20,
     "metadata": {},
     "output_type": "execute_result"
    }
   ],
   "source": [
    "t3.index(True)"
   ]
  },
  {
   "cell_type": "markdown",
   "id": "801094cb",
   "metadata": {},
   "source": [
    "# Tuples are immutable"
   ]
  },
  {
   "cell_type": "code",
   "execution_count": 23,
   "id": "e31badb2",
   "metadata": {},
   "outputs": [
    {
     "ename": "TypeError",
     "evalue": "'tuple' object does not support item assignment",
     "output_type": "error",
     "traceback": [
      "\u001b[1;31m---------------------------------------------------------------------------\u001b[0m",
      "\u001b[1;31mTypeError\u001b[0m                                 Traceback (most recent call last)",
      "\u001b[1;32m~\\AppData\\Local\\Temp\\ipykernel_4488\\3924652700.py\u001b[0m in \u001b[0;36m<module>\u001b[1;34m\u001b[0m\n\u001b[1;32m----> 1\u001b[1;33m \u001b[0mt1\u001b[0m\u001b[1;33m[\u001b[0m\u001b[1;36m2\u001b[0m\u001b[1;33m]\u001b[0m\u001b[1;33m=\u001b[0m\u001b[1;36m100\u001b[0m\u001b[1;33m\u001b[0m\u001b[1;33m\u001b[0m\u001b[0m\n\u001b[0m",
      "\u001b[1;31mTypeError\u001b[0m: 'tuple' object does not support item assignment"
     ]
    }
   ],
   "source": [
    "t1[2]=100"
   ]
  },
  {
   "cell_type": "code",
   "execution_count": 3,
   "id": "a321d459",
   "metadata": {},
   "outputs": [
    {
     "name": "stdout",
     "output_type": "stream",
     "text": [
      "1 <class 'int'>\n",
      "2 <class 'int'>\n",
      "3 <class 'int'>\n",
      "1.89 <class 'float'>\n",
      "567.78 <class 'float'>\n",
      "indra <class 'str'>\n",
      "mahi <class 'str'>\n",
      "raja <class 'str'>\n",
      "(1+2j) <class 'complex'>\n",
      "True <class 'bool'>\n"
     ]
    }
   ],
   "source": [
    "for i in t1:\n",
    "    print(i,type(i))"
   ]
  },
  {
   "cell_type": "code",
   "execution_count": 4,
   "id": "4a694059",
   "metadata": {},
   "outputs": [],
   "source": [
    "# Tuples are immutable . we want this kind of datatype so that in future we can make sure that no changes should be done to the data u added."
   ]
  },
  {
   "cell_type": "code",
   "execution_count": 5,
   "id": "59f61c00",
   "metadata": {},
   "outputs": [
    {
     "ename": "TypeError",
     "evalue": "'>' not supported between instances of 'str' and 'float'",
     "output_type": "error",
     "traceback": [
      "\u001b[1;31m---------------------------------------------------------------------------\u001b[0m",
      "\u001b[1;31mTypeError\u001b[0m                                 Traceback (most recent call last)",
      "\u001b[1;32m~\\AppData\\Local\\Temp\\ipykernel_25592\\3099455752.py\u001b[0m in \u001b[0;36m<module>\u001b[1;34m\u001b[0m\n\u001b[1;32m----> 1\u001b[1;33m \u001b[0mmax\u001b[0m\u001b[1;33m(\u001b[0m\u001b[0mt1\u001b[0m\u001b[1;33m)\u001b[0m\u001b[1;33m\u001b[0m\u001b[1;33m\u001b[0m\u001b[0m\n\u001b[0m",
      "\u001b[1;31mTypeError\u001b[0m: '>' not supported between instances of 'str' and 'float'"
     ]
    }
   ],
   "source": [
    "max(t1)"
   ]
  },
  {
   "cell_type": "code",
   "execution_count": 7,
   "id": "733c3752",
   "metadata": {},
   "outputs": [],
   "source": [
    "#max and min also works for the tuples but data types should be compatible and proper"
   ]
  },
  {
   "cell_type": "code",
   "execution_count": 8,
   "id": "660dc70d",
   "metadata": {},
   "outputs": [],
   "source": [
    "t1=(1,2,3)"
   ]
  },
  {
   "cell_type": "code",
   "execution_count": 9,
   "id": "96f84c05",
   "metadata": {},
   "outputs": [],
   "source": [
    "t2=(4,5,6)"
   ]
  },
  {
   "cell_type": "code",
   "execution_count": 12,
   "id": "37b831d9",
   "metadata": {},
   "outputs": [],
   "source": [
    "t3=(t1,t2) # tuples inside a tuple"
   ]
  },
  {
   "cell_type": "code",
   "execution_count": 11,
   "id": "7f62b2ad",
   "metadata": {},
   "outputs": [
    {
     "data": {
      "text/plain": [
       "((1, 2, 3), (4, 5, 6))"
      ]
     },
     "execution_count": 11,
     "metadata": {},
     "output_type": "execute_result"
    }
   ],
   "source": [
    "t3"
   ]
  },
  {
   "cell_type": "code",
   "execution_count": 13,
   "id": "8822c17a",
   "metadata": {},
   "outputs": [],
   "source": [
    "# we can also insert a list into a tuple,tuple into a tuple as shown below"
   ]
  },
  {
   "cell_type": "code",
   "execution_count": 30,
   "id": "5a08efaa",
   "metadata": {},
   "outputs": [],
   "source": [
    "t3=((2,3,4,5),[9,7,6,4,33])"
   ]
  },
  {
   "cell_type": "code",
   "execution_count": 16,
   "id": "fc26731f",
   "metadata": {},
   "outputs": [
    {
     "data": {
      "text/plain": [
       "((2, 3, 4, 5), [9, 7, 6, 4, 33])"
      ]
     },
     "execution_count": 16,
     "metadata": {},
     "output_type": "execute_result"
    }
   ],
   "source": [
    "t3"
   ]
  },
  {
   "cell_type": "code",
   "execution_count": 17,
   "id": "a9510871",
   "metadata": {},
   "outputs": [],
   "source": [
    "# to delete a tuple"
   ]
  },
  {
   "cell_type": "code",
   "execution_count": 18,
   "id": "7ff8a863",
   "metadata": {},
   "outputs": [],
   "source": [
    "del t3"
   ]
  },
  {
   "cell_type": "code",
   "execution_count": 19,
   "id": "205fe551",
   "metadata": {},
   "outputs": [
    {
     "ename": "NameError",
     "evalue": "name 't3' is not defined",
     "output_type": "error",
     "traceback": [
      "\u001b[1;31m---------------------------------------------------------------------------\u001b[0m",
      "\u001b[1;31mNameError\u001b[0m                                 Traceback (most recent call last)",
      "\u001b[1;32m~\\AppData\\Local\\Temp\\ipykernel_25592\\1461996357.py\u001b[0m in \u001b[0;36m<module>\u001b[1;34m\u001b[0m\n\u001b[1;32m----> 1\u001b[1;33m \u001b[0mt3\u001b[0m\u001b[1;33m\u001b[0m\u001b[1;33m\u001b[0m\u001b[0m\n\u001b[0m",
      "\u001b[1;31mNameError\u001b[0m: name 't3' is not defined"
     ]
    }
   ],
   "source": [
    "t3\n"
   ]
  },
  {
   "cell_type": "code",
   "execution_count": 20,
   "id": "f583c672",
   "metadata": {},
   "outputs": [
    {
     "data": {
      "text/plain": [
       "3"
      ]
     },
     "execution_count": 20,
     "metadata": {},
     "output_type": "execute_result"
    }
   ],
   "source": [
    "len(t1)"
   ]
  },
  {
   "cell_type": "code",
   "execution_count": 21,
   "id": "25decb2c",
   "metadata": {},
   "outputs": [
    {
     "data": {
      "text/plain": [
       "False"
      ]
     },
     "execution_count": 21,
     "metadata": {},
     "output_type": "execute_result"
    }
   ],
   "source": [
    "5 in t1"
   ]
  },
  {
   "cell_type": "code",
   "execution_count": 22,
   "id": "5c09a75d",
   "metadata": {},
   "outputs": [
    {
     "data": {
      "text/plain": [
       "False"
      ]
     },
     "execution_count": 22,
     "metadata": {},
     "output_type": "execute_result"
    }
   ],
   "source": [
    "'indra' in t1"
   ]
  },
  {
   "cell_type": "code",
   "execution_count": 23,
   "id": "57173969",
   "metadata": {},
   "outputs": [
    {
     "data": {
      "text/plain": [
       "True"
      ]
     },
     "execution_count": 23,
     "metadata": {},
     "output_type": "execute_result"
    }
   ],
   "source": [
    "2 in t1"
   ]
  },
  {
   "cell_type": "code",
   "execution_count": null,
   "id": "af43cc9c",
   "metadata": {},
   "outputs": [],
   "source": []
  },
  {
   "cell_type": "code",
   "execution_count": 41,
   "id": "bca4fb0e",
   "metadata": {
    "scrolled": true
   },
   "outputs": [
    {
     "data": {
      "text/plain": [
       "[32, 3, 4, 5, 6, 7, 43, 567]"
      ]
     },
     "execution_count": 41,
     "metadata": {},
     "output_type": "execute_result"
    }
   ],
   "source": []
  },
  {
   "cell_type": "code",
   "execution_count": 42,
   "id": "90f31633",
   "metadata": {},
   "outputs": [
    {
     "data": {
      "text/plain": [
       "{1, 2, 3}"
      ]
     },
     "execution_count": 42,
     "metadata": {},
     "output_type": "execute_result"
    }
   ],
   "source": []
  },
  {
   "cell_type": "markdown",
   "id": "64d94d08",
   "metadata": {},
   "source": [
    "## if u want the uniqu"
   ]
  },
  {
   "cell_type": "code",
   "execution_count": 43,
   "id": "8286eef4",
   "metadata": {},
   "outputs": [],
   "source": []
  },
  {
   "cell_type": "code",
   "execution_count": 44,
   "id": "27feb484",
   "metadata": {},
   "outputs": [
    {
     "data": {
      "text/plain": [
       "{34, 45, 56, 78, 87, 90}"
      ]
     },
     "execution_count": 44,
     "metadata": {},
     "output_type": "execute_result"
    }
   ],
   "source": []
  },
  {
   "cell_type": "code",
   "execution_count": 36,
   "id": "b2905f33",
   "metadata": {},
   "outputs": [],
   "source": []
  },
  {
   "cell_type": "code",
   "execution_count": 37,
   "id": "4582548c",
   "metadata": {},
   "outputs": [
    {
     "ename": "TypeError",
     "evalue": "unhashable type: 'list'",
     "output_type": "error",
     "traceback": [
      "\u001b[1;31m---------------------------------------------------------------------------\u001b[0m",
      "\u001b[1;31mTypeError\u001b[0m                                 Traceback (most recent call last)",
      "\u001b[1;32m~\\AppData\\Local\\Temp\\ipykernel_25592\\53595072.py\u001b[0m in \u001b[0;36m<module>\u001b[1;34m\u001b[0m\n\u001b[1;32m----> 1\u001b[1;33m \u001b[0ms1\u001b[0m\u001b[1;33m=\u001b[0m\u001b[1;33m{\u001b[0m\u001b[1;36m1\u001b[0m\u001b[1;33m,\u001b[0m\u001b[1;36m23\u001b[0m\u001b[1;33m,\u001b[0m\u001b[1;36m4\u001b[0m\u001b[1;33m,\u001b[0m\u001b[1;36m3\u001b[0m\u001b[1;33m,\u001b[0m\u001b[1;33m[\u001b[0m\u001b[1;36m45\u001b[0m\u001b[1;33m,\u001b[0m\u001b[1;36m67\u001b[0m\u001b[1;33m,\u001b[0m\u001b[1;36m87\u001b[0m\u001b[1;33m]\u001b[0m\u001b[1;33m}\u001b[0m\u001b[1;33m\u001b[0m\u001b[1;33m\u001b[0m\u001b[0m\n\u001b[0m",
      "\u001b[1;31mTypeError\u001b[0m: unhashable type: 'list'"
     ]
    }
   ],
   "source": []
  },
  {
   "cell_type": "code",
   "execution_count": 38,
   "id": "ea109ab7",
   "metadata": {},
   "outputs": [],
   "source": []
  },
  {
   "cell_type": "code",
   "execution_count": 39,
   "id": "ef13b06e",
   "metadata": {},
   "outputs": [],
   "source": []
  },
  {
   "cell_type": "code",
   "execution_count": 40,
   "id": "8565f1e1",
   "metadata": {},
   "outputs": [
    {
     "data": {
      "text/plain": [
       "{(43, 54, 67), 1, 2, 3, 4}"
      ]
     },
     "execution_count": 40,
     "metadata": {},
     "output_type": "execute_result"
    }
   ],
   "source": []
  },
  {
   "cell_type": "code",
   "execution_count": null,
   "id": "2a25ac7f",
   "metadata": {},
   "outputs": [],
   "source": []
  },
  {
   "cell_type": "code",
   "execution_count": null,
   "id": "7d140614",
   "metadata": {},
   "outputs": [],
   "source": []
  }
 ],
 "metadata": {
  "kernelspec": {
   "display_name": "Python 3 (ipykernel)",
   "language": "python",
   "name": "python3"
  },
  "language_info": {
   "codemirror_mode": {
    "name": "ipython",
    "version": 3
   },
   "file_extension": ".py",
   "mimetype": "text/x-python",
   "name": "python",
   "nbconvert_exporter": "python",
   "pygments_lexer": "ipython3",
   "version": "3.9.13"
  }
 },
 "nbformat": 4,
 "nbformat_minor": 5
}
