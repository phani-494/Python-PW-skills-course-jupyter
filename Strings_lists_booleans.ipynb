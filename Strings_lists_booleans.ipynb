{
 "cells": [
  {
   "cell_type": "markdown",
   "id": "0bc0f13f",
   "metadata": {},
   "source": [
    "# Logical operators\n",
    "1.and\n",
    "2.or\n",
    "3.not\n"
   ]
  },
  {
   "cell_type": "code",
   "execution_count": 1,
   "id": "785ec9ac",
   "metadata": {},
   "outputs": [
    {
     "data": {
      "text/plain": [
       "False"
      ]
     },
     "execution_count": 1,
     "metadata": {},
     "output_type": "execute_result"
    }
   ],
   "source": [
    "not 45"
   ]
  },
  {
   "cell_type": "code",
   "execution_count": 2,
   "id": "61c16f0e",
   "metadata": {},
   "outputs": [
    {
     "data": {
      "text/plain": [
       "True"
      ]
     },
     "execution_count": 2,
     "metadata": {},
     "output_type": "execute_result"
    }
   ],
   "source": [
    "not int(bool(0))"
   ]
  },
  {
   "cell_type": "code",
   "execution_count": 3,
   "id": "ac14cc2d",
   "metadata": {},
   "outputs": [
    {
     "data": {
      "text/plain": [
       "True"
      ]
     },
     "execution_count": 3,
     "metadata": {},
     "output_type": "execute_result"
    }
   ],
   "source": [
    "not False"
   ]
  },
  {
   "cell_type": "code",
   "execution_count": 4,
   "id": "0b2067cc",
   "metadata": {},
   "outputs": [
    {
     "data": {
      "text/plain": [
       "True"
      ]
     },
     "execution_count": 4,
     "metadata": {},
     "output_type": "execute_result"
    }
   ],
   "source": [
    "bool(67)"
   ]
  },
  {
   "cell_type": "code",
   "execution_count": 5,
   "id": "af0f1ef6",
   "metadata": {},
   "outputs": [],
   "source": [
    "# any number except 0 is considered as true only"
   ]
  },
  {
   "cell_type": "code",
   "execution_count": 1,
   "id": "51df27b3",
   "metadata": {},
   "outputs": [
    {
     "data": {
      "text/plain": [
       "False"
      ]
     },
     "execution_count": 1,
     "metadata": {},
     "output_type": "execute_result"
    }
   ],
   "source": [
    "bool(0)"
   ]
  },
  {
   "cell_type": "code",
   "execution_count": 2,
   "id": "e01b5cad",
   "metadata": {},
   "outputs": [
    {
     "data": {
      "text/plain": [
       "45"
      ]
     },
     "execution_count": 2,
     "metadata": {},
     "output_type": "execute_result"
    }
   ],
   "source": [
    "int(45)"
   ]
  },
  {
   "cell_type": "code",
   "execution_count": 3,
   "id": "6b32e3bd",
   "metadata": {},
   "outputs": [
    {
     "data": {
      "text/plain": [
       "0"
      ]
     },
     "execution_count": 3,
     "metadata": {},
     "output_type": "execute_result"
    }
   ],
   "source": [
    "int(False)"
   ]
  },
  {
   "cell_type": "code",
   "execution_count": 4,
   "id": "1ee43cca",
   "metadata": {},
   "outputs": [
    {
     "data": {
      "text/plain": [
       "True"
      ]
     },
     "execution_count": 4,
     "metadata": {},
     "output_type": "execute_result"
    }
   ],
   "source": [
    "bool(45)"
   ]
  },
  {
   "cell_type": "code",
   "execution_count": 5,
   "id": "9dde174b",
   "metadata": {},
   "outputs": [
    {
     "data": {
      "text/plain": [
       "1"
      ]
     },
     "execution_count": 5,
     "metadata": {},
     "output_type": "execute_result"
    }
   ],
   "source": [
    "int(bool(45))"
   ]
  },
  {
   "cell_type": "code",
   "execution_count": 6,
   "id": "112db743",
   "metadata": {},
   "outputs": [
    {
     "data": {
      "text/plain": [
       "0"
      ]
     },
     "execution_count": 6,
     "metadata": {},
     "output_type": "execute_result"
    }
   ],
   "source": [
    "True*False"
   ]
  },
  {
   "cell_type": "code",
   "execution_count": 17,
   "id": "4b3459b9",
   "metadata": {},
   "outputs": [
    {
     "data": {
      "text/plain": [
       "True"
      ]
     },
     "execution_count": 17,
     "metadata": {},
     "output_type": "execute_result"
    }
   ],
   "source": [
    "not False*False # False * Flase is 0 and not 0 is True"
   ]
  },
  {
   "cell_type": "code",
   "execution_count": 8,
   "id": "b931e3fc",
   "metadata": {},
   "outputs": [
    {
     "data": {
      "text/plain": [
       "True"
      ]
     },
     "execution_count": 8,
     "metadata": {},
     "output_type": "execute_result"
    }
   ],
   "source": [
    "not 0"
   ]
  },
  {
   "cell_type": "code",
   "execution_count": 9,
   "id": "124b4197",
   "metadata": {},
   "outputs": [
    {
     "data": {
      "text/plain": [
       "False"
      ]
     },
     "execution_count": 9,
     "metadata": {},
     "output_type": "execute_result"
    }
   ],
   "source": [
    "not 1"
   ]
  },
  {
   "cell_type": "code",
   "execution_count": 12,
   "id": "0573ce33",
   "metadata": {},
   "outputs": [
    {
     "data": {
      "text/plain": [
       "True"
      ]
     },
     "execution_count": 12,
     "metadata": {},
     "output_type": "execute_result"
    }
   ],
   "source": [
    "not(True)*False # here True*False operates and evaluates to False and then performing not on it leads to True"
   ]
  },
  {
   "cell_type": "code",
   "execution_count": 11,
   "id": "bce655d7",
   "metadata": {},
   "outputs": [
    {
     "data": {
      "text/plain": [
       "True"
      ]
     },
     "execution_count": 11,
     "metadata": {},
     "output_type": "execute_result"
    }
   ],
   "source": [
    "(not(True)*False)"
   ]
  },
  {
   "cell_type": "code",
   "execution_count": 14,
   "id": "f34f5dc8",
   "metadata": {},
   "outputs": [
    {
     "data": {
      "text/plain": [
       "1"
      ]
     },
     "execution_count": 14,
     "metadata": {},
     "output_type": "execute_result"
    }
   ],
   "source": [
    "True*(not False)"
   ]
  },
  {
   "cell_type": "code",
   "execution_count": 16,
   "id": "825311b0",
   "metadata": {},
   "outputs": [
    {
     "data": {
      "text/plain": [
       "1"
      ]
     },
     "execution_count": 16,
     "metadata": {},
     "output_type": "execute_result"
    }
   ],
   "source": [
    "True*True"
   ]
  },
  {
   "cell_type": "code",
   "execution_count": 18,
   "id": "730463b7",
   "metadata": {},
   "outputs": [],
   "source": [
    "# if we put not first then it will return either True or False only in the end result"
   ]
  },
  {
   "cell_type": "code",
   "execution_count": 19,
   "id": "797ab96d",
   "metadata": {},
   "outputs": [],
   "source": [
    "# precedence also matters here"
   ]
  },
  {
   "cell_type": "code",
   "execution_count": 20,
   "id": "d3d77152",
   "metadata": {},
   "outputs": [
    {
     "data": {
      "text/plain": [
       "1"
      ]
     },
     "execution_count": 20,
     "metadata": {},
     "output_type": "execute_result"
    }
   ],
   "source": [
    "(not False)*True"
   ]
  },
  {
   "cell_type": "code",
   "execution_count": 21,
   "id": "68be4641",
   "metadata": {},
   "outputs": [
    {
     "ename": "ZeroDivisionError",
     "evalue": "division by zero",
     "output_type": "error",
     "traceback": [
      "\u001b[1;31m---------------------------------------------------------------------------\u001b[0m",
      "\u001b[1;31mZeroDivisionError\u001b[0m                         Traceback (most recent call last)",
      "\u001b[1;32m~\\AppData\\Local\\Temp\\ipykernel_11584\\2354412189.py\u001b[0m in \u001b[0;36m<module>\u001b[1;34m\u001b[0m\n\u001b[1;32m----> 1\u001b[1;33m \u001b[1;36m1\u001b[0m\u001b[1;33m/\u001b[0m\u001b[1;36m0\u001b[0m\u001b[1;33m\u001b[0m\u001b[1;33m\u001b[0m\u001b[0m\n\u001b[0m",
      "\u001b[1;31mZeroDivisionError\u001b[0m: division by zero"
     ]
    }
   ],
   "source": [
    "1/0"
   ]
  },
  {
   "cell_type": "markdown",
   "id": "791c648e",
   "metadata": {},
   "source": [
    "# Equality operators\n",
    "is ,is not ,==,!="
   ]
  },
  {
   "cell_type": "code",
   "execution_count": 26,
   "id": "5f5a6f57",
   "metadata": {},
   "outputs": [
    {
     "name": "stdout",
     "output_type": "stream",
     "text": [
      "1941859867264\n",
      "1941859874624\n"
     ]
    }
   ],
   "source": [
    "list1=[1,2,3,4]\n",
    "list2=[1,2,3,4]\n",
    "print(id(list1))\n",
    "print(id(list2)) "
   ]
  },
  {
   "cell_type": "code",
   "execution_count": 30,
   "id": "e6945822",
   "metadata": {},
   "outputs": [
    {
     "data": {
      "text/plain": [
       "False"
      ]
     },
     "execution_count": 30,
     "metadata": {},
     "output_type": "execute_result"
    }
   ],
   "source": [
    "list1 is list2 # here we have two lists with two different objects\n",
    "# is will check whether the both are pointing to the same object or not"
   ]
  },
  {
   "cell_type": "code",
   "execution_count": 27,
   "id": "1f9201f5",
   "metadata": {},
   "outputs": [
    {
     "name": "stdout",
     "output_type": "stream",
     "text": [
      "1941859874624\n",
      "1941859874624\n"
     ]
    },
    {
     "data": {
      "text/plain": [
       "True"
      ]
     },
     "execution_count": 27,
     "metadata": {},
     "output_type": "execute_result"
    }
   ],
   "source": [
    "list3=list2 # here we are directly assigning the list2 object to the list3\n",
    "print(id(list2))\n",
    "print(id(list3))\n",
    "list3 is list2"
   ]
  },
  {
   "cell_type": "code",
   "execution_count": 28,
   "id": "4854b91b",
   "metadata": {},
   "outputs": [
    {
     "data": {
      "text/plain": [
       "True"
      ]
     },
     "execution_count": 28,
     "metadata": {},
     "output_type": "execute_result"
    }
   ],
   "source": [
    "list1 is not list2"
   ]
  },
  {
   "cell_type": "code",
   "execution_count": 29,
   "id": "6e490a40",
   "metadata": {},
   "outputs": [
    {
     "data": {
      "text/plain": [
       "True"
      ]
     },
     "execution_count": 29,
     "metadata": {},
     "output_type": "execute_result"
    }
   ],
   "source": [
    "list1==list2 # checks whether both the lists have same values or not"
   ]
  },
  {
   "cell_type": "code",
   "execution_count": 31,
   "id": "0ef96d4b",
   "metadata": {},
   "outputs": [
    {
     "name": "stdout",
     "output_type": "stream",
     "text": [
      "1941776132432\n",
      "1941776132432\n"
     ]
    }
   ],
   "source": [
    "a=2\n",
    "b=2\n",
    "print(id(a))\n",
    "print(id(b))"
   ]
  },
  {
   "cell_type": "code",
   "execution_count": 32,
   "id": "1c8ee941",
   "metadata": {},
   "outputs": [],
   "source": [
    "# here only one value is assigned and that too same value\n",
    "# so only both are having same id but lists are having different ids since they are collection of values"
   ]
  },
  {
   "cell_type": "code",
   "execution_count": 33,
   "id": "69aa4a2d",
   "metadata": {},
   "outputs": [
    {
     "data": {
      "text/plain": [
       "True"
      ]
     },
     "execution_count": 33,
     "metadata": {},
     "output_type": "execute_result"
    }
   ],
   "source": [
    "a is b"
   ]
  },
  {
   "cell_type": "code",
   "execution_count": 34,
   "id": "a392aa64",
   "metadata": {},
   "outputs": [],
   "source": [
    "str1='indra'\n",
    "str2='indra'"
   ]
  },
  {
   "cell_type": "code",
   "execution_count": 35,
   "id": "02e10954",
   "metadata": {},
   "outputs": [
    {
     "name": "stdout",
     "output_type": "stream",
     "text": [
      "1941860706288\n",
      "1941860706288\n"
     ]
    }
   ],
   "source": [
    "print(id(str1))\n",
    "print(id(str2))"
   ]
  },
  {
   "cell_type": "code",
   "execution_count": 36,
   "id": "64bce3fb",
   "metadata": {},
   "outputs": [
    {
     "data": {
      "text/plain": [
       "True"
      ]
     },
     "execution_count": 36,
     "metadata": {},
     "output_type": "execute_result"
    }
   ],
   "source": [
    "str1 is str2\n"
   ]
  },
  {
   "cell_type": "markdown",
   "id": "1c2afa43",
   "metadata": {},
   "source": [
    "# mutability and non mutability"
   ]
  },
  {
   "cell_type": "code",
   "execution_count": 37,
   "id": "994cec21",
   "metadata": {},
   "outputs": [],
   "source": [
    "# lists are mutable"
   ]
  },
  {
   "cell_type": "code",
   "execution_count": 38,
   "id": "5786d77f",
   "metadata": {},
   "outputs": [],
   "source": [
    "# strings are immutable. we cannot the characters inside the string but we can replace the string itself\n"
   ]
  },
  {
   "cell_type": "code",
   "execution_count": 39,
   "id": "4b7c96c3",
   "metadata": {},
   "outputs": [
    {
     "data": {
      "text/plain": [
       "1"
      ]
     },
     "execution_count": 39,
     "metadata": {},
     "output_type": "execute_result"
    }
   ],
   "source": [
    "list1[0]\n"
   ]
  },
  {
   "cell_type": "code",
   "execution_count": 40,
   "id": "ded3b143",
   "metadata": {},
   "outputs": [],
   "source": [
    "list1[0]=100 # here we are changing the list values"
   ]
  },
  {
   "cell_type": "code",
   "execution_count": 41,
   "id": "575082a2",
   "metadata": {},
   "outputs": [
    {
     "data": {
      "text/plain": [
       "[100, 2, 3, 4]"
      ]
     },
     "execution_count": 41,
     "metadata": {},
     "output_type": "execute_result"
    }
   ],
   "source": [
    "list1"
   ]
  },
  {
   "cell_type": "code",
   "execution_count": 42,
   "id": "e11605c1",
   "metadata": {},
   "outputs": [
    {
     "data": {
      "text/plain": [
       "'d'"
      ]
     },
     "execution_count": 42,
     "metadata": {},
     "output_type": "execute_result"
    }
   ],
   "source": [
    "str1[2]"
   ]
  },
  {
   "cell_type": "code",
   "execution_count": 44,
   "id": "28dd9707",
   "metadata": {},
   "outputs": [
    {
     "ename": "TypeError",
     "evalue": "'str' object does not support item assignment",
     "output_type": "error",
     "traceback": [
      "\u001b[1;31m---------------------------------------------------------------------------\u001b[0m",
      "\u001b[1;31mTypeError\u001b[0m                                 Traceback (most recent call last)",
      "\u001b[1;32m~\\AppData\\Local\\Temp\\ipykernel_11584\\827554068.py\u001b[0m in \u001b[0;36m<module>\u001b[1;34m\u001b[0m\n\u001b[1;32m----> 1\u001b[1;33m \u001b[0mstr1\u001b[0m\u001b[1;33m[\u001b[0m\u001b[1;36m2\u001b[0m\u001b[1;33m]\u001b[0m\u001b[1;33m=\u001b[0m\u001b[1;34m'k'\u001b[0m \u001b[1;31m# gives error since strings are immutable\u001b[0m\u001b[1;33m\u001b[0m\u001b[1;33m\u001b[0m\u001b[0m\n\u001b[0m",
      "\u001b[1;31mTypeError\u001b[0m: 'str' object does not support item assignment"
     ]
    }
   ],
   "source": [
    "str1[2]='k' # gives error since strings are immutable"
   ]
  },
  {
   "cell_type": "code",
   "execution_count": 45,
   "id": "7da5bef5",
   "metadata": {},
   "outputs": [],
   "source": [
    "str1='phani'"
   ]
  },
  {
   "cell_type": "code",
   "execution_count": 46,
   "id": "736a31b2",
   "metadata": {},
   "outputs": [
    {
     "data": {
      "text/plain": [
       "'phani'"
      ]
     },
     "execution_count": 46,
     "metadata": {},
     "output_type": "execute_result"
    }
   ],
   "source": [
    "str1"
   ]
  },
  {
   "cell_type": "markdown",
   "id": "8bd9220e",
   "metadata": {},
   "source": [
    "# Binary operators"
   ]
  },
  {
   "cell_type": "code",
   "execution_count": 47,
   "id": "36d0a20a",
   "metadata": {},
   "outputs": [
    {
     "data": {
      "text/plain": [
       "'0b1101110'"
      ]
     },
     "execution_count": 47,
     "metadata": {},
     "output_type": "execute_result"
    }
   ],
   "source": [
    "var=110\n",
    "bin(var)"
   ]
  },
  {
   "cell_type": "code",
   "execution_count": 48,
   "id": "04c9653f",
   "metadata": {},
   "outputs": [
    {
     "data": {
      "text/plain": [
       "-11"
      ]
     },
     "execution_count": 48,
     "metadata": {},
     "output_type": "execute_result"
    }
   ],
   "source": [
    "var2=10\n",
    "~var2"
   ]
  },
  {
   "cell_type": "code",
   "execution_count": 49,
   "id": "03a6281d",
   "metadata": {},
   "outputs": [
    {
     "data": {
      "text/plain": [
       "'0b1010'"
      ]
     },
     "execution_count": 49,
     "metadata": {},
     "output_type": "execute_result"
    }
   ],
   "source": [
    "bin(var2)"
   ]
  },
  {
   "cell_type": "code",
   "execution_count": 51,
   "id": "3d2b6870",
   "metadata": {},
   "outputs": [
    {
     "data": {
      "text/plain": [
       "27"
      ]
     },
     "execution_count": 51,
     "metadata": {},
     "output_type": "execute_result"
    }
   ],
   "source": [
    "var>>2"
   ]
  },
  {
   "cell_type": "code",
   "execution_count": 52,
   "id": "0d025d6a",
   "metadata": {},
   "outputs": [
    {
     "data": {
      "text/plain": [
       "880"
      ]
     },
     "execution_count": 52,
     "metadata": {},
     "output_type": "execute_result"
    }
   ],
   "source": [
    "var<<3\n"
   ]
  },
  {
   "cell_type": "markdown",
   "id": "33e3f1a2",
   "metadata": {},
   "source": [
    "## Strings"
   ]
  },
  {
   "cell_type": "code",
   "execution_count": 53,
   "id": "65324444",
   "metadata": {},
   "outputs": [
    {
     "data": {
      "text/plain": [
       "'Indra'"
      ]
     },
     "execution_count": 53,
     "metadata": {},
     "output_type": "execute_result"
    }
   ],
   "source": [
    "str1='Indra'\n",
    "str1.capitalize()"
   ]
  },
  {
   "cell_type": "code",
   "execution_count": 54,
   "id": "acb98ec7",
   "metadata": {},
   "outputs": [
    {
     "data": {
      "text/plain": [
       "'INDRA'"
      ]
     },
     "execution_count": 54,
     "metadata": {},
     "output_type": "execute_result"
    }
   ],
   "source": [
    "str1.upper()"
   ]
  },
  {
   "cell_type": "code",
   "execution_count": 55,
   "id": "dd32d121",
   "metadata": {},
   "outputs": [
    {
     "data": {
      "text/plain": [
       "'a'"
      ]
     },
     "execution_count": 55,
     "metadata": {},
     "output_type": "execute_result"
    }
   ],
   "source": [
    "str1[-1:] # start from end and goes to end only"
   ]
  },
  {
   "cell_type": "code",
   "execution_count": 56,
   "id": "1bd4e3b8",
   "metadata": {},
   "outputs": [
    {
     "data": {
      "text/plain": [
       "'nd'"
      ]
     },
     "execution_count": 56,
     "metadata": {},
     "output_type": "execute_result"
    }
   ],
   "source": [
    "str1[-4:-2]"
   ]
  },
  {
   "cell_type": "code",
   "execution_count": 58,
   "id": "2b495a4f",
   "metadata": {},
   "outputs": [
    {
     "data": {
      "text/plain": [
       "'Indr'"
      ]
     },
     "execution_count": 58,
     "metadata": {},
     "output_type": "execute_result"
    }
   ],
   "source": [
    "str1[:-1] # read everything except the last character"
   ]
  },
  {
   "cell_type": "code",
   "execution_count": 61,
   "id": "d01c8e9f",
   "metadata": {},
   "outputs": [
    {
     "data": {
      "text/plain": [
       "'Indra'"
      ]
     },
     "execution_count": 61,
     "metadata": {},
     "output_type": "execute_result"
    }
   ],
   "source": [
    "str1[:] # gives entire string\n"
   ]
  },
  {
   "cell_type": "code",
   "execution_count": 63,
   "id": "20baf424",
   "metadata": {},
   "outputs": [
    {
     "data": {
      "text/plain": [
       "'Indra'"
      ]
     },
     "execution_count": 63,
     "metadata": {},
     "output_type": "execute_result"
    }
   ],
   "source": [
    "str1[::]"
   ]
  },
  {
   "cell_type": "code",
   "execution_count": 69,
   "id": "57d4351b",
   "metadata": {},
   "outputs": [
    {
     "data": {
      "text/plain": [
       "'ardnI'"
      ]
     },
     "execution_count": 69,
     "metadata": {},
     "output_type": "execute_result"
    }
   ],
   "source": [
    "str1[::-1] # here - means go in backward direction"
   ]
  },
  {
   "cell_type": "code",
   "execution_count": 66,
   "id": "6fe68d83",
   "metadata": {},
   "outputs": [],
   "source": [
    "str2='India is my country'"
   ]
  },
  {
   "cell_type": "code",
   "execution_count": 67,
   "id": "addd1d71",
   "metadata": {},
   "outputs": [
    {
     "data": {
      "text/plain": [
       "'i aidnI'"
      ]
     },
     "execution_count": 67,
     "metadata": {},
     "output_type": "execute_result"
    }
   ],
   "source": [
    "str2[6::-1] # display last 6 characters in reverse"
   ]
  },
  {
   "cell_type": "code",
   "execution_count": 68,
   "id": "01fe4e4c",
   "metadata": {},
   "outputs": [
    {
     "data": {
      "text/plain": [
       "'i a'"
      ]
     },
     "execution_count": 68,
     "metadata": {},
     "output_type": "execute_result"
    }
   ],
   "source": [
    "str2[6:3:-1]"
   ]
  },
  {
   "cell_type": "code",
   "execution_count": 71,
   "id": "0b58aab5",
   "metadata": {},
   "outputs": [
    {
     "data": {
      "text/plain": [
       "'dnI'"
      ]
     },
     "execution_count": 71,
     "metadata": {},
     "output_type": "execute_result"
    }
   ],
   "source": [
    "str2[2::-1] # start from 2  in reverse direction and display all in reverse"
   ]
  },
  {
   "cell_type": "code",
   "execution_count": 72,
   "id": "ad70ddff",
   "metadata": {},
   "outputs": [],
   "source": [
    "course_name='Data science Masters'"
   ]
  },
  {
   "cell_type": "code",
   "execution_count": 73,
   "id": "b5dfc325",
   "metadata": {},
   "outputs": [
    {
     "data": {
      "text/plain": [
       "'science '"
      ]
     },
     "execution_count": 73,
     "metadata": {},
     "output_type": "execute_result"
    }
   ],
   "source": [
    "course_name[5:13]"
   ]
  },
  {
   "cell_type": "code",
   "execution_count": 74,
   "id": "c68ca57c",
   "metadata": {},
   "outputs": [
    {
     "data": {
      "text/plain": [
       "''"
      ]
     },
     "execution_count": 74,
     "metadata": {},
     "output_type": "execute_result"
    }
   ],
   "source": [
    "course_name[13:5] # gives empty string since it cannot go reverse"
   ]
  },
  {
   "cell_type": "code",
   "execution_count": 75,
   "id": "03d3992e",
   "metadata": {},
   "outputs": [
    {
     "data": {
      "text/plain": [
       "'M ecneic'"
      ]
     },
     "execution_count": 75,
     "metadata": {},
     "output_type": "execute_result"
    }
   ],
   "source": [
    "course_name[13:5:-1] # start from 13 "
   ]
  },
  {
   "cell_type": "code",
   "execution_count": 76,
   "id": "4850cbca",
   "metadata": {},
   "outputs": [
    {
     "data": {
      "text/plain": [
       "2"
      ]
     },
     "execution_count": 76,
     "metadata": {},
     "output_type": "execute_result"
    }
   ],
   "source": [
    "course_name.find('ta')"
   ]
  },
  {
   "cell_type": "code",
   "execution_count": 77,
   "id": "ddbf5ea3",
   "metadata": {},
   "outputs": [
    {
     "data": {
      "text/plain": [
       "-1"
      ]
     },
     "execution_count": 77,
     "metadata": {},
     "output_type": "execute_result"
    }
   ],
   "source": [
    "course_name.find('tat') # -1 means no found in the string"
   ]
  },
  {
   "cell_type": "code",
   "execution_count": 78,
   "id": "47edce49",
   "metadata": {},
   "outputs": [
    {
     "data": {
      "text/plain": [
       "-1"
      ]
     },
     "execution_count": 78,
     "metadata": {},
     "output_type": "execute_result"
    }
   ],
   "source": [
    "course_name.find('z')"
   ]
  },
  {
   "cell_type": "code",
   "execution_count": 79,
   "id": "2d04f825",
   "metadata": {},
   "outputs": [
    {
     "data": {
      "text/plain": [
       "1"
      ]
     },
     "execution_count": 79,
     "metadata": {},
     "output_type": "execute_result"
    }
   ],
   "source": [
    "course_name.find('a')"
   ]
  },
  {
   "cell_type": "code",
   "execution_count": 81,
   "id": "719a08d0",
   "metadata": {},
   "outputs": [
    {
     "data": {
      "text/plain": [
       "3"
      ]
     },
     "execution_count": 81,
     "metadata": {},
     "output_type": "execute_result"
    }
   ],
   "source": [
    "course_name.find('a',2,10)# in between 2 and 10 indexes"
   ]
  },
  {
   "cell_type": "code",
   "execution_count": 82,
   "id": "2b4ff3bc",
   "metadata": {},
   "outputs": [
    {
     "data": {
      "text/plain": [
       "3"
      ]
     },
     "execution_count": 82,
     "metadata": {},
     "output_type": "execute_result"
    }
   ],
   "source": [
    "course_name.count('a') # finding the no of a 's  present in the course_name"
   ]
  },
  {
   "cell_type": "code",
   "execution_count": 83,
   "id": "3c9cefb7",
   "metadata": {},
   "outputs": [
    {
     "data": {
      "text/plain": [
       "3"
      ]
     },
     "execution_count": 83,
     "metadata": {},
     "output_type": "execute_result"
    }
   ],
   "source": [
    "course_name.count('e')"
   ]
  },
  {
   "cell_type": "code",
   "execution_count": 85,
   "id": "54c01578",
   "metadata": {},
   "outputs": [
    {
     "data": {
      "text/plain": [
       "21"
      ]
     },
     "execution_count": 85,
     "metadata": {},
     "output_type": "execute_result"
    }
   ],
   "source": [
    "course_name.count('') # counts total no of characters"
   ]
  },
  {
   "cell_type": "code",
   "execution_count": 87,
   "id": "b5302632",
   "metadata": {},
   "outputs": [
    {
     "data": {
      "text/plain": [
       "['Data', 'science', 'Masters']"
      ]
     },
     "execution_count": 87,
     "metadata": {},
     "output_type": "execute_result"
    }
   ],
   "source": [
    "course_name.split(' ') # splits wherever the space is present. here the separator is the space"
   ]
  },
  {
   "cell_type": "code",
   "execution_count": 89,
   "id": "d8f210ab",
   "metadata": {},
   "outputs": [
    {
     "data": {
      "text/plain": [
       "['D', 't', ' science M', 'sters']"
      ]
     },
     "execution_count": 89,
     "metadata": {},
     "output_type": "execute_result"
    }
   ],
   "source": [
    "course_name.split('a') # wherever a is present there it splits and prints the output\n",
    "# here the separator won't be printed"
   ]
  },
  {
   "cell_type": "code",
   "execution_count": 90,
   "id": "8745599f",
   "metadata": {},
   "outputs": [
    {
     "data": {
      "text/plain": [
       "('Data ', 's', 'cience Masters')"
      ]
     },
     "execution_count": 90,
     "metadata": {},
     "output_type": "execute_result"
    }
   ],
   "source": [
    "course_name.partition('s')"
   ]
  },
  {
   "cell_type": "code",
   "execution_count": 91,
   "id": "4eb61693",
   "metadata": {},
   "outputs": [],
   "source": [
    "# by using partition the separator which is mentioned also prints and partition will split at first occurence only \n",
    "# but in split wherever the separator is found it splits at all places"
   ]
  },
  {
   "cell_type": "code",
   "execution_count": 92,
   "id": "4cfe72f8",
   "metadata": {},
   "outputs": [
    {
     "data": {
      "text/plain": [
       "'dATA SCIENCE mASTERS'"
      ]
     },
     "execution_count": 92,
     "metadata": {},
     "output_type": "execute_result"
    }
   ],
   "source": [
    "course_name.swapcase() # swapping lower into upper case and vice versa\n"
   ]
  },
  {
   "cell_type": "code",
   "execution_count": 94,
   "id": "3bc0e710",
   "metadata": {},
   "outputs": [
    {
     "data": {
      "text/plain": [
       "1"
      ]
     },
     "execution_count": 94,
     "metadata": {},
     "output_type": "execute_result"
    }
   ],
   "source": [
    "course_name.upper().count('N') # since course_name.upper() also gives string the end we can apply one more method on it as shown above"
   ]
  },
  {
   "cell_type": "code",
   "execution_count": null,
   "id": "fb0ccb86",
   "metadata": {},
   "outputs": [],
   "source": []
  }
 ],
 "metadata": {
  "kernelspec": {
   "display_name": "Python 3 (ipykernel)",
   "language": "python",
   "name": "python3"
  },
  "language_info": {
   "codemirror_mode": {
    "name": "ipython",
    "version": 3
   },
   "file_extension": ".py",
   "mimetype": "text/x-python",
   "name": "python",
   "nbconvert_exporter": "python",
   "pygments_lexer": "ipython3",
   "version": "3.9.13"
  }
 },
 "nbformat": 4,
 "nbformat_minor": 5
}
