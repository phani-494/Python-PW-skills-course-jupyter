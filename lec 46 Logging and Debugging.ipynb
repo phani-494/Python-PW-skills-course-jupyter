{
 "cells": [
  {
   "cell_type": "markdown",
   "id": "7c43a530",
   "metadata": {},
   "source": [
    "# lec 46 Logging & Debugger\n",
    "## Logging\n",
    "1. Instead of using print function each time ,we can use logging concept and log all the important details so that it will acts as the permanent storage.\n",
    "2. For example we can log at what time which step occured,which error is occuring and easily find out what bugs are present.\n",
    "3. We can also specify the name of the operations in the logs.\n",
    "4. Normally print will give output temporarily to the console,but we want permanent storage here."
   ]
  },
  {
   "cell_type": "code",
   "execution_count": 43,
   "id": "37e633e2",
   "metadata": {},
   "outputs": [],
   "source": [
    "import logging"
   ]
  },
  {
   "cell_type": "code",
   "execution_count": 44,
   "id": "444a4484",
   "metadata": {},
   "outputs": [],
   "source": [
    "logging.basicConfig(filename=\"tests.log\",level=logging.INFO)"
   ]
  },
  {
   "cell_type": "code",
   "execution_count": 45,
   "id": "1d07092b",
   "metadata": {},
   "outputs": [],
   "source": [
    "# instead of printing each and everything to the console,we can log the ouput/store  into the log file."
   ]
  },
  {
   "cell_type": "code",
   "execution_count": 46,
   "id": "a9b8c1a7",
   "metadata": {},
   "outputs": [],
   "source": [
    "logging.info(\"This is the information of the starting point\")\n",
    "# like this there are so many labels present here. "
   ]
  },
  {
   "cell_type": "code",
   "execution_count": 47,
   "id": "b1a7c387",
   "metadata": {},
   "outputs": [],
   "source": [
    "logging.error(\"We need to be careful as errors may present\") # the error will be seen in capital letters form"
   ]
  },
  {
   "cell_type": "code",
   "execution_count": 48,
   "id": "06c14e32",
   "metadata": {},
   "outputs": [],
   "source": [
    "logging.critical(\"We must log the critical steps here \") # gives as: CRITICAL:root:We must log the critical steps here "
   ]
  },
  {
   "cell_type": "markdown",
   "id": "7497c7e3",
   "metadata": {},
   "source": [
    "# if you open the file, the content present in it is:\n",
    "INFO:root:This is the information of the starting point\n",
    "\n",
    "ERROR:root:We need to be careful as errors may present\n",
    "\n",
    "CRITICAL:root:We must log the critical steps here "
   ]
  },
  {
   "cell_type": "markdown",
   "id": "f1d5ddaa",
   "metadata": {},
   "source": [
    "# hierarchy\n",
    "1. NOSET\n",
    "2. DEBUG\n",
    "3. INFO\n",
    "4. WARNING\n",
    "5. ERROR\n",
    "6. CRITICAL"
   ]
  },
  {
   "cell_type": "code",
   "execution_count": 49,
   "id": "b6030683",
   "metadata": {},
   "outputs": [],
   "source": [
    "# under the  info logging,we can store the warnings,errors and critical logs,"
   ]
  },
  {
   "cell_type": "code",
   "execution_count": 50,
   "id": "988d22dd",
   "metadata": {},
   "outputs": [],
   "source": [
    "logging.warning(\"This will be the first warning to you\")"
   ]
  },
  {
   "cell_type": "code",
   "execution_count": 51,
   "id": "c3709337",
   "metadata": {},
   "outputs": [],
   "source": [
    "# this will not log anything w.r.t the debug tag since logging label is set to the INFO tab.\n",
    "logging.debug(\"We will debug here only\") # this will not tag anything here since this tag is not related to the INFO level"
   ]
  },
  {
   "cell_type": "code",
   "execution_count": 52,
   "id": "2ce658ac",
   "metadata": {},
   "outputs": [
    {
     "ename": "AttributeError",
     "evalue": "module 'logging' has no attribute 'noset'",
     "output_type": "error",
     "traceback": [
      "\u001b[1;31m---------------------------------------------------------------------------\u001b[0m",
      "\u001b[1;31mAttributeError\u001b[0m                            Traceback (most recent call last)",
      "\u001b[1;32m~\\AppData\\Local\\Temp\\ipykernel_5260\\1634144488.py\u001b[0m in \u001b[0;36m<module>\u001b[1;34m\u001b[0m\n\u001b[1;32m----> 1\u001b[1;33m \u001b[0mlogging\u001b[0m\u001b[1;33m.\u001b[0m\u001b[0mnoset\u001b[0m\u001b[1;33m(\u001b[0m\u001b[1;34m\"This is my first noset log here\"\u001b[0m\u001b[1;33m)\u001b[0m \u001b[1;31m# this also doesn't log anything here.\u001b[0m\u001b[1;33m\u001b[0m\u001b[1;33m\u001b[0m\u001b[0m\n\u001b[0m",
      "\u001b[1;31mAttributeError\u001b[0m: module 'logging' has no attribute 'noset'"
     ]
    }
   ],
   "source": [
    "logging.noset(\"This is my first noset log here\") # this also doesn't log anything here."
   ]
  },
  {
   "cell_type": "markdown",
   "id": "ef982988",
   "metadata": {},
   "source": [
    "1. So under INFO logging ,we can use only info,error,warning,critical only.\n",
    "2. We need to log every important information here so that we can later find out easily  what is present and what are giving errors here."
   ]
  },
  {
   "cell_type": "code",
   "execution_count": 53,
   "id": "1439c6ef",
   "metadata": {},
   "outputs": [],
   "source": [
    "# to stop the logging we can use the logging.shutdown() here\n",
    "logging.shutdown()"
   ]
  },
  {
   "cell_type": "code",
   "execution_count": 54,
   "id": "89cc60bb",
   "metadata": {},
   "outputs": [],
   "source": [
    "import logging"
   ]
  },
  {
   "cell_type": "code",
   "execution_count": 4,
   "id": "fd7d5fbb",
   "metadata": {},
   "outputs": [],
   "source": [
    "# now we will create one more file(logging) and store the debug related information here.\n",
    "# if the DEBUG level is present,then as per heirarchy the info,error,warning,critical are present under the DEBUG"
   ]
  },
  {
   "cell_type": "code",
   "execution_count": 5,
   "id": "930bf9c8",
   "metadata": {},
   "outputs": [],
   "source": [
    "logging.basicConfig(filename=\"tests1.log\",level=logging.DEBUG)"
   ]
  },
  {
   "cell_type": "code",
   "execution_count": 6,
   "id": "90968772",
   "metadata": {},
   "outputs": [],
   "source": [
    "logging.debug(\"we are able to debug here\")"
   ]
  },
  {
   "cell_type": "code",
   "execution_count": 7,
   "id": "bdd9f124",
   "metadata": {},
   "outputs": [],
   "source": [
    "logging.error(\"so many errors are present here.so be careful\")"
   ]
  },
  {
   "cell_type": "code",
   "execution_count": 8,
   "id": "059391c6",
   "metadata": {},
   "outputs": [],
   "source": [
    "import logging\n",
    "logging.basicConfig(filename=\"app.log\",level=logging.DEBUG,format=\"%(asctime)s %(message)s\")"
   ]
  },
  {
   "cell_type": "code",
   "execution_count": 9,
   "id": "af15d2cd",
   "metadata": {},
   "outputs": [],
   "source": []
  },
  {
   "cell_type": "code",
   "execution_count": 10,
   "id": "fa237391",
   "metadata": {},
   "outputs": [],
   "source": [
    "logging.basicConfig(filename=\"app.log\",level=logging.DEBUG,format=\"%(asctime)s %(message)s\")"
   ]
  },
  {
   "cell_type": "code",
   "execution_count": 11,
   "id": "89431284",
   "metadata": {},
   "outputs": [],
   "source": [
    "logging.shutdown()"
   ]
  },
  {
   "cell_type": "code",
   "execution_count": 1,
   "id": "50674c1a",
   "metadata": {},
   "outputs": [],
   "source": [
    "import logging\n",
    "logging.basicConfig(filename=\"app1.log\",level=logging.DEBUG,format=\"%(asctime)s %(name)s  %(levelname)s, %(message)s\")"
   ]
  },
  {
   "cell_type": "code",
   "execution_count": 2,
   "id": "560d0819",
   "metadata": {},
   "outputs": [],
   "source": [
    "logging.debug(\"we are able to debug here\")"
   ]
  },
  {
   "cell_type": "code",
   "execution_count": 3,
   "id": "208cd930",
   "metadata": {},
   "outputs": [],
   "source": [
    "# here we will see how we will use the logging concepts in a python program\n",
    "# sometimes the file will not be created . so u need to restart the kernel again here."
   ]
  },
  {
   "cell_type": "code",
   "execution_count": 13,
   "id": "6af1bb7d",
   "metadata": {},
   "outputs": [],
   "source": [
    "logging.shutdown()"
   ]
  },
  {
   "cell_type": "code",
   "execution_count": 1,
   "id": "f5bf2dbe",
   "metadata": {},
   "outputs": [],
   "source": [
    "ls=[1,2,3,4,[3,4,56,67],\"indra\",\"lucky\"]\n"
   ]
  },
  {
   "cell_type": "code",
   "execution_count": 2,
   "id": "f97e9db0",
   "metadata": {},
   "outputs": [
    {
     "data": {
      "text/plain": [
       "[1, 2, 3, 4, [3, 4, 56, 67], 'indra', 'lucky']"
      ]
     },
     "execution_count": 2,
     "metadata": {},
     "output_type": "execute_result"
    }
   ],
   "source": [
    "ls"
   ]
  },
  {
   "cell_type": "code",
   "execution_count": 3,
   "id": "772d79bb",
   "metadata": {},
   "outputs": [],
   "source": [
    "# write a program to separate the list into two lists containing integers and strings separately"
   ]
  },
  {
   "cell_type": "code",
   "execution_count": 4,
   "id": "e77e1883",
   "metadata": {},
   "outputs": [],
   "source": [
    "import logging\n",
    "logging.basicConfig(filename=\"listprog\",level=logging.INFO)\n",
    "l1=[]\n",
    "l2=[]\n",
    "for i in ls:\n",
    "    logging.info(\"here the loop will start with {} and runnning \".format(i))\n",
    "    if type(i)==list:\n",
    "        for j in i:\n",
    "            if type(j)==int:\n",
    "                l1.append(j)\n",
    "                logging.info(\"the value is added {}\".format(j))\n",
    "    elif type(i)==int:\n",
    "        l1.append(i)\n",
    "    else:\n",
    "        if type(i)==str:\n",
    "            l2.append(i)"
   ]
  },
  {
   "cell_type": "code",
   "execution_count": 5,
   "id": "b9a6dae9",
   "metadata": {},
   "outputs": [
    {
     "data": {
      "text/plain": [
       "[1, 2, 3, 4, 3, 4, 56, 67]"
      ]
     },
     "execution_count": 5,
     "metadata": {},
     "output_type": "execute_result"
    }
   ],
   "source": [
    "l1"
   ]
  },
  {
   "cell_type": "code",
   "execution_count": 6,
   "id": "502ea410",
   "metadata": {},
   "outputs": [
    {
     "data": {
      "text/plain": [
       "['indra', 'lucky']"
      ]
     },
     "execution_count": 6,
     "metadata": {},
     "output_type": "execute_result"
    }
   ],
   "source": [
    "l2"
   ]
  },
  {
   "cell_type": "code",
   "execution_count": 7,
   "id": "8dfdcac8",
   "metadata": {},
   "outputs": [],
   "source": [
    "# the information will present like this in the listprog file"
   ]
  },
  {
   "cell_type": "raw",
   "id": "9db495e9",
   "metadata": {},
   "source": [
    "INFO:root:here the loop will start with 1 and runnning \n",
    "INFO:root:here the loop will start with 2 and runnning \n",
    "INFO:root:here the loop will start with 3 and runnning \n",
    "INFO:root:here the loop will start with 4 and runnning \n",
    "INFO:root:here the loop will start with [3, 4, 56, 67] and runnning \n",
    "INFO:root:the value is added 3\n",
    "INFO:root:the value is added 4\n",
    "INFO:root:the value is added 56\n",
    "INFO:root:the value is added 67\n",
    "INFO:root:here the loop will start with indra and runnning \n",
    "INFO:root:here the loop will start with lucky and runnning "
   ]
  },
  {
   "cell_type": "code",
   "execution_count": null,
   "id": "60d0f891",
   "metadata": {},
   "outputs": [],
   "source": []
  }
 ],
 "metadata": {
  "kernelspec": {
   "display_name": "Python 3 (ipykernel)",
   "language": "python",
   "name": "python3"
  },
  "language_info": {
   "codemirror_mode": {
    "name": "ipython",
    "version": 3
   },
   "file_extension": ".py",
   "mimetype": "text/x-python",
   "name": "python",
   "nbconvert_exporter": "python",
   "pygments_lexer": "ipython3",
   "version": "3.9.13"
  }
 },
 "nbformat": 4,
 "nbformat_minor": 5
}
