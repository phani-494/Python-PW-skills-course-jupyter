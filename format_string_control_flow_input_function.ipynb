{
 "cells": [
  {
   "cell_type": "markdown",
   "id": "a8c759b4",
   "metadata": {},
   "source": [
    "# Dynamic Typing\n"
   ]
  },
  {
   "cell_type": "code",
   "execution_count": 1,
   "id": "252deff3",
   "metadata": {},
   "outputs": [],
   "source": [
    "# In python ,no need to declare the integer type since compiler can understand at the time of compiling what data type is assigned to a variable"
   ]
  },
  {
   "cell_type": "code",
   "execution_count": 2,
   "id": "e573416d",
   "metadata": {},
   "outputs": [],
   "source": [
    "# here no need to declare data type while creating /declaring the variables "
   ]
  },
  {
   "cell_type": "code",
   "execution_count": 3,
   "id": "1ec06d40",
   "metadata": {},
   "outputs": [],
   "source": [
    "a=100"
   ]
  },
  {
   "cell_type": "code",
   "execution_count": 4,
   "id": "5b813846",
   "metadata": {},
   "outputs": [],
   "source": [
    "name='Lucky'"
   ]
  },
  {
   "cell_type": "code",
   "execution_count": 5,
   "id": "4b14224f",
   "metadata": {},
   "outputs": [
    {
     "data": {
      "text/plain": [
       "1"
      ]
     },
     "execution_count": 5,
     "metadata": {},
     "output_type": "execute_result"
    }
   ],
   "source": [
    "int(1.54)"
   ]
  },
  {
   "cell_type": "code",
   "execution_count": 7,
   "id": "a0c4a074",
   "metadata": {},
   "outputs": [
    {
     "data": {
      "text/plain": [
       "100.0"
      ]
     },
     "execution_count": 7,
     "metadata": {},
     "output_type": "execute_result"
    }
   ],
   "source": [
    "float(100)"
   ]
  },
  {
   "cell_type": "code",
   "execution_count": 8,
   "id": "2052572d",
   "metadata": {},
   "outputs": [],
   "source": [
    "# Compiler automatically understand what data type is assigned."
   ]
  },
  {
   "cell_type": "code",
   "execution_count": 9,
   "id": "2c31a0ca",
   "metadata": {},
   "outputs": [
    {
     "data": {
      "text/plain": [
       "0"
      ]
     },
     "execution_count": 9,
     "metadata": {},
     "output_type": "execute_result"
    }
   ],
   "source": [
    "int() # returns 0 if no argument is present"
   ]
  },
  {
   "cell_type": "code",
   "execution_count": 10,
   "id": "4050a150",
   "metadata": {},
   "outputs": [
    {
     "name": "stdout",
     "output_type": "stream",
     "text": [
      "123\n"
     ]
    }
   ],
   "source": [
    "print(123)"
   ]
  },
  {
   "cell_type": "code",
   "execution_count": 12,
   "id": "cb1c05d6",
   "metadata": {},
   "outputs": [
    {
     "name": "stdout",
     "output_type": "stream",
     "text": [
      "My age is: 45\n"
     ]
    }
   ],
   "source": [
    "age=45\n",
    "print(\"My age is:\",age)"
   ]
  },
  {
   "cell_type": "markdown",
   "id": "23c20346",
   "metadata": {},
   "source": [
    "# f string  : String formatting"
   ]
  },
  {
   "cell_type": "code",
   "execution_count": 13,
   "id": "0ad7811c",
   "metadata": {},
   "outputs": [],
   "source": [
    "# string formatting means writing the variable name inside the string .So by formatting the string that variable will not be considered as a string\n",
    "# original value of string will be displayed in the string\n"
   ]
  },
  {
   "cell_type": "code",
   "execution_count": 14,
   "id": "e5d0789d",
   "metadata": {},
   "outputs": [
    {
     "name": "stdout",
     "output_type": "stream",
     "text": [
      " My age is {age}\n"
     ]
    }
   ],
   "source": [
    "print(\" My age is {age}\")"
   ]
  },
  {
   "cell_type": "code",
   "execution_count": 15,
   "id": "99fff5d4",
   "metadata": {},
   "outputs": [
    {
     "name": "stdout",
     "output_type": "stream",
     "text": [
      "My age is 45\n"
     ]
    }
   ],
   "source": [
    "print(f\"My age is {age}\")"
   ]
  },
  {
   "cell_type": "markdown",
   "id": "b2e914b5",
   "metadata": {},
   "source": [
    "# Format string"
   ]
  },
  {
   "cell_type": "code",
   "execution_count": 16,
   "id": "bc7a348a",
   "metadata": {},
   "outputs": [
    {
     "name": "stdout",
     "output_type": "stream",
     "text": [
      "My age is 45\n"
     ]
    }
   ],
   "source": [
    "print(\"My age is {}\".format(age))"
   ]
  },
  {
   "cell_type": "code",
   "execution_count": 17,
   "id": "30fbba92",
   "metadata": {},
   "outputs": [],
   "source": [
    "name=\"indra\"\n",
    "age=32\n",
    "height=150\n",
    "salary=890000"
   ]
  },
  {
   "cell_type": "code",
   "execution_count": 18,
   "id": "a6cbe34f",
   "metadata": {},
   "outputs": [
    {
     "name": "stdout",
     "output_type": "stream",
     "text": [
      "indra is doing job with salary  890000 and his age is 32 with height 150\n"
     ]
    }
   ],
   "source": [
    "print(\"{2} is doing job with salary  {0} and his age is {1} with height {3}\".format(salary,age,name,150))"
   ]
  },
  {
   "cell_type": "code",
   "execution_count": 19,
   "id": "ac97ac2c",
   "metadata": {},
   "outputs": [
    {
     "name": "stdout",
     "output_type": "stream",
     "text": [
      "indra is doing job with salary  890000 and his age is 32 \n"
     ]
    }
   ],
   "source": [
    "# we can also use place holders here\n",
    "print(\"{na} is doing job with salary  {sal} and his age is {a} \".format(sal=salary,a=age,na=name))"
   ]
  },
  {
   "cell_type": "code",
   "execution_count": 20,
   "id": "965d6485",
   "metadata": {},
   "outputs": [
    {
     "name": "stdout",
     "output_type": "stream",
     "text": [
      "indra is doing job with salary  890000 and his age is 32 with height 150\n"
     ]
    }
   ],
   "source": [
    "print(\"{} is doing job with salary  {} and his age is {} with height {}\".format(name,salary,age,height))"
   ]
  },
  {
   "cell_type": "markdown",
   "id": "f33f8936",
   "metadata": {},
   "source": [
    "# control statements\n",
    "## Decision making statements"
   ]
  },
  {
   "cell_type": "code",
   "execution_count": 21,
   "id": "067d5947",
   "metadata": {},
   "outputs": [
    {
     "name": "stdout",
     "output_type": "stream",
     "text": [
      "Lucky is eligible to vote\n"
     ]
    }
   ],
   "source": [
    "lucky_age=23\n",
    "if lucky_age>=18:\n",
    "    print(\"Lucky is eligible to vote\")\n",
    "else:\n",
    "    print(\"Lucky is not eligible to vote\")"
   ]
  },
  {
   "cell_type": "code",
   "execution_count": 22,
   "id": "e7587b55",
   "metadata": {},
   "outputs": [
    {
     "name": "stdout",
     "output_type": "stream",
     "text": [
      "Enter the age of luucky:24\n",
      "Lucky is eligible to vote\n"
     ]
    }
   ],
   "source": [
    "lucky_age=int(input(\"Enter the age of luucky:\"))\n",
    "if lucky_age>=18:\n",
    "    print(\"Lucky is eligible to vote\")\n",
    "else:\n",
    "    print(\"Lucky is not eligible to vote\")"
   ]
  },
  {
   "cell_type": "code",
   "execution_count": 23,
   "id": "709720c7",
   "metadata": {},
   "outputs": [],
   "source": [
    "# by default the input function takes the input as string.so u need to typecast it to int function"
   ]
  },
  {
   "cell_type": "code",
   "execution_count": 25,
   "id": "037ef9b4",
   "metadata": {},
   "outputs": [
    {
     "name": "stdout",
     "output_type": "stream",
     "text": [
      "Enter the age :56\n",
      "NOT YOUNG\n"
     ]
    }
   ],
   "source": [
    "age=int(input(\"Enter the age :\"))\n",
    "if age>=18 and age<=45:\n",
    "    print(\"YOUNG\")\n",
    "else:\n",
    "    print(\"NOT YOUNG\")"
   ]
  },
  {
   "cell_type": "code",
   "execution_count": 27,
   "id": "260b4a67",
   "metadata": {},
   "outputs": [],
   "source": [
    "# price>10000 then 20% discount\n",
    "# price<=10000 then 10 % discount"
   ]
  },
  {
   "cell_type": "code",
   "execution_count": 29,
   "id": "cb5b451d",
   "metadata": {},
   "outputs": [
    {
     "name": "stdout",
     "output_type": "stream",
     "text": [
      "Enter the price:2000\n",
      "Original price is 1800.0\n"
     ]
    }
   ],
   "source": [
    "price=int(input(\"Enter the price:\"))\n",
    "if price>10000:\n",
    "    print(\"Original price is\",0.8*price)\n",
    "else:\n",
    "    print(\"Original price is\",0.9* price)"
   ]
  },
  {
   "cell_type": "code",
   "execution_count": 1,
   "id": "ec692556",
   "metadata": {},
   "outputs": [],
   "source": [
    "# price>3000 then 20% discount\n",
    "# price>=2000 and price<3000 then 10 % discount\n",
    "# price >=1 and <=2000 then 40 % discount"
   ]
  },
  {
   "cell_type": "code",
   "execution_count": 6,
   "id": "98385e34",
   "metadata": {},
   "outputs": [
    {
     "name": "stdout",
     "output_type": "stream",
     "text": [
      "Enter the price:2000\n",
      "Original price is 1800.0\n"
     ]
    }
   ],
   "source": [
    "price=int(input(\"Enter the price:\"))\n",
    "if price>3000:\n",
    "    print(f\"Original price is {0.8*price}\")\n",
    "elif price>=2000 and price<=3000:\n",
    "    print(f\"Original price is {0.9*price}\")\n",
    "else:\n",
    "    print(f\"Original price is {0.6* price}\")"
   ]
  },
  {
   "cell_type": "code",
   "execution_count": 7,
   "id": "1b2eca1e",
   "metadata": {},
   "outputs": [],
   "source": [
    "# price>3000 then 20% discount\n",
    "# price>=2000 and price<=3000 then 10 % discount and if price==2999 then an additional gift\n",
    "# price >=1 and <=2000 then 40 % discount"
   ]
  },
  {
   "cell_type": "code",
   "execution_count": 9,
   "id": "1bd57d36",
   "metadata": {},
   "outputs": [
    {
     "name": "stdout",
     "output_type": "stream",
     "text": [
      "Enter the price:5678\n",
      "Original price is 4542.400000000001\n"
     ]
    }
   ],
   "source": [
    "price=int(input(\"Enter the price:\"))\n",
    "if price>3000:\n",
    "    print(f\"Original price is {0.8*price}\")\n",
    "elif price>=2000 and price<=3000:\n",
    "    if price==2999: # nested if which means writing if conditions in an condition\n",
    "        print(\"Congratulations u got an extra gift\")\n",
    "    print(f\"Original price is {0.9*price}\")\n",
    "else:\n",
    "    print(f\"Original price is {0.6* price}\")"
   ]
  },
  {
   "cell_type": "markdown",
   "id": "c6067cdc",
   "metadata": {},
   "source": [
    "# single statements\n"
   ]
  },
  {
   "cell_type": "code",
   "execution_count": 11,
   "id": "864667ab",
   "metadata": {},
   "outputs": [
    {
     "name": "stdout",
     "output_type": "stream",
     "text": [
      "Enter the value: 5\n",
      "Value is less than 50\n"
     ]
    }
   ],
   "source": [
    "val=int(input(\"Enter the value: \"))\n",
    "if (val<50):print(\"Value is less than 50\")\n",
    "else:print(\"More than 50\")"
   ]
  },
  {
   "cell_type": "code",
   "execution_count": null,
   "id": "5936e462",
   "metadata": {},
   "outputs": [],
   "source": []
  }
 ],
 "metadata": {
  "kernelspec": {
   "display_name": "Python 3 (ipykernel)",
   "language": "python",
   "name": "python3"
  },
  "language_info": {
   "codemirror_mode": {
    "name": "ipython",
    "version": 3
   },
   "file_extension": ".py",
   "mimetype": "text/x-python",
   "name": "python",
   "nbconvert_exporter": "python",
   "pygments_lexer": "ipython3",
   "version": "3.9.13"
  }
 },
 "nbformat": 4,
 "nbformat_minor": 5
}
