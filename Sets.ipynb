{
 "cells": [
  {
   "cell_type": "markdown",
   "id": "ce2ff21b",
   "metadata": {},
   "source": [
    "## Loop statements\n",
    "while,for,nested loops,loop controls such as break,continue,pass"
   ]
  },
  {
   "cell_type": "code",
   "execution_count": 1,
   "id": "cf3b21df",
   "metadata": {},
   "outputs": [],
   "source": [
    "# while and while-else"
   ]
  },
  {
   "cell_type": "code",
   "execution_count": null,
   "id": "617c5f66",
   "metadata": {},
   "outputs": [],
   "source": [
    "# check no of yeaes left for entirement\n",
    "# if age>60 then already retired else print the no of years left using while esle "
   ]
  },
  {
   "cell_type": "code",
   "execution_count": null,
   "id": "11c0cfda",
   "metadata": {},
   "outputs": [],
   "source": [
    "age=int(input('Enter age: '))\n",
    "count=0\n",
    "while age<=60:\n",
    "    count=count+1\n",
    "    age=age+1\n",
    "else:\n",
    "    print('already retired')\n",
    "if count>0:\n",
    "    print(\" No of years left is\",count)"
   ]
  },
  {
   "cell_type": "code",
   "execution_count": null,
   "id": "8a0f983a",
   "metadata": {},
   "outputs": [],
   "source": [
    "print(43)"
   ]
  },
  {
   "cell_type": "markdown",
   "id": "9ff338cb",
   "metadata": {},
   "source": [
    "# SETS"
   ]
  },
  {
   "cell_type": "code",
   "execution_count": 1,
   "id": "e9cbf7f5",
   "metadata": {},
   "outputs": [],
   "source": [
    "# collection of unique elements i.e, simply gives elements without any duplicates in it"
   ]
  },
  {
   "cell_type": "code",
   "execution_count": null,
   "id": "e9343422",
   "metadata": {},
   "outputs": [],
   "source": [
    "# denoted by {}"
   ]
  },
  {
   "cell_type": "code",
   "execution_count": 2,
   "id": "009e43a6",
   "metadata": {},
   "outputs": [],
   "source": [
    "s1={} # gives type as dictionary since no elements are present\n",
    "\n"
   ]
  },
  {
   "cell_type": "code",
   "execution_count": 3,
   "id": "4612fcdc",
   "metadata": {},
   "outputs": [
    {
     "data": {
      "text/plain": [
       "dict"
      ]
     },
     "execution_count": 3,
     "metadata": {},
     "output_type": "execute_result"
    }
   ],
   "source": [
    "type(s1)"
   ]
  },
  {
   "cell_type": "code",
   "execution_count": 4,
   "id": "e4e72e8b",
   "metadata": {},
   "outputs": [],
   "source": [
    "s1={1,2,3,4,1,2,3,4,6,5,4,3,4,5,65,4,3,34,67,789}"
   ]
  },
  {
   "cell_type": "code",
   "execution_count": 5,
   "id": "c3ccd2cc",
   "metadata": {},
   "outputs": [
    {
     "name": "stdout",
     "output_type": "stream",
     "text": [
      "{1, 2, 3, 4, 5, 6, 65, 34, 67, 789}\n"
     ]
    }
   ],
   "source": [
    "print(s1) # gives only unique elements"
   ]
  },
  {
   "cell_type": "code",
   "execution_count": 7,
   "id": "d7c5c956",
   "metadata": {},
   "outputs": [
    {
     "data": {
      "text/plain": [
       "set"
      ]
     },
     "execution_count": 7,
     "metadata": {},
     "output_type": "execute_result"
    }
   ],
   "source": [
    "type({3}) # atleast one element should present  inside it"
   ]
  },
  {
   "cell_type": "code",
   "execution_count": 8,
   "id": "af78a459",
   "metadata": {},
   "outputs": [
    {
     "data": {
      "text/plain": [
       "[32, 3, 4, 5, 6, 7, 43, 567]"
      ]
     },
     "execution_count": 8,
     "metadata": {},
     "output_type": "execute_result"
    }
   ],
   "source": [
    "# converting set to list\n",
    "s1={3,4,5,6,7,32,567,43,32}\n",
    "list(s1)"
   ]
  },
  {
   "cell_type": "code",
   "execution_count": 10,
   "id": "9a06e696",
   "metadata": {},
   "outputs": [
    {
     "data": {
      "text/plain": [
       "{1, 2, 3, 4, 5, 6}"
      ]
     },
     "execution_count": 10,
     "metadata": {},
     "output_type": "execute_result"
    }
   ],
   "source": [
    "t1=(1,2,4,5,6,5,4,3,2,1)\n",
    "set(t1) # converting tuples and lists to set"
   ]
  },
  {
   "cell_type": "markdown",
   "id": "73e3438e",
   "metadata": {},
   "source": [
    "## if u want the unique elements from a list or tuple convert it to set and then u can get the result\n"
   ]
  },
  {
   "cell_type": "code",
   "execution_count": 13,
   "id": "4633006e",
   "metadata": {},
   "outputs": [],
   "source": [
    "l1=[34,45,34,56,45,67,87,6,67]#if-u-want-the-unique-elements-from-a-list-or-tuple-convert-it-to-set-and-then-u-can-get-the-result"
   ]
  },
  {
   "cell_type": "code",
   "execution_count": 14,
   "id": "143dbb44",
   "metadata": {},
   "outputs": [
    {
     "data": {
      "text/plain": [
       "{6, 34, 45, 56, 67, 87}"
      ]
     },
     "execution_count": 14,
     "metadata": {},
     "output_type": "execute_result"
    }
   ],
   "source": [
    "set(l1)"
   ]
  },
  {
   "cell_type": "code",
   "execution_count": 15,
   "id": "297fde9a",
   "metadata": {},
   "outputs": [],
   "source": [
    "# we cannot store lists in a set since their index values can be changed"
   ]
  },
  {
   "cell_type": "code",
   "execution_count": 16,
   "id": "c6d60eec",
   "metadata": {},
   "outputs": [
    {
     "ename": "TypeError",
     "evalue": "unhashable type: 'list'",
     "output_type": "error",
     "traceback": [
      "\u001b[1;31m---------------------------------------------------------------------------\u001b[0m",
      "\u001b[1;31mTypeError\u001b[0m                                 Traceback (most recent call last)",
      "\u001b[1;32m~\\AppData\\Local\\Temp\\ipykernel_25416\\53595072.py\u001b[0m in \u001b[0;36m<module>\u001b[1;34m\u001b[0m\n\u001b[1;32m----> 1\u001b[1;33m \u001b[0ms1\u001b[0m\u001b[1;33m=\u001b[0m\u001b[1;33m{\u001b[0m\u001b[1;36m1\u001b[0m\u001b[1;33m,\u001b[0m\u001b[1;36m23\u001b[0m\u001b[1;33m,\u001b[0m\u001b[1;36m4\u001b[0m\u001b[1;33m,\u001b[0m\u001b[1;36m3\u001b[0m\u001b[1;33m,\u001b[0m\u001b[1;33m[\u001b[0m\u001b[1;36m45\u001b[0m\u001b[1;33m,\u001b[0m\u001b[1;36m67\u001b[0m\u001b[1;33m,\u001b[0m\u001b[1;36m87\u001b[0m\u001b[1;33m]\u001b[0m\u001b[1;33m}\u001b[0m\u001b[1;33m\u001b[0m\u001b[1;33m\u001b[0m\u001b[0m\n\u001b[0m",
      "\u001b[1;31mTypeError\u001b[0m: unhashable type: 'list'"
     ]
    }
   ],
   "source": [
    "s1={1,23,4,3,[45,67,87]}"
   ]
  },
  {
   "cell_type": "code",
   "execution_count": 17,
   "id": "3462f29f",
   "metadata": {},
   "outputs": [],
   "source": [
    "# But we can store the tuples inside a set since their index values cannot be changed "
   ]
  },
  {
   "cell_type": "code",
   "execution_count": 18,
   "id": "5702d862",
   "metadata": {},
   "outputs": [],
   "source": [
    "s2={1,2,3,4,(43,54,67)}"
   ]
  },
  {
   "cell_type": "code",
   "execution_count": 19,
   "id": "f7771f65",
   "metadata": {},
   "outputs": [
    {
     "data": {
      "text/plain": [
       "{(43, 54, 67), 1, 2, 3, 4}"
      ]
     },
     "execution_count": 19,
     "metadata": {},
     "output_type": "execute_result"
    }
   ],
   "source": [
    "s2"
   ]
  },
  {
   "cell_type": "code",
   "execution_count": 21,
   "id": "b925e9f3",
   "metadata": {},
   "outputs": [
    {
     "ename": "TypeError",
     "evalue": "'set' object is not subscriptable",
     "output_type": "error",
     "traceback": [
      "\u001b[1;31m---------------------------------------------------------------------------\u001b[0m",
      "\u001b[1;31mTypeError\u001b[0m                                 Traceback (most recent call last)",
      "\u001b[1;32m~\\AppData\\Local\\Temp\\ipykernel_25416\\2460096643.py\u001b[0m in \u001b[0;36m<module>\u001b[1;34m\u001b[0m\n\u001b[1;32m----> 1\u001b[1;33m \u001b[0ms1\u001b[0m\u001b[1;33m[\u001b[0m\u001b[1;36m0\u001b[0m\u001b[1;33m]\u001b[0m \u001b[1;31m# sets doesn't support indexing\u001b[0m\u001b[1;33m\u001b[0m\u001b[1;33m\u001b[0m\u001b[0m\n\u001b[0m",
      "\u001b[1;31mTypeError\u001b[0m: 'set' object is not subscriptable"
     ]
    }
   ],
   "source": [
    "s1[0] # sets doesn't support indexing"
   ]
  },
  {
   "cell_type": "code",
   "execution_count": 22,
   "id": "8ad4c614",
   "metadata": {},
   "outputs": [
    {
     "ename": "TypeError",
     "evalue": "'set' object is not subscriptable",
     "output_type": "error",
     "traceback": [
      "\u001b[1;31m---------------------------------------------------------------------------\u001b[0m",
      "\u001b[1;31mTypeError\u001b[0m                                 Traceback (most recent call last)",
      "\u001b[1;32m~\\AppData\\Local\\Temp\\ipykernel_25416\\131859288.py\u001b[0m in \u001b[0;36m<module>\u001b[1;34m\u001b[0m\n\u001b[1;32m----> 1\u001b[1;33m \u001b[0ms1\u001b[0m\u001b[1;33m[\u001b[0m\u001b[1;33m:\u001b[0m\u001b[1;33m:\u001b[0m\u001b[1;33m-\u001b[0m\u001b[1;36m1\u001b[0m\u001b[1;33m]\u001b[0m\u001b[1;33m\u001b[0m\u001b[1;33m\u001b[0m\u001b[0m\n\u001b[0m",
      "\u001b[1;31mTypeError\u001b[0m: 'set' object is not subscriptable"
     ]
    }
   ],
   "source": [
    "s1[::-1]"
   ]
  },
  {
   "cell_type": "code",
   "execution_count": 23,
   "id": "75d1800d",
   "metadata": {},
   "outputs": [],
   "source": [
    "# to perform these operations convert it into either list or tuple "
   ]
  },
  {
   "cell_type": "code",
   "execution_count": 24,
   "id": "f5fa0edd",
   "metadata": {},
   "outputs": [],
   "source": [
    "s1.add(78)"
   ]
  },
  {
   "cell_type": "code",
   "execution_count": 25,
   "id": "5644e215",
   "metadata": {},
   "outputs": [
    {
     "data": {
      "text/plain": [
       "{3, 4, 5, 6, 7, 32, 43, 78, 567}"
      ]
     },
     "execution_count": 25,
     "metadata": {},
     "output_type": "execute_result"
    }
   ],
   "source": [
    "s1"
   ]
  },
  {
   "cell_type": "code",
   "execution_count": 26,
   "id": "3738742e",
   "metadata": {},
   "outputs": [
    {
     "data": {
      "text/plain": [
       "9"
      ]
     },
     "execution_count": 26,
     "metadata": {},
     "output_type": "execute_result"
    }
   ],
   "source": [
    "len(s1)"
   ]
  },
  {
   "cell_type": "code",
   "execution_count": 27,
   "id": "f46c7702",
   "metadata": {},
   "outputs": [
    {
     "data": {
      "text/plain": [
       "32"
      ]
     },
     "execution_count": 27,
     "metadata": {},
     "output_type": "execute_result"
    }
   ],
   "source": [
    "s1.pop()"
   ]
  },
  {
   "cell_type": "code",
   "execution_count": 28,
   "id": "c8b2fa33",
   "metadata": {},
   "outputs": [
    {
     "data": {
      "text/plain": [
       "{3, 4, 5, 6, 7, 43, 78, 567}"
      ]
     },
     "execution_count": 28,
     "metadata": {},
     "output_type": "execute_result"
    }
   ],
   "source": [
    "s1 # pops basing on the hashing order"
   ]
  },
  {
   "cell_type": "code",
   "execution_count": 31,
   "id": "d7293be4",
   "metadata": {},
   "outputs": [],
   "source": [
    "s1.clear() # removes all the elements in the set"
   ]
  },
  {
   "cell_type": "code",
   "execution_count": 30,
   "id": "7b56c8ed",
   "metadata": {},
   "outputs": [
    {
     "data": {
      "text/plain": [
       "set()"
      ]
     },
     "execution_count": 30,
     "metadata": {},
     "output_type": "execute_result"
    }
   ],
   "source": [
    "s1"
   ]
  },
  {
   "cell_type": "code",
   "execution_count": 32,
   "id": "4713ee5c",
   "metadata": {},
   "outputs": [],
   "source": [
    "s2={3,4,5,6,7,45,34,32,21,76}"
   ]
  },
  {
   "cell_type": "code",
   "execution_count": 33,
   "id": "494c69c9",
   "metadata": {},
   "outputs": [],
   "source": [
    "s3={3,4,5,6,89,76,54,32,45,67}"
   ]
  },
  {
   "cell_type": "code",
   "execution_count": 35,
   "id": "77cf93c7",
   "metadata": {},
   "outputs": [
    {
     "data": {
      "text/plain": [
       "{7, 21, 34}"
      ]
     },
     "execution_count": 35,
     "metadata": {},
     "output_type": "execute_result"
    }
   ],
   "source": [
    "s2.difference(s3) # s2-s3"
   ]
  },
  {
   "cell_type": "code",
   "execution_count": 36,
   "id": "acb30927",
   "metadata": {},
   "outputs": [
    {
     "data": {
      "text/plain": [
       "{54, 67, 89}"
      ]
     },
     "execution_count": 36,
     "metadata": {},
     "output_type": "execute_result"
    }
   ],
   "source": [
    "s3.difference(s2)"
   ]
  },
  {
   "cell_type": "code",
   "execution_count": null,
   "id": "c69c48fa",
   "metadata": {},
   "outputs": [],
   "source": []
  }
 ],
 "metadata": {
  "kernelspec": {
   "display_name": "Python 3 (ipykernel)",
   "language": "python",
   "name": "python3"
  },
  "language_info": {
   "codemirror_mode": {
    "name": "ipython",
    "version": 3
   },
   "file_extension": ".py",
   "mimetype": "text/x-python",
   "name": "python",
   "nbconvert_exporter": "python",
   "pygments_lexer": "ipython3",
   "version": "3.9.13"
  }
 },
 "nbformat": 4,
 "nbformat_minor": 5
}
