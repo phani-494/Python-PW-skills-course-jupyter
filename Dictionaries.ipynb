{
 "cells": [
  {
   "cell_type": "markdown",
   "id": "ce2ff21b",
   "metadata": {},
   "source": [
    "## Loop statements\n",
    "while,for,nested loops,loop controls such as break,continue,pass"
   ]
  },
  {
   "cell_type": "code",
   "execution_count": 1,
   "id": "cf3b21df",
   "metadata": {},
   "outputs": [],
   "source": [
    "# while and while-else"
   ]
  },
  {
   "cell_type": "code",
   "execution_count": 1,
   "id": "617c5f66",
   "metadata": {},
   "outputs": [],
   "source": [
    "# check no of years left for entirement\n",
    "# if age>60 then already retired else print the no of years left using while esle "
   ]
  },
  {
   "cell_type": "code",
   "execution_count": 4,
   "id": "11c0cfda",
   "metadata": {},
   "outputs": [
    {
     "name": "stdout",
     "output_type": "stream",
     "text": [
      "Enter age: 55\n",
      "already retired\n",
      " No of years left is 5\n"
     ]
    }
   ],
   "source": [
    "age=int(input('Enter age: '))\n",
    "count=0\n",
    "while age<=60:\n",
    "    count=count+1\n",
    "    age=age+1\n",
    "else:\n",
    "    print('already retired')\n",
    "if count>0:\n",
    "    print(\" No of years left is\",count-1)"
   ]
  },
  {
   "cell_type": "code",
   "execution_count": 5,
   "id": "8a0f983a",
   "metadata": {},
   "outputs": [
    {
     "name": "stdout",
     "output_type": "stream",
     "text": [
      "43\n"
     ]
    }
   ],
   "source": [
    "print(43)"
   ]
  },
  {
   "cell_type": "markdown",
   "id": "46185957",
   "metadata": {},
   "source": [
    "# Dictionary"
   ]
  },
  {
   "cell_type": "markdown",
   "id": "e259a000",
   "metadata": {},
   "source": [
    "## contacts list,oxford dictioary, # a key and value will present in dictionary"
   ]
  },
  {
   "cell_type": "code",
   "execution_count": 7,
   "id": "3282152e",
   "metadata": {},
   "outputs": [],
   "source": [
    "dict={}"
   ]
  },
  {
   "cell_type": "code",
   "execution_count": 8,
   "id": "beda988c",
   "metadata": {},
   "outputs": [
    {
     "data": {
      "text/plain": [
       "dict"
      ]
     },
     "execution_count": 8,
     "metadata": {},
     "output_type": "execute_result"
    }
   ],
   "source": [
    "type(dict)"
   ]
  },
  {
   "cell_type": "code",
   "execution_count": 9,
   "id": "d4ddb643",
   "metadata": {},
   "outputs": [],
   "source": [
    "dict1={\"name\":\"Indra\",\"age\":54,\"height\":65}"
   ]
  },
  {
   "cell_type": "code",
   "execution_count": 10,
   "id": "9b08c70d",
   "metadata": {},
   "outputs": [
    {
     "data": {
      "text/plain": [
       "{'name': 'Indra', 'age': 54, 'height': 65}"
      ]
     },
     "execution_count": 10,
     "metadata": {},
     "output_type": "execute_result"
    }
   ],
   "source": [
    "dict1"
   ]
  },
  {
   "cell_type": "code",
   "execution_count": 11,
   "id": "7c32ef9a",
   "metadata": {},
   "outputs": [
    {
     "data": {
      "text/plain": [
       "dict"
      ]
     },
     "execution_count": 11,
     "metadata": {},
     "output_type": "execute_result"
    }
   ],
   "source": [
    "type(dict1)"
   ]
  },
  {
   "cell_type": "code",
   "execution_count": 12,
   "id": "0f72c020",
   "metadata": {},
   "outputs": [],
   "source": [
    "# keys can be anything ,values can be anything'"
   ]
  },
  {
   "cell_type": "markdown",
   "id": "9513fda3",
   "metadata": {},
   "source": [
    "# keys should be unique. Values can be duplicate\n",
    "## If u give the same name to key , then old value will be updated as shown"
   ]
  },
  {
   "cell_type": "code",
   "execution_count": 14,
   "id": "b590357d",
   "metadata": {},
   "outputs": [],
   "source": [
    "dict2={\"name\":\"indra\",\"name\":\"mahi\",\"age\":56,\"class\":7}"
   ]
  },
  {
   "cell_type": "code",
   "execution_count": 16,
   "id": "0fb4ed70",
   "metadata": {},
   "outputs": [
    {
     "data": {
      "text/plain": [
       "{'name': 'mahi', 'age': 56, 'class': 7}"
      ]
     },
     "execution_count": 16,
     "metadata": {},
     "output_type": "execute_result"
    }
   ],
   "source": [
    "dict2 # only the updated key name is printed. No duuplicates will present in the keys"
   ]
  },
  {
   "cell_type": "code",
   "execution_count": 17,
   "id": "557daea3",
   "metadata": {},
   "outputs": [],
   "source": [
    "d3={1:'indra',2:4.56,3:True}"
   ]
  },
  {
   "cell_type": "code",
   "execution_count": 19,
   "id": "26c6a2e1",
   "metadata": {},
   "outputs": [
    {
     "data": {
      "text/plain": [
       "{1: 'indra', 2: 4.56, 3: True}"
      ]
     },
     "execution_count": 19,
     "metadata": {},
     "output_type": "execute_result"
    }
   ],
   "source": [
    "d3"
   ]
  },
  {
   "cell_type": "markdown",
   "id": "e01c554a",
   "metadata": {},
   "source": [
    "# No special characters for key are allowed"
   ]
  },
  {
   "cell_type": "code",
   "execution_count": 21,
   "id": "0a55460a",
   "metadata": {},
   "outputs": [
    {
     "ename": "SyntaxError",
     "evalue": "invalid syntax (393982094.py, line 1)",
     "output_type": "error",
     "traceback": [
      "\u001b[1;36m  File \u001b[1;32m\"C:\\Users\\Phanindra Reddy\\AppData\\Local\\Temp\\ipykernel_11920\\393982094.py\"\u001b[1;36m, line \u001b[1;32m1\u001b[0m\n\u001b[1;33m    d4={@:768}\u001b[0m\n\u001b[1;37m        ^\u001b[0m\n\u001b[1;31mSyntaxError\u001b[0m\u001b[1;31m:\u001b[0m invalid syntax\n"
     ]
    }
   ],
   "source": [
    "d4={@:768}"
   ]
  },
  {
   "cell_type": "markdown",
   "id": "221f85aa",
   "metadata": {},
   "source": [
    "# lists and sets are not acceptable as keys\n",
    "## Tuples are considered as keys "
   ]
  },
  {
   "cell_type": "code",
   "execution_count": 24,
   "id": "67a93027",
   "metadata": {},
   "outputs": [
    {
     "ename": "TypeError",
     "evalue": "unhashable type: 'list'",
     "output_type": "error",
     "traceback": [
      "\u001b[1;31m---------------------------------------------------------------------------\u001b[0m",
      "\u001b[1;31mTypeError\u001b[0m                                 Traceback (most recent call last)",
      "\u001b[1;32m~\\AppData\\Local\\Temp\\ipykernel_11920\\1975499045.py\u001b[0m in \u001b[0;36m<module>\u001b[1;34m\u001b[0m\n\u001b[1;32m----> 1\u001b[1;33m \u001b[0md1\u001b[0m\u001b[1;33m=\u001b[0m\u001b[1;33m{\u001b[0m\u001b[1;33m[\u001b[0m\u001b[1;36m1\u001b[0m\u001b[1;33m,\u001b[0m\u001b[1;36m2\u001b[0m\u001b[1;33m,\u001b[0m\u001b[1;36m3\u001b[0m\u001b[1;33m]\u001b[0m\u001b[1;33m:\u001b[0m\u001b[1;34m\"indra\"\u001b[0m\u001b[1;33m}\u001b[0m\u001b[1;33m\u001b[0m\u001b[1;33m\u001b[0m\u001b[0m\n\u001b[0m",
      "\u001b[1;31mTypeError\u001b[0m: unhashable type: 'list'"
     ]
    }
   ],
   "source": [
    "d1={[1,2,3]:\"indra\"}"
   ]
  },
  {
   "cell_type": "code",
   "execution_count": 25,
   "id": "a6efb7c9",
   "metadata": {},
   "outputs": [
    {
     "ename": "TypeError",
     "evalue": "unhashable type: 'set'",
     "output_type": "error",
     "traceback": [
      "\u001b[1;31m---------------------------------------------------------------------------\u001b[0m",
      "\u001b[1;31mTypeError\u001b[0m                                 Traceback (most recent call last)",
      "\u001b[1;32m~\\AppData\\Local\\Temp\\ipykernel_11920\\2227986796.py\u001b[0m in \u001b[0;36m<module>\u001b[1;34m\u001b[0m\n\u001b[1;32m----> 1\u001b[1;33m \u001b[0md2\u001b[0m\u001b[1;33m=\u001b[0m\u001b[1;33m{\u001b[0m\u001b[1;33m{\u001b[0m\u001b[1;36m2\u001b[0m\u001b[1;33m,\u001b[0m\u001b[1;36m3\u001b[0m\u001b[1;33m,\u001b[0m\u001b[1;36m4\u001b[0m\u001b[1;33m}\u001b[0m\u001b[1;33m:\u001b[0m\u001b[1;34m\"indra\"\u001b[0m\u001b[1;33m}\u001b[0m\u001b[1;33m\u001b[0m\u001b[1;33m\u001b[0m\u001b[0m\n\u001b[0m",
      "\u001b[1;31mTypeError\u001b[0m: unhashable type: 'set'"
     ]
    }
   ],
   "source": [
    "d2={{2,3,4}:\"indra\"}"
   ]
  },
  {
   "cell_type": "code",
   "execution_count": 26,
   "id": "2e1f5559",
   "metadata": {},
   "outputs": [],
   "source": [
    "d3={(1,2,3):\"Indra\"}"
   ]
  },
  {
   "cell_type": "code",
   "execution_count": 27,
   "id": "2594827a",
   "metadata": {},
   "outputs": [
    {
     "data": {
      "text/plain": [
       "{(1, 2, 3): 'Indra'}"
      ]
     },
     "execution_count": 27,
     "metadata": {},
     "output_type": "execute_result"
    }
   ],
   "source": [
    "d3"
   ]
  },
  {
   "cell_type": "markdown",
   "id": "81a7197c",
   "metadata": {},
   "source": [
    "# we cannot take dictionary as a key "
   ]
  },
  {
   "cell_type": "code",
   "execution_count": 29,
   "id": "356f8610",
   "metadata": {},
   "outputs": [
    {
     "ename": "TypeError",
     "evalue": "unhashable type: 'dict'",
     "output_type": "error",
     "traceback": [
      "\u001b[1;31m---------------------------------------------------------------------------\u001b[0m",
      "\u001b[1;31mTypeError\u001b[0m                                 Traceback (most recent call last)",
      "\u001b[1;32m~\\AppData\\Local\\Temp\\ipykernel_11920\\868393298.py\u001b[0m in \u001b[0;36m<module>\u001b[1;34m\u001b[0m\n\u001b[1;32m----> 1\u001b[1;33m \u001b[0mdict\u001b[0m\u001b[1;33m=\u001b[0m\u001b[1;33m{\u001b[0m\u001b[1;33m{\u001b[0m\u001b[1;34m\"key\"\u001b[0m\u001b[1;33m:\u001b[0m\u001b[1;34m\"value\"\u001b[0m\u001b[1;33m}\u001b[0m\u001b[1;33m:\u001b[0m\u001b[1;36m12\u001b[0m\u001b[1;33m}\u001b[0m\u001b[1;33m\u001b[0m\u001b[1;33m\u001b[0m\u001b[0m\n\u001b[0m",
      "\u001b[1;31mTypeError\u001b[0m: unhashable type: 'dict'"
     ]
    }
   ],
   "source": [
    "dict={{\"key\":\"value\"}:12}"
   ]
  },
  {
   "cell_type": "markdown",
   "id": "8d28a202",
   "metadata": {},
   "source": [
    "# we can take Values as list,tuples,sets,dictionaries simply nested dictionary"
   ]
  },
  {
   "cell_type": "code",
   "execution_count": 31,
   "id": "443b4ae7",
   "metadata": {},
   "outputs": [],
   "source": [
    "d1={\"names\":[\"indra\",\"raja\",\"lucky\",\"bava\"]}"
   ]
  },
  {
   "cell_type": "code",
   "execution_count": 32,
   "id": "6e4ff497",
   "metadata": {},
   "outputs": [
    {
     "data": {
      "text/plain": [
       "{'names': ['indra', 'raja', 'lucky', 'bava']}"
      ]
     },
     "execution_count": 32,
     "metadata": {},
     "output_type": "execute_result"
    }
   ],
   "source": [
    "d1"
   ]
  },
  {
   "cell_type": "code",
   "execution_count": 36,
   "id": "844bf7ec",
   "metadata": {},
   "outputs": [],
   "source": [
    "d1={\"names\":(\"indra\",\"raja\",\"lucky\",\"bava\")}"
   ]
  },
  {
   "cell_type": "code",
   "execution_count": 37,
   "id": "9a10ee73",
   "metadata": {},
   "outputs": [
    {
     "data": {
      "text/plain": [
       "{'names': ('indra', 'raja', 'lucky', 'bava')}"
      ]
     },
     "execution_count": 37,
     "metadata": {},
     "output_type": "execute_result"
    }
   ],
   "source": [
    "d1"
   ]
  },
  {
   "cell_type": "code",
   "execution_count": 38,
   "id": "f76114ff",
   "metadata": {},
   "outputs": [],
   "source": [
    "d1={\"names\":{\"indra\":\"raja\",\"lucky\":\"bava\"}}"
   ]
  },
  {
   "cell_type": "code",
   "execution_count": 39,
   "id": "89f67e14",
   "metadata": {},
   "outputs": [
    {
     "data": {
      "text/plain": [
       "{'names': {'indra': 'raja', 'lucky': 'bava'}}"
      ]
     },
     "execution_count": 39,
     "metadata": {},
     "output_type": "execute_result"
    }
   ],
   "source": [
    "d1"
   ]
  },
  {
   "cell_type": "code",
   "execution_count": 40,
   "id": "eb2d84bb",
   "metadata": {},
   "outputs": [],
   "source": [
    "d1={\"names\":{\"indra\",\"raja\",\"lucky\",\"bava\"}}"
   ]
  },
  {
   "cell_type": "code",
   "execution_count": 41,
   "id": "21b9ea3a",
   "metadata": {},
   "outputs": [
    {
     "data": {
      "text/plain": [
       "{'names': {'bava', 'indra', 'lucky', 'raja'}}"
      ]
     },
     "execution_count": 41,
     "metadata": {},
     "output_type": "execute_result"
    }
   ],
   "source": [
    "d1"
   ]
  },
  {
   "cell_type": "markdown",
   "id": "40e1432a",
   "metadata": {},
   "source": [
    "# Adding a key value pair to a dictionary"
   ]
  },
  {
   "cell_type": "code",
   "execution_count": 42,
   "id": "2aac64d4",
   "metadata": {},
   "outputs": [],
   "source": [
    "d1[\"nums\"]=(34,45,65,32)"
   ]
  },
  {
   "cell_type": "code",
   "execution_count": 43,
   "id": "d9dc459e",
   "metadata": {},
   "outputs": [
    {
     "data": {
      "text/plain": [
       "{'names': {'bava', 'indra', 'lucky', 'raja'}, 'nums': (34, 45, 65, 32)}"
      ]
     },
     "execution_count": 43,
     "metadata": {},
     "output_type": "execute_result"
    }
   ],
   "source": [
    "d1"
   ]
  },
  {
   "cell_type": "code",
   "execution_count": 45,
   "id": "afef8fa9",
   "metadata": {},
   "outputs": [
    {
     "data": {
      "text/plain": [
       "(34, 45, 65, 32)"
      ]
     },
     "execution_count": 45,
     "metadata": {},
     "output_type": "execute_result"
    }
   ],
   "source": [
    "d1['nums'] # instead of indexes here we use keys to access the values"
   ]
  },
  {
   "cell_type": "code",
   "execution_count": 46,
   "id": "d0cee2d5",
   "metadata": {},
   "outputs": [],
   "source": [
    "d1[\"subject\"]=\"science\""
   ]
  },
  {
   "cell_type": "code",
   "execution_count": 47,
   "id": "ef312893",
   "metadata": {},
   "outputs": [
    {
     "data": {
      "text/plain": [
       "{'names': {'bava', 'indra', 'lucky', 'raja'},\n",
       " 'nums': (34, 45, 65, 32),\n",
       " 'subject': 'science'}"
      ]
     },
     "execution_count": 47,
     "metadata": {},
     "output_type": "execute_result"
    }
   ],
   "source": [
    "d1"
   ]
  },
  {
   "cell_type": "code",
   "execution_count": 48,
   "id": "b8001d6a",
   "metadata": {},
   "outputs": [
    {
     "data": {
      "text/plain": [
       "'SCIENCE'"
      ]
     },
     "execution_count": 48,
     "metadata": {},
     "output_type": "execute_result"
    }
   ],
   "source": [
    "d1[\"subject\"].upper()"
   ]
  },
  {
   "cell_type": "code",
   "execution_count": 88,
   "id": "9f94987a",
   "metadata": {},
   "outputs": [],
   "source": [
    "d1={\"names\":{\"indra\":\"raja\",\"lucky\":\"bava\"}} # print bava "
   ]
  },
  {
   "cell_type": "code",
   "execution_count": 50,
   "id": "ab22d7c0",
   "metadata": {},
   "outputs": [
    {
     "data": {
      "text/plain": [
       "'bava'"
      ]
     },
     "execution_count": 50,
     "metadata": {},
     "output_type": "execute_result"
    }
   ],
   "source": [
    "d1[\"names\"][\"lucky\"]"
   ]
  },
  {
   "cell_type": "code",
   "execution_count": 51,
   "id": "63dda4a1",
   "metadata": {},
   "outputs": [],
   "source": [
    "# Deleting a key value pair"
   ]
  },
  {
   "cell_type": "code",
   "execution_count": 52,
   "id": "89bf1f7d",
   "metadata": {},
   "outputs": [],
   "source": [
    "del d1[\"names\"]"
   ]
  },
  {
   "cell_type": "code",
   "execution_count": 53,
   "id": "83c2adfa",
   "metadata": {},
   "outputs": [
    {
     "data": {
      "text/plain": [
       "{}"
      ]
     },
     "execution_count": 53,
     "metadata": {},
     "output_type": "execute_result"
    }
   ],
   "source": [
    "d1"
   ]
  },
  {
   "cell_type": "code",
   "execution_count": 54,
   "id": "faf86be2",
   "metadata": {},
   "outputs": [],
   "source": [
    "d2={1:\"a\",2:\"b\",3:\"c\",4:\"d\"}"
   ]
  },
  {
   "cell_type": "code",
   "execution_count": 55,
   "id": "aec7f0ee",
   "metadata": {},
   "outputs": [
    {
     "data": {
      "text/plain": [
       "{1: 'a', 2: 'b', 3: 'c', 4: 'd'}"
      ]
     },
     "execution_count": 55,
     "metadata": {},
     "output_type": "execute_result"
    }
   ],
   "source": [
    "d2"
   ]
  },
  {
   "cell_type": "code",
   "execution_count": 56,
   "id": "56c52616",
   "metadata": {},
   "outputs": [],
   "source": [
    "d2.clear()"
   ]
  },
  {
   "cell_type": "code",
   "execution_count": 57,
   "id": "b8103fa4",
   "metadata": {},
   "outputs": [
    {
     "data": {
      "text/plain": [
       "{}"
      ]
     },
     "execution_count": 57,
     "metadata": {},
     "output_type": "execute_result"
    }
   ],
   "source": [
    "d2"
   ]
  },
  {
   "cell_type": "code",
   "execution_count": 58,
   "id": "88a16aa1",
   "metadata": {},
   "outputs": [],
   "source": [
    "d3={1:\"a\",2:\"b\",3:\"c\",4:\"d\"}"
   ]
  },
  {
   "cell_type": "code",
   "execution_count": 59,
   "id": "76d5d3e2",
   "metadata": {},
   "outputs": [
    {
     "data": {
      "text/plain": [
       "4"
      ]
     },
     "execution_count": 59,
     "metadata": {},
     "output_type": "execute_result"
    }
   ],
   "source": [
    "len(d3)"
   ]
  },
  {
   "cell_type": "code",
   "execution_count": 61,
   "id": "083b2a76",
   "metadata": {},
   "outputs": [
    {
     "data": {
      "text/plain": [
       "dict_keys([1, 2, 3, 4])"
      ]
     },
     "execution_count": 61,
     "metadata": {},
     "output_type": "execute_result"
    }
   ],
   "source": [
    "d3.keys()"
   ]
  },
  {
   "cell_type": "code",
   "execution_count": 62,
   "id": "c48c3382",
   "metadata": {},
   "outputs": [
    {
     "data": {
      "text/plain": [
       "dict_values(['a', 'b', 'c', 'd'])"
      ]
     },
     "execution_count": 62,
     "metadata": {},
     "output_type": "execute_result"
    }
   ],
   "source": [
    "d3.values()"
   ]
  },
  {
   "cell_type": "code",
   "execution_count": 63,
   "id": "63f5ffff",
   "metadata": {},
   "outputs": [
    {
     "data": {
      "text/plain": [
       "dict_items([(1, 'a'), (2, 'b'), (3, 'c'), (4, 'd')])"
      ]
     },
     "execution_count": 63,
     "metadata": {},
     "output_type": "execute_result"
    }
   ],
   "source": [
    "d3.items()"
   ]
  },
  {
   "cell_type": "markdown",
   "id": "a781bd0c",
   "metadata": {},
   "source": [
    " # Deep copy and Shallow copy"
   ]
  },
  {
   "cell_type": "code",
   "execution_count": 81,
   "id": "8b3be502",
   "metadata": {},
   "outputs": [],
   "source": [
    "d5={1:\"a\",2:\"b\",3:\"c\",4:\"d\"}"
   ]
  },
  {
   "cell_type": "code",
   "execution_count": 82,
   "id": "e81aed39",
   "metadata": {},
   "outputs": [],
   "source": [
    "d6=d5.copy() #  DEEP COPY -> changes made in d5 won't affect the d6 # copy into new memory"
   ]
  },
  {
   "cell_type": "code",
   "execution_count": 83,
   "id": "2e8df574",
   "metadata": {},
   "outputs": [],
   "source": [
    "d7=d5 # Shallow copy --> changes made in d5 will also leads to update in d7 also. # refering to the same memory"
   ]
  },
  {
   "cell_type": "code",
   "execution_count": 68,
   "id": "089e620f",
   "metadata": {},
   "outputs": [
    {
     "data": {
      "text/plain": [
       "{1: 'a', 2: 'b', 3: 'c', 4: 'd'}"
      ]
     },
     "execution_count": 68,
     "metadata": {},
     "output_type": "execute_result"
    }
   ],
   "source": [
    "d6"
   ]
  },
  {
   "cell_type": "code",
   "execution_count": 69,
   "id": "6a3b7806",
   "metadata": {},
   "outputs": [
    {
     "data": {
      "text/plain": [
       "{1: 'a', 2: 'b', 3: 'c', 4: 'd'}"
      ]
     },
     "execution_count": 69,
     "metadata": {},
     "output_type": "execute_result"
    }
   ],
   "source": [
    "d7"
   ]
  },
  {
   "cell_type": "code",
   "execution_count": 70,
   "id": "a8e4a2f0",
   "metadata": {},
   "outputs": [],
   "source": [
    "d5[5]=\"e\""
   ]
  },
  {
   "cell_type": "code",
   "execution_count": 71,
   "id": "681ac080",
   "metadata": {},
   "outputs": [
    {
     "data": {
      "text/plain": [
       "{1: 'a', 2: 'b', 3: 'c', 4: 'd'}"
      ]
     },
     "execution_count": 71,
     "metadata": {},
     "output_type": "execute_result"
    }
   ],
   "source": [
    "d6"
   ]
  },
  {
   "cell_type": "code",
   "execution_count": 72,
   "id": "7db42f03",
   "metadata": {},
   "outputs": [
    {
     "data": {
      "text/plain": [
       "{1: 'a', 2: 'b', 3: 'c', 4: 'd', 5: 'e'}"
      ]
     },
     "execution_count": 72,
     "metadata": {},
     "output_type": "execute_result"
    }
   ],
   "source": [
    "d7"
   ]
  },
  {
   "cell_type": "markdown",
   "id": "d6675292",
   "metadata": {},
   "source": [
    "# Pop in dictionary"
   ]
  },
  {
   "cell_type": "code",
   "execution_count": 76,
   "id": "fc4e42db",
   "metadata": {},
   "outputs": [],
   "source": [
    "# For dictionaries,pop will need atleast one argument"
   ]
  },
  {
   "cell_type": "code",
   "execution_count": 77,
   "id": "8e04db47",
   "metadata": {},
   "outputs": [
    {
     "data": {
      "text/plain": [
       "'a'"
      ]
     },
     "execution_count": 77,
     "metadata": {},
     "output_type": "execute_result"
    }
   ],
   "source": [
    "d5.pop(1)"
   ]
  },
  {
   "cell_type": "code",
   "execution_count": 78,
   "id": "cb944b88",
   "metadata": {},
   "outputs": [
    {
     "data": {
      "text/plain": [
       "{2: 'b', 3: 'c', 4: 'd', 5: 'e'}"
      ]
     },
     "execution_count": 78,
     "metadata": {},
     "output_type": "execute_result"
    }
   ],
   "source": [
    "d5"
   ]
  },
  {
   "cell_type": "code",
   "execution_count": 79,
   "id": "27fbb78d",
   "metadata": {},
   "outputs": [
    {
     "ename": "TypeError",
     "evalue": "pop expected at least 1 argument, got 0",
     "output_type": "error",
     "traceback": [
      "\u001b[1;31m---------------------------------------------------------------------------\u001b[0m",
      "\u001b[1;31mTypeError\u001b[0m                                 Traceback (most recent call last)",
      "\u001b[1;32m~\\AppData\\Local\\Temp\\ipykernel_11920\\2612877363.py\u001b[0m in \u001b[0;36m<module>\u001b[1;34m\u001b[0m\n\u001b[1;32m----> 1\u001b[1;33m \u001b[0md5\u001b[0m\u001b[1;33m.\u001b[0m\u001b[0mpop\u001b[0m\u001b[1;33m(\u001b[0m\u001b[1;33m)\u001b[0m\u001b[1;33m\u001b[0m\u001b[1;33m\u001b[0m\u001b[0m\n\u001b[0m",
      "\u001b[1;31mTypeError\u001b[0m: pop expected at least 1 argument, got 0"
     ]
    }
   ],
   "source": [
    "d5.pop()"
   ]
  },
  {
   "cell_type": "code",
   "execution_count": 84,
   "id": "983cbcc7",
   "metadata": {},
   "outputs": [
    {
     "data": {
      "text/plain": [
       "({1: 'a', 2: 'b', 3: 'c', 4: 'd'}, {1: 'a', 2: 'b', 3: 'c', 4: 'd'})"
      ]
     },
     "execution_count": 84,
     "metadata": {},
     "output_type": "execute_result"
    }
   ],
   "source": [
    "# we can insert dictionaries into a tuple\n",
    "(d5,d6)"
   ]
  },
  {
   "cell_type": "code",
   "execution_count": 91,
   "id": "9257fc41",
   "metadata": {},
   "outputs": [],
   "source": [
    "d5.update(d1) # d5 will be updated with d1 values here"
   ]
  },
  {
   "cell_type": "code",
   "execution_count": 92,
   "id": "f730f9bc",
   "metadata": {},
   "outputs": [
    {
     "data": {
      "text/plain": [
       "{1: 'a', 2: 'b', 3: 'c', 4: 'd', 'names': {'indra': 'raja', 'lucky': 'bava'}}"
      ]
     },
     "execution_count": 92,
     "metadata": {},
     "output_type": "execute_result"
    }
   ],
   "source": [
    "d5"
   ]
  },
  {
   "cell_type": "code",
   "execution_count": 93,
   "id": "980cb9fa",
   "metadata": {},
   "outputs": [
    {
     "data": {
      "text/plain": [
       "{1: 'a', 2: 'b', 3: 'c', 4: 'd'}"
      ]
     },
     "execution_count": 93,
     "metadata": {},
     "output_type": "execute_result"
    }
   ],
   "source": [
    "d3"
   ]
  },
  {
   "cell_type": "code",
   "execution_count": 94,
   "id": "5ecb6e82",
   "metadata": {},
   "outputs": [
    {
     "data": {
      "text/plain": [
       "'b'"
      ]
     },
     "execution_count": 94,
     "metadata": {},
     "output_type": "execute_result"
    }
   ],
   "source": [
    "d5.get(2)"
   ]
  },
  {
   "cell_type": "code",
   "execution_count": 95,
   "id": "921b8fa9",
   "metadata": {},
   "outputs": [
    {
     "ename": "KeyError",
     "evalue": "10",
     "output_type": "error",
     "traceback": [
      "\u001b[1;31m---------------------------------------------------------------------------\u001b[0m",
      "\u001b[1;31mKeyError\u001b[0m                                  Traceback (most recent call last)",
      "\u001b[1;32m~\\AppData\\Local\\Temp\\ipykernel_11920\\2948016411.py\u001b[0m in \u001b[0;36m<module>\u001b[1;34m\u001b[0m\n\u001b[1;32m----> 1\u001b[1;33m \u001b[0md5\u001b[0m\u001b[1;33m[\u001b[0m\u001b[1;36m10\u001b[0m\u001b[1;33m]\u001b[0m\u001b[1;33m\u001b[0m\u001b[1;33m\u001b[0m\u001b[0m\n\u001b[0m",
      "\u001b[1;31mKeyError\u001b[0m: 10"
     ]
    }
   ],
   "source": [
    "d5[10]"
   ]
  },
  {
   "cell_type": "code",
   "execution_count": 97,
   "id": "8ba9d28a",
   "metadata": {},
   "outputs": [],
   "source": [
    "d5.get(10) # in case of d5[10] if key doesn't exist then it will give error"
   ]
  },
  {
   "cell_type": "code",
   "execution_count": 98,
   "id": "645d8d31",
   "metadata": {},
   "outputs": [],
   "source": [
    "# but in case of the get(),even if doesn't exist then it won't give any error "
   ]
  },
  {
   "cell_type": "markdown",
   "id": "f79ba439",
   "metadata": {},
   "source": [
    "# Dictionary Comprehensions"
   ]
  },
  {
   "cell_type": "code",
   "execution_count": 99,
   "id": "e697c9d3",
   "metadata": {},
   "outputs": [
    {
     "data": {
      "text/plain": [
       "{1: 1, 2: 4, 3: 9, 4: 16, 5: 25, 6: 36, 7: 49, 8: 64, 9: 81, 10: 100}"
      ]
     },
     "execution_count": 99,
     "metadata": {},
     "output_type": "execute_result"
    }
   ],
   "source": [
    "{i:i**2 for i in range(1,11)}"
   ]
  },
  {
   "cell_type": "code",
   "execution_count": 100,
   "id": "4c573301",
   "metadata": {},
   "outputs": [],
   "source": [
    "# print first 10 logarithmic values"
   ]
  },
  {
   "cell_type": "code",
   "execution_count": 104,
   "id": "af3d305f",
   "metadata": {},
   "outputs": [
    {
     "data": {
      "text/plain": [
       "{1: 0.0,\n",
       " 2: 0.3010299956639812,\n",
       " 3: 0.47712125471966244,\n",
       " 4: 0.6020599913279624,\n",
       " 5: 0.6989700043360189,\n",
       " 6: 0.7781512503836436,\n",
       " 7: 0.8450980400142568,\n",
       " 8: 0.9030899869919435,\n",
       " 9: 0.9542425094393249,\n",
       " 10: 1.0}"
      ]
     },
     "execution_count": 104,
     "metadata": {},
     "output_type": "execute_result"
    }
   ],
   "source": [
    "import math\n",
    "d1={i:math.log10(i) for i in range(1,11)}\n",
    "d1"
   ]
  },
  {
   "cell_type": "code",
   "execution_count": 102,
   "id": "5caf8274",
   "metadata": {},
   "outputs": [],
   "source": [
    "# print where keys are even numbers"
   ]
  },
  {
   "cell_type": "code",
   "execution_count": 105,
   "id": "e85b0211",
   "metadata": {},
   "outputs": [
    {
     "name": "stdout",
     "output_type": "stream",
     "text": [
      "0.3010299956639812\n",
      "0.6020599913279624\n",
      "0.7781512503836436\n",
      "0.9030899869919435\n",
      "1.0\n"
     ]
    }
   ],
   "source": [
    "for i in d1.keys():\n",
    "    if i%2==0:\n",
    "        print(d1[i])"
   ]
  },
  {
   "cell_type": "code",
   "execution_count": null,
   "id": "d1c829eb",
   "metadata": {},
   "outputs": [],
   "source": []
  }
 ],
 "metadata": {
  "kernelspec": {
   "display_name": "Python 3 (ipykernel)",
   "language": "python",
   "name": "python3"
  },
  "language_info": {
   "codemirror_mode": {
    "name": "ipython",
    "version": 3
   },
   "file_extension": ".py",
   "mimetype": "text/x-python",
   "name": "python",
   "nbconvert_exporter": "python",
   "pygments_lexer": "ipython3",
   "version": "3.9.13"
  }
 },
 "nbformat": 4,
 "nbformat_minor": 5
}
