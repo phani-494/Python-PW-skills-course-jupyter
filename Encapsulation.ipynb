{
 "cells": [
  {
   "cell_type": "markdown",
   "id": "ce2ff21b",
   "metadata": {},
   "source": [
    "## Loop statements\n",
    "while,for,nested loops,loop controls such as break,continue,pass"
   ]
  },
  {
   "cell_type": "code",
   "execution_count": 1,
   "id": "cf3b21df",
   "metadata": {},
   "outputs": [],
   "source": [
    "# while and while-else"
   ]
  },
  {
   "cell_type": "code",
   "execution_count": 1,
   "id": "617c5f66",
   "metadata": {},
   "outputs": [],
   "source": [
    "# check no of years left for entirement\n",
    "# if age>60 then already retired else print the no of years left using while esle "
   ]
  },
  {
   "cell_type": "code",
   "execution_count": 4,
   "id": "11c0cfda",
   "metadata": {},
   "outputs": [
    {
     "name": "stdout",
     "output_type": "stream",
     "text": [
      "Enter age: 55\n",
      "already retired\n",
      " No of years left is 5\n"
     ]
    }
   ],
   "source": [
    "age=int(input('Enter age: '))\n",
    "count=0\n",
    "while age<=60:\n",
    "    count=count+1\n",
    "    age=age+1\n",
    "else:\n",
    "    print('already retired')\n",
    "if count>0:\n",
    "    print(\" No of years left is\",count-1)"
   ]
  },
  {
   "cell_type": "code",
   "execution_count": 1,
   "id": "8a0f983a",
   "metadata": {},
   "outputs": [
    {
     "name": "stdout",
     "output_type": "stream",
     "text": [
      "43\n"
     ]
    }
   ],
   "source": [
    "print(43)"
   ]
  },
  {
   "cell_type": "markdown",
   "id": "5a09247e",
   "metadata": {},
   "source": [
    "## lec 32\n",
    "## Encapsulation"
   ]
  },
  {
   "cell_type": "code",
   "execution_count": 2,
   "id": "26d5151b",
   "metadata": {},
   "outputs": [],
   "source": [
    "class test:\n",
    "    def __init__(self,a,b):\n",
    "        self.a=a\n",
    "        self.b=b\n",
    "test1=test(5,10)"
   ]
  },
  {
   "cell_type": "code",
   "execution_count": 3,
   "id": "74817cf6",
   "metadata": {},
   "outputs": [
    {
     "data": {
      "text/plain": [
       "5"
      ]
     },
     "execution_count": 3,
     "metadata": {},
     "output_type": "execute_result"
    }
   ],
   "source": [
    "test1.a # here we are able to acess the object  values of  both a and b "
   ]
  },
  {
   "cell_type": "code",
   "execution_count": 4,
   "id": "a2dcef43",
   "metadata": {},
   "outputs": [],
   "source": [
    "test1.b=90 # here we are able to modify the object value also.\n"
   ]
  },
  {
   "cell_type": "code",
   "execution_count": 5,
   "id": "21ae1494",
   "metadata": {},
   "outputs": [
    {
     "data": {
      "text/plain": [
       "90"
      ]
     },
     "execution_count": 5,
     "metadata": {},
     "output_type": "execute_result"
    }
   ],
   "source": [
    "test1.b"
   ]
  },
  {
   "cell_type": "code",
   "execution_count": 8,
   "id": "0e1c4ed7",
   "metadata": {},
   "outputs": [],
   "source": [
    "# In some scenarios we don't want anyone to change the data\n",
    "# In such cases encapulation plays a major role to protect the data\n",
    "# It is like a capsule where we don't know what is present in the capsule but we know will be the result by consuming the capsule."
   ]
  },
  {
   "cell_type": "code",
   "execution_count": 9,
   "id": "c03f59d9",
   "metadata": {},
   "outputs": [],
   "source": [
    "# we don't want anyone to modify the values or change the code.\n",
    "# Encapsulation helps to preevent others to access the data."
   ]
  },
  {
   "cell_type": "code",
   "execution_count": 10,
   "id": "cbd81233",
   "metadata": {},
   "outputs": [],
   "source": [
    "# Other users cannot make any changes to our own defined methods"
   ]
  },
  {
   "cell_type": "code",
   "execution_count": 11,
   "id": "91d044c2",
   "metadata": {},
   "outputs": [],
   "source": [
    "class car:\n",
    "    def __init__(self,year,make,model,speed):\n",
    "        self.__year=year # __ represents that variable is private\n",
    "        self.__make=make\n",
    "        self.__model=model\n",
    "        self.__speed=0\n"
   ]
  },
  {
   "cell_type": "code",
   "execution_count": 12,
   "id": "bc1d5002",
   "metadata": {},
   "outputs": [],
   "source": [
    "car1=car(2021,\"toyota\",\"Innova\",12)"
   ]
  },
  {
   "cell_type": "code",
   "execution_count": 24,
   "id": "271aa111",
   "metadata": {},
   "outputs": [
    {
     "ename": "AttributeError",
     "evalue": "'car' object has no attribute '__year'",
     "output_type": "error",
     "traceback": [
      "\u001b[1;31m---------------------------------------------------------------------------\u001b[0m",
      "\u001b[1;31mAttributeError\u001b[0m                            Traceback (most recent call last)",
      "\u001b[1;32m~\\AppData\\Local\\Temp\\ipykernel_15504\\1279308728.py\u001b[0m in \u001b[0;36m<module>\u001b[1;34m\u001b[0m\n\u001b[0;32m      1\u001b[0m \u001b[1;31m# through an object we cannot access the variable if it is private\u001b[0m\u001b[1;33m\u001b[0m\u001b[1;33m\u001b[0m\u001b[0m\n\u001b[1;32m----> 2\u001b[1;33m \u001b[0mcar1\u001b[0m\u001b[1;33m.\u001b[0m\u001b[0m__year\u001b[0m \u001b[1;31m# see now here we are not able to access it all since it is private\u001b[0m\u001b[1;33m\u001b[0m\u001b[1;33m\u001b[0m\u001b[0m\n\u001b[0m",
      "\u001b[1;31mAttributeError\u001b[0m: 'car' object has no attribute '__year'"
     ]
    }
   ],
   "source": [
    " # through an object we cannot access the variable if it is private\n",
    "car1.__year # see now here we are not able to access it all since it is private"
   ]
  },
  {
   "cell_type": "code",
   "execution_count": 60,
   "id": "039f5f3e",
   "metadata": {},
   "outputs": [
    {
     "data": {
      "text/plain": [
       "2021"
      ]
     },
     "execution_count": 60,
     "metadata": {},
     "output_type": "execute_result"
    }
   ],
   "source": [
    "car1._car__year # now we are able to access it using the class name\n",
    "# unless and until if we don't know the exact class name and the variable name we cannot access it"
   ]
  },
  {
   "cell_type": "code",
   "execution_count": 26,
   "id": "6502d0e4",
   "metadata": {},
   "outputs": [],
   "source": [
    "# above we know the class name and the variable name belong to the class\n",
    "# but what if we don't know the class name and the variables present in it.\n"
   ]
  },
  {
   "cell_type": "code",
   "execution_count": 27,
   "id": "1ee26941",
   "metadata": {},
   "outputs": [],
   "source": [
    "car1._car__year =2025 # we as a creator knows the class and its variables\n",
    "# but how other user will get to know?"
   ]
  },
  {
   "cell_type": "code",
   "execution_count": 28,
   "id": "7b40d1de",
   "metadata": {},
   "outputs": [
    {
     "data": {
      "text/plain": [
       "2025"
      ]
     },
     "execution_count": 28,
     "metadata": {},
     "output_type": "execute_result"
    }
   ],
   "source": [
    "car1._car__year "
   ]
  },
  {
   "cell_type": "markdown",
   "id": "69f2e997",
   "metadata": {},
   "source": [
    "1. So we will create a public method which will helps others (external users) to access or modify the values\n",
    "2. In a capsule we are hiding everything as we don't want user what is present in it.\n",
    "3. So we will create some methods through which we are able to access the private values and change them.\n",
    "4. But external user's don't know what is present in the variables. All they know is that there are methods present in high level only but don't know what is exactly present in the."
   ]
  },
  {
   "cell_type": "code",
   "execution_count": 29,
   "id": "4c87197e",
   "metadata": {},
   "outputs": [],
   "source": [
    "#  for external users we will create a public method, through which they can be able to access or modify them.\n",
    "# here we are hiding the entire implementation of my class variables."
   ]
  },
  {
   "cell_type": "code",
   "execution_count": 31,
   "id": "7b7af6bf",
   "metadata": {},
   "outputs": [],
   "source": [
    "# suppose we want to set the speed .\n",
    "# so we will define a set speed named function and acccess it. we will llow the user to define/set the speed."
   ]
  },
  {
   "cell_type": "code",
   "execution_count": 32,
   "id": "82a419c4",
   "metadata": {},
   "outputs": [],
   "source": [
    "class car:\n",
    "    def __init__(self,year,make,model,speed):\n",
    "        self.__year=year # __ represents that variable is private\n",
    "        self.__make=make\n",
    "        self.__model=model\n",
    "        self.__speed=0\n",
    "    def set_speed(self,speed):\n",
    "        self.__speed=0 if speed<0 else speed\n",
    "        # here  we are modifying the speed inside the class only. which means we cannot directly change the speed outside the class\n",
    "       \n",
    "    "
   ]
  },
  {
   "cell_type": "code",
   "execution_count": 33,
   "id": "c844c9fb",
   "metadata": {},
   "outputs": [],
   "source": [
    "car1=car(2021,\"toyota\",\"Innova\",12)"
   ]
  },
  {
   "cell_type": "code",
   "execution_count": 34,
   "id": "5dc3ff09",
   "metadata": {},
   "outputs": [],
   "source": [
    "car1.set_speed(200) # see here we are setting the speed through the method which is present in the class."
   ]
  },
  {
   "cell_type": "code",
   "execution_count": 42,
   "id": "70095f3d",
   "metadata": {},
   "outputs": [
    {
     "data": {
      "text/plain": [
       "200"
      ]
     },
     "execution_count": 42,
     "metadata": {},
     "output_type": "execute_result"
    }
   ],
   "source": [
    "car1._car__speed # as an user u know the entire function and its class name. so we are able to access it here."
   ]
  },
  {
   "cell_type": "code",
   "execution_count": 43,
   "id": "55a9df42",
   "metadata": {},
   "outputs": [
    {
     "ename": "AttributeError",
     "evalue": "'car' object has no attribute '__speed'",
     "output_type": "error",
     "traceback": [
      "\u001b[1;31m---------------------------------------------------------------------------\u001b[0m",
      "\u001b[1;31mAttributeError\u001b[0m                            Traceback (most recent call last)",
      "\u001b[1;32m~\\AppData\\Local\\Temp\\ipykernel_15504\\268343731.py\u001b[0m in \u001b[0;36m<module>\u001b[1;34m\u001b[0m\n\u001b[1;32m----> 1\u001b[1;33m \u001b[0mcar1\u001b[0m\u001b[1;33m.\u001b[0m\u001b[0m__speed\u001b[0m \u001b[1;31m# here see that user is not having the access to the variable\u001b[0m\u001b[1;33m\u001b[0m\u001b[1;33m\u001b[0m\u001b[0m\n\u001b[0m",
      "\u001b[1;31mAttributeError\u001b[0m: 'car' object has no attribute '__speed'"
     ]
    }
   ],
   "source": [
    "car1.__speed # here see that user is not having the access to the variable"
   ]
  },
  {
   "cell_type": "code",
   "execution_count": 44,
   "id": "18f8932e",
   "metadata": {},
   "outputs": [],
   "source": [
    "# so we define a method where user will be able to see the value set for speed or current value of it"
   ]
  },
  {
   "cell_type": "code",
   "execution_count": 56,
   "id": "bc9e0316",
   "metadata": {},
   "outputs": [],
   "source": [
    "class car:\n",
    "    def __init__(self,year,make,model,speed):\n",
    "        self.__year=year # __ represents that variable is private\n",
    "        self.__make=make\n",
    "        self.__model=model\n",
    "        self.__speed=speed\n",
    "    def set_speed(self,speed):\n",
    "        self.__speed=0 if speed<0 else speed\n",
    "    def get_speed(self):\n",
    "        return self.__speed\n",
    "car1=car(2021,\"toyota\",\"Innova\",12)"
   ]
  },
  {
   "cell_type": "code",
   "execution_count": 57,
   "id": "f199139f",
   "metadata": {},
   "outputs": [
    {
     "data": {
      "text/plain": [
       "12"
      ]
     },
     "execution_count": 57,
     "metadata": {},
     "output_type": "execute_result"
    }
   ],
   "source": [
    "car1.get_speed()"
   ]
  },
  {
   "cell_type": "code",
   "execution_count": 58,
   "id": "bfa96836",
   "metadata": {},
   "outputs": [],
   "source": [
    "# just with the help of above functions only, the user is able to access the private variable values but not directly.\n",
    "# as a creator it is in our hands to define the function or not realted to the information whatever the external users want"
   ]
  },
  {
   "cell_type": "markdown",
   "id": "bc3c60df",
   "metadata": {},
   "source": [
    "# example 2"
   ]
  },
  {
   "cell_type": "code",
   "execution_count": 76,
   "id": "41e5bc97",
   "metadata": {},
   "outputs": [],
   "source": [
    "class bank_account:\n",
    "    def __init__(self,balance):\n",
    "        self.__balance=balance # we are not allowing to access or modify it\n",
    "    def deposit(self,amount):\n",
    "        self.__balance=self.__balance+amount\n",
    "    def withdrawl(self,amount):\n",
    "        if self.__balance>=amount: # here no where other user is not able to access directly to balance\n",
    "            self.__balance=self.__balance-amount\n",
    "            return True\n",
    "        else:\n",
    "            return False\n",
    "    def show_balance(self):\n",
    "        return self.__balance\n",
    "        "
   ]
  },
  {
   "cell_type": "code",
   "execution_count": 77,
   "id": "57a83376",
   "metadata": {},
   "outputs": [],
   "source": [
    "acc1=bank_account(1000)"
   ]
  },
  {
   "cell_type": "code",
   "execution_count": 83,
   "id": "225c2834",
   "metadata": {},
   "outputs": [
    {
     "data": {
      "text/plain": [
       "1000"
      ]
     },
     "execution_count": 83,
     "metadata": {},
     "output_type": "execute_result"
    }
   ],
   "source": [
    "acc1.show_balance()"
   ]
  },
  {
   "cell_type": "code",
   "execution_count": 84,
   "id": "92e4d750",
   "metadata": {},
   "outputs": [
    {
     "name": "stdout",
     "output_type": "stream",
     "text": [
      "<bound method bank_account.show_balance of <__main__.bank_account object at 0x000002AA2D6B2F10>>\n"
     ]
    }
   ],
   "source": [
    "a=acc1.show_balance # here no () are present . so it returns object only\n",
    "print(a)"
   ]
  },
  {
   "cell_type": "code",
   "execution_count": 87,
   "id": "deb10907",
   "metadata": {},
   "outputs": [
    {
     "data": {
      "text/plain": [
       "False"
      ]
     },
     "execution_count": 87,
     "metadata": {},
     "output_type": "execute_result"
    }
   ],
   "source": [
    "acc1.withdrawl(10000)"
   ]
  },
  {
   "cell_type": "code",
   "execution_count": 88,
   "id": "e7f500f7",
   "metadata": {},
   "outputs": [
    {
     "data": {
      "text/plain": [
       "True"
      ]
     },
     "execution_count": 88,
     "metadata": {},
     "output_type": "execute_result"
    }
   ],
   "source": [
    "acc1.withdrawl(1000)"
   ]
  },
  {
   "cell_type": "code",
   "execution_count": 89,
   "id": "8551e2f0",
   "metadata": {},
   "outputs": [
    {
     "data": {
      "text/plain": [
       "0"
      ]
     },
     "execution_count": 89,
     "metadata": {},
     "output_type": "execute_result"
    }
   ],
   "source": [
    "acc1.show_balance()"
   ]
  },
  {
   "cell_type": "code",
   "execution_count": null,
   "id": "60006479",
   "metadata": {},
   "outputs": [],
   "source": []
  }
 ],
 "metadata": {
  "kernelspec": {
   "display_name": "Python 3 (ipykernel)",
   "language": "python",
   "name": "python3"
  },
  "language_info": {
   "codemirror_mode": {
    "name": "ipython",
    "version": 3
   },
   "file_extension": ".py",
   "mimetype": "text/x-python",
   "name": "python",
   "nbconvert_exporter": "python",
   "pygments_lexer": "ipython3",
   "version": "3.9.13"
  }
 },
 "nbformat": 4,
 "nbformat_minor": 5
}
