{
 "cells": [
  {
   "cell_type": "code",
   "execution_count": null,
   "id": "e4bbba76",
   "metadata": {},
   "outputs": [],
   "source": []
  },
  {
   "cell_type": "markdown",
   "id": "d3966fd2",
   "metadata": {},
   "source": [
    "#Let's start the python \n",
    "## Best data scientist in the world\n",
    "### Be Patience .slowly u can learn it and do it\n",
    "Beleive in yourself.All the powers is within you\n"
   ]
  },
  {
   "cell_type": "markdown",
   "id": "244de721",
   "metadata": {},
   "source": [
    "## NUMBERS\n"
   ]
  },
  {
   "cell_type": "markdown",
   "id": "5820b72f",
   "metadata": {},
   "source": [
    "# this is a single line comment\n",
    "\"\"\" this is for multi line comment\n",
    "line1\n",
    "line2\n",
    "line3\n",
    "\"\"\""
   ]
  },
  {
   "cell_type": "code",
   "execution_count": 25,
   "id": "b61945c9",
   "metadata": {},
   "outputs": [
    {
     "data": {
      "text/plain": [
       "3"
      ]
     },
     "execution_count": 25,
     "metadata": {},
     "output_type": "execute_result"
    }
   ],
   "source": [
    "1+2"
   ]
  },
  {
   "cell_type": "code",
   "execution_count": 2,
   "id": "aca44024",
   "metadata": {},
   "outputs": [
    {
     "name": "stdout",
     "output_type": "stream",
     "text": [
      "Hello World\n"
     ]
    }
   ],
   "source": [
    "print(\"Hello World\")"
   ]
  },
  {
   "cell_type": "code",
   "execution_count": 3,
   "id": "3549509a",
   "metadata": {},
   "outputs": [
    {
     "name": "stdout",
     "output_type": "stream",
     "text": [
      " I am a data scientist \n",
      " and I can do wonders\n"
     ]
    }
   ],
   "source": [
    "print(\" I am a data scientist \\n and I can do wonders\")\n",
    "# \\n means go to the new line and start printing"
   ]
  },
  {
   "cell_type": "code",
   "execution_count": 6,
   "id": "f235f6b3",
   "metadata": {},
   "outputs": [
    {
     "name": "stdout",
     "output_type": "stream",
     "text": [
      "This is India\n",
      "here we have super powers\n",
      "Indians are highly talented\n",
      "\n"
     ]
    }
   ],
   "source": [
    "# to print multiple lines use \"\"\"   \"\"\" as shown\n",
    "print(\"\"\"This is India\n",
    "here we have super powers\n",
    "Indians are highly talented\n",
    "\"\"\")"
   ]
  },
  {
   "cell_type": "code",
   "execution_count": 8,
   "id": "3d92f834",
   "metadata": {},
   "outputs": [],
   "source": [
    "# print is an inbuilt function"
   ]
  },
  {
   "cell_type": "markdown",
   "id": "178a8a73",
   "metadata": {},
   "source": [
    "## Variables and assignments"
   ]
  },
  {
   "cell_type": "code",
   "execution_count": 12,
   "id": "a3674afb",
   "metadata": {},
   "outputs": [],
   "source": [
    "# \" \"  represents a string "
   ]
  },
  {
   "cell_type": "code",
   "execution_count": 10,
   "id": "779529af",
   "metadata": {},
   "outputs": [
    {
     "data": {
      "text/plain": [
       "str"
      ]
     },
     "execution_count": 10,
     "metadata": {},
     "output_type": "execute_result"
    }
   ],
   "source": [
    "type(\" \") # gives str"
   ]
  },
  {
   "cell_type": "code",
   "execution_count": 11,
   "id": "c8eaee25",
   "metadata": {},
   "outputs": [
    {
     "data": {
      "text/plain": [
       "str"
      ]
     },
     "execution_count": 11,
     "metadata": {},
     "output_type": "execute_result"
    }
   ],
   "source": [
    "type('')"
   ]
  },
  {
   "cell_type": "code",
   "execution_count": 13,
   "id": "908ab3c2",
   "metadata": {},
   "outputs": [],
   "source": [
    "name=\"indra\"\n",
    "age=24\n"
   ]
  },
  {
   "cell_type": "code",
   "execution_count": 15,
   "id": "ae0fa560",
   "metadata": {},
   "outputs": [
    {
     "data": {
      "text/plain": [
       "24"
      ]
     },
     "execution_count": 15,
     "metadata": {},
     "output_type": "execute_result"
    }
   ],
   "source": [
    " name # this gives only age value \n",
    "age"
   ]
  },
  {
   "cell_type": "code",
   "execution_count": 16,
   "id": "78b99817",
   "metadata": {},
   "outputs": [
    {
     "name": "stdout",
     "output_type": "stream",
     "text": [
      "indra\n",
      "24\n"
     ]
    }
   ],
   "source": [
    "print(name)\n",
    "print(age)"
   ]
  },
  {
   "cell_type": "code",
   "execution_count": 17,
   "id": "49d44a6b",
   "metadata": {},
   "outputs": [],
   "source": [
    "#type() gives what type of data is present in the () like str or int or float"
   ]
  },
  {
   "cell_type": "code",
   "execution_count": 18,
   "id": "47d5d7c3",
   "metadata": {},
   "outputs": [
    {
     "name": "stdout",
     "output_type": "stream",
     "text": [
      "4.56\n",
      "<class 'float'>\n"
     ]
    }
   ],
   "source": [
    "dec_num=4.56\n",
    "print(dec_num)\n",
    "print(type(5.6))\n"
   ]
  },
  {
   "cell_type": "code",
   "execution_count": 21,
   "id": "5f2e8dd5",
   "metadata": {},
   "outputs": [
    {
     "data": {
      "text/plain": [
       "complex"
      ]
     },
     "execution_count": 21,
     "metadata": {},
     "output_type": "execute_result"
    }
   ],
   "source": [
    "type(1+2j)"
   ]
  },
  {
   "cell_type": "code",
   "execution_count": 22,
   "id": "b20ab318",
   "metadata": {},
   "outputs": [
    {
     "name": "stdout",
     "output_type": "stream",
     "text": [
      "(2+3j)\n",
      "<class 'complex'>\n"
     ]
    }
   ],
   "source": [
    "comp_num=2+3j\n",
    "print(comp_num)\n",
    "print(type(comp_num))"
   ]
  },
  {
   "cell_type": "code",
   "execution_count": 23,
   "id": "3d8eb192",
   "metadata": {},
   "outputs": [],
   "source": [
    "# variables are case sensitive.EX- company and Company both are different."
   ]
  },
  {
   "cell_type": "code",
   "execution_count": 26,
   "id": "08c28474",
   "metadata": {},
   "outputs": [],
   "source": [
    "# variables should not start with numbers and their names shouldn't be any  reserved keywords and no special characters allowed inside the variable\n"
   ]
  },
  {
   "cell_type": "code",
   "execution_count": 27,
   "id": "df2f132b",
   "metadata": {},
   "outputs": [
    {
     "data": {
      "text/plain": [
       "bool"
      ]
     },
     "execution_count": 27,
     "metadata": {},
     "output_type": "execute_result"
    }
   ],
   "source": [
    "type(True)"
   ]
  },
  {
   "cell_type": "code",
   "execution_count": 28,
   "id": "72066ca1",
   "metadata": {},
   "outputs": [
    {
     "data": {
      "text/plain": [
       "False"
      ]
     },
     "execution_count": 28,
     "metadata": {},
     "output_type": "execute_result"
    }
   ],
   "source": [
    "not True"
   ]
  },
  {
   "cell_type": "code",
   "execution_count": 29,
   "id": "b596a864",
   "metadata": {},
   "outputs": [
    {
     "data": {
      "text/plain": [
       "bool"
      ]
     },
     "execution_count": 29,
     "metadata": {},
     "output_type": "execute_result"
    }
   ],
   "source": [
    "type(not True)"
   ]
  },
  {
   "cell_type": "code",
   "execution_count": 30,
   "id": "79eb4b41",
   "metadata": {},
   "outputs": [
    {
     "data": {
      "text/plain": [
       "False"
      ]
     },
     "execution_count": 30,
     "metadata": {},
     "output_type": "execute_result"
    }
   ],
   "source": [
    "bool(0)"
   ]
  },
  {
   "cell_type": "code",
   "execution_count": 31,
   "id": "2f0b993e",
   "metadata": {},
   "outputs": [
    {
     "data": {
      "text/plain": [
       "True"
      ]
     },
     "execution_count": 31,
     "metadata": {},
     "output_type": "execute_result"
    }
   ],
   "source": [
    "bool(1)"
   ]
  },
  {
   "cell_type": "code",
   "execution_count": 34,
   "id": "c8fb9626",
   "metadata": {},
   "outputs": [
    {
     "name": "stdout",
     "output_type": "stream",
     "text": [
      "It is True\n"
     ]
    }
   ],
   "source": [
    "a=1\n",
    "if bool(a)==True:\n",
    "    print(\"It is True\")"
   ]
  },
  {
   "cell_type": "markdown",
   "id": "296b4826",
   "metadata": {},
   "source": [
    "# Type Casting"
   ]
  },
  {
   "cell_type": "code",
   "execution_count": 35,
   "id": "997612d4",
   "metadata": {},
   "outputs": [],
   "source": [
    "# converting one data type to another data type"
   ]
  },
  {
   "cell_type": "code",
   "execution_count": 36,
   "id": "ec54816d",
   "metadata": {},
   "outputs": [
    {
     "data": {
      "text/plain": [
       "'5'"
      ]
     },
     "execution_count": 36,
     "metadata": {},
     "output_type": "execute_result"
    }
   ],
   "source": [
    "str(5) # converting integer 5 as string"
   ]
  },
  {
   "cell_type": "code",
   "execution_count": 37,
   "id": "e89bda57",
   "metadata": {},
   "outputs": [
    {
     "data": {
      "text/plain": [
       "23"
      ]
     },
     "execution_count": 37,
     "metadata": {},
     "output_type": "execute_result"
    }
   ],
   "source": [
    "int('23') # converting string 23 as integer 23"
   ]
  },
  {
   "cell_type": "code",
   "execution_count": 38,
   "id": "ca7c6c93",
   "metadata": {},
   "outputs": [
    {
     "data": {
      "text/plain": [
       "False"
      ]
     },
     "execution_count": 38,
     "metadata": {},
     "output_type": "execute_result"
    }
   ],
   "source": [
    "bool(0) # converting a number to boolean type.. only for 0 it is false"
   ]
  },
  {
   "cell_type": "code",
   "execution_count": 39,
   "id": "debfef53",
   "metadata": {},
   "outputs": [
    {
     "data": {
      "text/plain": [
       "True"
      ]
     },
     "execution_count": 39,
     "metadata": {},
     "output_type": "execute_result"
    }
   ],
   "source": [
    "bool(45)"
   ]
  },
  {
   "cell_type": "code",
   "execution_count": 40,
   "id": "34369572",
   "metadata": {},
   "outputs": [
    {
     "data": {
      "text/plain": [
       "True"
      ]
     },
     "execution_count": 40,
     "metadata": {},
     "output_type": "execute_result"
    }
   ],
   "source": [
    "bool(-1) # only for 0 here false.remaning all it is fine"
   ]
  },
  {
   "cell_type": "code",
   "execution_count": null,
   "id": "68026abe",
   "metadata": {},
   "outputs": [],
   "source": []
  }
 ],
 "metadata": {
  "kernelspec": {
   "display_name": "Python 3 (ipykernel)",
   "language": "python",
   "name": "python3"
  },
  "language_info": {
   "codemirror_mode": {
    "name": "ipython",
    "version": 3
   },
   "file_extension": ".py",
   "mimetype": "text/x-python",
   "name": "python",
   "nbconvert_exporter": "python",
   "pygments_lexer": "ipython3",
   "version": "3.9.13"
  }
 },
 "nbformat": 4,
 "nbformat_minor": 5
}
