{
 "cells": [
  {
   "cell_type": "markdown",
   "id": "55682f65",
   "metadata": {},
   "source": [
    "# lec 48\n",
    "## exception handling with try except"
   ]
  },
  {
   "cell_type": "markdown",
   "id": "9e086545",
   "metadata": {},
   "source": [
    "1. Exception handling is most useful and mandatory practice to follow while writing any python code.\n",
    "2. When large number of lines are written in code there is a chance of occuring errors and the execution won't continue if an error occurs.\n",
    "3. We don't want to stop our program  execution if any error occurs in the program.\n",
    "4. So we use this concept and write the exception messages when an error occurs and continue our program to run even if an error occurs"
   ]
  },
  {
   "cell_type": "code",
   "execution_count": 3,
   "id": "9cfce592",
   "metadata": {},
   "outputs": [
    {
     "ename": "ZeroDivisionError",
     "evalue": "division by zero",
     "output_type": "error",
     "traceback": [
      "\u001b[1;31m---------------------------------------------------------------------------\u001b[0m",
      "\u001b[1;31mZeroDivisionError\u001b[0m                         Traceback (most recent call last)",
      "\u001b[1;32m~\\AppData\\Local\\Temp\\ipykernel_16716\\554600253.py\u001b[0m in \u001b[0;36m<module>\u001b[1;34m\u001b[0m\n\u001b[0;32m      1\u001b[0m \u001b[0ma\u001b[0m\u001b[1;33m=\u001b[0m\u001b[1;36m104\u001b[0m\u001b[1;33m\u001b[0m\u001b[1;33m\u001b[0m\u001b[0m\n\u001b[1;32m----> 2\u001b[1;33m \u001b[0ma\u001b[0m\u001b[1;33m/\u001b[0m\u001b[1;36m0\u001b[0m\u001b[1;33m\u001b[0m\u001b[1;33m\u001b[0m\u001b[0m\n\u001b[0m",
      "\u001b[1;31mZeroDivisionError\u001b[0m: division by zero"
     ]
    }
   ],
   "source": [
    "a=104\n",
    "a/0"
   ]
  },
  {
   "cell_type": "code",
   "execution_count": 4,
   "id": "10b4df5c",
   "metadata": {},
   "outputs": [
    {
     "ename": "FileNotFoundError",
     "evalue": "[Errno 2] No such file or directory: 'tester.txt'",
     "output_type": "error",
     "traceback": [
      "\u001b[1;31m---------------------------------------------------------------------------\u001b[0m",
      "\u001b[1;31mFileNotFoundError\u001b[0m                         Traceback (most recent call last)",
      "\u001b[1;32m~\\AppData\\Local\\Temp\\ipykernel_16716\\2547189054.py\u001b[0m in \u001b[0;36m<module>\u001b[1;34m\u001b[0m\n\u001b[1;32m----> 1\u001b[1;33m \u001b[0mf\u001b[0m\u001b[1;33m=\u001b[0m\u001b[0mopen\u001b[0m\u001b[1;33m(\u001b[0m\u001b[1;34m\"tester.txt\"\u001b[0m\u001b[1;33m,\u001b[0m\u001b[1;34m\"r\"\u001b[0m\u001b[1;33m)\u001b[0m \u001b[1;31m# trying to read the file which doesn't exist\u001b[0m\u001b[1;33m\u001b[0m\u001b[1;33m\u001b[0m\u001b[0m\n\u001b[0m",
      "\u001b[1;31mFileNotFoundError\u001b[0m: [Errno 2] No such file or directory: 'tester.txt'"
     ]
    }
   ],
   "source": [
    "f=open(\"tester.txt\",\"r\") # trying to read the file which doesn't exist"
   ]
  },
  {
   "cell_type": "code",
   "execution_count": 6,
   "id": "6a86d05b",
   "metadata": {},
   "outputs": [
    {
     "ename": "FileNotFoundError",
     "evalue": "[Errno 2] No such file or directory: 'tester.txt'",
     "output_type": "error",
     "traceback": [
      "\u001b[1;31m---------------------------------------------------------------------------\u001b[0m",
      "\u001b[1;31mFileNotFoundError\u001b[0m                         Traceback (most recent call last)",
      "\u001b[1;32m~\\AppData\\Local\\Temp\\ipykernel_16716\\1538822578.py\u001b[0m in \u001b[0;36m<module>\u001b[1;34m\u001b[0m\n\u001b[1;32m----> 1\u001b[1;33m \u001b[0mf\u001b[0m\u001b[1;33m=\u001b[0m\u001b[0mopen\u001b[0m\u001b[1;33m(\u001b[0m\u001b[1;34m\"tester.txt\"\u001b[0m\u001b[1;33m,\u001b[0m\u001b[1;34m\"r\"\u001b[0m\u001b[1;33m)\u001b[0m\u001b[1;33m\u001b[0m\u001b[1;33m\u001b[0m\u001b[0m\n\u001b[0m\u001b[0;32m      2\u001b[0m \u001b[0mprint\u001b[0m\u001b[1;33m(\u001b[0m\u001b[1;36m100\u001b[0m\u001b[1;33m)\u001b[0m \u001b[1;31m# these two print lines won't execute since an error is occured here.\u001b[0m\u001b[1;33m\u001b[0m\u001b[1;33m\u001b[0m\u001b[0m\n\u001b[0;32m      3\u001b[0m \u001b[0mprint\u001b[0m\u001b[1;33m(\u001b[0m\u001b[1;34m\"okay  lucky \"\u001b[0m\u001b[1;33m)\u001b[0m\u001b[1;33m\u001b[0m\u001b[1;33m\u001b[0m\u001b[0m\n",
      "\u001b[1;31mFileNotFoundError\u001b[0m: [Errno 2] No such file or directory: 'tester.txt'"
     ]
    }
   ],
   "source": [
    "f=open(\"tester.txt\",\"r\")\n",
    "print(100) # these two print lines won't execute since an error is occured here.\n",
    "print(\"okay  lucky \")"
   ]
  },
  {
   "cell_type": "code",
   "execution_count": 7,
   "id": "3dfcdc91",
   "metadata": {},
   "outputs": [],
   "source": [
    "# like wise there are so many number of types of errors present.\n",
    "## logging and exception handling is must and important concepts to implement while writing python programs.\n",
    "# wherever you have doubt that this piee of code may gives error then write in the try block"
   ]
  },
  {
   "cell_type": "code",
   "execution_count": 9,
   "id": "6f9244e5",
   "metadata": {},
   "outputs": [
    {
     "ename": "SyntaxError",
     "evalue": "unexpected EOF while parsing (527001722.py, line 2)",
     "output_type": "error",
     "traceback": [
      "\u001b[1;36m  File \u001b[1;32m\"C:\\Users\\Phanindra Reddy\\AppData\\Local\\Temp\\ipykernel_16716\\527001722.py\"\u001b[1;36m, line \u001b[1;32m2\u001b[0m\n\u001b[1;33m    f=open(\"tester.txt\",\"r\")\u001b[0m\n\u001b[1;37m                            ^\u001b[0m\n\u001b[1;31mSyntaxError\u001b[0m\u001b[1;31m:\u001b[0m unexpected EOF while parsing\n"
     ]
    }
   ],
   "source": [
    "try:\n",
    "    f=open(\"tester.txt\",\"r\")"
   ]
  },
  {
   "cell_type": "code",
   "execution_count": 10,
   "id": "14a48a31",
   "metadata": {},
   "outputs": [],
   "source": [
    "# along with try you must write the excpet case also\n",
    "# else syntax error occurs here.\n"
   ]
  },
  {
   "cell_type": "code",
   "execution_count": 12,
   "id": "0eea82a0",
   "metadata": {},
   "outputs": [
    {
     "name": "stdout",
     "output_type": "stream",
     "text": [
      "This is the error related to it [Errno 2] No such file or directory: 'tester.txt'\n"
     ]
    }
   ],
   "source": [
    "try: # whenever there is an error it will throw control to the except block.\n",
    "    f=open(\"tester.txt\",\"r\")\n",
    "except Exception as e:\n",
    "    print(\"This is the error related to it\",e)"
   ]
  },
  {
   "cell_type": "code",
   "execution_count": 14,
   "id": "a8596c0b",
   "metadata": {},
   "outputs": [
    {
     "name": "stdout",
     "output_type": "stream",
     "text": [
      "This is the error related to it [Errno 2] No such file or directory: 'tester.txt'\n",
      "100\n"
     ]
    }
   ],
   "source": [
    " # FileNotFoundError: is child class of the Exception class.\n",
    "try: # whenever there is an error it will throw control to the except block.\n",
    "    f=open(\"tester.txt\",\"r\")\n",
    "except Exception as e:\n",
    "    print(\"This is the error related to it\",e)\n",
    "print(100) # even error occured the program still continues to run and the exception is printed as message "
   ]
  },
  {
   "cell_type": "code",
   "execution_count": 15,
   "id": "1eaeaefa",
   "metadata": {},
   "outputs": [],
   "source": [
    "# python also supports the else block along with try exept blocks\n",
    "# the else block will be executed only if the try block is executed successfully \n",
    "try: \n",
    "    f=open(\"tester.txt\",\"w\")\n",
    "    f.write(\"this is first time writing\") # here we are writing to the file but we need to close it also\n",
    "    f.close()\n",
    "except Exception as e:\n",
    "    print(\"This is the error related to it\",e)\n"
   ]
  },
  {
   "cell_type": "code",
   "execution_count": 16,
   "id": "644ab031",
   "metadata": {},
   "outputs": [],
   "source": [
    "# we can also write the close function in else block because we don't know any error may occur if some extra code is present\n",
    "# so the file must be closed if no error is no occured in the try block.\n",
    "# so we write the close() in the try block.\n",
    "# the esle block will be executed only if the try block executes successfully."
   ]
  },
  {
   "cell_type": "code",
   "execution_count": 17,
   "id": "aa611256",
   "metadata": {},
   "outputs": [
    {
     "name": "stdout",
     "output_type": "stream",
     "text": [
      "This block will execute once try will execute itself without an exception\n"
     ]
    }
   ],
   "source": [
    "try: \n",
    "    f=open(\"tester.txt\",\"w\")\n",
    "    f.write(\"this is first time writing\") # here we are writing to the file but we need to close it also\n",
    "except Exception as e:\n",
    "    print(\"This is the error related to it\",e)\n",
    "else:\n",
    "    f.close()\n",
    "    print(\"This block will execute once try will execute itself without an exception\")"
   ]
  },
  {
   "cell_type": "code",
   "execution_count": 19,
   "id": "4f8e24b6",
   "metadata": {},
   "outputs": [
    {
     "name": "stdout",
     "output_type": "stream",
     "text": [
      "This is the error related to it [Errno 2] No such file or directory: 'tester2.txt'\n"
     ]
    }
   ],
   "source": [
    "# here we make an error by mentioning wrong file.\n",
    "# the else won't be executed since the error occured in the try block.\n",
    "try: \n",
    "    f=open(\"tester2.txt\",\"r\")\n",
    "    f.write(\"this is first time writing\") # here we are writing to the file but we need to close it also\n",
    "except Exception as e:\n",
    "    print(\"This is the error related to it\",e)\n",
    "else: # now the else block won't be executed.\n",
    "    f.close()\n",
    "    print(\"This block will execute once try will execute itself without an exception\")"
   ]
  },
  {
   "cell_type": "markdown",
   "id": "b64c14f8",
   "metadata": {},
   "source": [
    "1. we have finally block which will be executed even an exception occured or not\n",
    "2. the finally block will be useful in such mentions where we want to close any files or any databases in the last."
   ]
  },
  {
   "cell_type": "code",
   "execution_count": 21,
   "id": "ea91f4ce",
   "metadata": {},
   "outputs": [
    {
     "name": "stdout",
     "output_type": "stream",
     "text": [
      "This is the error related to it [Errno 2] No such file or directory: 'tester2.txt'\n",
      "this will execute no matter what error occurs \n"
     ]
    }
   ],
   "source": [
    "try: \n",
    "    f=open(\"tester2.txt\",\"r\")\n",
    "    f.write(\"this is first time writing\") # here we are writing to the file but we need to close it also\n",
    "except Exception as e:\n",
    "    print(\"This is the error related to it\",e)\n",
    "finally:\n",
    "    print(\"this will execute no matter what error occurs \")"
   ]
  },
  {
   "cell_type": "markdown",
   "id": "03bd160b",
   "metadata": {},
   "source": [
    "# lec 49\n",
    "## custom exception handling"
   ]
  },
  {
   "cell_type": "markdown",
   "id": "f5bcaa93",
   "metadata": {},
   "source": [
    "1. Sometimes in code, the errors are human made errors where system will treat it as correct but it is an error.\n",
    "2. The system cannot define it as error but the humans know it is an error.\n",
    "3. So we will make our own classes here and try to raise an exception using the functions."
   ]
  },
  {
   "cell_type": "markdown",
   "id": "4de44d76",
   "metadata": {},
   "source": [
    "4. here the exeption is not for the system but for the user.\n",
    "5. For ex-: age for input is given as -908 . system will treat it as input without any error.\n",
    "6. So we need to write our own exceptions here so that we can define our own message."
   ]
  },
  {
   "cell_type": "code",
   "execution_count": 22,
   "id": "887d2756",
   "metadata": {},
   "outputs": [
    {
     "name": "stdout",
     "output_type": "stream",
     "text": [
      "enter your age:-908\n"
     ]
    }
   ],
   "source": [
    "age=int(input(\"enter your age:\"))"
   ]
  },
  {
   "cell_type": "code",
   "execution_count": 23,
   "id": "60ec925a",
   "metadata": {},
   "outputs": [],
   "source": [
    "# see above ,we entered the negative number. But for age it should be greater than zero\n"
   ]
  },
  {
   "cell_type": "code",
   "execution_count": 24,
   "id": "14412ac0",
   "metadata": {},
   "outputs": [
    {
     "data": {
      "text/plain": [
       "-908"
      ]
     },
     "execution_count": 24,
     "metadata": {},
     "output_type": "execute_result"
    }
   ],
   "source": [
    "age"
   ]
  },
  {
   "cell_type": "code",
   "execution_count": 25,
   "id": "d475b1f6",
   "metadata": {},
   "outputs": [],
   "source": [
    "# so we will try to create our own custom exceptions here.\n",
    "# so we will inherit the Exception class here in our own defined class.\n",
    "\n",
    "class validateage(Exception): # inheriting the exception class over here.\n",
    "    def __init__(self,msg):\n",
    "        self.msg=msg\n",
    "    "
   ]
  },
  {
   "cell_type": "code",
   "execution_count": 26,
   "id": "a55f967b",
   "metadata": {},
   "outputs": [],
   "source": [
    "# raise is a reserved keyword which will call your custom class.\n",
    "def validate_age(age):\n",
    "    if age<0:\n",
    "        raise validateage(\"age should not be less than zero\") # this msg is treated as exception here.\n",
    "    elif age>100:\n",
    "        raise validateage(\"age shoud not be greater than 100\")\n",
    "    else:\n",
    "        print(\"valid age\")"
   ]
  },
  {
   "cell_type": "code",
   "execution_count": 28,
   "id": "abbb40d7",
   "metadata": {},
   "outputs": [
    {
     "name": "stdout",
     "output_type": "stream",
     "text": [
      "enter age:-90\n",
      "age should not be less than zero\n"
     ]
    }
   ],
   "source": [
    "try:\n",
    "    age=int(input(\"enter age:\"))\n",
    "    validate_age(age)\n",
    "except validateage as e:\n",
    "    print(e)\n"
   ]
  },
  {
   "cell_type": "code",
   "execution_count": null,
   "id": "30c30e86",
   "metadata": {},
   "outputs": [],
   "source": []
  }
 ],
 "metadata": {
  "kernelspec": {
   "display_name": "Python 3 (ipykernel)",
   "language": "python",
   "name": "python3"
  },
  "language_info": {
   "codemirror_mode": {
    "name": "ipython",
    "version": 3
   },
   "file_extension": ".py",
   "mimetype": "text/x-python",
   "name": "python",
   "nbconvert_exporter": "python",
   "pygments_lexer": "ipython3",
   "version": "3.9.13"
  }
 },
 "nbformat": 4,
 "nbformat_minor": 5
}
