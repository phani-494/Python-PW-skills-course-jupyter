{
 "cells": [
  {
   "cell_type": "markdown",
   "id": "701b634c",
   "metadata": {},
   "source": [
    "# lec 47\n",
    "# modules and packages\n",
    "1. The code should be run in either pycharm or the python skill lab\n",
    "2. https://red-accountant-biflq.pwskills.app/?folder=/config/workspace\n",
    "3. https://red-accountant-biflq.pwskills.app/?folder=/config/workspace\n",
    "4. Run the above link by pasting in chrome."
   ]
  },
  {
   "cell_type": "code",
   "execution_count": 1,
   "id": "4fdb917f",
   "metadata": {},
   "outputs": [
    {
     "ename": "NameError",
     "evalue": "name '__file__' is not defined",
     "output_type": "error",
     "traceback": [
      "\u001b[1;31m---------------------------------------------------------------------------\u001b[0m",
      "\u001b[1;31mNameError\u001b[0m                                 Traceback (most recent call last)",
      "\u001b[1;32m~\\AppData\\Local\\Temp\\ipykernel_21056\\1184860035.py\u001b[0m in \u001b[0;36m<module>\u001b[1;34m\u001b[0m\n\u001b[0;32m      7\u001b[0m \u001b[1;32mimport\u001b[0m \u001b[0mos\u001b[0m\u001b[1;33m,\u001b[0m\u001b[0msys\u001b[0m\u001b[1;33m\u001b[0m\u001b[1;33m\u001b[0m\u001b[0m\n\u001b[0;32m      8\u001b[0m \u001b[1;32mfrom\u001b[0m \u001b[0mos\u001b[0m\u001b[1;33m.\u001b[0m\u001b[0mpath\u001b[0m \u001b[1;32mimport\u001b[0m \u001b[0mdirname\u001b[0m\u001b[1;33m,\u001b[0m\u001b[0mjoin\u001b[0m\u001b[1;33m,\u001b[0m\u001b[0mabspath\u001b[0m\u001b[1;33m\u001b[0m\u001b[1;33m\u001b[0m\u001b[0m\n\u001b[1;32m----> 9\u001b[1;33m \u001b[0msys\u001b[0m\u001b[1;33m.\u001b[0m\u001b[0mpath\u001b[0m\u001b[1;33m.\u001b[0m\u001b[0minsert\u001b[0m\u001b[1;33m(\u001b[0m\u001b[1;36m0\u001b[0m\u001b[1;33m,\u001b[0m\u001b[0mabspath\u001b[0m\u001b[1;33m(\u001b[0m\u001b[0mjoin\u001b[0m\u001b[1;33m(\u001b[0m\u001b[0mdirname\u001b[0m\u001b[1;33m(\u001b[0m\u001b[0m__file__\u001b[0m\u001b[1;33m)\u001b[0m\u001b[1;33m,\u001b[0m\u001b[1;34m\"..\"\u001b[0m\u001b[1;33m)\u001b[0m\u001b[1;33m)\u001b[0m\u001b[1;33m)\u001b[0m\u001b[1;33m\u001b[0m\u001b[1;33m\u001b[0m\u001b[0m\n\u001b[0m\u001b[0;32m     10\u001b[0m \u001b[1;31m# after giving above three lines then only the code is working fine here.\u001b[0m\u001b[1;33m\u001b[0m\u001b[1;33m\u001b[0m\u001b[0m\n\u001b[0;32m     11\u001b[0m \u001b[1;33m\u001b[0m\u001b[0m\n",
      "\u001b[1;31mNameError\u001b[0m: name '__file__' is not defined"
     ]
    }
   ],
   "source": [
    "# here we created two folders\n",
    "# For each folder two separate python files are created.\n",
    "# one with courses.py and another with payments.py\n",
    "# here we have created two folders called courses and payments which are called as packages\n",
    "# simply directory is called as package\n",
    "# the python files present in them are called as modules\n",
    "import os,sys\n",
    "from os.path import dirname,join,abspath\n",
    "sys.path.insert(0,abspath(join(dirname(__file__),\"..\")))\n",
    "# after giving above three lines then only the code is working fine here.\n",
    "\n",
    "from payments import payments # last payments is file name and first payments is folder name\n",
    "def course_details():\n",
    "    print(\"this file is realted to the courses\")\n",
    "\n",
    "\n",
    "payments.payment_details()\n",
    "# if we run this code we get error since we need ti import some other modules for exact file paths\n",
    "\n",
    "\n",
    "\n",
    "#ModuleNotFoundError: No module named 'payments'"
   ]
  },
  {
   "cell_type": "code",
   "execution_count": null,
   "id": "7a8ff4bf",
   "metadata": {},
   "outputs": [],
   "source": [
    "# this is presene in the payments folder\n",
    "\n",
    "def payment_details():\n",
    "    print(\"this file is related to the payments\")\n",
    "# we need to call above function in the courses.py file or else the course_details in payments.py\n",
    "# in this case the modules are useful concept"
   ]
  }
 ],
 "metadata": {
  "kernelspec": {
   "display_name": "Python 3 (ipykernel)",
   "language": "python",
   "name": "python3"
  },
  "language_info": {
   "codemirror_mode": {
    "name": "ipython",
    "version": 3
   },
   "file_extension": ".py",
   "mimetype": "text/x-python",
   "name": "python",
   "nbconvert_exporter": "python",
   "pygments_lexer": "ipython3",
   "version": "3.9.13"
  }
 },
 "nbformat": 4,
 "nbformat_minor": 5
}
